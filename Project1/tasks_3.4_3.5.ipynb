{
 "cells": [
  {
   "cell_type": "code",
   "execution_count": 1,
   "outputs": [],
   "source": [
    "from models.adam import ADAM\n",
    "from models.irls import IRLS\n",
    "from models.sgd import SGD\n",
    "from datasets.read import read_all_datasets"
   ],
   "metadata": {
    "collapsed": false,
    "ExecuteTime": {
     "end_time": "2024-03-31T10:14:29.397631Z",
     "start_time": "2024-03-31T10:14:28.316400Z"
    }
   },
   "id": "8bec04ecd2722df6"
  },
  {
   "cell_type": "code",
   "execution_count": 2,
   "outputs": [],
   "source": [
    "from sklearn.discriminant_analysis import LinearDiscriminantAnalysis\n",
    "from sklearn.discriminant_analysis import QuadraticDiscriminantAnalysis\n",
    "from sklearn.tree import DecisionTreeClassifier\n",
    "from sklearn.ensemble import RandomForestClassifier"
   ],
   "metadata": {
    "collapsed": false,
    "ExecuteTime": {
     "end_time": "2024-03-31T10:14:30.115149Z",
     "start_time": "2024-03-31T10:14:29.858624Z"
    }
   },
   "id": "3c73cf0d66bbb8f3"
  },
  {
   "cell_type": "markdown",
   "source": [
    "\n",
    "Compare the classification performance of logistic regression (try all 3 methods: IWLS, SGD and ADAM) and 4 popular classification methods: LDA (Linear Discriminant analysis), QDA (Quadratic Discriminant Analysis), Decision tree and Random Forest. \n",
    "Use available implementations, e.g. from scikit-learn library."
   ],
   "metadata": {
    "collapsed": false
   },
   "id": "9add29e7b6d8fdbc"
  },
  {
   "cell_type": "code",
   "execution_count": null,
   "outputs": [
    {
     "name": "stderr",
     "output_type": "stream",
     "text": [
      "/Users/nk2/TG/lib/python3.11/site-packages/statsmodels/regression/linear_model.py:1784: RuntimeWarning: invalid value encountered in scalar divide\n",
      "  return 1 - self.ssr/self.uncentered_tss\n",
      "/Users/nk2/TG/lib/python3.11/site-packages/statsmodels/regression/linear_model.py:1784: RuntimeWarning: invalid value encountered in scalar divide\n",
      "  return 1 - self.ssr/self.uncentered_tss\n",
      "/Users/nk2/TG/lib/python3.11/site-packages/statsmodels/regression/linear_model.py:1784: RuntimeWarning: invalid value encountered in scalar divide\n",
      "  return 1 - self.ssr/self.uncentered_tss\n",
      "/Users/nk2/TG/lib/python3.11/site-packages/statsmodels/regression/linear_model.py:1784: RuntimeWarning: invalid value encountered in scalar divide\n",
      "  return 1 - self.ssr/self.uncentered_tss\n",
      "/Users/nk2/TG/lib/python3.11/site-packages/statsmodels/regression/linear_model.py:1784: RuntimeWarning: invalid value encountered in scalar divide\n",
      "  return 1 - self.ssr/self.uncentered_tss\n"
     ]
    },
    {
     "name": "stdout",
     "output_type": "stream",
     "text": [
      "Removing feature avg_word_host with VIF 273.15849919117323\n"
     ]
    },
    {
     "name": "stderr",
     "output_type": "stream",
     "text": [
      "/Users/nk2/TG/lib/python3.11/site-packages/statsmodels/regression/linear_model.py:1784: RuntimeWarning: invalid value encountered in scalar divide\n",
      "  return 1 - self.ssr/self.uncentered_tss\n",
      "/Users/nk2/TG/lib/python3.11/site-packages/statsmodels/regression/linear_model.py:1784: RuntimeWarning: invalid value encountered in scalar divide\n",
      "  return 1 - self.ssr/self.uncentered_tss\n",
      "/Users/nk2/TG/lib/python3.11/site-packages/statsmodels/regression/linear_model.py:1784: RuntimeWarning: invalid value encountered in scalar divide\n",
      "  return 1 - self.ssr/self.uncentered_tss\n",
      "/Users/nk2/TG/lib/python3.11/site-packages/statsmodels/regression/linear_model.py:1784: RuntimeWarning: invalid value encountered in scalar divide\n",
      "  return 1 - self.ssr/self.uncentered_tss\n",
      "/Users/nk2/TG/lib/python3.11/site-packages/statsmodels/regression/linear_model.py:1784: RuntimeWarning: invalid value encountered in scalar divide\n",
      "  return 1 - self.ssr/self.uncentered_tss\n"
     ]
    },
    {
     "name": "stdout",
     "output_type": "stream",
     "text": [
      "Removing feature longest_words_raw with VIF 136.36201416071702\n"
     ]
    },
    {
     "name": "stderr",
     "output_type": "stream",
     "text": [
      "/Users/nk2/TG/lib/python3.11/site-packages/statsmodels/regression/linear_model.py:1784: RuntimeWarning: invalid value encountered in scalar divide\n",
      "  return 1 - self.ssr/self.uncentered_tss\n",
      "/Users/nk2/TG/lib/python3.11/site-packages/statsmodels/regression/linear_model.py:1784: RuntimeWarning: invalid value encountered in scalar divide\n",
      "  return 1 - self.ssr/self.uncentered_tss\n",
      "/Users/nk2/TG/lib/python3.11/site-packages/statsmodels/regression/linear_model.py:1784: RuntimeWarning: invalid value encountered in scalar divide\n",
      "  return 1 - self.ssr/self.uncentered_tss\n",
      "/Users/nk2/TG/lib/python3.11/site-packages/statsmodels/regression/linear_model.py:1784: RuntimeWarning: invalid value encountered in scalar divide\n",
      "  return 1 - self.ssr/self.uncentered_tss\n",
      "/Users/nk2/TG/lib/python3.11/site-packages/statsmodels/regression/linear_model.py:1784: RuntimeWarning: invalid value encountered in scalar divide\n",
      "  return 1 - self.ssr/self.uncentered_tss\n"
     ]
    },
    {
     "name": "stdout",
     "output_type": "stream",
     "text": [
      "Removing feature length_words_raw with VIF 134.36826132490722\n"
     ]
    },
    {
     "name": "stderr",
     "output_type": "stream",
     "text": [
      "/Users/nk2/TG/lib/python3.11/site-packages/statsmodels/regression/linear_model.py:1784: RuntimeWarning: invalid value encountered in scalar divide\n",
      "  return 1 - self.ssr/self.uncentered_tss\n",
      "/Users/nk2/TG/lib/python3.11/site-packages/statsmodels/regression/linear_model.py:1784: RuntimeWarning: invalid value encountered in scalar divide\n",
      "  return 1 - self.ssr/self.uncentered_tss\n",
      "/Users/nk2/TG/lib/python3.11/site-packages/statsmodels/regression/linear_model.py:1784: RuntimeWarning: invalid value encountered in scalar divide\n",
      "  return 1 - self.ssr/self.uncentered_tss\n",
      "/Users/nk2/TG/lib/python3.11/site-packages/statsmodels/regression/linear_model.py:1784: RuntimeWarning: invalid value encountered in scalar divide\n",
      "  return 1 - self.ssr/self.uncentered_tss\n",
      "/Users/nk2/TG/lib/python3.11/site-packages/statsmodels/regression/linear_model.py:1784: RuntimeWarning: invalid value encountered in scalar divide\n",
      "  return 1 - self.ssr/self.uncentered_tss\n"
     ]
    },
    {
     "name": "stdout",
     "output_type": "stream",
     "text": [
      "Removing feature avg_words_raw with VIF 57.50578316564342\n"
     ]
    },
    {
     "name": "stderr",
     "output_type": "stream",
     "text": [
      "/Users/nk2/TG/lib/python3.11/site-packages/statsmodels/regression/linear_model.py:1784: RuntimeWarning: invalid value encountered in scalar divide\n",
      "  return 1 - self.ssr/self.uncentered_tss\n",
      "/Users/nk2/TG/lib/python3.11/site-packages/statsmodels/regression/linear_model.py:1784: RuntimeWarning: invalid value encountered in scalar divide\n",
      "  return 1 - self.ssr/self.uncentered_tss\n",
      "/Users/nk2/TG/lib/python3.11/site-packages/statsmodels/regression/linear_model.py:1784: RuntimeWarning: invalid value encountered in scalar divide\n",
      "  return 1 - self.ssr/self.uncentered_tss\n",
      "/Users/nk2/TG/lib/python3.11/site-packages/statsmodels/regression/linear_model.py:1784: RuntimeWarning: invalid value encountered in scalar divide\n",
      "  return 1 - self.ssr/self.uncentered_tss\n",
      "/Users/nk2/TG/lib/python3.11/site-packages/statsmodels/regression/linear_model.py:1784: RuntimeWarning: invalid value encountered in scalar divide\n",
      "  return 1 - self.ssr/self.uncentered_tss\n"
     ]
    },
    {
     "name": "stdout",
     "output_type": "stream",
     "text": [
      "Removing feature nb_subdomains with VIF 30.76614871841889\n"
     ]
    },
    {
     "name": "stderr",
     "output_type": "stream",
     "text": [
      "/Users/nk2/TG/lib/python3.11/site-packages/statsmodels/regression/linear_model.py:1784: RuntimeWarning: invalid value encountered in scalar divide\n",
      "  return 1 - self.ssr/self.uncentered_tss\n",
      "/Users/nk2/TG/lib/python3.11/site-packages/statsmodels/regression/linear_model.py:1784: RuntimeWarning: invalid value encountered in scalar divide\n",
      "  return 1 - self.ssr/self.uncentered_tss\n",
      "/Users/nk2/TG/lib/python3.11/site-packages/statsmodels/regression/linear_model.py:1784: RuntimeWarning: invalid value encountered in scalar divide\n",
      "  return 1 - self.ssr/self.uncentered_tss\n",
      "/Users/nk2/TG/lib/python3.11/site-packages/statsmodels/regression/linear_model.py:1784: RuntimeWarning: invalid value encountered in scalar divide\n",
      "  return 1 - self.ssr/self.uncentered_tss\n",
      "/Users/nk2/TG/lib/python3.11/site-packages/statsmodels/regression/linear_model.py:1784: RuntimeWarning: invalid value encountered in scalar divide\n",
      "  return 1 - self.ssr/self.uncentered_tss\n"
     ]
    },
    {
     "name": "stdout",
     "output_type": "stream",
     "text": [
      "Removing feature total_of: with VIF 23.778761243514936\n"
     ]
    },
    {
     "name": "stderr",
     "output_type": "stream",
     "text": [
      "/Users/nk2/TG/lib/python3.11/site-packages/statsmodels/regression/linear_model.py:1784: RuntimeWarning: invalid value encountered in scalar divide\n",
      "  return 1 - self.ssr/self.uncentered_tss\n",
      "/Users/nk2/TG/lib/python3.11/site-packages/statsmodels/regression/linear_model.py:1784: RuntimeWarning: invalid value encountered in scalar divide\n",
      "  return 1 - self.ssr/self.uncentered_tss\n",
      "/Users/nk2/TG/lib/python3.11/site-packages/statsmodels/regression/linear_model.py:1784: RuntimeWarning: invalid value encountered in scalar divide\n",
      "  return 1 - self.ssr/self.uncentered_tss\n",
      "/Users/nk2/TG/lib/python3.11/site-packages/statsmodels/regression/linear_model.py:1784: RuntimeWarning: invalid value encountered in scalar divide\n",
      "  return 1 - self.ssr/self.uncentered_tss\n",
      "/Users/nk2/TG/lib/python3.11/site-packages/statsmodels/regression/linear_model.py:1784: RuntimeWarning: invalid value encountered in scalar divide\n",
      "  return 1 - self.ssr/self.uncentered_tss\n"
     ]
    },
    {
     "name": "stdout",
     "output_type": "stream",
     "text": [
      "Removing feature url_length with VIF 20.731254935148378\n"
     ]
    },
    {
     "name": "stderr",
     "output_type": "stream",
     "text": [
      "/Users/nk2/TG/lib/python3.11/site-packages/statsmodels/regression/linear_model.py:1784: RuntimeWarning: invalid value encountered in scalar divide\n",
      "  return 1 - self.ssr/self.uncentered_tss\n",
      "/Users/nk2/TG/lib/python3.11/site-packages/statsmodels/regression/linear_model.py:1784: RuntimeWarning: invalid value encountered in scalar divide\n",
      "  return 1 - self.ssr/self.uncentered_tss\n",
      "/Users/nk2/TG/lib/python3.11/site-packages/statsmodels/regression/linear_model.py:1784: RuntimeWarning: invalid value encountered in scalar divide\n",
      "  return 1 - self.ssr/self.uncentered_tss\n",
      "/Users/nk2/TG/lib/python3.11/site-packages/statsmodels/regression/linear_model.py:1784: RuntimeWarning: invalid value encountered in scalar divide\n",
      "  return 1 - self.ssr/self.uncentered_tss\n",
      "/Users/nk2/TG/lib/python3.11/site-packages/statsmodels/regression/linear_model.py:1784: RuntimeWarning: invalid value encountered in scalar divide\n",
      "  return 1 - self.ssr/self.uncentered_tss\n"
     ]
    },
    {
     "name": "stdout",
     "output_type": "stream",
     "text": [
      "Removing feature ratio_intHyperlinks with VIF 18.794189032762517\n"
     ]
    },
    {
     "name": "stderr",
     "output_type": "stream",
     "text": [
      "/Users/nk2/TG/lib/python3.11/site-packages/statsmodels/regression/linear_model.py:1784: RuntimeWarning: invalid value encountered in scalar divide\n",
      "  return 1 - self.ssr/self.uncentered_tss\n",
      "/Users/nk2/TG/lib/python3.11/site-packages/statsmodels/regression/linear_model.py:1784: RuntimeWarning: invalid value encountered in scalar divide\n",
      "  return 1 - self.ssr/self.uncentered_tss\n",
      "/Users/nk2/TG/lib/python3.11/site-packages/statsmodels/regression/linear_model.py:1784: RuntimeWarning: invalid value encountered in scalar divide\n",
      "  return 1 - self.ssr/self.uncentered_tss\n",
      "/Users/nk2/TG/lib/python3.11/site-packages/statsmodels/regression/linear_model.py:1784: RuntimeWarning: invalid value encountered in scalar divide\n",
      "  return 1 - self.ssr/self.uncentered_tss\n",
      "/Users/nk2/TG/lib/python3.11/site-packages/statsmodels/regression/linear_model.py:1784: RuntimeWarning: invalid value encountered in scalar divide\n",
      "  return 1 - self.ssr/self.uncentered_tss\n"
     ]
    },
    {
     "name": "stdout",
     "output_type": "stream",
     "text": [
      "Removing feature hostname_length with VIF 18.383587332925305\n"
     ]
    }
   ],
   "source": [
    "# Load saved datasets\n",
    "import cloudpickle\n",
    "\n",
    "try:\n",
    "    with open('datasets.pkl', 'rb') as f:\n",
    "        datasets = cloudpickle.load(f)\n",
    "        print(\"Loaded datasets from file\")\n",
    "except FileNotFoundError:\n",
    "    datasets = None\n",
    "\n",
    "if datasets is None:\n",
    "    datasets = read_all_datasets('datasets/')"
   ],
   "metadata": {
    "collapsed": false,
    "is_executing": true,
    "ExecuteTime": {
     "start_time": "2024-03-31T10:14:30.757678Z"
    }
   },
   "id": "67e3e67eb4a4784a"
  },
  {
   "cell_type": "code",
   "execution_count": 6,
   "outputs": [],
   "source": [
    "# Save datasets\n",
    "import cloudpickle\n",
    "\n",
    "with open('datasets.pkl', 'wb') as f:\n",
    "    cloudpickle.dump(datasets, f)"
   ],
   "metadata": {
    "collapsed": false,
    "ExecuteTime": {
     "end_time": "2024-03-31T10:09:32.001878Z",
     "start_time": "2024-03-31T10:09:31.952620Z"
    }
   },
   "id": "b184dcccfc0861f3"
  },
  {
   "cell_type": "code",
   "execution_count": 9,
   "outputs": [
    {
     "name": "stdout",
     "output_type": "stream",
     "text": [
      "Rice_Cammeo_Osmancik: (3810, 7), (3810,)\n",
      "Online_Shoppers_intention: (12330, 17), (12330,)\n",
      "Dataset_for_Link_Phishing: (19431, 68), (19431,)\n",
      "Banknote_Authentication: (1372, 4), (1372,)\n",
      "Optdigits: (5620, 38), (5620,)\n",
      "EEG_Eye_State: (14980, 3), (14980,)\n",
      "Web_Page_Phishing: (100077, 18), (100077,)\n",
      "Statlog_Shuttle: (58000, 6), (58000,)\n",
      "Airline_Passenger_Satisfaction: (129487, 7), (129487,)\n"
     ]
    }
   ],
   "source": [
    "# Print shapes of datasets\n",
    "for dataset_name, dataset in datasets.items():\n",
    "    X, y = dataset\n",
    "    print(f\"{dataset_name}: {X.shape}, {y.shape}\")"
   ],
   "metadata": {
    "collapsed": false,
    "ExecuteTime": {
     "end_time": "2024-03-31T10:12:53.181761Z",
     "start_time": "2024-03-31T10:12:53.178527Z"
    }
   },
   "id": "adb2a15b7b52e23c"
  },
  {
   "cell_type": "code",
   "execution_count": 8,
   "outputs": [
    {
     "name": "stderr",
     "output_type": "stream",
     "text": [
      "Processing SGD on Dataset_for_Link_Phishing: 100%|██████████| 1/1 [02:15<00:00, 135.71s/it]\n",
      "Processing LDA on Rice_Cammeo_Osmancik: 100%|██████████| 1/1 [00:00<00:00, 70.47it/s]\n",
      "Processing QDA on Rice_Cammeo_Osmancik: 100%|██████████| 1/1 [00:00<00:00, 125.31it/s]\n",
      "Processing Decision Tree on Rice_Cammeo_Osmancik: 100%|██████████| 1/1 [00:00<00:00, 57.07it/s]\n",
      "Processing Random Forest on Rice_Cammeo_Osmancik: 100%|██████████| 1/1 [00:00<00:00,  3.24it/s]\n",
      "Processing IWLS on Rice_Cammeo_Osmancik: 100%|██████████| 1/1 [00:00<00:00,  8.40it/s]\n"
     ]
    },
    {
     "name": "stdout",
     "output_type": "stream",
     "text": [
      "Running iteration 0\n",
      "Running iteration 1\n",
      "Running iteration 2\n",
      "Running iteration 3\n",
      "Running iteration 4\n",
      "Running iteration 5\n",
      "Running iteration 6\n",
      "Running iteration 7\n",
      "Running iteration 8\n",
      "Running iteration 9\n"
     ]
    },
    {
     "name": "stderr",
     "output_type": "stream",
     "text": [
      "Processing SGD on Rice_Cammeo_Osmancik:   0%|          | 0/1 [00:00<?, ?it/s]"
     ]
    },
    {
     "name": "stdout",
     "output_type": "stream",
     "text": [
      "Error in SGD on Rice_Cammeo_Osmancik iteration 0: y contains classes other than [-1, 1], attempts left: 10\n",
      "Error in SGD on Rice_Cammeo_Osmancik iteration 0: y contains classes other than [-1, 1], attempts left: 9\n",
      "Error in SGD on Rice_Cammeo_Osmancik iteration 0: y contains classes other than [-1, 1], attempts left: 8\n",
      "Error in SGD on Rice_Cammeo_Osmancik iteration 0: y contains classes other than [-1, 1], attempts left: 7\n",
      "Error in SGD on Rice_Cammeo_Osmancik iteration 0: y contains classes other than [-1, 1], attempts left: 6\n",
      "Error in SGD on Rice_Cammeo_Osmancik iteration 0: y contains classes other than [-1, 1], attempts left: 5\n",
      "Error in SGD on Rice_Cammeo_Osmancik iteration 0: y contains classes other than [-1, 1], attempts left: 4\n",
      "Error in SGD on Rice_Cammeo_Osmancik iteration 0: y contains classes other than [-1, 1], attempts left: 3\n"
     ]
    },
    {
     "name": "stderr",
     "output_type": "stream",
     "text": [
      "Processing SGD on Rice_Cammeo_Osmancik:   0%|          | 0/1 [00:01<?, ?it/s]\n"
     ]
    },
    {
     "name": "stdout",
     "output_type": "stream",
     "text": [
      "Error in SGD on Rice_Cammeo_Osmancik iteration 0: y contains classes other than [-1, 1], attempts left: 2\n",
      "Error in SGD on Rice_Cammeo_Osmancik iteration 0: y contains classes other than [-1, 1], attempts left: 1\n"
     ]
    },
    {
     "name": "stderr",
     "output_type": "stream",
     "text": [
      "Processing ADAM on Rice_Cammeo_Osmancik: 100%|██████████| 1/1 [00:00<00:00,  2.32it/s]\n",
      "Processing LDA on Online_Shoppers_intention: 100%|██████████| 1/1 [00:00<00:00, 44.19it/s]\n",
      "Processing QDA on Online_Shoppers_intention: 100%|██████████| 1/1 [00:00<00:00, 38.61it/s]\n",
      "Processing Decision Tree on Online_Shoppers_intention: 100%|██████████| 1/1 [00:00<00:00, 22.44it/s]\n",
      "Processing Random Forest on Online_Shoppers_intention: 100%|██████████| 1/1 [00:00<00:00,  1.25it/s]\n",
      "Processing IWLS on Online_Shoppers_intention:   0%|          | 0/1 [00:00<?, ?it/s]"
     ]
    },
    {
     "name": "stdout",
     "output_type": "stream",
     "text": [
      "Running iteration 0\n",
      "Running iteration 1\n",
      "Running iteration 2\n",
      "Running iteration 3\n",
      "Running iteration 4\n",
      "Running iteration 5\n",
      "Running iteration 6\n",
      "Running iteration 7\n",
      "Running iteration 8\n"
     ]
    },
    {
     "name": "stderr",
     "output_type": "stream",
     "text": [
      "Processing IWLS on Online_Shoppers_intention: 100%|██████████| 1/1 [00:01<00:00,  1.32s/it]\n"
     ]
    },
    {
     "name": "stdout",
     "output_type": "stream",
     "text": [
      "Running iteration 9\n"
     ]
    },
    {
     "name": "stderr",
     "output_type": "stream",
     "text": [
      "Processing SGD on Online_Shoppers_intention:   0%|          | 0/1 [00:00<?, ?it/s]"
     ]
    },
    {
     "name": "stdout",
     "output_type": "stream",
     "text": [
      "Error in SGD on Online_Shoppers_intention iteration 0: y contains classes other than [-1, 1], attempts left: 10\n",
      "Error in SGD on Online_Shoppers_intention iteration 0: y contains classes other than [-1, 1], attempts left: 9\n",
      "Error in SGD on Online_Shoppers_intention iteration 0: y contains classes other than [-1, 1], attempts left: 8\n"
     ]
    },
    {
     "ename": "KeyboardInterrupt",
     "evalue": "",
     "output_type": "error",
     "traceback": [
      "\u001B[0;31m---------------------------------------------------------------------------\u001B[0m",
      "\u001B[0;31mKeyboardInterrupt\u001B[0m                         Traceback (most recent call last)",
      "Cell \u001B[0;32mIn[8], line 56\u001B[0m\n\u001B[1;32m     53\u001B[0m method_instance \u001B[38;5;241m=\u001B[39m method()\n\u001B[1;32m     55\u001B[0m X_train, X_test, y_train, y_test \u001B[38;5;241m=\u001B[39m train_test_split(X, y, test_size\u001B[38;5;241m=\u001B[39mtest_size)\n\u001B[0;32m---> 56\u001B[0m \u001B[43mmethod_instance\u001B[49m\u001B[38;5;241;43m.\u001B[39;49m\u001B[43mfit\u001B[49m\u001B[43m(\u001B[49m\u001B[43mX_train\u001B[49m\u001B[43m,\u001B[49m\u001B[43m \u001B[49m\u001B[43my_train\u001B[49m\u001B[43m)\u001B[49m\n\u001B[1;32m     57\u001B[0m y_pred \u001B[38;5;241m=\u001B[39m method_instance\u001B[38;5;241m.\u001B[39mpredict(X_test)\n\u001B[1;32m     58\u001B[0m results[\u001B[38;5;124m\"\u001B[39m\u001B[38;5;124maccuracy\u001B[39m\u001B[38;5;124m\"\u001B[39m]\u001B[38;5;241m.\u001B[39mappend(accuracy_score(y_test, y_pred))\n",
      "File \u001B[0;32m~/workspace/AdvMachineLearning/aml_projects/Project1/models/sgd.py:101\u001B[0m, in \u001B[0;36mSGD.fit\u001B[0;34m(self, X, y, interactions)\u001B[0m\n\u001B[1;32m     99\u001B[0m \u001B[38;5;28;01mwhile\u001B[39;00m \u001B[38;5;28;01mTrue\u001B[39;00m:\n\u001B[1;32m    100\u001B[0m     \u001B[38;5;28;01mtry\u001B[39;00m:\n\u001B[0;32m--> 101\u001B[0m         \u001B[38;5;28;43mself\u001B[39;49m\u001B[38;5;241;43m.\u001B[39;49m\u001B[43m_iteration\u001B[49m\u001B[43m(\u001B[49m\u001B[43mX_copy\u001B[49m\u001B[43m,\u001B[49m\u001B[43m \u001B[49m\u001B[43my_copy\u001B[49m\u001B[43m)\u001B[49m\n\u001B[1;32m    102\u001B[0m     \u001B[38;5;28;01mexcept\u001B[39;00m \u001B[38;5;167;01mStopIteration\u001B[39;00m:\n\u001B[1;32m    103\u001B[0m         \u001B[38;5;28;01mbreak\u001B[39;00m\n",
      "File \u001B[0;32m~/workspace/AdvMachineLearning/aml_projects/Project1/models/sgd.py:59\u001B[0m, in \u001B[0;36mSGD._iteration\u001B[0;34m(self, X, y)\u001B[0m\n\u001B[1;32m     56\u001B[0m \u001B[38;5;28mself\u001B[39m\u001B[38;5;241m.\u001B[39m_rng\u001B[38;5;241m.\u001B[39mshuffle(combined_data)\n\u001B[1;32m     58\u001B[0m beta \u001B[38;5;241m=\u001B[39m np\u001B[38;5;241m.\u001B[39mcopy(\u001B[38;5;28mself\u001B[39m\u001B[38;5;241m.\u001B[39m_beta)\n\u001B[0;32m---> 59\u001B[0m \u001B[43mnp\u001B[49m\u001B[38;5;241;43m.\u001B[39;49m\u001B[43mapply_along_axis\u001B[49m\u001B[43m(\u001B[49m\u001B[38;5;28;43;01mlambda\u001B[39;49;00m\u001B[43m \u001B[49m\u001B[43mr\u001B[49m\u001B[43m:\u001B[49m\u001B[43m \u001B[49m\u001B[38;5;28;43mself\u001B[39;49m\u001B[38;5;241;43m.\u001B[39;49m\u001B[43m_update_beta\u001B[49m\u001B[43m(\u001B[49m\u001B[43mr\u001B[49m\u001B[43m[\u001B[49m\u001B[43m:\u001B[49m\u001B[38;5;241;43m-\u001B[39;49m\u001B[38;5;241;43m1\u001B[39;49m\u001B[43m]\u001B[49m\u001B[43m,\u001B[49m\u001B[43m \u001B[49m\u001B[43mr\u001B[49m\u001B[43m[\u001B[49m\u001B[38;5;241;43m-\u001B[39;49m\u001B[38;5;241;43m1\u001B[39;49m\u001B[43m]\u001B[49m\u001B[43m)\u001B[49m\u001B[43m,\u001B[49m\u001B[43m \u001B[49m\u001B[38;5;241;43m1\u001B[39;49m\u001B[43m,\u001B[49m\u001B[43m \u001B[49m\u001B[43mcombined_data\u001B[49m\u001B[43m)\u001B[49m\n\u001B[1;32m     61\u001B[0m \u001B[38;5;28;01mif\u001B[39;00m \u001B[38;5;28mself\u001B[39m\u001B[38;5;241m.\u001B[39m_n_iter \u001B[38;5;241m%\u001B[39m \u001B[38;5;241m10\u001B[39m \u001B[38;5;241m==\u001B[39m \u001B[38;5;241m0\u001B[39m:\n\u001B[1;32m     62\u001B[0m     \u001B[38;5;66;03m# print(\"Debug:\", np.linalg.norm(self._beta - beta, ord=np.inf))\u001B[39;00m\n\u001B[1;32m     63\u001B[0m     \u001B[38;5;28;01mpass\u001B[39;00m\n",
      "File \u001B[0;32m~/TG/lib/python3.11/site-packages/numpy/lib/shape_base.py:402\u001B[0m, in \u001B[0;36mapply_along_axis\u001B[0;34m(func1d, axis, arr, *args, **kwargs)\u001B[0m\n\u001B[1;32m    400\u001B[0m buff[ind0] \u001B[38;5;241m=\u001B[39m res\n\u001B[1;32m    401\u001B[0m \u001B[38;5;28;01mfor\u001B[39;00m ind \u001B[38;5;129;01min\u001B[39;00m inds:\n\u001B[0;32m--> 402\u001B[0m     buff[ind] \u001B[38;5;241m=\u001B[39m asanyarray(\u001B[43mfunc1d\u001B[49m\u001B[43m(\u001B[49m\u001B[43minarr_view\u001B[49m\u001B[43m[\u001B[49m\u001B[43mind\u001B[49m\u001B[43m]\u001B[49m\u001B[43m,\u001B[49m\u001B[43m \u001B[49m\u001B[38;5;241;43m*\u001B[39;49m\u001B[43margs\u001B[49m\u001B[43m,\u001B[49m\u001B[43m \u001B[49m\u001B[38;5;241;43m*\u001B[39;49m\u001B[38;5;241;43m*\u001B[39;49m\u001B[43mkwargs\u001B[49m\u001B[43m)\u001B[49m)\n\u001B[1;32m    404\u001B[0m \u001B[38;5;28;01mif\u001B[39;00m \u001B[38;5;129;01mnot\u001B[39;00m \u001B[38;5;28misinstance\u001B[39m(res, matrix):\n\u001B[1;32m    405\u001B[0m     \u001B[38;5;66;03m# wrap the array, to preserve subclasses\u001B[39;00m\n\u001B[1;32m    406\u001B[0m     buff \u001B[38;5;241m=\u001B[39m res\u001B[38;5;241m.\u001B[39m__array_wrap__(buff)\n",
      "\u001B[0;31mKeyboardInterrupt\u001B[0m: "
     ]
    }
   ],
   "source": [
    "from tqdm import tqdm\n",
    "from sklearn.model_selection import train_test_split\n",
    "from sklearn.metrics import accuracy_score, f1_score, precision_score, recall_score\n",
    "\n",
    "iterations = 1\n",
    "test_size = 0.3\n",
    "methods = [\n",
    "    (\"LDA\", lambda: LinearDiscriminantAnalysis()),\n",
    "    (\"QDA\", lambda: QuadraticDiscriminantAnalysis()),\n",
    "    (\"Decision Tree\", lambda: DecisionTreeClassifier()),\n",
    "    (\"Random Forest\", lambda: RandomForestClassifier()),\n",
    "    (\"IWLS\", lambda: IRLS(iter_limit=10)),\n",
    "    (\"SGD\", lambda: SGD(iter_limit=10)),\n",
    "    (\"ADAM\", lambda: ADAM(iter_limit=10))\n",
    "]\n",
    "\n",
    "results_by_dataset_and_method = {}\n",
    "\n",
    "# Load saved results\n",
    "import json\n",
    "\n",
    "try:\n",
    "    with open('results.json', 'r') as f:\n",
    "        results_by_dataset_and_method = json.load(f)\n",
    "        print(\"Loaded results from file\")\n",
    "except FileNotFoundError:\n",
    "    pass\n",
    "\n",
    "# First collect results \n",
    "for dataset_name, dataset in datasets.items():\n",
    "    if dataset_name in results_by_dataset_and_method:\n",
    "        print(f\"Skipping {dataset_name}\")\n",
    "        continue\n",
    "    \n",
    "    results_by_method = {}\n",
    "    for method_name, method in methods:\n",
    "        results = {\n",
    "            \"accuracy\": [],\n",
    "            \"f1\": [],\n",
    "            \"precision\": [],\n",
    "            \"recall\": []\n",
    "        }\n",
    "        \n",
    "        tqdm._instances.clear()\n",
    "        \n",
    "        bar = tqdm(total=iterations)\n",
    "        bar.set_description(f\"Processing {method_name} on {dataset_name}\")\n",
    "        max_attempts = 10\n",
    "        current_iteration = 0\n",
    "        while current_iteration < iterations:\n",
    "            try:\n",
    "                X, y = dataset\n",
    "                method_instance = method()\n",
    "    \n",
    "                X_train, X_test, y_train, y_test = train_test_split(X, y, test_size=test_size)\n",
    "                method_instance.fit(X_train, y_train)\n",
    "                y_pred = method_instance.predict(X_test)\n",
    "                results[\"accuracy\"].append(accuracy_score(y_test, y_pred))\n",
    "                results[\"f1\"].append(f1_score(y_test, y_pred))\n",
    "                results[\"precision\"].append(precision_score(y_test, y_pred))\n",
    "                results[\"recall\"].append(recall_score(y_test, y_pred))\n",
    "\n",
    "                bar.update(1)\n",
    "                current_iteration += 1\n",
    "            except Exception as e:\n",
    "                print(f\"Error in {method_name} on {dataset_name} iteration {current_iteration}: {e}, attempts left: {max_attempts}\")\n",
    "                max_attempts -= 1\n",
    "                \n",
    "                if max_attempts == 0:\n",
    "                    break\n",
    "            \n",
    "        bar.close()\n",
    "        results_by_method[method_name] = results\n",
    "    results_by_dataset_and_method[dataset_name] = results_by_method"
   ],
   "metadata": {
    "collapsed": false,
    "ExecuteTime": {
     "end_time": "2024-03-31T10:12:26.360896Z",
     "start_time": "2024-03-31T10:12:19.097776Z"
    }
   },
   "id": "69432c45d0d4d1b8"
  },
  {
   "cell_type": "code",
   "execution_count": 1,
   "outputs": [
    {
     "ename": "NameError",
     "evalue": "name 'results_by_dataset_and_method' is not defined",
     "output_type": "error",
     "traceback": [
      "\u001B[0;31m---------------------------------------------------------------------------\u001B[0m",
      "\u001B[0;31mNameError\u001B[0m                                 Traceback (most recent call last)",
      "Cell \u001B[0;32mIn[1], line 5\u001B[0m\n\u001B[1;32m      2\u001B[0m \u001B[38;5;28;01mimport\u001B[39;00m \u001B[38;5;21;01mjson\u001B[39;00m\n\u001B[1;32m      4\u001B[0m \u001B[38;5;28;01mwith\u001B[39;00m \u001B[38;5;28mopen\u001B[39m(\u001B[38;5;124m'\u001B[39m\u001B[38;5;124mresults.json\u001B[39m\u001B[38;5;124m'\u001B[39m, \u001B[38;5;124m'\u001B[39m\u001B[38;5;124mw\u001B[39m\u001B[38;5;124m'\u001B[39m) \u001B[38;5;28;01mas\u001B[39;00m f:\n\u001B[0;32m----> 5\u001B[0m     json\u001B[38;5;241m.\u001B[39mdump(\u001B[43mresults_by_dataset_and_method\u001B[49m, f)\n",
      "\u001B[0;31mNameError\u001B[0m: name 'results_by_dataset_and_method' is not defined"
     ]
    }
   ],
   "source": [
    "# Save results\n",
    "import json\n",
    "\n",
    "with open('results.json', 'w') as f:\n",
    "    json.dump(results_by_dataset_and_method, f)\n"
   ],
   "metadata": {
    "collapsed": false,
    "ExecuteTime": {
     "end_time": "2024-03-31T09:55:46.417265Z",
     "start_time": "2024-03-31T09:55:46.254687Z"
    }
   },
   "id": "2a57f348d5414fee"
  },
  {
   "cell_type": "code",
   "execution_count": 13,
   "outputs": [
    {
     "data": {
      "text/plain": "{}"
     },
     "execution_count": 13,
     "metadata": {},
     "output_type": "execute_result"
    }
   ],
   "source": [
    "results_by_dataset_and_method"
   ],
   "metadata": {
    "collapsed": false,
    "ExecuteTime": {
     "end_time": "2024-03-30T18:03:55.077978Z",
     "start_time": "2024-03-30T18:03:55.072578Z"
    }
   },
   "id": "b2d0d9809131fc66"
  }
 ],
 "metadata": {
  "kernelspec": {
   "display_name": "Python 3",
   "language": "python",
   "name": "python3"
  },
  "language_info": {
   "codemirror_mode": {
    "name": "ipython",
    "version": 2
   },
   "file_extension": ".py",
   "mimetype": "text/x-python",
   "name": "python",
   "nbconvert_exporter": "python",
   "pygments_lexer": "ipython2",
   "version": "2.7.6"
  }
 },
 "nbformat": 4,
 "nbformat_minor": 5
}
