{
 "cells": [
  {
   "cell_type": "code",
   "execution_count": 2,
   "outputs": [],
   "source": [
    "%load_ext autoreload\n",
    "%autoreload 2"
   ],
   "metadata": {
    "collapsed": false,
    "ExecuteTime": {
     "end_time": "2024-03-31T11:22:15.490592Z",
     "start_time": "2024-03-31T11:22:15.476586Z"
    }
   },
   "id": "1967364912039378"
  },
  {
   "cell_type": "code",
   "execution_count": 3,
   "outputs": [],
   "source": [
    "from models.adam import ADAM\n",
    "from models.irls import IRLS\n",
    "from models.sgd import SGD\n",
    "from datasets.read import read_all_datasets"
   ],
   "metadata": {
    "collapsed": false,
    "ExecuteTime": {
     "end_time": "2024-03-31T11:22:17.694333Z",
     "start_time": "2024-03-31T11:22:16.138757Z"
    }
   },
   "id": "8bec04ecd2722df6"
  },
  {
   "cell_type": "code",
   "execution_count": 4,
   "outputs": [],
   "source": [
    "from sklearn.discriminant_analysis import LinearDiscriminantAnalysis\n",
    "from sklearn.discriminant_analysis import QuadraticDiscriminantAnalysis\n",
    "from sklearn.tree import DecisionTreeClassifier\n",
    "from sklearn.ensemble import RandomForestClassifier"
   ],
   "metadata": {
    "collapsed": false,
    "ExecuteTime": {
     "end_time": "2024-03-31T11:22:17.981229Z",
     "start_time": "2024-03-31T11:22:17.694060Z"
    }
   },
   "id": "3c73cf0d66bbb8f3"
  },
  {
   "cell_type": "markdown",
   "source": [
    "\n",
    "Compare the classification performance of logistic regression (try all 3 methods: IWLS, SGD and ADAM) and 4 popular classification methods: LDA (Linear Discriminant analysis), QDA (Quadratic Discriminant Analysis), Decision tree and Random Forest. \n",
    "Use available implementations, e.g. from scikit-learn library."
   ],
   "metadata": {
    "collapsed": false
   },
   "id": "9add29e7b6d8fdbc"
  },
  {
   "cell_type": "code",
   "execution_count": 5,
   "outputs": [
    {
     "name": "stdout",
     "output_type": "stream",
     "text": [
      "Loaded datasets from file\n"
     ]
    }
   ],
   "source": [
    "# Load saved datasets\n",
    "import cloudpickle\n",
    "\n",
    "try:\n",
    "    with open('datasets.pkl', 'rb') as f:\n",
    "        datasets = cloudpickle.load(f)\n",
    "        print(\"Loaded datasets from file\")\n",
    "except FileNotFoundError:\n",
    "    datasets = None\n",
    "\n",
    "if datasets is None:\n",
    "    datasets = read_all_datasets('datasets/')"
   ],
   "metadata": {
    "collapsed": false,
    "ExecuteTime": {
     "end_time": "2024-03-31T11:22:44.824490Z",
     "start_time": "2024-03-31T11:22:44.763516Z"
    }
   },
   "id": "67e3e67eb4a4784a"
  },
  {
   "cell_type": "code",
   "execution_count": 6,
   "outputs": [],
   "source": [
    "# Save datasets\n",
    "import cloudpickle\n",
    "\n",
    "with open('datasets.pkl', 'wb') as f:\n",
    "    cloudpickle.dump(datasets, f)"
   ],
   "metadata": {
    "collapsed": false,
    "ExecuteTime": {
     "end_time": "2024-03-31T11:22:49.256566Z",
     "start_time": "2024-03-31T11:22:49.205737Z"
    }
   },
   "id": "b184dcccfc0861f3"
  },
  {
   "cell_type": "code",
   "execution_count": 10,
   "outputs": [
    {
     "name": "stdout",
     "output_type": "stream",
     "text": [
      "Rice_Cammeo_Osmancik: (3810, 7), (3810,)\n",
      "Online_Shoppers_intention: (12330, 17), (12330,)\n",
      "Dataset_for_Link_Phishing: (19431, 68), (19431,)\n",
      "Banknote_Authentication: (1372, 4), (1372,)\n",
      "Optdigits: (5620, 38), (5620,)\n",
      "EEG_Eye_State: (14980, 4), (14980,)\n",
      "Web_Page_Phishing: (100077, 19), (100077,)\n",
      "Statlog_Shuttle: (58000, 6), (58000,)\n",
      "Airline_Passenger_Satisfaction: (64743, 14), (64743,)\n"
     ]
    }
   ],
   "source": [
    "# Print shapes of datasets\n",
    "for dataset_name, dataset in datasets.items():\n",
    "    X, y = dataset\n",
    "    print(f\"{dataset_name}: {X.shape}, {y.shape}\")"
   ],
   "metadata": {
    "collapsed": false,
    "ExecuteTime": {
     "end_time": "2024-03-31T11:35:11.938491Z",
     "start_time": "2024-03-31T11:35:11.919647Z"
    }
   },
   "id": "adb2a15b7b52e23c"
  },
  {
   "cell_type": "code",
   "execution_count": null,
   "outputs": [
    {
     "name": "stdout",
     "output_type": "stream",
     "text": [
      "Loaded results from file\n",
      "Skipping Rice_Cammeo_Osmancik\n",
      "Skipping Online_Shoppers_intention\n",
      "Skipping Dataset_for_Link_Phishing\n",
      "Skipping Banknote_Authentication\n",
      "Skipping Optdigits\n",
      "Skipping EEG_Eye_State\n",
      "Skipping Web_Page_Phishing\n",
      "Skipping Statlog_Shuttle\n"
     ]
    },
    {
     "name": "stderr",
     "output_type": "stream",
     "text": [
      "Processing IWLS on Airline_Passenger_Satisfaction:   0%|          | 0/1 [06:15<?, ?it/s]\n",
      "Processing LDA on Airline_Passenger_Satisfaction: 100%|██████████| 1/1 [00:00<00:00,  7.94it/s]\n",
      "Processing QDA on Airline_Passenger_Satisfaction: 100%|██████████| 1/1 [00:00<00:00, 11.09it/s]\n",
      "Processing Decision Tree on Airline_Passenger_Satisfaction: 100%|██████████| 1/1 [00:00<00:00,  6.20it/s]\n",
      "Processing Random Forest on Airline_Passenger_Satisfaction: 100%|██████████| 1/1 [00:02<00:00,  2.80s/it]\n",
      "Processing IWLS on Airline_Passenger_Satisfaction:   0%|          | 0/1 [00:00<?, ?it/s]"
     ]
    }
   ],
   "source": [
    "import traceback\n",
    "from tqdm import tqdm\n",
    "from sklearn.model_selection import train_test_split\n",
    "from sklearn.metrics import accuracy_score, f1_score, precision_score, recall_score\n",
    "\n",
    "iterations = 1\n",
    "test_size = 0.3\n",
    "methods = [\n",
    "    (\"LDA\", lambda: LinearDiscriminantAnalysis()),\n",
    "    (\"QDA\", lambda: QuadraticDiscriminantAnalysis()),\n",
    "    (\"Decision Tree\", lambda: DecisionTreeClassifier()),\n",
    "    (\"Random Forest\", lambda: RandomForestClassifier()),\n",
    "    (\"IWLS\", lambda: IRLS(iter_limit=10)),\n",
    "    (\"SGD\", lambda: SGD(iter_limit=10)),\n",
    "    (\"ADAM\", lambda: ADAM(iter_limit=10))\n",
    "]\n",
    "\n",
    "results_by_dataset_and_method = {}\n",
    "\n",
    "# Load saved results\n",
    "import json\n",
    "\n",
    "try:\n",
    "    with open('results.json', 'r') as f:\n",
    "        results_by_dataset_and_method = json.load(f)\n",
    "        print(\"Loaded results from file\")\n",
    "except FileNotFoundError:\n",
    "    pass\n",
    "\n",
    "# First collect results \n",
    "for dataset_name, dataset in datasets.items():\n",
    "    if dataset_name in results_by_dataset_and_method:\n",
    "        print(f\"Skipping {dataset_name}\")\n",
    "        continue\n",
    "    \n",
    "    results_by_method = {}\n",
    "    for method_name, method in methods:\n",
    "        results = {\n",
    "            \"accuracy\": [],\n",
    "            \"f1\": [],\n",
    "            \"precision\": [],\n",
    "            \"recall\": []\n",
    "        }\n",
    "        \n",
    "        tqdm._instances.clear()\n",
    "        \n",
    "        bar = tqdm(total=iterations)\n",
    "        bar.set_description(f\"Processing {method_name} on {dataset_name}\")\n",
    "        max_attempts = 10\n",
    "        current_iteration = 0\n",
    "        while current_iteration < iterations:\n",
    "            try:\n",
    "                X, y = dataset\n",
    "                method_instance = method()\n",
    "    \n",
    "                X_train, X_test, y_train, y_test = train_test_split(X, y, test_size=test_size)\n",
    "                method_instance.fit(X_train, y_train)\n",
    "                y_pred = method_instance.predict(X_test)\n",
    "                results[\"accuracy\"].append(accuracy_score(y_test, y_pred))\n",
    "                results[\"f1\"].append(f1_score(y_test, y_pred))\n",
    "                results[\"precision\"].append(precision_score(y_test, y_pred))\n",
    "                results[\"recall\"].append(recall_score(y_test, y_pred))\n",
    "\n",
    "                bar.update(1)\n",
    "                current_iteration += 1\n",
    "            except Exception as e:\n",
    "                print(f\"Error in {method_name} on {dataset_name} iteration {current_iteration}: {e}, attempts left: {max_attempts}\")\n",
    "                traceback.print_exc()\n",
    "                max_attempts -= 1\n",
    "                \n",
    "                if max_attempts == 0:\n",
    "                    break\n",
    "            \n",
    "        bar.close()\n",
    "        results_by_method[method_name] = results\n",
    "    results_by_dataset_and_method[dataset_name] = results_by_method\n",
    "    \n",
    "    # Save results\n",
    "    with open('results.json', 'w') as f:\n",
    "        json.dump(results_by_dataset_and_method, f)"
   ],
   "metadata": {
    "collapsed": false,
    "is_executing": true,
    "ExecuteTime": {
     "start_time": "2024-03-31T11:35:15.124317Z"
    }
   },
   "id": "69432c45d0d4d1b8"
  },
  {
   "cell_type": "code",
   "execution_count": 1,
   "outputs": [
    {
     "ename": "NameError",
     "evalue": "name 'results_by_dataset_and_method' is not defined",
     "output_type": "error",
     "traceback": [
      "\u001B[0;31m---------------------------------------------------------------------------\u001B[0m",
      "\u001B[0;31mNameError\u001B[0m                                 Traceback (most recent call last)",
      "Cell \u001B[0;32mIn[1], line 5\u001B[0m\n\u001B[1;32m      2\u001B[0m \u001B[38;5;28;01mimport\u001B[39;00m \u001B[38;5;21;01mjson\u001B[39;00m\n\u001B[1;32m      4\u001B[0m \u001B[38;5;28;01mwith\u001B[39;00m \u001B[38;5;28mopen\u001B[39m(\u001B[38;5;124m'\u001B[39m\u001B[38;5;124mresults.json\u001B[39m\u001B[38;5;124m'\u001B[39m, \u001B[38;5;124m'\u001B[39m\u001B[38;5;124mw\u001B[39m\u001B[38;5;124m'\u001B[39m) \u001B[38;5;28;01mas\u001B[39;00m f:\n\u001B[0;32m----> 5\u001B[0m     json\u001B[38;5;241m.\u001B[39mdump(\u001B[43mresults_by_dataset_and_method\u001B[49m, f)\n",
      "\u001B[0;31mNameError\u001B[0m: name 'results_by_dataset_and_method' is not defined"
     ]
    }
   ],
   "source": [
    "# Save results\n",
    "import json\n",
    "\n",
    "with open('results.json', 'w') as f:\n",
    "    json.dump(results_by_dataset_and_method, f)\n"
   ],
   "metadata": {
    "collapsed": false,
    "ExecuteTime": {
     "end_time": "2024-03-31T11:21:58.239462Z",
     "start_time": "2024-03-31T11:21:58.113336Z"
    }
   },
   "id": "2a57f348d5414fee"
  },
  {
   "cell_type": "code",
   "execution_count": 13,
   "outputs": [
    {
     "data": {
      "text/plain": "{}"
     },
     "execution_count": 13,
     "metadata": {},
     "output_type": "execute_result"
    }
   ],
   "source": [
    "results_by_dataset_and_method"
   ],
   "metadata": {
    "collapsed": false,
    "ExecuteTime": {
     "end_time": "2024-03-30T18:03:55.077978Z",
     "start_time": "2024-03-30T18:03:55.072578Z"
    }
   },
   "id": "b2d0d9809131fc66"
  }
 ],
 "metadata": {
  "kernelspec": {
   "display_name": "Python 3",
   "language": "python",
   "name": "python3"
  },
  "language_info": {
   "codemirror_mode": {
    "name": "ipython",
    "version": 2
   },
   "file_extension": ".py",
   "mimetype": "text/x-python",
   "name": "python",
   "nbconvert_exporter": "python",
   "pygments_lexer": "ipython2",
   "version": "2.7.6"
  }
 },
 "nbformat": 4,
 "nbformat_minor": 5
}
