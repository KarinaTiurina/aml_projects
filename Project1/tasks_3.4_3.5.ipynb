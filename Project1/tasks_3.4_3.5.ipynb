{
 "cells": [
  {
   "cell_type": "code",
   "execution_count": 1,
   "outputs": [],
   "source": [
    "%load_ext autoreload\n",
    "%autoreload 2"
   ],
   "metadata": {
    "collapsed": false,
    "ExecuteTime": {
     "end_time": "2024-03-31T10:41:52.542517Z",
     "start_time": "2024-03-31T10:41:52.528374Z"
    }
   },
   "id": "1967364912039378"
  },
  {
   "cell_type": "code",
   "execution_count": 2,
   "outputs": [],
   "source": [
    "from models.adam import ADAM\n",
    "from models.irls import IRLS\n",
    "from models.sgd import SGD\n",
    "from datasets.read import read_all_datasets"
   ],
   "metadata": {
    "collapsed": false,
    "ExecuteTime": {
     "end_time": "2024-03-31T10:41:54.787108Z",
     "start_time": "2024-03-31T10:41:53.468811Z"
    }
   },
   "id": "8bec04ecd2722df6"
  },
  {
   "cell_type": "code",
   "execution_count": 3,
   "outputs": [],
   "source": [
    "from sklearn.discriminant_analysis import LinearDiscriminantAnalysis\n",
    "from sklearn.discriminant_analysis import QuadraticDiscriminantAnalysis\n",
    "from sklearn.tree import DecisionTreeClassifier\n",
    "from sklearn.ensemble import RandomForestClassifier"
   ],
   "metadata": {
    "collapsed": false,
    "ExecuteTime": {
     "end_time": "2024-03-31T10:41:55.741878Z",
     "start_time": "2024-03-31T10:41:55.462478Z"
    }
   },
   "id": "3c73cf0d66bbb8f3"
  },
  {
   "cell_type": "markdown",
   "source": [
    "\n",
    "Compare the classification performance of logistic regression (try all 3 methods: IWLS, SGD and ADAM) and 4 popular classification methods: LDA (Linear Discriminant analysis), QDA (Quadratic Discriminant Analysis), Decision tree and Random Forest. \n",
    "Use available implementations, e.g. from scikit-learn library."
   ],
   "metadata": {
    "collapsed": false
   },
   "id": "9add29e7b6d8fdbc"
  },
  {
   "cell_type": "code",
   "execution_count": 4,
   "outputs": [
    {
     "name": "stdout",
     "output_type": "stream",
     "text": [
      "Loaded datasets from file\n"
     ]
    }
   ],
   "source": [
    "# Load saved datasets\n",
    "import cloudpickle\n",
    "\n",
    "try:\n",
    "    with open('datasets.pkl', 'rb') as f:\n",
    "        datasets = cloudpickle.load(f)\n",
    "        print(\"Loaded datasets from file\")\n",
    "except FileNotFoundError:\n",
    "    datasets = None\n",
    "\n",
    "if datasets is None:\n",
    "    datasets = read_all_datasets('datasets/')"
   ],
   "metadata": {
    "collapsed": false,
    "ExecuteTime": {
     "end_time": "2024-03-31T10:41:56.438691Z",
     "start_time": "2024-03-31T10:41:56.378290Z"
    }
   },
   "id": "67e3e67eb4a4784a"
  },
  {
   "cell_type": "code",
   "execution_count": 4,
   "outputs": [],
   "source": [
    "# Save datasets\n",
    "import cloudpickle\n",
    "\n",
    "with open('datasets.pkl', 'wb') as f:\n",
    "    cloudpickle.dump(datasets, f)"
   ],
   "metadata": {
    "collapsed": false,
    "ExecuteTime": {
     "end_time": "2024-03-31T10:25:56.572798Z",
     "start_time": "2024-03-31T10:25:56.507864Z"
    }
   },
   "id": "b184dcccfc0861f3"
  },
  {
   "cell_type": "code",
   "execution_count": 5,
   "outputs": [
    {
     "name": "stdout",
     "output_type": "stream",
     "text": [
      "Rice_Cammeo_Osmancik: (3810, 7), (3810,)\n",
      "Online_Shoppers_intention: (12330, 17), (12330,)\n",
      "Dataset_for_Link_Phishing: (19431, 68), (19431,)\n",
      "Banknote_Authentication: (1372, 4), (1372,)\n",
      "Optdigits: (5620, 38), (5620,)\n",
      "EEG_Eye_State: (14980, 4), (14980,)\n",
      "Web_Page_Phishing: (100077, 19), (100077,)\n",
      "Statlog_Shuttle: (58000, 6), (58000,)\n",
      "Airline_Passenger_Satisfaction: (129487, 14), (129487,)\n"
     ]
    }
   ],
   "source": [
    "# Print shapes of datasets\n",
    "for dataset_name, dataset in datasets.items():\n",
    "    X, y = dataset\n",
    "    print(f\"{dataset_name}: {X.shape}, {y.shape}\")"
   ],
   "metadata": {
    "collapsed": false,
    "ExecuteTime": {
     "end_time": "2024-03-31T10:41:58.282417Z",
     "start_time": "2024-03-31T10:41:58.277123Z"
    }
   },
   "id": "adb2a15b7b52e23c"
  },
  {
   "cell_type": "code",
   "execution_count": null,
   "outputs": [
    {
     "name": "stderr",
     "output_type": "stream",
     "text": [
      "Processing IWLS on Dataset_for_Link_Phishing:   0%|          | 0/1 [01:05<?, ?it/s]\n",
      "Processing LDA on Rice_Cammeo_Osmancik: 100%|██████████| 1/1 [00:00<00:00, 93.09it/s]\n",
      "Processing QDA on Rice_Cammeo_Osmancik: 100%|██████████| 1/1 [00:00<00:00, 137.79it/s]\n",
      "Processing Decision Tree on Rice_Cammeo_Osmancik: 100%|██████████| 1/1 [00:00<00:00, 59.60it/s]\n",
      "Processing Random Forest on Rice_Cammeo_Osmancik: 100%|██████████| 1/1 [00:00<00:00,  3.20it/s]\n",
      "Processing IWLS on Rice_Cammeo_Osmancik: 100%|██████████| 1/1 [00:00<00:00,  7.07it/s]\n",
      "Processing SGD on Rice_Cammeo_Osmancik:   0%|          | 0/1 [00:00<?, ?it/s]/Users/nk2/workspace/AdvMachineLearning/aml_projects/Project1/models/util.py:33: UserWarning: Classes in y are not the same as source classes. Will attempt to map anyway. [1] != [-1, 1]\n",
      "  warnings.warn(f\"Classes in y are not the same as source classes. \"\n",
      "Processing SGD on Rice_Cammeo_Osmancik: 100%|██████████| 1/1 [00:00<00:00,  5.16it/s]\n",
      "Processing ADAM on Rice_Cammeo_Osmancik: 100%|██████████| 1/1 [00:00<00:00,  2.38it/s]\n",
      "Processing LDA on Online_Shoppers_intention: 100%|██████████| 1/1 [00:00<00:00, 36.46it/s]\n",
      "Processing QDA on Online_Shoppers_intention: 100%|██████████| 1/1 [00:00<00:00, 35.13it/s]\n",
      "Processing Decision Tree on Online_Shoppers_intention: 100%|██████████| 1/1 [00:00<00:00, 23.09it/s]\n",
      "Processing Random Forest on Online_Shoppers_intention: 100%|██████████| 1/1 [00:00<00:00,  1.26it/s]\n",
      "Processing IWLS on Online_Shoppers_intention: 100%|██████████| 1/1 [00:01<00:00,  1.29s/it]\n",
      "Processing SGD on Online_Shoppers_intention:   0%|          | 0/1 [00:00<?, ?it/s]/Users/nk2/workspace/AdvMachineLearning/aml_projects/Project1/models/util.py:33: UserWarning: Classes in y are not the same as source classes. Will attempt to map anyway. [-1] != [-1, 1]\n",
      "  warnings.warn(f\"Classes in y are not the same as source classes. \"\n",
      "/Users/nk2/TG/lib/python3.11/site-packages/sklearn/metrics/_classification.py:1509: UndefinedMetricWarning: Precision is ill-defined and being set to 0.0 due to no predicted samples. Use `zero_division` parameter to control this behavior.\n",
      "  _warn_prf(average, modifier, f\"{metric.capitalize()} is\", len(result))\n",
      "Processing SGD on Online_Shoppers_intention: 100%|██████████| 1/1 [00:00<00:00,  1.62it/s]\n",
      "Processing ADAM on Online_Shoppers_intention: 100%|██████████| 1/1 [00:01<00:00,  1.33s/it]\n",
      "Processing LDA on Dataset_for_Link_Phishing: 100%|██████████| 1/1 [00:00<00:00,  7.79it/s]\n",
      "Processing QDA on Dataset_for_Link_Phishing:   0%|          | 0/1 [00:00<?, ?it/s]/Users/nk2/TG/lib/python3.11/site-packages/sklearn/discriminant_analysis.py:935: UserWarning: Variables are collinear\n",
      "  warnings.warn(\"Variables are collinear\")\n",
      "Processing QDA on Dataset_for_Link_Phishing: 100%|██████████| 1/1 [00:00<00:00,  7.11it/s]\n",
      "Processing Decision Tree on Dataset_for_Link_Phishing: 100%|██████████| 1/1 [00:00<00:00,  7.30it/s]\n",
      "Processing Random Forest on Dataset_for_Link_Phishing: 100%|██████████| 1/1 [00:01<00:00,  1.10s/it]\n",
      "Processing IWLS on Dataset_for_Link_Phishing: 100%|██████████| 1/1 [00:05<00:00,  5.14s/it]\n",
      "Processing SGD on Dataset_for_Link_Phishing: 100%|██████████| 1/1 [00:00<00:00,  1.02it/s]\n",
      "Processing ADAM on Dataset_for_Link_Phishing: 100%|██████████| 1/1 [00:02<00:00,  2.19s/it]\n",
      "Processing LDA on Banknote_Authentication: 100%|██████████| 1/1 [00:00<00:00, 133.76it/s]\n",
      "Processing QDA on Banknote_Authentication: 100%|██████████| 1/1 [00:00<00:00, 186.95it/s]\n",
      "Processing Decision Tree on Banknote_Authentication: 100%|██████████| 1/1 [00:00<00:00, 166.66it/s]\n",
      "Processing Random Forest on Banknote_Authentication: 100%|██████████| 1/1 [00:00<00:00,  8.28it/s]\n",
      "Processing IWLS on Banknote_Authentication: 100%|██████████| 1/1 [00:00<00:00, 55.74it/s]\n",
      "Processing SGD on Banknote_Authentication: 100%|██████████| 1/1 [00:00<00:00, 13.06it/s]\n",
      "Processing ADAM on Banknote_Authentication: 100%|██████████| 1/1 [00:00<00:00,  6.46it/s]\n",
      "Processing LDA on Optdigits: 100%|██████████| 1/1 [00:00<00:00, 41.05it/s]\n",
      "Processing QDA on Optdigits:   0%|          | 0/1 [00:00<?, ?it/s]/Users/nk2/TG/lib/python3.11/site-packages/sklearn/discriminant_analysis.py:935: UserWarning: Variables are collinear\n",
      "  warnings.warn(\"Variables are collinear\")\n",
      "Processing QDA on Optdigits: 100%|██████████| 1/1 [00:00<00:00, 36.72it/s]\n",
      "Processing Decision Tree on Optdigits: 100%|██████████| 1/1 [00:00<00:00, 65.29it/s]\n",
      "Processing Random Forest on Optdigits: 100%|██████████| 1/1 [00:00<00:00,  4.54it/s]\n",
      "Processing IWLS on Optdigits: 100%|██████████| 1/1 [00:00<00:00,  3.38it/s]\n",
      "Processing SGD on Optdigits:   0%|          | 0/1 [00:00<?, ?it/s]/Users/nk2/workspace/AdvMachineLearning/aml_projects/Project1/models/util.py:33: UserWarning: Classes in y are not the same as source classes. Will attempt to map anyway. [-1] != [-1, 1]\n",
      "  warnings.warn(f\"Classes in y are not the same as source classes. \"\n",
      "/Users/nk2/TG/lib/python3.11/site-packages/sklearn/metrics/_classification.py:1509: UndefinedMetricWarning: Precision is ill-defined and being set to 0.0 due to no predicted samples. Use `zero_division` parameter to control this behavior.\n",
      "  _warn_prf(average, modifier, f\"{metric.capitalize()} is\", len(result))\n",
      "Processing SGD on Optdigits: 100%|██████████| 1/1 [00:00<00:00,  3.59it/s]\n",
      "Processing ADAM on Optdigits:   0%|          | 0/1 [00:00<?, ?it/s]/Users/nk2/workspace/AdvMachineLearning/aml_projects/Project1/models/util.py:33: UserWarning: Classes in y are not the same as source classes. Will attempt to map anyway. [-1] != [-1, 1]\n",
      "  warnings.warn(f\"Classes in y are not the same as source classes. \"\n",
      "/Users/nk2/TG/lib/python3.11/site-packages/sklearn/metrics/_classification.py:1509: UndefinedMetricWarning: Precision is ill-defined and being set to 0.0 due to no predicted samples. Use `zero_division` parameter to control this behavior.\n",
      "  _warn_prf(average, modifier, f\"{metric.capitalize()} is\", len(result))\n",
      "Processing ADAM on Optdigits: 100%|██████████| 1/1 [00:00<00:00,  1.61it/s]\n",
      "Processing LDA on EEG_Eye_State: 100%|██████████| 1/1 [00:00<00:00, 52.91it/s]\n",
      "Processing QDA on EEG_Eye_State: 100%|██████████| 1/1 [00:00<00:00, 54.57it/s]\n",
      "Processing Decision Tree on EEG_Eye_State: 100%|██████████| 1/1 [00:00<00:00, 26.36it/s]\n",
      "Processing Random Forest on EEG_Eye_State: 100%|██████████| 1/1 [00:01<00:00,  1.18s/it]\n",
      "Processing IWLS on EEG_Eye_State: 100%|██████████| 1/1 [00:01<00:00,  1.57s/it]\n",
      "Processing SGD on EEG_Eye_State: 100%|██████████| 1/1 [00:00<00:00,  1.37it/s]\n",
      "Processing ADAM on EEG_Eye_State: 100%|██████████| 1/1 [00:01<00:00,  1.66s/it]\n",
      "Processing LDA on Web_Page_Phishing: 100%|██████████| 1/1 [00:00<00:00,  5.60it/s]\n",
      "Processing QDA on Web_Page_Phishing:   0%|          | 0/1 [00:00<?, ?it/s]/Users/nk2/TG/lib/python3.11/site-packages/sklearn/discriminant_analysis.py:935: UserWarning: Variables are collinear\n",
      "  warnings.warn(\"Variables are collinear\")\n",
      "Processing QDA on Web_Page_Phishing: 100%|██████████| 1/1 [00:00<00:00,  6.28it/s]\n",
      "Processing Decision Tree on Web_Page_Phishing: 100%|██████████| 1/1 [00:00<00:00,  9.03it/s]\n",
      "Processing Random Forest on Web_Page_Phishing: 100%|██████████| 1/1 [00:02<00:00,  2.73s/it]\n",
      "Processing IWLS on Web_Page_Phishing:   0%|          | 0/1 [00:00<?, ?it/s]"
     ]
    }
   ],
   "source": [
    "import traceback\n",
    "from tqdm import tqdm\n",
    "from sklearn.model_selection import train_test_split\n",
    "from sklearn.metrics import accuracy_score, f1_score, precision_score, recall_score\n",
    "\n",
    "iterations = 1\n",
    "test_size = 0.3\n",
    "methods = [\n",
    "    (\"LDA\", lambda: LinearDiscriminantAnalysis()),\n",
    "    (\"QDA\", lambda: QuadraticDiscriminantAnalysis()),\n",
    "    (\"Decision Tree\", lambda: DecisionTreeClassifier()),\n",
    "    (\"Random Forest\", lambda: RandomForestClassifier()),\n",
    "    (\"IWLS\", lambda: IRLS(iter_limit=10)),\n",
    "    (\"SGD\", lambda: SGD(iter_limit=10)),\n",
    "    (\"ADAM\", lambda: ADAM(iter_limit=10))\n",
    "]\n",
    "\n",
    "results_by_dataset_and_method = {}\n",
    "\n",
    "# Load saved results\n",
    "import json\n",
    "\n",
    "try:\n",
    "    with open('results.json', 'r') as f:\n",
    "        results_by_dataset_and_method = json.load(f)\n",
    "        print(\"Loaded results from file\")\n",
    "except FileNotFoundError:\n",
    "    pass\n",
    "\n",
    "# First collect results \n",
    "for dataset_name, dataset in datasets.items():\n",
    "    if dataset_name in results_by_dataset_and_method:\n",
    "        print(f\"Skipping {dataset_name}\")\n",
    "        continue\n",
    "    \n",
    "    results_by_method = {}\n",
    "    for method_name, method in methods:\n",
    "        results = {\n",
    "            \"accuracy\": [],\n",
    "            \"f1\": [],\n",
    "            \"precision\": [],\n",
    "            \"recall\": []\n",
    "        }\n",
    "        \n",
    "        tqdm._instances.clear()\n",
    "        \n",
    "        bar = tqdm(total=iterations)\n",
    "        bar.set_description(f\"Processing {method_name} on {dataset_name}\")\n",
    "        max_attempts = 10\n",
    "        current_iteration = 0\n",
    "        while current_iteration < iterations:\n",
    "            try:\n",
    "                X, y = dataset\n",
    "                method_instance = method()\n",
    "    \n",
    "                X_train, X_test, y_train, y_test = train_test_split(X, y, test_size=test_size)\n",
    "                method_instance.fit(X_train, y_train)\n",
    "                y_pred = method_instance.predict(X_test)\n",
    "                results[\"accuracy\"].append(accuracy_score(y_test, y_pred))\n",
    "                results[\"f1\"].append(f1_score(y_test, y_pred))\n",
    "                results[\"precision\"].append(precision_score(y_test, y_pred))\n",
    "                results[\"recall\"].append(recall_score(y_test, y_pred))\n",
    "\n",
    "                bar.update(1)\n",
    "                current_iteration += 1\n",
    "            except Exception as e:\n",
    "                print(f\"Error in {method_name} on {dataset_name} iteration {current_iteration}: {e}, attempts left: {max_attempts}\")\n",
    "                traceback.print_exc()\n",
    "                max_attempts -= 1\n",
    "                \n",
    "                if max_attempts == 0:\n",
    "                    break\n",
    "            \n",
    "        bar.close()\n",
    "        results_by_method[method_name] = results\n",
    "    results_by_dataset_and_method[dataset_name] = results_by_method"
   ],
   "metadata": {
    "collapsed": false,
    "is_executing": true,
    "ExecuteTime": {
     "start_time": "2024-03-31T10:43:12.129240Z"
    }
   },
   "id": "69432c45d0d4d1b8"
  },
  {
   "cell_type": "code",
   "execution_count": 1,
   "outputs": [
    {
     "ename": "NameError",
     "evalue": "name 'results_by_dataset_and_method' is not defined",
     "output_type": "error",
     "traceback": [
      "\u001B[0;31m---------------------------------------------------------------------------\u001B[0m",
      "\u001B[0;31mNameError\u001B[0m                                 Traceback (most recent call last)",
      "Cell \u001B[0;32mIn[1], line 5\u001B[0m\n\u001B[1;32m      2\u001B[0m \u001B[38;5;28;01mimport\u001B[39;00m \u001B[38;5;21;01mjson\u001B[39;00m\n\u001B[1;32m      4\u001B[0m \u001B[38;5;28;01mwith\u001B[39;00m \u001B[38;5;28mopen\u001B[39m(\u001B[38;5;124m'\u001B[39m\u001B[38;5;124mresults.json\u001B[39m\u001B[38;5;124m'\u001B[39m, \u001B[38;5;124m'\u001B[39m\u001B[38;5;124mw\u001B[39m\u001B[38;5;124m'\u001B[39m) \u001B[38;5;28;01mas\u001B[39;00m f:\n\u001B[0;32m----> 5\u001B[0m     json\u001B[38;5;241m.\u001B[39mdump(\u001B[43mresults_by_dataset_and_method\u001B[49m, f)\n",
      "\u001B[0;31mNameError\u001B[0m: name 'results_by_dataset_and_method' is not defined"
     ]
    }
   ],
   "source": [
    "# Save results\n",
    "import json\n",
    "\n",
    "with open('results.json', 'w') as f:\n",
    "    json.dump(results_by_dataset_and_method, f)\n"
   ],
   "metadata": {
    "collapsed": false,
    "ExecuteTime": {
     "end_time": "2024-03-31T09:55:46.417265Z",
     "start_time": "2024-03-31T09:55:46.254687Z"
    }
   },
   "id": "2a57f348d5414fee"
  },
  {
   "cell_type": "code",
   "execution_count": 13,
   "outputs": [
    {
     "data": {
      "text/plain": "{}"
     },
     "execution_count": 13,
     "metadata": {},
     "output_type": "execute_result"
    }
   ],
   "source": [
    "results_by_dataset_and_method"
   ],
   "metadata": {
    "collapsed": false,
    "ExecuteTime": {
     "end_time": "2024-03-30T18:03:55.077978Z",
     "start_time": "2024-03-30T18:03:55.072578Z"
    }
   },
   "id": "b2d0d9809131fc66"
  }
 ],
 "metadata": {
  "kernelspec": {
   "display_name": "Python 3",
   "language": "python",
   "name": "python3"
  },
  "language_info": {
   "codemirror_mode": {
    "name": "ipython",
    "version": 2
   },
   "file_extension": ".py",
   "mimetype": "text/x-python",
   "name": "python",
   "nbconvert_exporter": "python",
   "pygments_lexer": "ipython2",
   "version": "2.7.6"
  }
 },
 "nbformat": 4,
 "nbformat_minor": 5
}
