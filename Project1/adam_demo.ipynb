{
 "cells": [
  {
   "cell_type": "code",
   "execution_count": 1,
   "metadata": {
    "collapsed": true
   },
   "outputs": [],
   "source": [
    "import numpy as np\n",
    "from models import ADAM\n",
    "import datasets.read as data\n",
    "import seaborn as sns\n",
    "import pandas as pd\n",
    "from matplotlib import pyplot as plt"
   ]
  },
  {
   "cell_type": "code",
   "execution_count": 2,
   "outputs": [
    {
     "name": "stderr",
     "output_type": "stream",
     "text": [
      "/home/klimek/sem8_v2/aml/aml_projects/Project1/datasets/read.py:14: FutureWarning: Downcasting behavior in `replace` is deprecated and will be removed in a future version. To retain the old behavior, explicitly call `result.infer_objects(copy=False)`. To opt-in to the future behavior, set `pd.set_option('future.no_silent_downcasting', True)`\n",
      "  df['Class'] = df['Class'].replace('Osmancik', 0)\n"
     ]
    }
   ],
   "source": [
    "X, y = data.read_Rice_Cammeo_Osmancik(\"datasets/\")"
   ],
   "metadata": {
    "collapsed": false
   }
  },
  {
   "cell_type": "code",
   "execution_count": 3,
   "outputs": [
    {
     "data": {
      "text/plain": "(3810, 7)"
     },
     "execution_count": 3,
     "metadata": {},
     "output_type": "execute_result"
    }
   ],
   "source": [
    "X.shape"
   ],
   "metadata": {
    "collapsed": false
   }
  },
  {
   "cell_type": "code",
   "execution_count": 4,
   "outputs": [
    {
     "data": {
      "text/plain": "0"
     },
     "execution_count": 4,
     "metadata": {},
     "output_type": "execute_result"
    }
   ],
   "source": [
    "np.isnan(X).sum()"
   ],
   "metadata": {
    "collapsed": false
   }
  },
  {
   "cell_type": "code",
   "execution_count": 5,
   "outputs": [
    {
     "data": {
      "text/plain": "array([[1.52310000e+04, 5.25578979e+02, 2.29749878e+02, 8.50937881e+01,\n        9.28882003e-01, 1.56170000e+04, 5.72895527e-01],\n       [1.46560000e+04, 4.94311005e+02, 2.06020065e+02, 9.17309723e+01,\n        8.95404994e-01, 1.50720000e+04, 6.15436316e-01],\n       [1.46340000e+04, 5.01122009e+02, 2.14106781e+02, 8.77682877e+01,\n        9.12118077e-01, 1.49540000e+04, 6.93258822e-01],\n       [1.31760000e+04, 4.58342987e+02, 1.93337387e+02, 8.74483948e+01,\n        8.91860902e-01, 1.33680000e+04, 6.40669048e-01],\n       [1.46880000e+04, 5.07166992e+02, 2.11743378e+02, 8.93124542e+01,\n        9.06690896e-01, 1.52620000e+04, 6.46023929e-01]])"
     },
     "execution_count": 5,
     "metadata": {},
     "output_type": "execute_result"
    }
   ],
   "source": [
    "X[:5,:]"
   ],
   "metadata": {
    "collapsed": false
   }
  },
  {
   "cell_type": "code",
   "execution_count": 6,
   "outputs": [
    {
     "data": {
      "text/plain": "(3810,)"
     },
     "execution_count": 6,
     "metadata": {},
     "output_type": "execute_result"
    }
   ],
   "source": [
    "y.shape"
   ],
   "metadata": {
    "collapsed": false
   }
  },
  {
   "cell_type": "code",
   "execution_count": 7,
   "outputs": [
    {
     "data": {
      "text/plain": "0"
     },
     "execution_count": 7,
     "metadata": {},
     "output_type": "execute_result"
    }
   ],
   "source": [
    "np.isnan(y).sum()"
   ],
   "metadata": {
    "collapsed": false
   }
  },
  {
   "cell_type": "code",
   "execution_count": 8,
   "outputs": [
    {
     "data": {
      "text/plain": "array([1, 1, 1, 1, 1])"
     },
     "execution_count": 8,
     "metadata": {},
     "output_type": "execute_result"
    }
   ],
   "source": [
    "y[:5]"
   ],
   "metadata": {
    "collapsed": false
   }
  },
  {
   "cell_type": "markdown",
   "source": [
    "## ADAM test"
   ],
   "metadata": {
    "collapsed": false
   }
  },
  {
   "cell_type": "code",
   "execution_count": 9,
   "outputs": [
    {
     "name": "stdout",
     "output_type": "stream",
     "text": [
      "Debug: 0.3511005323365522\n",
      "Debug: 0.28368721965069366\n",
      "Debug: 0.27345655543969993\n",
      "Debug: 0.26314948470780664\n",
      "Debug: 0.2597654425261329\n",
      "Debug: 0.26583534593894775\n",
      "Debug: 0.27568820989068143\n",
      "Debug: 0.26270089557457155\n",
      "Debug: 0.26569327859394676\n",
      "Debug: 0.2659510495315871\n",
      "Debug: 0.26299499498255585\n",
      "Debug: 0.26473438445664854\n",
      "Debug: 0.2460101937763497\n",
      "Debug: 0.2690311378669463\n",
      "Debug: 0.2729670369595283\n",
      "Debug: 0.25632948376657083\n",
      "Debug: 0.265727767300433\n",
      "Debug: 0.26850894920900714\n",
      "Debug: 0.2606446490735692\n",
      "Debug: 0.26485805473623003\n",
      "Debug: 0.2434706183969979\n",
      "Debug: 0.25914260527464705\n",
      "Debug: 0.2556480291225043\n",
      "Debug: 0.26629635165076593\n",
      "Debug: 0.2598049165757317\n",
      "Debug: 0.25122680647264417\n",
      "Debug: 0.25210187801955897\n",
      "Debug: 0.2732712461160389\n",
      "Debug: 0.26801290891825147\n",
      "Debug: 0.26505330338896727\n",
      "Debug: 0.2533559132550067\n",
      "Debug: 0.2592032061166094\n",
      "Debug: 0.27617404907657317\n",
      "Debug: 0.2632711311642879\n",
      "Debug: 0.24950550876802424\n",
      "Debug: 0.25796117927930595\n",
      "Debug: 0.26585630511804936\n",
      "Debug: 0.25432901162761823\n",
      "Debug: 0.2947504538487635\n",
      "Debug: 0.26292364798125334\n",
      "Debug: 0.23683152526595563\n",
      "Debug: 0.25849120939555803\n",
      "Debug: 0.2500470151913987\n",
      "Debug: 0.268607412643064\n",
      "Debug: 0.25873832151296483\n",
      "Debug: 0.27644445515824145\n",
      "Debug: 0.28453240951306213\n",
      "Debug: 0.26787672924875494\n",
      "Debug: 0.26023243781165206\n",
      "Debug: 0.2569161392121373\n"
     ]
    },
    {
     "data": {
      "text/plain": "array([-131.23591098,    0.74176932,  -43.50655857,  -19.57357893,\n       -111.69306883, -106.49098107,    2.2754899 , -132.31600276,\n         -0.70020024])"
     },
     "execution_count": 9,
     "metadata": {},
     "output_type": "execute_result"
    }
   ],
   "source": [
    "m = ADAM(iter_limit=500)\n",
    "m.fit(X, y, interactions=[(0, 6)])\n",
    "m.get_params()['coefficients']"
   ],
   "metadata": {
    "collapsed": false
   }
  },
  {
   "cell_type": "code",
   "execution_count": 10,
   "outputs": [
    {
     "data": {
      "text/plain": "<Axes: title={'center': 'Class = 1'}, ylabel='Count'>"
     },
     "execution_count": 10,
     "metadata": {},
     "output_type": "execute_result"
    },
    {
     "data": {
      "text/plain": "<Figure size 640x480 with 2 Axes>",
      "image/png": "[encoded data removed]"
     },
     "metadata": {},
     "output_type": "display_data"
    }
   ],
   "source": [
    "y0 = y==0\n",
    "y1 = y==1\n",
    "\n",
    "p0 = m.predict_proba(X[y0])\n",
    "p1 = m.predict_proba(X[y1])\n",
    "\n",
    "fig, ax = plt.subplots(1, 2)\n",
    "ax[0].set_title('Class = 0')\n",
    "sns.histplot(x=p0, ax=ax[0], binwidth=0.025)\n",
    "ax[1].set_title('Class = 1')\n",
    "sns.histplot(x=p1, ax=ax[1], binwidth=0.025)"
   ],
   "metadata": {
    "collapsed": false
   }
  },
  {
   "cell_type": "code",
   "execution_count": 11,
   "outputs": [
    {
     "data": {
      "text/plain": "0.8616797900262467"
     },
     "execution_count": 11,
     "metadata": {},
     "output_type": "execute_result"
    }
   ],
   "source": [
    "y_pred = m.predict(X)\n",
    "1 - np.abs(y_pred - y).mean()"
   ],
   "metadata": {
    "collapsed": false
   }
  },
  {
   "cell_type": "code",
   "execution_count": 12,
   "outputs": [
    {
     "data": {
      "text/plain": "array([-131.23591098,    0.74176932,  -43.50655857,  -19.57357893,\n       -111.69306883, -106.49098107,    2.2754899 , -132.31600276,\n         -0.70020024])"
     },
     "execution_count": 12,
     "metadata": {},
     "output_type": "execute_result"
    },
    {
     "data": {
      "text/plain": "<Figure size 640x480 with 1 Axes>",
      "image/png": "[encoded data removed]"
     },
     "metadata": {},
     "output_type": "display_data"
    }
   ],
   "source": [
    "yyy = m.predict_proba(X)\n",
    "df = pd.DataFrame.from_dict({'prob': yyy, 'color': y})\n",
    "sns.boxplot(data=df, x='color', y='prob')\n",
    "\n",
    "(yyy[y1] > 0.99).mean()\n",
    "perfect_coefs = m.get_params()['coefficients']\n",
    "perfect_coefs"
   ],
   "metadata": {
    "collapsed": false
   }
  },
  {
   "cell_type": "code",
   "execution_count": 13,
   "outputs": [
    {
     "ename": "KeyError",
     "evalue": "'weights'",
     "output_type": "error",
     "traceback": [
      "\u001B[0;31m---------------------------------------------------------------------------\u001B[0m",
      "\u001B[0;31mKeyError\u001B[0m                                  Traceback (most recent call last)",
      "Cell \u001B[0;32mIn[13], line 1\u001B[0m\n\u001B[0;32m----> 1\u001B[0m np\u001B[38;5;241m.\u001B[39mall(\u001B[43mm\u001B[49m\u001B[38;5;241;43m.\u001B[39;49m\u001B[43mget_params\u001B[49m\u001B[43m(\u001B[49m\u001B[43m)\u001B[49m\u001B[43m[\u001B[49m\u001B[38;5;124;43m'\u001B[39;49m\u001B[38;5;124;43mweights\u001B[39;49m\u001B[38;5;124;43m'\u001B[39;49m\u001B[43m]\u001B[49m \u001B[38;5;241m==\u001B[39m np\u001B[38;5;241m.\u001B[39mdiag(np\u001B[38;5;241m.\u001B[39mones(X\u001B[38;5;241m.\u001B[39mshape[\u001B[38;5;241m0\u001B[39m])))\n",
      "\u001B[0;31mKeyError\u001B[0m: 'weights'"
     ]
    }
   ],
   "source": [
    "np.all(m.get_params()['weights'] == np.diag(np.ones(X.shape[0])))"
   ],
   "metadata": {
    "collapsed": false
   }
  },
  {
   "cell_type": "code",
   "execution_count": null,
   "outputs": [],
   "source": [
    "m.get_params()"
   ],
   "metadata": {
    "collapsed": false
   }
  }
 ],
 "metadata": {
  "kernelspec": {
   "display_name": "Python 3",
   "language": "python",
   "name": "python3"
  },
  "language_info": {
   "codemirror_mode": {
    "name": "ipython",
    "version": 2
   },
   "file_extension": ".py",
   "mimetype": "text/x-python",
   "name": "python",
   "nbconvert_exporter": "python",
   "pygments_lexer": "ipython2",
   "version": "2.7.6"
  }
 },
 "nbformat": 4,
 "nbformat_minor": 0
}
