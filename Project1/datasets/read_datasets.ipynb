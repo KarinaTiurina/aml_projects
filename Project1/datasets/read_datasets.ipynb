{
 "cells": [
  {
   "cell_type": "markdown",
   "metadata": {},
   "source": [
    "# Task 1. Datasets"
   ]
  },
  {
   "cell_type": "code",
   "execution_count": 2,
   "outputs": [],
   "source": [
    "%load_ext autoreload\n",
    "%autoreload 2"
   ],
   "metadata": {
    "collapsed": false,
    "ExecuteTime": {
     "end_time": "2024-03-09T16:46:41.930695Z",
     "start_time": "2024-03-09T16:46:41.898065Z"
    }
   }
  },
  {
   "cell_type": "code",
   "execution_count": 31,
   "outputs": [],
   "source": [
    "import numpy as np\n",
    "import pandas as pd\n",
    "from read import *"
   ],
   "metadata": {
    "collapsed": false,
    "ExecuteTime": {
     "end_time": "2024-03-09T16:53:51.514592Z",
     "start_time": "2024-03-09T16:53:51.485287Z"
    }
   }
  },
  {
   "cell_type": "markdown",
   "metadata": {},
   "source": [
    "## 1. Rice (Cammeo and Osmancik)\n",
    "Small dataset with 7 features and binary target variable. 3810 instances\n",
    "https://archive.ics.uci.edu/dataset/545/rice+cammeo+and+osmancik"
   ]
  },
  {
   "cell_type": "code",
   "execution_count": null,
   "metadata": {},
   "outputs": [],
   "source": [
    "X, y = read_Rice_Cammeo_Osmancik()\n",
    "print(f'Number of rows: {X.shape[0]}')\n",
    "print(f'Number of features: {X.shape[1]}')\n",
    "print(f'Classes: {np.unique(y)}')"
   ]
  },
  {
   "cell_type": "markdown",
   "metadata": {},
   "source": [
    "## 2. Online Shoppers Purchasing Intention Dataset\n",
    "\n",
    "Large dataset with 17 features.\n",
    "\n",
    "https://archive.ics.uci.edu/dataset/468/online+shoppers+purchasing+intention+dataset"
   ]
  },
  {
   "cell_type": "code",
   "execution_count": null,
   "metadata": {},
   "outputs": [],
   "source": [
    "X, y = read_Online_Shoppers_intention()\n",
    "print(f'Number of rows: {X.shape[0]}')\n",
    "print(f'Number of features: {X.shape[1]}')\n",
    "print(f'Classes: {np.unique(y)}')"
   ]
  },
  {
   "cell_type": "markdown",
   "metadata": {},
   "source": [
    "## 3. Multiple Disease Prediction\n",
    "\n",
    "Large dataset with 24 features. 5 classes are transormed to binary target: 0 - Healthy, 1 - Disease\n",
    "\n",
    "https://www.kaggle.com/datasets/ehababoelnaga/multiple-disease-prediction?select=Blood_samples_dataset_balanced_2%28f%29.csv"
   ]
  },
  {
   "cell_type": "code",
   "execution_count": null,
   "metadata": {},
   "outputs": [],
   "source": [
    "X, y = read_Multiple_Disease_Prediction()\n",
    "print(f'Number of rows: {X.shape[0]}')\n",
    "print(f'Number of features: {X.shape[1]}')\n",
    "print(f'Classes: {np.unique(y)}')"
   ]
  },
  {
   "cell_type": "markdown",
   "metadata": {},
   "source": [
    "## 4. Web Page Phishing\n",
    "\n",
    "Large dataset with 19 features. 2 classes: 1 - phishing, 0 - legitimate. \n",
    "Over 100k of rows.\n",
    "\n",
    "https://www.kaggle.com/datasets/danielfernandon/web-page-phishing-dataset"
   ]
  },
  {
   "cell_type": "code",
   "execution_count": null,
   "metadata": {},
   "outputs": [],
   "source": [
    "X, y = read_Web_Page_Phishing()\n",
    "print(f'Number of rows: {X.shape[0]}')\n",
    "print(f'Number of features: {X.shape[1]}')\n",
    "print(f'Classes: {np.unique(y)}')"
   ]
  },
  {
   "cell_type": "markdown",
   "metadata": {},
   "source": [
    "## 5. Dataset for Link Phishing\n",
    "\n",
    "84 features. 2 classes: 1 - phishing; 0 - legitimate\n",
    "\n",
    "https://www.kaggle.com/datasets/winson13/dataset-for-link-phishing-detection"
   ]
  },
  {
   "cell_type": "code",
   "execution_count": null,
   "metadata": {},
   "outputs": [],
   "source": [
    "X, y = read_Dataset_for_Link_Phishing()\n",
    "print(f'Number of rows: {X.shape[0]}')\n",
    "print(f'Number of features: {X.shape[1]}')\n",
    "print(f'Classes: {np.unique(y)}')"
   ]
  },
  {
   "cell_type": "markdown",
   "source": [
    "# 6. Statlog (Shuttle)\n",
    "\n",
    "Large dataset with 7 features and 7 classes.\n",
    "Approximately 80% of the data belongs to class 1. Therefore the default accuracy is about 80%. The aim here is to obtain an accuracy of 99 - 99.9%.\n",
    "We will move all classes to binary target variable: 1 - class 1, 0 - other classes."
   ],
   "metadata": {
    "collapsed": false
   }
  },
  {
   "cell_type": "code",
   "execution_count": 29,
   "outputs": [
    {
     "name": "stdout",
     "output_type": "stream",
     "text": [
      "Number of rows: 58000\n",
      "Number of features: 6\n",
      "Classes: [0 1]\n"
     ]
    }
   ],
   "source": [
    "X, y = read_Statlog_Shuttle()\n",
    "print(f'Number of rows: {X.shape[0]}')\n",
    "print(f'Number of features: {X.shape[1]}')\n",
    "print(f'Classes: {np.unique(y)}')"
   ],
   "metadata": {
    "collapsed": false,
    "ExecuteTime": {
     "end_time": "2024-03-09T16:53:22.282365Z",
     "start_time": "2024-03-09T16:53:22.197219Z"
    }
   }
  },
  {
   "cell_type": "markdown",
   "source": [
    "# 7. Banknote Authentication\n",
    "\n",
    "4 features. 2 classes: 1 - authentic, 0 - fake"
   ],
   "metadata": {
    "collapsed": false
   }
  },
  {
   "cell_type": "code",
   "execution_count": 32,
   "outputs": [
    {
     "name": "stdout",
     "output_type": "stream",
     "text": [
      "Number of rows: 1372\n",
      "Number of features: 4\n",
      "Classes: [0 1]\n"
     ]
    }
   ],
   "source": [
    "X, y = read_Banknote_Authentication()\n",
    "\n",
    "print(f'Number of rows: {X.shape[0]}')\n",
    "print(f'Number of features: {X.shape[1]}')\n",
    "print(f'Classes: {np.unique(y)}')"
   ],
   "metadata": {
    "collapsed": false,
    "ExecuteTime": {
     "end_time": "2024-03-09T16:53:53.999280Z",
     "start_time": "2024-03-09T16:53:53.947252Z"
    }
   }
  },
  {
   "cell_type": "markdown",
   "source": [],
   "metadata": {
    "collapsed": false
   }
  }
 ],
 "metadata": {
  "kernelspec": {
   "display_name": "tensorflow",
   "language": "python",
   "name": "python3"
  },
  "language_info": {
   "codemirror_mode": {
    "name": "ipython",
    "version": 3
   },
   "file_extension": ".py",
   "mimetype": "text/x-python",
   "name": "python",
   "nbconvert_exporter": "python",
   "pygments_lexer": "ipython3",
   "version": "3.11.5"
  }
 },
 "nbformat": 4,
 "nbformat_minor": 2
}
