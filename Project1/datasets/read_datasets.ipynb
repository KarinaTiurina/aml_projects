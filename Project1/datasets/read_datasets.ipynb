{
 "cells": [
  {
   "cell_type": "markdown",
   "metadata": {},
   "source": [
    "# Task 1. Datasets"
   ]
  },
  {
   "cell_type": "code",
   "execution_count": 11,
   "metadata": {},
   "outputs": [],
   "source": [
    "import numpy as np\n",
    "from read import (read_Rice_Cammeo_Osmancik, read_Online_Shoppers_intention)"
   ]
  },
  {
   "cell_type": "markdown",
   "metadata": {},
   "source": [
    "## 1. Rice (Cammeo and Osmancik)\n",
    "Small dataset with 7 features and binary target variable. 3810 instances\n",
    "https://archive.ics.uci.edu/dataset/545/rice+cammeo+and+osmancik"
   ]
  },
  {
   "cell_type": "code",
   "execution_count": 13,
   "metadata": {},
   "outputs": [
    {
     "name": "stdout",
     "output_type": "stream",
     "text": [
      "Number of rows: 3810\n",
      "Number of features: 7\n",
      "Classes: [0 1]\n"
     ]
    }
   ],
   "source": [
    "filepath = 'data/rice+cammeo+and+osmancik/Rice_Cammeo_Osmancik.arff'\n",
    "X, y = read_Rice_Cammeo_Osmancik(filepath)\n",
    "print(f'Number of rows: {X.shape[0]}')\n",
    "print(f'Number of features: {X.shape[1]}')\n",
    "print(f'Classes: {np.unique(y)}')"
   ]
  },
  {
   "cell_type": "markdown",
   "metadata": {},
   "source": [
    "## 2. Online Shoppers Purchasing Intention Dataset\n",
    "\n",
    "Large dataset with 17 features.\n",
    "\n",
    "https://archive.ics.uci.edu/dataset/468/online+shoppers+purchasing+intention+dataset"
   ]
  },
  {
   "cell_type": "code",
   "execution_count": 14,
   "metadata": {},
   "outputs": [
    {
     "name": "stdout",
     "output_type": "stream",
     "text": [
      "Number of rows: 12330\n",
      "Number of features: 17\n",
      "Classes: [0 1]\n"
     ]
    }
   ],
   "source": [
    "filepath = 'data/online+shoppers+purchasing+intention+dataset/online_shoppers_intention.csv'\n",
    "X, y = read_Online_Shoppers_intention(filepath)\n",
    "print(f'Number of rows: {X.shape[0]}')\n",
    "print(f'Number of features: {X.shape[1]}')\n",
    "print(f'Classes: {np.unique(y)}')"
   ]
  }
 ],
 "metadata": {
  "kernelspec": {
   "display_name": "tensorflow",
   "language": "python",
   "name": "python3"
  },
  "language_info": {
   "codemirror_mode": {
    "name": "ipython",
    "version": 3
   },
   "file_extension": ".py",
   "mimetype": "text/x-python",
   "name": "python",
   "nbconvert_exporter": "python",
   "pygments_lexer": "ipython3",
   "version": "3.11.5"
  }
 },
 "nbformat": 4,
 "nbformat_minor": 2
}
