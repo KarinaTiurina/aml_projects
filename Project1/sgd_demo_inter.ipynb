{
 "cells": [
  {
   "cell_type": "code",
   "execution_count": 2,
   "metadata": {
    "collapsed": true
   },
   "outputs": [],
   "source": [
    "import numpy as np\n",
    "from models import SGD\n",
    "import datasets.read as data\n",
    "import seaborn as sns\n",
    "import pandas as pd\n",
    "from matplotlib import pyplot as plt"
   ]
  },
  {
   "cell_type": "code",
   "execution_count": 20,
   "outputs": [
    {
     "name": "stderr",
     "output_type": "stream",
     "text": [
      "/home/klimek/sem8_v2/aml/aml_projects/Project1/datasets/read.py:14: FutureWarning: Downcasting behavior in `replace` is deprecated and will be removed in a future version. To retain the old behavior, explicitly call `result.infer_objects(copy=False)`. To opt-in to the future behavior, set `pd.set_option('future.no_silent_downcasting', True)`\n",
      "  df['Class'] = df['Class'].replace('Osmancik', 0)\n"
     ]
    },
    {
     "data": {
      "text/plain": "array([[1.52310000e+04, 5.25578979e+02, 2.29749878e+02, 8.50937881e+01,\n        9.28882003e-01, 1.56170000e+04, 5.72895527e-01],\n       [1.46560000e+04, 4.94311005e+02, 2.06020065e+02, 9.17309723e+01,\n        8.95404994e-01, 1.50720000e+04, 6.15436316e-01],\n       [1.46340000e+04, 5.01122009e+02, 2.14106781e+02, 8.77682877e+01,\n        9.12118077e-01, 1.49540000e+04, 6.93258822e-01],\n       [1.31760000e+04, 4.58342987e+02, 1.93337387e+02, 8.74483948e+01,\n        8.91860902e-01, 1.33680000e+04, 6.40669048e-01],\n       [1.46880000e+04, 5.07166992e+02, 2.11743378e+02, 8.93124542e+01,\n        9.06690896e-01, 1.52620000e+04, 6.46023929e-01]])"
     },
     "execution_count": 20,
     "metadata": {},
     "output_type": "execute_result"
    }
   ],
   "source": [
    "X, y = data.read_Rice_Cammeo_Osmancik(\"datasets/\")\n",
    "X[:5,:]"
   ],
   "metadata": {
    "collapsed": false
   }
  },
  {
   "cell_type": "code",
   "execution_count": 5,
   "outputs": [
    {
     "data": {
      "text/plain": "          0         1         2         3         4         5         6\n0  1.000000  0.966453  0.903015  0.787840  0.352095  0.998939 -0.061184\n1  0.966453  1.000000  0.971884  0.629828  0.544601  0.969937 -0.130923\n2  0.903015  0.971884  1.000000  0.452092  0.710897  0.903381 -0.139562\n3  0.787840  0.629828  0.452092  1.000000 -0.291683  0.787318  0.063366\n4  0.352095  0.544601  0.710897 -0.291683  1.000000  0.352716 -0.198580\n5  0.998939  0.969937  0.903381  0.787318  0.352716  1.000000 -0.065826\n6 -0.061184 -0.130923 -0.139562  0.063366 -0.198580 -0.065826  1.000000",
      "text/html": "<div>\n<style scoped>\n    .dataframe tbody tr th:only-of-type {\n        vertical-align: middle;\n    }\n\n    .dataframe tbody tr th {\n        vertical-align: top;\n    }\n\n    .dataframe thead th {\n        text-align: right;\n    }\n</style>\n<table border=\"1\" class=\"dataframe\">\n  <thead>\n    <tr style=\"text-align: right;\">\n      <th></th>\n      <th>0</th>\n      <th>1</th>\n      <th>2</th>\n      <th>3</th>\n      <th>4</th>\n      <th>5</th>\n      <th>6</th>\n    </tr>\n  </thead>\n  <tbody>\n    <tr>\n      <th>0</th>\n      <td>1.000000</td>\n      <td>0.966453</td>\n      <td>0.903015</td>\n      <td>0.787840</td>\n      <td>0.352095</td>\n      <td>0.998939</td>\n      <td>-0.061184</td>\n    </tr>\n    <tr>\n      <th>1</th>\n      <td>0.966453</td>\n      <td>1.000000</td>\n      <td>0.971884</td>\n      <td>0.629828</td>\n      <td>0.544601</td>\n      <td>0.969937</td>\n      <td>-0.130923</td>\n    </tr>\n    <tr>\n      <th>2</th>\n      <td>0.903015</td>\n      <td>0.971884</td>\n      <td>1.000000</td>\n      <td>0.452092</td>\n      <td>0.710897</td>\n      <td>0.903381</td>\n      <td>-0.139562</td>\n    </tr>\n    <tr>\n      <th>3</th>\n      <td>0.787840</td>\n      <td>0.629828</td>\n      <td>0.452092</td>\n      <td>1.000000</td>\n      <td>-0.291683</td>\n      <td>0.787318</td>\n      <td>0.063366</td>\n    </tr>\n    <tr>\n      <th>4</th>\n      <td>0.352095</td>\n      <td>0.544601</td>\n      <td>0.710897</td>\n      <td>-0.291683</td>\n      <td>1.000000</td>\n      <td>0.352716</td>\n      <td>-0.198580</td>\n    </tr>\n    <tr>\n      <th>5</th>\n      <td>0.998939</td>\n      <td>0.969937</td>\n      <td>0.903381</td>\n      <td>0.787318</td>\n      <td>0.352716</td>\n      <td>1.000000</td>\n      <td>-0.065826</td>\n    </tr>\n    <tr>\n      <th>6</th>\n      <td>-0.061184</td>\n      <td>-0.130923</td>\n      <td>-0.139562</td>\n      <td>0.063366</td>\n      <td>-0.198580</td>\n      <td>-0.065826</td>\n      <td>1.000000</td>\n    </tr>\n  </tbody>\n</table>\n</div>"
     },
     "execution_count": 5,
     "metadata": {},
     "output_type": "execute_result"
    }
   ],
   "source": [
    "df = pd.DataFrame(X)\n",
    "df.corr()"
   ],
   "metadata": {
    "collapsed": false
   }
  },
  {
   "cell_type": "code",
   "execution_count": 11,
   "outputs": [
    {
     "data": {
      "text/plain": "          0         1         2         3\n0  1.000000  0.787840  0.352095 -0.061184\n1  0.787840  1.000000 -0.291683  0.063366\n2  0.352095 -0.291683  1.000000 -0.198580\n3 -0.061184  0.063366 -0.198580  1.000000",
      "text/html": "<div>\n<style scoped>\n    .dataframe tbody tr th:only-of-type {\n        vertical-align: middle;\n    }\n\n    .dataframe tbody tr th {\n        vertical-align: top;\n    }\n\n    .dataframe thead th {\n        text-align: right;\n    }\n</style>\n<table border=\"1\" class=\"dataframe\">\n  <thead>\n    <tr style=\"text-align: right;\">\n      <th></th>\n      <th>0</th>\n      <th>1</th>\n      <th>2</th>\n      <th>3</th>\n    </tr>\n  </thead>\n  <tbody>\n    <tr>\n      <th>0</th>\n      <td>1.000000</td>\n      <td>0.787840</td>\n      <td>0.352095</td>\n      <td>-0.061184</td>\n    </tr>\n    <tr>\n      <th>1</th>\n      <td>0.787840</td>\n      <td>1.000000</td>\n      <td>-0.291683</td>\n      <td>0.063366</td>\n    </tr>\n    <tr>\n      <th>2</th>\n      <td>0.352095</td>\n      <td>-0.291683</td>\n      <td>1.000000</td>\n      <td>-0.198580</td>\n    </tr>\n    <tr>\n      <th>3</th>\n      <td>-0.061184</td>\n      <td>0.063366</td>\n      <td>-0.198580</td>\n      <td>1.000000</td>\n    </tr>\n  </tbody>\n</table>\n</div>"
     },
     "execution_count": 11,
     "metadata": {},
     "output_type": "execute_result"
    }
   ],
   "source": [
    "X = X[:, [0, 3, 4, 6]]\n",
    "df = pd.DataFrame(X)\n",
    "df.corr()"
   ],
   "metadata": {
    "collapsed": false
   }
  },
  {
   "cell_type": "markdown",
   "source": [
    "## SGD test"
   ],
   "metadata": {
    "collapsed": false
   }
  },
  {
   "cell_type": "code",
   "execution_count": 21,
   "outputs": [
    {
     "name": "stdout",
     "output_type": "stream",
     "text": [
      "Debug: 0.3315026777146888\n",
      "Debug: 0.33096557209412625\n",
      "Debug: 0.3760195720601893\n",
      "Debug: 0.31618979340386133\n",
      "Debug: 0.3205918603008495\n",
      "Debug: 0.47325114649430056\n",
      "Debug: 0.3078919611058666\n",
      "Debug: 0.45118426509122145\n",
      "Debug: 0.3086423752620142\n",
      "Debug: 0.2910417330311468\n",
      "Debug: 0.2902030452554989\n",
      "Debug: 0.2787881665554153\n",
      "Debug: 0.5045489763174302\n",
      "Debug: 0.27409650266523755\n",
      "Debug: 0.2768021936097256\n",
      "Debug: 0.3253867069592644\n",
      "Debug: 0.2643714831637496\n",
      "Debug: 0.26591724371056813\n",
      "Debug: 0.2565989328978304\n",
      "Debug: 0.24994591461054938\n",
      "Debug: 0.5257258306532151\n",
      "Debug: 0.2487991615843299\n",
      "Debug: 0.24636384766731823\n",
      "Debug: 0.25000390482779267\n",
      "Debug: 0.25196578408625214\n",
      "Debug: 0.3815754625883123\n",
      "Debug: 0.2437612488913743\n",
      "Debug: 0.2373004167746302\n",
      "Debug: 0.234583161280284\n",
      "Debug: 0.23124415980613833\n",
      "Debug: 0.22878246878558173\n",
      "Debug: 0.22633911592771483\n",
      "Debug: 0.23205171603061103\n",
      "Debug: 0.23123870448000616\n",
      "Debug: 0.3043881783867164\n",
      "Debug: 0.2604700264520403\n",
      "Debug: 0.22288483166146023\n",
      "Debug: 0.3548916205403678\n",
      "Debug: 0.34694373437101333\n",
      "Debug: 0.22522915687491718\n",
      "Debug: 0.21208161546454107\n",
      "Debug: 0.3325182117967955\n",
      "Debug: 0.2748254369091967\n",
      "Debug: 0.2109933046983059\n",
      "Debug: 0.3486749192448855\n",
      "Debug: 0.21622257281882185\n",
      "Debug: 0.21577694650004275\n",
      "Debug: 0.2389034817401381\n",
      "Debug: 0.21230385990371303\n",
      "Debug: 0.21317701003401623\n"
     ]
    },
    {
     "data": {
      "text/plain": "array([  -0.76322972,    0.99329087, -126.27329076,  -30.05393   ,\n        -52.72684038,   -0.57014931,   50.06958583,   -0.58514438,\n        -36.45403721])"
     },
     "execution_count": 21,
     "metadata": {},
     "output_type": "execute_result"
    }
   ],
   "source": [
    "m = SGD(iter_limit=500, rate=1E-5)\n",
    "m.fit(X, y, interactions=[(2,3)])\n",
    "m.get_params()['coefficients']"
   ],
   "metadata": {
    "collapsed": false
   }
  },
  {
   "cell_type": "code",
   "execution_count": 22,
   "outputs": [
    {
     "data": {
      "text/plain": "<Axes: title={'center': 'Class = 1'}, ylabel='Count'>"
     },
     "execution_count": 22,
     "metadata": {},
     "output_type": "execute_result"
    },
    {
     "data": {
      "text/plain": "<Figure size 640x480 with 2 Axes>",
      "image/png": "[encoded data removed]"
     },
     "metadata": {},
     "output_type": "display_data"
    }
   ],
   "source": [
    "y0 = y==0\n",
    "y1 = y==1\n",
    "\n",
    "p0 = m.predict_proba(X[y0])\n",
    "p1 = m.predict_proba(X[y1])\n",
    "\n",
    "fig, ax = plt.subplots(1, 2)\n",
    "ax[0].set_title('Class = 0')\n",
    "sns.histplot(x=p0, ax=ax[0], binwidth=0.025)\n",
    "ax[1].set_title('Class = 1')\n",
    "sns.histplot(x=p1, ax=ax[1], binwidth=0.025)"
   ],
   "metadata": {
    "collapsed": false
   }
  },
  {
   "cell_type": "code",
   "execution_count": 23,
   "outputs": [
    {
     "data": {
      "text/plain": "0.8094488188976378"
     },
     "execution_count": 23,
     "metadata": {},
     "output_type": "execute_result"
    }
   ],
   "source": [
    "y_pred = m.predict(X)\n",
    "1 - np.abs(y_pred - y).mean()"
   ],
   "metadata": {
    "collapsed": false
   }
  },
  {
   "cell_type": "code",
   "execution_count": 24,
   "outputs": [
    {
     "data": {
      "text/plain": "array([  -0.76322972,    0.99329087, -126.27329076,  -30.05393   ,\n        -52.72684038,   -0.57014931,   50.06958583,   -0.58514438,\n        -36.45403721])"
     },
     "execution_count": 24,
     "metadata": {},
     "output_type": "execute_result"
    },
    {
     "data": {
      "text/plain": "<Figure size 640x480 with 1 Axes>",
      "image/png": "[encoded data removed]"
     },
     "metadata": {},
     "output_type": "display_data"
    }
   ],
   "source": [
    "yyy = m.predict_proba(X)\n",
    "df = pd.DataFrame.from_dict({'prob': yyy, 'color': y})\n",
    "sns.boxplot(data=df, x='color', y='prob')\n",
    "\n",
    "(yyy[y1] > 0.99).mean()\n",
    "perfect_coefs = m.get_params()['coefficients']\n",
    "perfect_coefs"
   ],
   "metadata": {
    "collapsed": false
   }
  },
  {
   "cell_type": "code",
   "execution_count": 10,
   "outputs": [
    {
     "ename": "KeyError",
     "evalue": "'weights'",
     "output_type": "error",
     "traceback": [
      "\u001B[0;31m---------------------------------------------------------------------------\u001B[0m",
      "\u001B[0;31mKeyError\u001B[0m                                  Traceback (most recent call last)",
      "Cell \u001B[0;32mIn[10], line 1\u001B[0m\n\u001B[0;32m----> 1\u001B[0m np\u001B[38;5;241m.\u001B[39mall(\u001B[43mm\u001B[49m\u001B[38;5;241;43m.\u001B[39;49m\u001B[43mget_params\u001B[49m\u001B[43m(\u001B[49m\u001B[43m)\u001B[49m\u001B[43m[\u001B[49m\u001B[38;5;124;43m'\u001B[39;49m\u001B[38;5;124;43mweights\u001B[39;49m\u001B[38;5;124;43m'\u001B[39;49m\u001B[43m]\u001B[49m \u001B[38;5;241m==\u001B[39m np\u001B[38;5;241m.\u001B[39mdiag(np\u001B[38;5;241m.\u001B[39mones(X\u001B[38;5;241m.\u001B[39mshape[\u001B[38;5;241m0\u001B[39m])))\n",
      "\u001B[0;31mKeyError\u001B[0m: 'weights'"
     ]
    }
   ],
   "source": [
    "np.all(m.get_params()['weights'] == np.diag(np.ones(X.shape[0])))"
   ],
   "metadata": {
    "collapsed": false
   }
  },
  {
   "cell_type": "code",
   "execution_count": null,
   "outputs": [],
   "source": [
    "m.get_params()"
   ],
   "metadata": {
    "collapsed": false
   }
  }
 ],
 "metadata": {
  "kernelspec": {
   "display_name": "Python 3",
   "language": "python",
   "name": "python3"
  },
  "language_info": {
   "codemirror_mode": {
    "name": "ipython",
    "version": 2
   },
   "file_extension": ".py",
   "mimetype": "text/x-python",
   "name": "python",
   "nbconvert_exporter": "python",
   "pygments_lexer": "ipython2",
   "version": "2.7.6"
  }
 },
 "nbformat": 4,
 "nbformat_minor": 0
}
