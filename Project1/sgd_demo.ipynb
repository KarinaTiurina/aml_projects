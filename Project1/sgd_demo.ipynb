{
 "cells": [
  {
   "cell_type": "code",
   "execution_count": 1,
   "metadata": {
    "collapsed": true
   },
   "outputs": [],
   "source": [
    "import numpy as np\n",
    "from models import SGD\n",
    "import datasets.read as data\n",
    "import seaborn as sns\n",
    "import pandas as pd\n",
    "from matplotlib import pyplot as plt"
   ]
  },
  {
   "cell_type": "code",
   "execution_count": 2,
   "outputs": [
    {
     "name": "stderr",
     "output_type": "stream",
     "text": [
      "/home/klimek/sem8_v2/aml/aml_projects/Project1/datasets/read.py:14: FutureWarning: Downcasting behavior in `replace` is deprecated and will be removed in a future version. To retain the old behavior, explicitly call `result.infer_objects(copy=False)`. To opt-in to the future behavior, set `pd.set_option('future.no_silent_downcasting', True)`\n",
      "  df['Class'] = df['Class'].replace('Osmancik', 0)\n"
     ]
    }
   ],
   "source": [
    "X, y = data.read_Rice_Cammeo_Osmancik(\"datasets/\")"
   ],
   "metadata": {
    "collapsed": false
   }
  },
  {
   "cell_type": "code",
   "execution_count": 3,
   "outputs": [
    {
     "data": {
      "text/plain": "(3810, 7)"
     },
     "execution_count": 3,
     "metadata": {},
     "output_type": "execute_result"
    }
   ],
   "source": [
    "X.shape"
   ],
   "metadata": {
    "collapsed": false
   }
  },
  {
   "cell_type": "code",
   "execution_count": 4,
   "outputs": [
    {
     "data": {
      "text/plain": "0"
     },
     "execution_count": 4,
     "metadata": {},
     "output_type": "execute_result"
    }
   ],
   "source": [
    "np.isnan(X).sum()"
   ],
   "metadata": {
    "collapsed": false
   }
  },
  {
   "cell_type": "code",
   "execution_count": 5,
   "outputs": [
    {
     "data": {
      "text/plain": "array([[1.52310000e+04, 5.25578979e+02, 2.29749878e+02, 8.50937881e+01,\n        9.28882003e-01, 1.56170000e+04, 5.72895527e-01],\n       [1.46560000e+04, 4.94311005e+02, 2.06020065e+02, 9.17309723e+01,\n        8.95404994e-01, 1.50720000e+04, 6.15436316e-01],\n       [1.46340000e+04, 5.01122009e+02, 2.14106781e+02, 8.77682877e+01,\n        9.12118077e-01, 1.49540000e+04, 6.93258822e-01],\n       [1.31760000e+04, 4.58342987e+02, 1.93337387e+02, 8.74483948e+01,\n        8.91860902e-01, 1.33680000e+04, 6.40669048e-01],\n       [1.46880000e+04, 5.07166992e+02, 2.11743378e+02, 8.93124542e+01,\n        9.06690896e-01, 1.52620000e+04, 6.46023929e-01]])"
     },
     "execution_count": 5,
     "metadata": {},
     "output_type": "execute_result"
    }
   ],
   "source": [
    "X[:5,:]"
   ],
   "metadata": {
    "collapsed": false
   }
  },
  {
   "cell_type": "code",
   "execution_count": 6,
   "outputs": [
    {
     "data": {
      "text/plain": "(3810,)"
     },
     "execution_count": 6,
     "metadata": {},
     "output_type": "execute_result"
    }
   ],
   "source": [
    "y.shape"
   ],
   "metadata": {
    "collapsed": false
   }
  },
  {
   "cell_type": "code",
   "execution_count": 7,
   "outputs": [
    {
     "data": {
      "text/plain": "0"
     },
     "execution_count": 7,
     "metadata": {},
     "output_type": "execute_result"
    }
   ],
   "source": [
    "np.isnan(y).sum()"
   ],
   "metadata": {
    "collapsed": false
   }
  },
  {
   "cell_type": "code",
   "execution_count": 8,
   "outputs": [
    {
     "data": {
      "text/plain": "array([1, 1, 1, 1, 1])"
     },
     "execution_count": 8,
     "metadata": {},
     "output_type": "execute_result"
    }
   ],
   "source": [
    "y[:5]"
   ],
   "metadata": {
    "collapsed": false
   }
  },
  {
   "cell_type": "markdown",
   "source": [
    "## IRLS test"
   ],
   "metadata": {
    "collapsed": false
   }
  },
  {
   "cell_type": "code",
   "execution_count": 40,
   "outputs": [
    {
     "data": {
      "text/plain": "array([-0.00046622, -0.00553012, -0.0632387 , -0.00444152, -0.03898465,\n       -0.00031212,  0.00799487, -0.00038516])"
     },
     "execution_count": 40,
     "metadata": {},
     "output_type": "execute_result"
    }
   ],
   "source": [
    "m = SGD(iter_limit=500*X.shape[0], rate=1E-8)\n",
    "m.fit(X, y)\n",
    "m.get_params()['coefficients']"
   ],
   "metadata": {
    "collapsed": false
   }
  },
  {
   "cell_type": "code",
   "execution_count": 41,
   "outputs": [
    {
     "data": {
      "text/plain": "0.7860892388451444"
     },
     "execution_count": 41,
     "metadata": {},
     "output_type": "execute_result"
    }
   ],
   "source": [
    "y_pred = m.predict(X)\n",
    "1 - np.abs(y_pred - y).mean()"
   ],
   "metadata": {
    "collapsed": false
   }
  },
  {
   "cell_type": "code",
   "execution_count": 42,
   "outputs": [
    {
     "data": {
      "text/plain": "<Axes: title={'center': 'Class = 1'}, ylabel='Count'>"
     },
     "execution_count": 42,
     "metadata": {},
     "output_type": "execute_result"
    },
    {
     "data": {
      "text/plain": "<Figure size 640x480 with 2 Axes>",
      "image/png": "[encoded data removed]"
     },
     "metadata": {},
     "output_type": "display_data"
    }
   ],
   "source": [
    "y0 = y==0\n",
    "y1 = y==1\n",
    "\n",
    "p0 = m.predict_proba(X[y0])\n",
    "p1 = m.predict_proba(X[y1])\n",
    "\n",
    "fig, ax = plt.subplots(1, 2)\n",
    "ax[0].set_title('Class = 0')\n",
    "sns.histplot(x=p0, ax=ax[0], binwidth=0.025)\n",
    "ax[1].set_title('Class = 1')\n",
    "sns.histplot(x=p1, ax=ax[1], binwidth=0.025)"
   ],
   "metadata": {
    "collapsed": false
   }
  },
  {
   "cell_type": "code",
   "execution_count": null,
   "outputs": [],
   "source": [
    "yyy = m.predict_proba(X)\n",
    "df = pd.DataFrame.from_dict({'prob': yyy, 'color': y})\n",
    "sns.boxplot(data=df, x='color', y='prob')\n",
    "\n",
    "(yyy[y1] > 0.99).mean()\n",
    "perfect_coefs = m.get_params()['coefficients']\n",
    "perfect_coefs"
   ],
   "metadata": {
    "collapsed": false
   }
  },
  {
   "cell_type": "code",
   "execution_count": null,
   "outputs": [],
   "source": [
    "np.all(m.get_params()['weights'] == np.diag(np.ones(X.shape[0])))"
   ],
   "metadata": {
    "collapsed": false
   }
  },
  {
   "cell_type": "code",
   "execution_count": null,
   "outputs": [],
   "source": [
    "m.get_params()"
   ],
   "metadata": {
    "collapsed": false
   }
  }
 ],
 "metadata": {
  "kernelspec": {
   "display_name": "Python 3",
   "language": "python",
   "name": "python3"
  },
  "language_info": {
   "codemirror_mode": {
    "name": "ipython",
    "version": 2
   },
   "file_extension": ".py",
   "mimetype": "text/x-python",
   "name": "python",
   "nbconvert_exporter": "python",
   "pygments_lexer": "ipython2",
   "version": "2.7.6"
  }
 },
 "nbformat": 4,
 "nbformat_minor": 0
}
