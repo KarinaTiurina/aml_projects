{
 "cells": [
  {
   "cell_type": "markdown",
   "metadata": {},
   "source": [
    "## Task 3.2\n",
    "\n",
    "This notebook contains tests and results related to Task 3.2\n",
    "\n",
    " For all algorithms as performance measure use Balanced Accuracy. The models should be trained\n",
    " on training set. The performance measure should be calculated on test set. Please average the results\n",
    " over at least 5 train-test splits. If the given algorithm does not converge, within 500 iterations, stop the\n",
    " algorithm and use the solutions from the last iteration."
   ]
  },
  {
   "cell_type": "code",
   "execution_count": 1,
   "metadata": {},
   "outputs": [],
   "source": [
    "import numpy as np\n",
    "import pandas as pd\n",
    "from models import IRLS\n",
    "from models import SGD\n",
    "from models import ADAM\n",
    "from sklearn.metrics import balanced_accuracy_score\n",
    "from sklearn.model_selection import train_test_split\n",
    "import datasets.read as data\n",
    "from matplotlib import pyplot as plt\n",
    "\n",
    "splits = np.arange(0.1, 0.55, 0.05)\n",
    "\n",
    "def test_balanced_accuracy(X, y, splits, dataset_name):\n",
    "  irls_acc = []\n",
    "  sgd_acc = []\n",
    "  adam_acc = []\n",
    "\n",
    "  for split in splits:\n",
    "    print(f'Test size: {split:.2f}')\n",
    "    X_train, X_test, y_train, y_test = train_test_split(X, y, test_size=split, stratify=y)\n",
    "    irls = IRLS()\n",
    "    sgd = SGD()\n",
    "    adam = ADAM()\n",
    "    irls.fit(X_train, y_train)\n",
    "    sgd.fit(X_train, y_train)\n",
    "    adam.fit(X_train, y_train)\n",
    "    y_pred_irls = irls.predict(X_test)\n",
    "    y_pred_sgd = sgd.predict(X_test)\n",
    "    y_pred_adam = adam.predict(X_test)\n",
    "    irls_acc.append(balanced_accuracy_score(y_test, y_pred_irls))\n",
    "    sgd_acc.append(balanced_accuracy_score(y_test, y_pred_sgd))\n",
    "    adam_acc.append(balanced_accuracy_score(y_test, y_pred_adam))\n",
    "\n",
    "  df = pd.DataFrame({'IRLS': irls_acc, 'SGD': sgd_acc, 'ADAM': adam_acc})\n",
    "  test_csv_file = 'task3.2_results/'+ dataset_name +'_history.csv'\n",
    "  with open(test_csv_file, mode='w') as f:\n",
    "        df.to_csv(f)\n",
    "  return df\n",
    "\n",
    "def plt_boxplots(df, dataset_name):\n",
    "  plt.boxplot(df, labels=df.columns)\n",
    "  plt.title(f'Balanced Accuracy on dataset {dataset_name}')\n",
    "  plt.ylabel('Balanced Accuracy');"
   ]
  },
  {
   "cell_type": "markdown",
   "metadata": {},
   "source": [
    "## 1. Rice Cammeo Osmancik"
   ]
  },
  {
   "cell_type": "code",
   "execution_count": 3,
   "metadata": {},
   "outputs": [
    {
     "name": "stdout",
     "output_type": "stream",
     "text": [
      "Test size: 0.10\n",
      "Test size: 0.15\n",
      "Test size: 0.20\n",
      "Test size: 0.25\n",
      "Test size: 0.30\n"
     ]
    },
    {
     "ename": "ValueError",
     "evalue": "y contains classes other than [-1, 1]",
     "output_type": "error",
     "traceback": [
      "\u001b[1;31m---------------------------------------------------------------------------\u001b[0m",
      "\u001b[1;31mValueError\u001b[0m                                Traceback (most recent call last)",
      "Cell \u001b[1;32mIn[3], line 3\u001b[0m\n\u001b[0;32m      1\u001b[0m dataset \u001b[38;5;241m=\u001b[39m \u001b[38;5;124m'\u001b[39m\u001b[38;5;124mRice Cammeo Osmancik\u001b[39m\u001b[38;5;124m'\u001b[39m\n\u001b[0;32m      2\u001b[0m X, y \u001b[38;5;241m=\u001b[39m data\u001b[38;5;241m.\u001b[39mread_Rice_Cammeo_Osmancik(\u001b[38;5;124m\"\u001b[39m\u001b[38;5;124mdatasets/\u001b[39m\u001b[38;5;124m\"\u001b[39m)\n\u001b[1;32m----> 3\u001b[0m test1 \u001b[38;5;241m=\u001b[39m \u001b[43mtest_balanced_accuracy\u001b[49m\u001b[43m(\u001b[49m\u001b[43mX\u001b[49m\u001b[43m,\u001b[49m\u001b[43m \u001b[49m\u001b[43my\u001b[49m\u001b[43m,\u001b[49m\u001b[43m \u001b[49m\u001b[43msplits\u001b[49m\u001b[43m,\u001b[49m\u001b[43m \u001b[49m\u001b[43mdataset\u001b[49m\u001b[43m)\u001b[49m\n\u001b[0;32m      4\u001b[0m plt_boxplots(test1, dataset)\n",
      "Cell \u001b[1;32mIn[1], line 28\u001b[0m, in \u001b[0;36mtest_balanced_accuracy\u001b[1;34m(X, y, splits, dataset_name)\u001b[0m\n\u001b[0;32m     26\u001b[0m adam\u001b[38;5;241m.\u001b[39mfit(X_train, y_train)\n\u001b[0;32m     27\u001b[0m y_pred_irls \u001b[38;5;241m=\u001b[39m irls\u001b[38;5;241m.\u001b[39mpredict(X_test)\n\u001b[1;32m---> 28\u001b[0m y_pred_sgd \u001b[38;5;241m=\u001b[39m \u001b[43msgd\u001b[49m\u001b[38;5;241;43m.\u001b[39;49m\u001b[43mpredict\u001b[49m\u001b[43m(\u001b[49m\u001b[43mX_test\u001b[49m\u001b[43m)\u001b[49m\n\u001b[0;32m     29\u001b[0m y_pred_adam \u001b[38;5;241m=\u001b[39m adam\u001b[38;5;241m.\u001b[39mpredict(X_test)\n\u001b[0;32m     30\u001b[0m irls_acc\u001b[38;5;241m.\u001b[39mappend(balanced_accuracy_score(y_test, y_pred_irls))\n",
      "File \u001b[1;32mc:\\home\\WUT\\Semester_2\\Adv. ML\\git\\aml_projects\\Project1\\models\\sgd.py:119\u001b[0m, in \u001b[0;36mSGD.predict\u001b[1;34m(self, X)\u001b[0m\n\u001b[0;32m    117\u001b[0m probs[probs \u001b[38;5;241m<\u001b[39m \u001b[38;5;241m0.5\u001b[39m] \u001b[38;5;241m=\u001b[39m \u001b[38;5;241m-\u001b[39m\u001b[38;5;241m1\u001b[39m\n\u001b[0;32m    118\u001b[0m probs[probs \u001b[38;5;241m>\u001b[39m\u001b[38;5;241m=\u001b[39m \u001b[38;5;241m0.5\u001b[39m] \u001b[38;5;241m=\u001b[39m \u001b[38;5;241m1\u001b[39m\n\u001b[1;32m--> 119\u001b[0m \u001b[38;5;28;01mreturn\u001b[39;00m \u001b[38;5;28;43mself\u001b[39;49m\u001b[38;5;241;43m.\u001b[39;49m\u001b[43m_mapper\u001b[49m\u001b[38;5;241;43m.\u001b[39;49m\u001b[43mmap_from_target\u001b[49m\u001b[43m(\u001b[49m\u001b[43mprobs\u001b[49m\u001b[43m)\u001b[49m\n",
      "File \u001b[1;32mc:\\home\\WUT\\Semester_2\\Adv. ML\\git\\aml_projects\\Project1\\models\\util.py:52\u001b[0m, in \u001b[0;36mClassMapper.map_from_target\u001b[1;34m(self, y)\u001b[0m\n\u001b[0;32m     49\u001b[0m \u001b[38;5;28;01mif\u001b[39;00m \u001b[38;5;28mself\u001b[39m\u001b[38;5;241m.\u001b[39m_classes \u001b[38;5;129;01mis\u001b[39;00m \u001b[38;5;28;01mNone\u001b[39;00m:\n\u001b[0;32m     50\u001b[0m     \u001b[38;5;28;01mraise\u001b[39;00m \u001b[38;5;167;01mValueError\u001b[39;00m(\u001b[38;5;124m\"\u001b[39m\u001b[38;5;124mWithout previously mapping TO target, I don\u001b[39m\u001b[38;5;124m'\u001b[39m\u001b[38;5;124mt know what to map onto.\u001b[39m\u001b[38;5;124m\"\u001b[39m)\n\u001b[1;32m---> 52\u001b[0m \u001b[38;5;28;01mreturn\u001b[39;00m \u001b[38;5;28;43mself\u001b[39;49m\u001b[38;5;241;43m.\u001b[39;49m\u001b[43m_map\u001b[49m\u001b[43m(\u001b[49m\u001b[43my\u001b[49m\u001b[43m,\u001b[49m\u001b[43m \u001b[49m\u001b[38;5;28;43mself\u001b[39;49m\u001b[38;5;241;43m.\u001b[39;49m\u001b[43m_target_classes\u001b[49m\u001b[43m,\u001b[49m\u001b[43m \u001b[49m\u001b[38;5;28;43mself\u001b[39;49m\u001b[38;5;241;43m.\u001b[39;49m\u001b[43m_classes\u001b[49m\u001b[43m)\u001b[49m\n",
      "File \u001b[1;32mc:\\home\\WUT\\Semester_2\\Adv. ML\\git\\aml_projects\\Project1\\models\\util.py:31\u001b[0m, in \u001b[0;36mClassMapper._map\u001b[1;34m(y, src_classes, target_classes)\u001b[0m\n\u001b[0;32m     29\u001b[0m current_classes \u001b[38;5;241m=\u001b[39m \u001b[38;5;28msorted\u001b[39m(\u001b[38;5;28mlist\u001b[39m(np\u001b[38;5;241m.\u001b[39munique(y)))\n\u001b[0;32m     30\u001b[0m \u001b[38;5;28;01mif\u001b[39;00m current_classes \u001b[38;5;241m!=\u001b[39m src_classes:\n\u001b[1;32m---> 31\u001b[0m     \u001b[38;5;28;01mraise\u001b[39;00m \u001b[38;5;167;01mValueError\u001b[39;00m(\u001b[38;5;124m\"\u001b[39m\u001b[38;5;124my contains classes other than \u001b[39m\u001b[38;5;124m\"\u001b[39m \u001b[38;5;241m+\u001b[39m \u001b[38;5;28mstr\u001b[39m(src_classes))\n\u001b[0;32m     33\u001b[0m \u001b[38;5;28;01mif\u001b[39;00m src_classes \u001b[38;5;241m==\u001b[39m target_classes:\n\u001b[0;32m     34\u001b[0m     \u001b[38;5;28;01mreturn\u001b[39;00m y\n",
      "\u001b[1;31mValueError\u001b[0m: y contains classes other than [-1, 1]"
     ]
    }
   ],
   "source": [
    "dataset = 'Rice Cammeo Osmancik'\n",
    "X, y = data.read_Rice_Cammeo_Osmancik(\"datasets/\")\n",
    "test1 = test_balanced_accuracy(X, y, splits, dataset)\n",
    "plt_boxplots(test1, dataset)"
   ]
  },
  {
   "cell_type": "markdown",
   "metadata": {},
   "source": [
    "## 2. Statlog (Shuttle)"
   ]
  },
  {
   "cell_type": "code",
   "execution_count": null,
   "metadata": {},
   "outputs": [],
   "source": [
    "dataset = 'Statlog (Shuttle)'\n",
    "X, y = data.read_Statlog_Shuttle(\"datasets/\")\n",
    "test2 = test_balanced_accuracy(X, y, splits, dataset)\n",
    "plt_boxplots(test2, dataset)"
   ]
  },
  {
   "cell_type": "markdown",
   "metadata": {},
   "source": [
    "## 3. Banknote authentication"
   ]
  },
  {
   "cell_type": "code",
   "execution_count": null,
   "metadata": {},
   "outputs": [],
   "source": [
    "dataset = 'Banknote authentication'\n",
    "X, y = data.read_Banknote_Authentication(\"datasets/\")\n",
    "test3 = test_balanced_accuracy(X, y, splits, dataset)\n",
    "plt_boxplots(test3, dataset)"
   ]
  },
  {
   "cell_type": "markdown",
   "metadata": {},
   "source": [
    "## 4. Online Shoppers Purchasing Intention Dataset"
   ]
  },
  {
   "cell_type": "code",
   "execution_count": null,
   "metadata": {},
   "outputs": [],
   "source": [
    "dataset = 'Online Shoppers Purchasing Intention'\n",
    "X, y = data.read_Online_Shoppers_intention(\"datasets/\")\n",
    "test4 = test_balanced_accuracy(X, y, splits, dataset)\n",
    "plt_boxplots(test4, dataset)"
   ]
  },
  {
   "cell_type": "markdown",
   "metadata": {},
   "source": [
    "## 5. Multiple Disease Prediction"
   ]
  },
  {
   "cell_type": "code",
   "execution_count": null,
   "metadata": {},
   "outputs": [],
   "source": [
    "dataset = 'Multiple Disease Preduction'\n",
    "X, y = data.read_Multiple_Disease_Prediction(\"datasets/\")\n",
    "test5 = test_balanced_accuracy(X, y, splits, dataset)\n",
    "plt_boxplots(test5, dataset)"
   ]
  },
  {
   "cell_type": "markdown",
   "metadata": {},
   "source": [
    "## 6. Web Page Phishing Dataset"
   ]
  },
  {
   "cell_type": "code",
   "execution_count": null,
   "metadata": {},
   "outputs": [],
   "source": [
    "dataset = 'Web Page Phishing'\n",
    "X, y = data.read_Web_Page_Phishing(\"datasets/\")\n",
    "test6 = test_balanced_accuracy(X, y, splits, dataset)\n",
    "plt_boxplots(test6, dataset)"
   ]
  },
  {
   "cell_type": "markdown",
   "metadata": {},
   "source": [
    "## 7. Airline Satisfaction Dataset"
   ]
  },
  {
   "cell_type": "code",
   "execution_count": null,
   "metadata": {},
   "outputs": [],
   "source": [
    "dataset = 'Airline Satisfaction'\n",
    "X, y = data.read_Web_Page_Phishing(\"datasets/\")\n",
    "test6 = test_balanced_accuracy(X, y, splits, dataset)\n",
    "plt_boxplots(test6, dataset)"
   ]
  }
 ],
 "metadata": {
  "kernelspec": {
   "display_name": "tensorflow",
   "language": "python",
   "name": "python3"
  },
  "language_info": {
   "codemirror_mode": {
    "name": "ipython",
    "version": 3
   },
   "file_extension": ".py",
   "mimetype": "text/x-python",
   "name": "python",
   "nbconvert_exporter": "python",
   "pygments_lexer": "ipython3",
   "version": "3.11.5"
  }
 },
 "nbformat": 4,
 "nbformat_minor": 2
}
