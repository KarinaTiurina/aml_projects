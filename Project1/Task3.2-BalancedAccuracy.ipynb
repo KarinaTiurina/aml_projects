{
 "cells": [
  {
   "cell_type": "markdown",
   "metadata": {},
   "source": [
    "## Task 3.2\n",
    "\n",
    "This notebook contains tests and results related to Task 3.2\n",
    "\n",
    " For all algorithms as performance measure use Balanced Accuracy. The models should be trained\n",
    " on training set. The performance measure should be calculated on test set. Please average the results\n",
    " over at least 5 train-test splits. If the given algorithm does not converge, within 500 iterations, stop the\n",
    " algorithm and use the solutions from the last iteration."
   ]
  },
  {
   "cell_type": "code",
   "execution_count": 1,
   "metadata": {},
   "outputs": [],
   "source": [
    "import numpy as np\n",
    "import pandas as pd\n",
    "from models import IRLS\n",
    "from models import SGD\n",
    "from models import ADAM\n",
    "from sklearn.metrics import balanced_accuracy_score\n",
    "from sklearn.model_selection import train_test_split\n",
    "import datasets.read as data\n",
    "from matplotlib import pyplot as plt\n",
    "\n",
    "splits = np.arange(0.1, 0.55, 0.05)\n",
    "\n",
    "def test_balanced_accuracy(X, y, splits, dataset_name):\n",
    "  irls_acc = []\n",
    "  sgd_acc = []\n",
    "  adam_acc = []\n",
    "\n",
    "  for split in splits:\n",
    "    print(f'Test size: {split:.2f}')\n",
    "    X_train, X_test, y_train, y_test = train_test_split(X, y, test_size=split, stratify=y)\n",
    "    irls = IRLS()\n",
    "    sgd = SGD()\n",
    "    adam = ADAM()\n",
    "    irls.fit(X_train, y_train)\n",
    "    sgd.fit(X_train, y_train)\n",
    "    adam.fit(X_train, y_train)\n",
    "    y_pred_irls = irls.predict(X_test)\n",
    "    y_pred_sgd = sgd.predict(X_test)\n",
    "    y_pred_adam = adam.predict(X_test)\n",
    "    irls_acc.append(balanced_accuracy_score(y_test, y_pred_irls))\n",
    "    sgd_acc.append(balanced_accuracy_score(y_test, y_pred_sgd))\n",
    "    adam_acc.append(balanced_accuracy_score(y_test, y_pred_adam))\n",
    "\n",
    "  df = pd.DataFrame({'IRLS': irls_acc, 'SGD': sgd_acc, 'ADAM': adam_acc})\n",
    "  test_csv_file = 'task3.2_results/'+ dataset_name +'_history.csv'\n",
    "  with open(test_csv_file, mode='w') as f:\n",
    "        df.to_csv(f)\n",
    "  return df\n",
    "\n",
    "def plt_boxplots(df, dataset_name):\n",
    "  plt.boxplot(df, labels=df.columns)\n",
    "  plt.title(f'Balanced Accuracy on dataset {dataset_name}')\n",
    "  plt.ylabel('Balanced Accuracy');"
   ]
  },
  {
   "cell_type": "markdown",
   "metadata": {},
   "source": [
    "## 1. Rice Cammeo Osmancik"
   ]
  },
  {
   "cell_type": "code",
   "execution_count": 2,
   "metadata": {},
   "outputs": [
    {
     "name": "stdout",
     "output_type": "stream",
     "text": [
      "Test size: 0.10\n",
      "Test size: 0.15\n",
      "Test size: 0.20\n",
      "Test size: 0.25\n",
      "Test size: 0.30\n",
      "Test size: 0.35\n",
      "Test size: 0.40\n",
      "Test size: 0.45\n",
      "Test size: 0.50\n"
     ]
    },
    {
     "data": {
      "image/png": "[encoded data removed]",
      "text/plain": [
       "<Figure size 640x480 with 1 Axes>"
      ]
     },
     "metadata": {},
     "output_type": "display_data"
    }
   ],
   "source": [
    "dataset = 'Rice Cammeo Osmancik'\n",
    "X, y = data.read_Rice_Cammeo_Osmancik(\"datasets/\")\n",
    "test1 = test_balanced_accuracy(X, y, splits, dataset)\n",
    "plt_boxplots(test1, dataset)"
   ]
  },
  {
   "cell_type": "markdown",
   "metadata": {},
   "source": [
    "## 2. Statlog (Shuttle)"
   ]
  },
  {
   "cell_type": "code",
   "execution_count": 3,
   "metadata": {},
   "outputs": [
    {
     "name": "stdout",
     "output_type": "stream",
     "text": [
      "Removing feature 2.0 with VIF 32579.038390905396\n",
      "Removing feature 7.0 with VIF 8612.831759802706\n",
      "Removing feature 0.0 with VIF 3215.465795857351\n",
      "Test size: 0.10\n"
     ]
    },
    {
     "ename": "KeyboardInterrupt",
     "evalue": "",
     "output_type": "error",
     "traceback": [
      "\u001b[1;31m---------------------------------------------------------------------------\u001b[0m",
      "\u001b[1;31mKeyboardInterrupt\u001b[0m                         Traceback (most recent call last)",
      "Cell \u001b[1;32mIn[3], line 3\u001b[0m\n\u001b[0;32m      1\u001b[0m dataset \u001b[38;5;241m=\u001b[39m \u001b[38;5;124m'\u001b[39m\u001b[38;5;124mStatlog (Shuttle)\u001b[39m\u001b[38;5;124m'\u001b[39m\n\u001b[0;32m      2\u001b[0m X, y \u001b[38;5;241m=\u001b[39m data\u001b[38;5;241m.\u001b[39mread_Statlog_Shuttle(\u001b[38;5;124m\"\u001b[39m\u001b[38;5;124mdatasets/\u001b[39m\u001b[38;5;124m\"\u001b[39m)\n\u001b[1;32m----> 3\u001b[0m test2 \u001b[38;5;241m=\u001b[39m \u001b[43mtest_balanced_accuracy\u001b[49m\u001b[43m(\u001b[49m\u001b[43mX\u001b[49m\u001b[43m,\u001b[49m\u001b[43m \u001b[49m\u001b[43my\u001b[49m\u001b[43m,\u001b[49m\u001b[43m \u001b[49m\u001b[43msplits\u001b[49m\u001b[43m,\u001b[49m\u001b[43m \u001b[49m\u001b[43mdataset\u001b[49m\u001b[43m)\u001b[49m\n\u001b[0;32m      4\u001b[0m plt_boxplots(test2, dataset)\n",
      "Cell \u001b[1;32mIn[1], line 24\u001b[0m, in \u001b[0;36mtest_balanced_accuracy\u001b[1;34m(X, y, splits, dataset_name)\u001b[0m\n\u001b[0;32m     22\u001b[0m sgd \u001b[38;5;241m=\u001b[39m SGD()\n\u001b[0;32m     23\u001b[0m adam \u001b[38;5;241m=\u001b[39m ADAM()\n\u001b[1;32m---> 24\u001b[0m \u001b[43mirls\u001b[49m\u001b[38;5;241;43m.\u001b[39;49m\u001b[43mfit\u001b[49m\u001b[43m(\u001b[49m\u001b[43mX_train\u001b[49m\u001b[43m,\u001b[49m\u001b[43m \u001b[49m\u001b[43my_train\u001b[49m\u001b[43m)\u001b[49m\n\u001b[0;32m     25\u001b[0m sgd\u001b[38;5;241m.\u001b[39mfit(X_train, y_train)\n\u001b[0;32m     26\u001b[0m adam\u001b[38;5;241m.\u001b[39mfit(X_train, y_train)\n",
      "File \u001b[1;32mc:\\home\\WUT\\Semester_2\\Adv. ML\\git\\aml_projects\\Project1\\models\\irls.py:77\u001b[0m, in \u001b[0;36mIRLS.fit\u001b[1;34m(self, X, y, interactions)\u001b[0m\n\u001b[0;32m     75\u001b[0m \u001b[38;5;28;01mwhile\u001b[39;00m \u001b[38;5;28;01mTrue\u001b[39;00m:\n\u001b[0;32m     76\u001b[0m     \u001b[38;5;28;01mtry\u001b[39;00m:\n\u001b[1;32m---> 77\u001b[0m         \u001b[38;5;28;43mself\u001b[39;49m\u001b[38;5;241;43m.\u001b[39;49m\u001b[43m_iteration\u001b[49m\u001b[43m(\u001b[49m\u001b[43mX\u001b[49m\u001b[43m,\u001b[49m\u001b[43m \u001b[49m\u001b[43myy\u001b[49m\u001b[43m)\u001b[49m\n\u001b[0;32m     78\u001b[0m     \u001b[38;5;28;01mexcept\u001b[39;00m \u001b[38;5;167;01mStopIteration\u001b[39;00m:\n\u001b[0;32m     79\u001b[0m         \u001b[38;5;28;01mbreak\u001b[39;00m\n",
      "File \u001b[1;32mc:\\home\\WUT\\Semester_2\\Adv. ML\\git\\aml_projects\\Project1\\models\\irls.py:43\u001b[0m, in \u001b[0;36mIRLS._iteration\u001b[1;34m(self, X, y)\u001b[0m\n\u001b[0;32m     39\u001b[0m     \u001b[38;5;28;01mraise\u001b[39;00m \u001b[38;5;167;01mStopIteration\u001b[39;00m()\n\u001b[0;32m     41\u001b[0m \u001b[38;5;66;03m# print(f\"Running iteration {self._n_iter}\")\u001b[39;00m\n\u001b[0;32m     42\u001b[0m \u001b[38;5;66;03m# TODO: Also some stop-condition, we have to decide\u001b[39;00m\n\u001b[1;32m---> 43\u001b[0m \u001b[38;5;28;43mself\u001b[39;49m\u001b[38;5;241;43m.\u001b[39;49m\u001b[43m_update_beta\u001b[49m\u001b[43m(\u001b[49m\u001b[43mX\u001b[49m\u001b[43m,\u001b[49m\u001b[43m \u001b[49m\u001b[43my\u001b[49m\u001b[43m)\u001b[49m\n\u001b[0;32m     44\u001b[0m \u001b[38;5;28mself\u001b[39m\u001b[38;5;241m.\u001b[39m_update_weights(X, y)\n\u001b[0;32m     45\u001b[0m \u001b[38;5;28mself\u001b[39m\u001b[38;5;241m.\u001b[39m_n_iter \u001b[38;5;241m+\u001b[39m\u001b[38;5;241m=\u001b[39m \u001b[38;5;241m1\u001b[39m\n",
      "File \u001b[1;32mc:\\home\\WUT\\Semester_2\\Adv. ML\\git\\aml_projects\\Project1\\models\\irls.py:20\u001b[0m, in \u001b[0;36mIRLS._update_beta\u001b[1;34m(self, X, y)\u001b[0m\n\u001b[0;32m     18\u001b[0m \u001b[38;5;28;01mdef\u001b[39;00m \u001b[38;5;21m_update_beta\u001b[39m(\u001b[38;5;28mself\u001b[39m, X, y):\n\u001b[0;32m     19\u001b[0m     m1 \u001b[38;5;241m=\u001b[39m np\u001b[38;5;241m.\u001b[39mlinalg\u001b[38;5;241m.\u001b[39mmulti_dot([X\u001b[38;5;241m.\u001b[39mT, \u001b[38;5;28mself\u001b[39m\u001b[38;5;241m.\u001b[39m_weights, X])\n\u001b[1;32m---> 20\u001b[0m     m2 \u001b[38;5;241m=\u001b[39m \u001b[43mnp\u001b[49m\u001b[38;5;241;43m.\u001b[39;49m\u001b[43mlinalg\u001b[49m\u001b[38;5;241;43m.\u001b[39;49m\u001b[43mmulti_dot\u001b[49m\u001b[43m(\u001b[49m\u001b[43m[\u001b[49m\u001b[43mX\u001b[49m\u001b[38;5;241;43m.\u001b[39;49m\u001b[43mT\u001b[49m\u001b[43m,\u001b[49m\u001b[43m \u001b[49m\u001b[38;5;28;43mself\u001b[39;49m\u001b[38;5;241;43m.\u001b[39;49m\u001b[43m_weights\u001b[49m\u001b[43m,\u001b[49m\u001b[43m \u001b[49m\u001b[43my\u001b[49m\u001b[38;5;241;43m.\u001b[39;49m\u001b[43mreshape\u001b[49m\u001b[43m(\u001b[49m\u001b[43m(\u001b[49m\u001b[43my\u001b[49m\u001b[38;5;241;43m.\u001b[39;49m\u001b[43mshape\u001b[49m\u001b[43m[\u001b[49m\u001b[38;5;241;43m0\u001b[39;49m\u001b[43m]\u001b[49m\u001b[43m,\u001b[49m\u001b[43m \u001b[49m\u001b[38;5;241;43m1\u001b[39;49m\u001b[43m)\u001b[49m\u001b[43m)\u001b[49m\u001b[43m]\u001b[49m\u001b[43m)\u001b[49m\n\u001b[0;32m     22\u001b[0m     \u001b[38;5;66;03m# Fix for singular matrix\u001b[39;00m\n\u001b[0;32m     23\u001b[0m     \u001b[38;5;28;01mif\u001b[39;00m np\u001b[38;5;241m.\u001b[39mlinalg\u001b[38;5;241m.\u001b[39mmatrix_rank(m1) \u001b[38;5;241m<\u001b[39m m1\u001b[38;5;241m.\u001b[39mshape[\u001b[38;5;241m0\u001b[39m]:\n",
      "File \u001b[1;32mc:\\ProgramFiles\\Anaconda3\\envs\\tensorflow\\Lib\\site-packages\\numpy\\linalg\\linalg.py:2750\u001b[0m, in \u001b[0;36mmulti_dot\u001b[1;34m(arrays, out)\u001b[0m\n\u001b[0;32m   2748\u001b[0m \u001b[38;5;66;03m# _multi_dot_three is much faster than _multi_dot_matrix_chain_order\u001b[39;00m\n\u001b[0;32m   2749\u001b[0m \u001b[38;5;28;01mif\u001b[39;00m n \u001b[38;5;241m==\u001b[39m \u001b[38;5;241m3\u001b[39m:\n\u001b[1;32m-> 2750\u001b[0m     result \u001b[38;5;241m=\u001b[39m \u001b[43m_multi_dot_three\u001b[49m\u001b[43m(\u001b[49m\u001b[43marrays\u001b[49m\u001b[43m[\u001b[49m\u001b[38;5;241;43m0\u001b[39;49m\u001b[43m]\u001b[49m\u001b[43m,\u001b[49m\u001b[43m \u001b[49m\u001b[43marrays\u001b[49m\u001b[43m[\u001b[49m\u001b[38;5;241;43m1\u001b[39;49m\u001b[43m]\u001b[49m\u001b[43m,\u001b[49m\u001b[43m \u001b[49m\u001b[43marrays\u001b[49m\u001b[43m[\u001b[49m\u001b[38;5;241;43m2\u001b[39;49m\u001b[43m]\u001b[49m\u001b[43m,\u001b[49m\u001b[43m \u001b[49m\u001b[43mout\u001b[49m\u001b[38;5;241;43m=\u001b[39;49m\u001b[43mout\u001b[49m\u001b[43m)\u001b[49m\n\u001b[0;32m   2751\u001b[0m \u001b[38;5;28;01melse\u001b[39;00m:\n\u001b[0;32m   2752\u001b[0m     order \u001b[38;5;241m=\u001b[39m _multi_dot_matrix_chain_order(arrays)\n",
      "File \u001b[1;32mc:\\ProgramFiles\\Anaconda3\\envs\\tensorflow\\Lib\\site-packages\\numpy\\linalg\\linalg.py:2782\u001b[0m, in \u001b[0;36m_multi_dot_three\u001b[1;34m(A, B, C, out)\u001b[0m\n\u001b[0;32m   2780\u001b[0m     \u001b[38;5;28;01mreturn\u001b[39;00m dot(dot(A, B), C, out\u001b[38;5;241m=\u001b[39mout)\n\u001b[0;32m   2781\u001b[0m \u001b[38;5;28;01melse\u001b[39;00m:\n\u001b[1;32m-> 2782\u001b[0m     \u001b[38;5;28;01mreturn\u001b[39;00m dot(A, \u001b[43mdot\u001b[49m\u001b[43m(\u001b[49m\u001b[43mB\u001b[49m\u001b[43m,\u001b[49m\u001b[43m \u001b[49m\u001b[43mC\u001b[49m\u001b[43m)\u001b[49m, out\u001b[38;5;241m=\u001b[39mout)\n",
      "\u001b[1;31mKeyboardInterrupt\u001b[0m: "
     ]
    }
   ],
   "source": [
    "dataset = 'Statlog (Shuttle)'\n",
    "X, y = data.read_Statlog_Shuttle(\"datasets/\")\n",
    "test2 = test_balanced_accuracy(X, y, splits, dataset)\n",
    "plt_boxplots(test2, dataset)"
   ]
  },
  {
   "cell_type": "markdown",
   "metadata": {},
   "source": [
    "## 3. Banknote authentication"
   ]
  },
  {
   "cell_type": "code",
   "execution_count": null,
   "metadata": {},
   "outputs": [],
   "source": [
    "dataset = 'Banknote authentication'\n",
    "X, y = data.read_Banknote_Authentication(\"datasets/\")\n",
    "test3 = test_balanced_accuracy(X, y, splits, dataset)\n",
    "plt_boxplots(test3, dataset)"
   ]
  },
  {
   "cell_type": "markdown",
   "metadata": {},
   "source": [
    "## 4. Online Shoppers Purchasing Intention Dataset"
   ]
  },
  {
   "cell_type": "code",
   "execution_count": null,
   "metadata": {},
   "outputs": [],
   "source": [
    "dataset = 'Online Shoppers Purchasing Intention'\n",
    "X, y = data.read_Online_Shoppers_intention(\"datasets/\")\n",
    "test4 = test_balanced_accuracy(X, y, splits, dataset)\n",
    "plt_boxplots(test4, dataset)"
   ]
  },
  {
   "cell_type": "markdown",
   "metadata": {},
   "source": [
    "## 5. EEG Eye State"
   ]
  },
  {
   "cell_type": "code",
   "execution_count": null,
   "metadata": {},
   "outputs": [],
   "source": [
    "dataset = 'EEG Eye State'\n",
    "X, y = data.read_EEG_Eye_State(\"datasets/\")\n",
    "test5 = test_balanced_accuracy(X, y, splits, dataset)\n",
    "plt_boxplots(test5, dataset)"
   ]
  },
  {
   "cell_type": "markdown",
   "metadata": {},
   "source": [
    "## 6. Web Page Phishing Dataset"
   ]
  },
  {
   "cell_type": "code",
   "execution_count": null,
   "metadata": {},
   "outputs": [],
   "source": [
    "dataset = 'Web Page Phishing'\n",
    "X, y = data.read_Web_Page_Phishing(\"datasets/\")\n",
    "test6 = test_balanced_accuracy(X, y, splits, dataset)\n",
    "plt_boxplots(test6, dataset)"
   ]
  },
  {
   "cell_type": "markdown",
   "metadata": {},
   "source": [
    "## 7. Airline Satisfaction Dataset"
   ]
  },
  {
   "cell_type": "code",
   "execution_count": null,
   "metadata": {},
   "outputs": [],
   "source": [
    "dataset = 'Airline Satisfaction'\n",
    "X, y = data.read_Airline_Passenger_Satisfaction(\"datasets/\")\n",
    "test7 = test_balanced_accuracy(X, y, splits, dataset)\n",
    "plt_boxplots(test7, dataset)"
   ]
  },
  {
   "cell_type": "markdown",
   "metadata": {},
   "source": [
    "## 8. Dataset for Link Phishing"
   ]
  },
  {
   "cell_type": "code",
   "execution_count": null,
   "metadata": {},
   "outputs": [],
   "source": [
    "dataset = 'Dataset for Link Phishing'\n",
    "X, y = data.read_Dataset_for_Link_Phishing(\"datasets/\")\n",
    "test8 = test_balanced_accuracy(X, y, splits, dataset)\n",
    "plt_boxplots(test8, dataset)"
   ]
  },
  {
   "cell_type": "markdown",
   "metadata": {},
   "source": [
    "## 9. Optdigits"
   ]
  },
  {
   "cell_type": "code",
   "execution_count": null,
   "metadata": {},
   "outputs": [],
   "source": [
    "dataset = 'Optdigits'\n",
    "X, y = data.read_Optdigits(\"datasets/\")\n",
    "test8 = test_balanced_accuracy(X, y, splits, dataset)\n",
    "plt_boxplots(test8, dataset)"
   ]
  }
 ],
 "metadata": {
  "kernelspec": {
   "display_name": "tensorflow",
   "language": "python",
   "name": "python3"
  },
  "language_info": {
   "codemirror_mode": {
    "name": "ipython",
    "version": 3
   },
   "file_extension": ".py",
   "mimetype": "text/x-python",
   "name": "python",
   "nbconvert_exporter": "python",
   "pygments_lexer": "ipython3",
   "version": "3.11.5"
  }
 },
 "nbformat": 4,
 "nbformat_minor": 2
}
