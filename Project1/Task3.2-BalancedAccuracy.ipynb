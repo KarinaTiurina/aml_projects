{
 "cells": [
  {
   "cell_type": "markdown",
   "metadata": {},
   "source": [
    "## Task 3.2\n",
    "\n",
    "This notebook contains tests and results related to Task 3.2\n",
    "\n",
    " For all algorithms as performance measure use Balanced Accuracy. The models should be trained\n",
    " on training set. The performance measure should be calculated on test set. Please average the results\n",
    " over at least 5 train-test splits. If the given algorithm does not converge, within 500 iterations, stop the\n",
    " algorithm and use the solutions from the last iteration."
   ]
  },
  {
   "cell_type": "code",
   "execution_count": 1,
   "metadata": {},
   "outputs": [],
   "source": [
    "import numpy as np\n",
    "import pandas as pd\n",
    "from models import IRLS\n",
    "from models import SGD\n",
    "from models import ADAM\n",
    "from sklearn.metrics import balanced_accuracy_score\n",
    "from sklearn.model_selection import train_test_split\n",
    "import datasets.read as data\n",
    "from matplotlib import pyplot as plt\n",
    "import seaborn as sns\n",
    "\n",
    "splits = np.arange(0.1, 0.55, 0.05)\n",
    "\n",
    "def test_balanced_accuracy(X, y, splits, dataset_name):\n",
    "  irls_acc = []\n",
    "  sgd_acc = []\n",
    "  adam_acc = []\n",
    "\n",
    "  for split in splits:\n",
    "    print(f'Test size: {split:.2f}')\n",
    "    X_train, X_test, y_train, y_test = train_test_split(X, y, test_size=split, stratify=y)\n",
    "    irls = IRLS()\n",
    "    sgd = SGD()\n",
    "    adam = ADAM()\n",
    "    irls.fit(X_train, y_train)\n",
    "    sgd.fit(X_train, y_train)\n",
    "    adam.fit(X_train, y_train)\n",
    "    y_pred_irls = irls.predict(X_test)\n",
    "    y_pred_sgd = sgd.predict(X_test)\n",
    "    y_pred_adam = adam.predict(X_test)\n",
    "    irls_acc.append(balanced_accuracy_score(y_test, y_pred_irls))\n",
    "    sgd_acc.append(balanced_accuracy_score(y_test, y_pred_sgd))\n",
    "    adam_acc.append(balanced_accuracy_score(y_test, y_pred_adam))\n",
    "\n",
    "  df = pd.DataFrame({'IRLS': irls_acc, 'SGD': sgd_acc, 'ADAM': adam_acc})\n",
    "  test_csv_file = 'task3.2_results/'+ dataset_name +'_history.csv'\n",
    "  with open(test_csv_file, mode='w') as f:\n",
    "        df.to_csv(f)\n",
    "  return df\n",
    "\n",
    "def plt_boxplots(df, dataset_name):\n",
    "  plt.boxplot(df, labels=df.columns)\n",
    "  plt.title(f'Balanced Accuracy on dataset {dataset_name}')\n",
    "  plt.ylabel('Balanced Accuracy');"
   ]
  },
  {
   "cell_type": "markdown",
   "metadata": {},
   "source": [
    "## 1. Rice Cammeo Osmancik"
   ]
  },
  {
   "cell_type": "code",
   "execution_count": 2,
   "metadata": {},
   "outputs": [
    {
     "name": "stdout",
     "output_type": "stream",
     "text": [
      "Removing feature Area with VIF 1170.5290948102754\n",
      "Removing feature Convex_Area with VIF 331.7922804059602\n",
      "Removing feature Major_Axis_Length with VIF 128.653727424773\n",
      "Removing feature Perimeter with VIF 43.91958454609174\n"
     ]
    }
   ],
   "source": [
    "dataset = 'Rice Cammeo Osmancik'\n",
    "X, y = data.read_Rice_Cammeo_Osmancik(\"datasets/\")\n",
    "# test1 = test_balanced_accuracy(X, y, splits, dataset)\n",
    "# plt_boxplots(test1, dataset)"
   ]
  },
  {
   "cell_type": "markdown",
   "metadata": {},
   "source": [
    "## 2. Statlog (Shuttle)"
   ]
  },
  {
   "cell_type": "code",
   "execution_count": 3,
   "metadata": {},
   "outputs": [
    {
     "name": "stdout",
     "output_type": "stream",
     "text": [
      "Removing feature 7.0 with VIF 1534.8004400464135\n",
      "Removing feature 8.0 with VIF 894.6501920533506\n",
      "Removing feature 6.0 with VIF 604.041680510662\n"
     ]
    }
   ],
   "source": [
    "dataset = 'Statlog (Shuttle)'\n",
    "X, y = data.read_Statlog_Shuttle(\"datasets/\")\n",
    "# test2 = test_balanced_accuracy(X, y, splits, dataset)\n",
    "# plt_boxplots(test2, dataset)"
   ]
  },
  {
   "cell_type": "markdown",
   "metadata": {},
   "source": [
    "## 3. Banknote authentication"
   ]
  },
  {
   "cell_type": "code",
   "execution_count": 4,
   "metadata": {},
   "outputs": [],
   "source": [
    "dataset = 'Banknote authentication'\n",
    "X, y = data.read_Banknote_Authentication(\"datasets/\")\n",
    "# test3 = test_balanced_accuracy(X, y, splits, dataset)\n",
    "# plt_boxplots(test3, dataset)"
   ]
  },
  {
   "cell_type": "markdown",
   "metadata": {},
   "source": [
    "## 4. Online Shoppers Purchasing Intention Dataset"
   ]
  },
  {
   "cell_type": "code",
   "execution_count": 2,
   "metadata": {},
   "outputs": [],
   "source": [
    "dataset = 'Online Shoppers Purchasing Intention'\n",
    "X, y = data.read_Online_Shoppers_intention(\"datasets/\")\n",
    "# test4 = test_balanced_accuracy(X, y, splits, dataset)\n",
    "# plt_boxplots(test4, dataset)"
   ]
  },
  {
   "cell_type": "markdown",
   "metadata": {},
   "source": [
    "## 5. EEG Eye State"
   ]
  },
  {
   "cell_type": "code",
   "execution_count": 3,
   "metadata": {},
   "outputs": [
    {
     "name": "stdout",
     "output_type": "stream",
     "text": [
      "Removing feature AF4 with VIF 82797.14753361203\n",
      "Removing feature O1 with VIF 76679.61011990067\n",
      "Removing feature AF3 with VIF 20969.21139044613\n",
      "Removing feature F8 with VIF 3630.64079221382\n",
      "Removing feature F4 with VIF 28.54748352345858\n",
      "Removing feature T8 with VIF 13.052551855093366\n",
      "Removing feature F3 with VIF 12.792383185747669\n"
     ]
    }
   ],
   "source": [
    "dataset = 'EEG Eye State'\n",
    "X, y = data.read_EEG_Eye_State(\"datasets/\")\n",
    "# X.shape\n",
    "# test5 = test_balanced_accuracy(X, y, splits, dataset)\n",
    "# plt_boxplots(test5, dataset)"
   ]
  },
  {
   "cell_type": "markdown",
   "metadata": {},
   "source": [
    "## 6. Web Page Phishing Dataset"
   ]
  },
  {
   "cell_type": "code",
   "execution_count": 4,
   "metadata": {},
   "outputs": [],
   "source": [
    "dataset = 'Web Page Phishing'\n",
    "X, y = data.read_Web_Page_Phishing(\"datasets/\")\n",
    "fraction = int(X.shape[0]*0.5)\n",
    "# test6 = test_balanced_accuracy(X[:fraction], y[:fraction], np.arange(0.3, 0.55, 0.05), dataset)\n",
    "# plt_boxplots(test6, dataset)"
   ]
  },
  {
   "cell_type": "markdown",
   "metadata": {},
   "source": [
    "## 7. Airline Satisfaction Dataset"
   ]
  },
  {
   "cell_type": "code",
   "execution_count": 5,
   "metadata": {},
   "outputs": [
    {
     "name": "stdout",
     "output_type": "stream",
     "text": [
      "Removing feature Arrival Delay in Minutes with VIF 14.682176785346995\n"
     ]
    }
   ],
   "source": [
    "dataset = 'Airline Satisfaction'\n",
    "X, y = data.read_Airline_Passenger_Satisfaction(\"datasets/\")\n",
    "fraction = int(X.shape[0]*0.5)\n",
    "# test7 = test_balanced_accuracy(X[:fraction], y[:fraction], np.arange(0.3, 0.55, 0.05), dataset)\n",
    "# plt_boxplots(test7, dataset)"
   ]
  },
  {
   "cell_type": "markdown",
   "metadata": {},
   "source": [
    "## 8. Dataset for Link Phishing"
   ]
  },
  {
   "cell_type": "code",
   "execution_count": 6,
   "metadata": {},
   "outputs": [
    {
     "name": "stderr",
     "output_type": "stream",
     "text": [
      "c:\\ProgramFiles\\Anaconda3\\envs\\tensorflow\\Lib\\site-packages\\statsmodels\\regression\\linear_model.py:1783: RuntimeWarning: invalid value encountered in scalar divide\n",
      "  return 1 - self.ssr/self.uncentered_tss\n",
      "c:\\ProgramFiles\\Anaconda3\\envs\\tensorflow\\Lib\\site-packages\\statsmodels\\regression\\linear_model.py:1783: RuntimeWarning: invalid value encountered in scalar divide\n",
      "  return 1 - self.ssr/self.uncentered_tss\n",
      "c:\\ProgramFiles\\Anaconda3\\envs\\tensorflow\\Lib\\site-packages\\statsmodels\\regression\\linear_model.py:1783: RuntimeWarning: invalid value encountered in scalar divide\n",
      "  return 1 - self.ssr/self.uncentered_tss\n",
      "c:\\ProgramFiles\\Anaconda3\\envs\\tensorflow\\Lib\\site-packages\\statsmodels\\regression\\linear_model.py:1783: RuntimeWarning: invalid value encountered in scalar divide\n",
      "  return 1 - self.ssr/self.uncentered_tss\n",
      "c:\\ProgramFiles\\Anaconda3\\envs\\tensorflow\\Lib\\site-packages\\statsmodels\\regression\\linear_model.py:1783: RuntimeWarning: invalid value encountered in scalar divide\n",
      "  return 1 - self.ssr/self.uncentered_tss\n"
     ]
    },
    {
     "name": "stdout",
     "output_type": "stream",
     "text": [
      "Removing feature longest_word_path with VIF 100.85611460173716\n"
     ]
    },
    {
     "name": "stderr",
     "output_type": "stream",
     "text": [
      "c:\\ProgramFiles\\Anaconda3\\envs\\tensorflow\\Lib\\site-packages\\statsmodels\\regression\\linear_model.py:1783: RuntimeWarning: invalid value encountered in scalar divide\n",
      "  return 1 - self.ssr/self.uncentered_tss\n",
      "c:\\ProgramFiles\\Anaconda3\\envs\\tensorflow\\Lib\\site-packages\\statsmodels\\regression\\linear_model.py:1783: RuntimeWarning: invalid value encountered in scalar divide\n",
      "  return 1 - self.ssr/self.uncentered_tss\n",
      "c:\\ProgramFiles\\Anaconda3\\envs\\tensorflow\\Lib\\site-packages\\statsmodels\\regression\\linear_model.py:1783: RuntimeWarning: invalid value encountered in scalar divide\n",
      "  return 1 - self.ssr/self.uncentered_tss\n",
      "c:\\ProgramFiles\\Anaconda3\\envs\\tensorflow\\Lib\\site-packages\\statsmodels\\regression\\linear_model.py:1783: RuntimeWarning: invalid value encountered in scalar divide\n",
      "  return 1 - self.ssr/self.uncentered_tss\n",
      "c:\\ProgramFiles\\Anaconda3\\envs\\tensorflow\\Lib\\site-packages\\statsmodels\\regression\\linear_model.py:1783: RuntimeWarning: invalid value encountered in scalar divide\n",
      "  return 1 - self.ssr/self.uncentered_tss\n"
     ]
    },
    {
     "name": "stdout",
     "output_type": "stream",
     "text": [
      "Removing feature length_words_raw with VIF 67.31691755162821\n"
     ]
    },
    {
     "name": "stderr",
     "output_type": "stream",
     "text": [
      "c:\\ProgramFiles\\Anaconda3\\envs\\tensorflow\\Lib\\site-packages\\statsmodels\\regression\\linear_model.py:1783: RuntimeWarning: invalid value encountered in scalar divide\n",
      "  return 1 - self.ssr/self.uncentered_tss\n",
      "c:\\ProgramFiles\\Anaconda3\\envs\\tensorflow\\Lib\\site-packages\\statsmodels\\regression\\linear_model.py:1783: RuntimeWarning: invalid value encountered in scalar divide\n",
      "  return 1 - self.ssr/self.uncentered_tss\n",
      "c:\\ProgramFiles\\Anaconda3\\envs\\tensorflow\\Lib\\site-packages\\statsmodels\\regression\\linear_model.py:1783: RuntimeWarning: invalid value encountered in scalar divide\n",
      "  return 1 - self.ssr/self.uncentered_tss\n",
      "c:\\ProgramFiles\\Anaconda3\\envs\\tensorflow\\Lib\\site-packages\\statsmodels\\regression\\linear_model.py:1783: RuntimeWarning: invalid value encountered in scalar divide\n",
      "  return 1 - self.ssr/self.uncentered_tss\n",
      "c:\\ProgramFiles\\Anaconda3\\envs\\tensorflow\\Lib\\site-packages\\statsmodels\\regression\\linear_model.py:1783: RuntimeWarning: invalid value encountered in scalar divide\n",
      "  return 1 - self.ssr/self.uncentered_tss\n"
     ]
    },
    {
     "name": "stdout",
     "output_type": "stream",
     "text": [
      "Removing feature avg_word_host with VIF 47.75793627615214\n"
     ]
    },
    {
     "name": "stderr",
     "output_type": "stream",
     "text": [
      "c:\\ProgramFiles\\Anaconda3\\envs\\tensorflow\\Lib\\site-packages\\statsmodels\\regression\\linear_model.py:1783: RuntimeWarning: invalid value encountered in scalar divide\n",
      "  return 1 - self.ssr/self.uncentered_tss\n",
      "c:\\ProgramFiles\\Anaconda3\\envs\\tensorflow\\Lib\\site-packages\\statsmodels\\regression\\linear_model.py:1783: RuntimeWarning: invalid value encountered in scalar divide\n",
      "  return 1 - self.ssr/self.uncentered_tss\n",
      "c:\\ProgramFiles\\Anaconda3\\envs\\tensorflow\\Lib\\site-packages\\statsmodels\\regression\\linear_model.py:1783: RuntimeWarning: invalid value encountered in scalar divide\n",
      "  return 1 - self.ssr/self.uncentered_tss\n",
      "c:\\ProgramFiles\\Anaconda3\\envs\\tensorflow\\Lib\\site-packages\\statsmodels\\regression\\linear_model.py:1783: RuntimeWarning: invalid value encountered in scalar divide\n",
      "  return 1 - self.ssr/self.uncentered_tss\n",
      "c:\\ProgramFiles\\Anaconda3\\envs\\tensorflow\\Lib\\site-packages\\statsmodels\\regression\\linear_model.py:1783: RuntimeWarning: invalid value encountered in scalar divide\n",
      "  return 1 - self.ssr/self.uncentered_tss\n"
     ]
    },
    {
     "name": "stdout",
     "output_type": "stream",
     "text": [
      "Removing feature avg_words_raw with VIF 16.144176662597598\n"
     ]
    },
    {
     "name": "stderr",
     "output_type": "stream",
     "text": [
      "c:\\ProgramFiles\\Anaconda3\\envs\\tensorflow\\Lib\\site-packages\\statsmodels\\regression\\linear_model.py:1783: RuntimeWarning: invalid value encountered in scalar divide\n",
      "  return 1 - self.ssr/self.uncentered_tss\n",
      "c:\\ProgramFiles\\Anaconda3\\envs\\tensorflow\\Lib\\site-packages\\statsmodels\\regression\\linear_model.py:1783: RuntimeWarning: invalid value encountered in scalar divide\n",
      "  return 1 - self.ssr/self.uncentered_tss\n",
      "c:\\ProgramFiles\\Anaconda3\\envs\\tensorflow\\Lib\\site-packages\\statsmodels\\regression\\linear_model.py:1783: RuntimeWarning: invalid value encountered in scalar divide\n",
      "  return 1 - self.ssr/self.uncentered_tss\n",
      "c:\\ProgramFiles\\Anaconda3\\envs\\tensorflow\\Lib\\site-packages\\statsmodels\\regression\\linear_model.py:1783: RuntimeWarning: invalid value encountered in scalar divide\n",
      "  return 1 - self.ssr/self.uncentered_tss\n",
      "c:\\ProgramFiles\\Anaconda3\\envs\\tensorflow\\Lib\\site-packages\\statsmodels\\regression\\linear_model.py:1783: RuntimeWarning: invalid value encountered in scalar divide\n",
      "  return 1 - self.ssr/self.uncentered_tss\n"
     ]
    },
    {
     "name": "stdout",
     "output_type": "stream",
     "text": [
      "Removing feature total_of= with VIF 12.968747084725525\n"
     ]
    },
    {
     "name": "stderr",
     "output_type": "stream",
     "text": [
      "c:\\ProgramFiles\\Anaconda3\\envs\\tensorflow\\Lib\\site-packages\\statsmodels\\regression\\linear_model.py:1783: RuntimeWarning: invalid value encountered in scalar divide\n",
      "  return 1 - self.ssr/self.uncentered_tss\n",
      "c:\\ProgramFiles\\Anaconda3\\envs\\tensorflow\\Lib\\site-packages\\statsmodels\\regression\\linear_model.py:1783: RuntimeWarning: invalid value encountered in scalar divide\n",
      "  return 1 - self.ssr/self.uncentered_tss\n",
      "c:\\ProgramFiles\\Anaconda3\\envs\\tensorflow\\Lib\\site-packages\\statsmodels\\regression\\linear_model.py:1783: RuntimeWarning: invalid value encountered in scalar divide\n",
      "  return 1 - self.ssr/self.uncentered_tss\n",
      "c:\\ProgramFiles\\Anaconda3\\envs\\tensorflow\\Lib\\site-packages\\statsmodels\\regression\\linear_model.py:1783: RuntimeWarning: invalid value encountered in scalar divide\n",
      "  return 1 - self.ssr/self.uncentered_tss\n",
      "c:\\ProgramFiles\\Anaconda3\\envs\\tensorflow\\Lib\\site-packages\\statsmodels\\regression\\linear_model.py:1783: RuntimeWarning: invalid value encountered in scalar divide\n",
      "  return 1 - self.ssr/self.uncentered_tss\n"
     ]
    },
    {
     "name": "stdout",
     "output_type": "stream",
     "text": [
      "Removing feature url_length with VIF 9.4388269935851\n"
     ]
    },
    {
     "name": "stderr",
     "output_type": "stream",
     "text": [
      "c:\\ProgramFiles\\Anaconda3\\envs\\tensorflow\\Lib\\site-packages\\statsmodels\\regression\\linear_model.py:1783: RuntimeWarning: invalid value encountered in scalar divide\n",
      "  return 1 - self.ssr/self.uncentered_tss\n",
      "c:\\ProgramFiles\\Anaconda3\\envs\\tensorflow\\Lib\\site-packages\\statsmodels\\regression\\linear_model.py:1783: RuntimeWarning: invalid value encountered in scalar divide\n",
      "  return 1 - self.ssr/self.uncentered_tss\n",
      "c:\\ProgramFiles\\Anaconda3\\envs\\tensorflow\\Lib\\site-packages\\statsmodels\\regression\\linear_model.py:1783: RuntimeWarning: invalid value encountered in scalar divide\n",
      "  return 1 - self.ssr/self.uncentered_tss\n",
      "c:\\ProgramFiles\\Anaconda3\\envs\\tensorflow\\Lib\\site-packages\\statsmodels\\regression\\linear_model.py:1783: RuntimeWarning: invalid value encountered in scalar divide\n",
      "  return 1 - self.ssr/self.uncentered_tss\n",
      "c:\\ProgramFiles\\Anaconda3\\envs\\tensorflow\\Lib\\site-packages\\statsmodels\\regression\\linear_model.py:1783: RuntimeWarning: invalid value encountered in scalar divide\n",
      "  return 1 - self.ssr/self.uncentered_tss\n"
     ]
    },
    {
     "name": "stdout",
     "output_type": "stream",
     "text": [
      "Removing feature ratio_intHyperlinks with VIF 6.282765181945691\n"
     ]
    },
    {
     "name": "stderr",
     "output_type": "stream",
     "text": [
      "c:\\ProgramFiles\\Anaconda3\\envs\\tensorflow\\Lib\\site-packages\\statsmodels\\regression\\linear_model.py:1783: RuntimeWarning: invalid value encountered in scalar divide\n",
      "  return 1 - self.ssr/self.uncentered_tss\n",
      "c:\\ProgramFiles\\Anaconda3\\envs\\tensorflow\\Lib\\site-packages\\statsmodels\\regression\\linear_model.py:1783: RuntimeWarning: invalid value encountered in scalar divide\n",
      "  return 1 - self.ssr/self.uncentered_tss\n",
      "c:\\ProgramFiles\\Anaconda3\\envs\\tensorflow\\Lib\\site-packages\\statsmodels\\regression\\linear_model.py:1783: RuntimeWarning: invalid value encountered in scalar divide\n",
      "  return 1 - self.ssr/self.uncentered_tss\n",
      "c:\\ProgramFiles\\Anaconda3\\envs\\tensorflow\\Lib\\site-packages\\statsmodels\\regression\\linear_model.py:1783: RuntimeWarning: invalid value encountered in scalar divide\n",
      "  return 1 - self.ssr/self.uncentered_tss\n",
      "c:\\ProgramFiles\\Anaconda3\\envs\\tensorflow\\Lib\\site-packages\\statsmodels\\regression\\linear_model.py:1783: RuntimeWarning: invalid value encountered in scalar divide\n",
      "  return 1 - self.ssr/self.uncentered_tss\n"
     ]
    }
   ],
   "source": [
    "dataset = 'Dataset for Link Phishing'\n",
    "X, y = data.read_Dataset_for_Link_Phishing(\"datasets/\")\n",
    "# test8 = test_balanced_accuracy(X, y, splits, dataset)\n",
    "# plt_boxplots(test8, dataset)"
   ]
  },
  {
   "cell_type": "markdown",
   "metadata": {},
   "source": [
    "## 9. Optdigits"
   ]
  },
  {
   "cell_type": "code",
   "execution_count": 7,
   "metadata": {},
   "outputs": [
    {
     "name": "stderr",
     "output_type": "stream",
     "text": [
      "c:\\ProgramFiles\\Anaconda3\\envs\\tensorflow\\Lib\\site-packages\\statsmodels\\regression\\linear_model.py:1783: RuntimeWarning: invalid value encountered in scalar divide\n",
      "  return 1 - self.ssr/self.uncentered_tss\n",
      "c:\\ProgramFiles\\Anaconda3\\envs\\tensorflow\\Lib\\site-packages\\statsmodels\\regression\\linear_model.py:1783: RuntimeWarning: invalid value encountered in scalar divide\n",
      "  return 1 - self.ssr/self.uncentered_tss\n"
     ]
    },
    {
     "name": "stdout",
     "output_type": "stream",
     "text": [
      "Removing feature input3 with VIF 9.240420213677252\n"
     ]
    },
    {
     "name": "stderr",
     "output_type": "stream",
     "text": [
      "c:\\ProgramFiles\\Anaconda3\\envs\\tensorflow\\Lib\\site-packages\\statsmodels\\regression\\linear_model.py:1783: RuntimeWarning: invalid value encountered in scalar divide\n",
      "  return 1 - self.ssr/self.uncentered_tss\n",
      "c:\\ProgramFiles\\Anaconda3\\envs\\tensorflow\\Lib\\site-packages\\statsmodels\\regression\\linear_model.py:1783: RuntimeWarning: invalid value encountered in scalar divide\n",
      "  return 1 - self.ssr/self.uncentered_tss\n"
     ]
    },
    {
     "name": "stdout",
     "output_type": "stream",
     "text": [
      "Removing feature input62 with VIF 6.095812653084993\n"
     ]
    },
    {
     "name": "stderr",
     "output_type": "stream",
     "text": [
      "c:\\ProgramFiles\\Anaconda3\\envs\\tensorflow\\Lib\\site-packages\\statsmodels\\regression\\linear_model.py:1783: RuntimeWarning: invalid value encountered in scalar divide\n",
      "  return 1 - self.ssr/self.uncentered_tss\n",
      "c:\\ProgramFiles\\Anaconda3\\envs\\tensorflow\\Lib\\site-packages\\statsmodels\\regression\\linear_model.py:1783: RuntimeWarning: invalid value encountered in scalar divide\n",
      "  return 1 - self.ssr/self.uncentered_tss\n"
     ]
    },
    {
     "name": "stdout",
     "output_type": "stream",
     "text": [
      "Removing feature input43 with VIF 5.270787253168077\n"
     ]
    },
    {
     "name": "stderr",
     "output_type": "stream",
     "text": [
      "c:\\ProgramFiles\\Anaconda3\\envs\\tensorflow\\Lib\\site-packages\\statsmodels\\regression\\linear_model.py:1783: RuntimeWarning: invalid value encountered in scalar divide\n",
      "  return 1 - self.ssr/self.uncentered_tss\n",
      "c:\\ProgramFiles\\Anaconda3\\envs\\tensorflow\\Lib\\site-packages\\statsmodels\\regression\\linear_model.py:1783: RuntimeWarning: invalid value encountered in scalar divide\n",
      "  return 1 - self.ssr/self.uncentered_tss\n"
     ]
    },
    {
     "name": "stdout",
     "output_type": "stream",
     "text": [
      "Removing feature input55 with VIF 5.1668902585468475\n"
     ]
    },
    {
     "name": "stderr",
     "output_type": "stream",
     "text": [
      "c:\\ProgramFiles\\Anaconda3\\envs\\tensorflow\\Lib\\site-packages\\statsmodels\\regression\\linear_model.py:1783: RuntimeWarning: invalid value encountered in scalar divide\n",
      "  return 1 - self.ssr/self.uncentered_tss\n",
      "c:\\ProgramFiles\\Anaconda3\\envs\\tensorflow\\Lib\\site-packages\\statsmodels\\regression\\linear_model.py:1783: RuntimeWarning: invalid value encountered in scalar divide\n",
      "  return 1 - self.ssr/self.uncentered_tss\n"
     ]
    },
    {
     "name": "stdout",
     "output_type": "stream",
     "text": [
      "Removing feature input15 with VIF 5.125767038649418\n"
     ]
    },
    {
     "name": "stderr",
     "output_type": "stream",
     "text": [
      "c:\\ProgramFiles\\Anaconda3\\envs\\tensorflow\\Lib\\site-packages\\statsmodels\\regression\\linear_model.py:1783: RuntimeWarning: invalid value encountered in scalar divide\n",
      "  return 1 - self.ssr/self.uncentered_tss\n",
      "c:\\ProgramFiles\\Anaconda3\\envs\\tensorflow\\Lib\\site-packages\\statsmodels\\regression\\linear_model.py:1783: RuntimeWarning: invalid value encountered in scalar divide\n",
      "  return 1 - self.ssr/self.uncentered_tss\n"
     ]
    }
   ],
   "source": [
    "dataset = 'Optdigits'\n",
    "X, y = data.read_Optdigits(\"datasets/\")\n",
    "# test9 = test_balanced_accuracy(X, y, splits, dataset)\n",
    "# plt_boxplots(test9, dataset)"
   ]
  },
  {
   "cell_type": "markdown",
   "metadata": {},
   "source": [
    "## Combined results"
   ]
  },
  {
   "cell_type": "code",
   "execution_count": 14,
   "metadata": {},
   "outputs": [
    {
     "data": {
      "image/png": "[encoded data removed]",
      "text/plain": [
       "<Figure size 1400x1200 with 1 Axes>"
      ]
     },
     "metadata": {},
     "output_type": "display_data"
    }
   ],
   "source": [
    "df1 = pd.read_csv('task3.2_results/Rice Cammeo Osmancik_history.csv', index_col=0)\n",
    "df2 = pd.read_csv('task3.2_results/Statlog (Shuttle)_history.csv', index_col=0)\n",
    "df3 = pd.read_csv('task3.2_results/Banknote authentication_history.csv', index_col=0)\n",
    "df4 = pd.read_csv('task3.2_results/Online Shoppers Purchasing Intention_history.csv', index_col=0)\n",
    "df5 = pd.read_csv('task3.2_results/EEG Eye State_history.csv', index_col=0)\n",
    "df6 = pd.read_csv('task3.2_results/Web Page Phishing_history.csv', index_col=0)\n",
    "df7 = pd.read_csv('task3.2_results/Airline Satisfaction_history.csv', index_col=0)\n",
    "df8 = pd.read_csv('task3.2_results/Dataset for Link Phishing_history.csv', index_col=0)\n",
    "df9 = pd.read_csv('task3.2_results/Optdigits_history.csv', index_col=0)\n",
    "\n",
    "# Add a column to each dataframe to indicate dataframe source\n",
    "df1['Source'] = '1. Rice Cammeo Osmancik'\n",
    "df2['Source'] = '2. Statlog (Shuttle)'\n",
    "df3['Source'] = '3. Banknote authentication'\n",
    "df4['Source'] = '4. Online Shoppers Purchasing Intention'\n",
    "df5['Source'] = '5. EEG Eye State'\n",
    "df6['Source'] = '6. Web Page Phishing'\n",
    "df7['Source'] = '7. Airline Satisfaction'\n",
    "df8['Source'] = '8. Dataset for Link Phishing'\n",
    "df9['Source'] = '9. Optdigits'\n",
    "\n",
    "# Concatenate dataframes\n",
    "combined_df = pd.concat([df1, df2, df3, df4, df5, df6, df7, df8, df9])\n",
    "\n",
    "# Melt the dataframe to have 'variable' and 'value' columns\n",
    "melted_df = pd.melt(combined_df, id_vars='Source', var_name='Column', value_name='Balanced Accuracy')\n",
    "\n",
    "# Create boxplot\n",
    "plt.figure(figsize=(14, 12))\n",
    "ax = sns.boxplot(x='Column', y='Balanced Accuracy', hue='Source', data=melted_df, palette='hls')\n",
    "# Draw dashed lines as separators between columns\n",
    "num_columns = len(combined_df.columns) - 1  # Excluding the 'Source' column\n",
    "for i in range(num_columns - 1):\n",
    "  plt.axvline(x=i + 0.5, color='gray', linestyle='--', linewidth=1)\n",
    "\n",
    "plt.title('Balanced Accuracy on different Datasets')\n",
    "plt.xlabel('Model')\n",
    "plt.ylabel('Balanced Accuracy')\n",
    "plt.legend(loc='lower left')\n",
    "plt.show()"
   ]
  },
  {
   "cell_type": "code",
   "execution_count": 15,
   "metadata": {},
   "outputs": [
    {
     "data": {
      "text/html": [
       "<div>\n",
       "<style scoped>\n",
       "    .dataframe tbody tr th:only-of-type {\n",
       "        vertical-align: middle;\n",
       "    }\n",
       "\n",
       "    .dataframe tbody tr th {\n",
       "        vertical-align: top;\n",
       "    }\n",
       "\n",
       "    .dataframe thead th {\n",
       "        text-align: right;\n",
       "    }\n",
       "</style>\n",
       "<table border=\"1\" class=\"dataframe\">\n",
       "  <thead>\n",
       "    <tr style=\"text-align: right;\">\n",
       "      <th></th>\n",
       "      <th>IRLS</th>\n",
       "      <th>SGD</th>\n",
       "      <th>ADAM</th>\n",
       "    </tr>\n",
       "    <tr>\n",
       "      <th>Source</th>\n",
       "      <th></th>\n",
       "      <th></th>\n",
       "      <th></th>\n",
       "    </tr>\n",
       "  </thead>\n",
       "  <tbody>\n",
       "    <tr>\n",
       "      <th>1. Rice Cammeo Osmancik</th>\n",
       "      <td>92.41</td>\n",
       "      <td>70.48</td>\n",
       "      <td>87.59</td>\n",
       "    </tr>\n",
       "    <tr>\n",
       "      <th>2. Statlog (Shuttle)</th>\n",
       "      <td>77.19</td>\n",
       "      <td>85.35</td>\n",
       "      <td>94.08</td>\n",
       "    </tr>\n",
       "    <tr>\n",
       "      <th>3. Banknote authentication</th>\n",
       "      <td>97.93</td>\n",
       "      <td>99.07</td>\n",
       "      <td>99.22</td>\n",
       "    </tr>\n",
       "    <tr>\n",
       "      <th>4. Online Shoppers Purchasing Intention</th>\n",
       "      <td>61.73</td>\n",
       "      <td>69.65</td>\n",
       "      <td>66.78</td>\n",
       "    </tr>\n",
       "    <tr>\n",
       "      <th>5. EEG Eye State</th>\n",
       "      <td>53.84</td>\n",
       "      <td>52.10</td>\n",
       "      <td>53.84</td>\n",
       "    </tr>\n",
       "    <tr>\n",
       "      <th>6. Web Page Phishing</th>\n",
       "      <td>75.11</td>\n",
       "      <td>81.42</td>\n",
       "      <td>81.19</td>\n",
       "    </tr>\n",
       "    <tr>\n",
       "      <th>7. Airline Satisfaction</th>\n",
       "      <td>84.32</td>\n",
       "      <td>59.26</td>\n",
       "      <td>78.02</td>\n",
       "    </tr>\n",
       "    <tr>\n",
       "      <th>8. Dataset for Link Phishing</th>\n",
       "      <td>90.82</td>\n",
       "      <td>56.15</td>\n",
       "      <td>83.16</td>\n",
       "    </tr>\n",
       "    <tr>\n",
       "      <th>9. Optdigits</th>\n",
       "      <td>74.90</td>\n",
       "      <td>90.83</td>\n",
       "      <td>89.94</td>\n",
       "    </tr>\n",
       "  </tbody>\n",
       "</table>\n",
       "</div>"
      ],
      "text/plain": [
       "                                          IRLS    SGD   ADAM\n",
       "Source                                                      \n",
       "1. Rice Cammeo Osmancik                  92.41  70.48  87.59\n",
       "2. Statlog (Shuttle)                     77.19  85.35  94.08\n",
       "3. Banknote authentication               97.93  99.07  99.22\n",
       "4. Online Shoppers Purchasing Intention  61.73  69.65  66.78\n",
       "5. EEG Eye State                         53.84  52.10  53.84\n",
       "6. Web Page Phishing                     75.11  81.42  81.19\n",
       "7. Airline Satisfaction                  84.32  59.26  78.02\n",
       "8. Dataset for Link Phishing             90.82  56.15  83.16\n",
       "9. Optdigits                             74.90  90.83  89.94"
      ]
     },
     "execution_count": 15,
     "metadata": {},
     "output_type": "execute_result"
    }
   ],
   "source": [
    "dfg1 = df1.groupby('Source').mean()\n",
    "dfg2 = df2.groupby('Source').mean()\n",
    "dfg3 = df3.groupby('Source').mean()\n",
    "dfg4 = df4.groupby('Source').mean()\n",
    "dfg5 = df5.groupby('Source').mean()\n",
    "dfg6 = df6.groupby('Source').mean()\n",
    "dfg7 = df7.groupby('Source').mean()\n",
    "dfg8 = df8.groupby('Source').mean()\n",
    "dfg9 = df9.groupby('Source').mean()\n",
    "combined_df = pd.concat([dfg1, dfg2, dfg3, dfg4, dfg5, dfg6, dfg7, dfg8, dfg9])\n",
    "combined_df['IRLS']  *= 100\n",
    "combined_df['SGD'] *= 100\n",
    "combined_df['ADAM'] *= 100\n",
    "combined_df.round(2)"
   ]
  }
 ],
 "metadata": {
  "kernelspec": {
   "display_name": "tensorflow",
   "language": "python",
   "name": "python3"
  },
  "language_info": {
   "codemirror_mode": {
    "name": "ipython",
    "version": 3
   },
   "file_extension": ".py",
   "mimetype": "text/x-python",
   "name": "python",
   "nbconvert_exporter": "python",
   "pygments_lexer": "ipython3",
   "version": "3.11.5"
  }
 },
 "nbformat": 4,
 "nbformat_minor": 2
}
