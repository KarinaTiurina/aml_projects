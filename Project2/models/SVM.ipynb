{
 "cells": [
  {
   "cell_type": "markdown",
   "metadata": {},
   "source": [
    "# SVM"
   ]
  },
  {
   "cell_type": "code",
   "metadata": {
    "ExecuteTime": {
     "end_time": "2024-06-02T19:23:35.460835Z",
     "start_time": "2024-06-02T19:23:35.190674Z"
    }
   },
   "source": [
    "import numpy as np\n",
    "import pandas as pd\n",
    "import  matplotlib.pyplot as plt\n",
    "import warnings\n",
    "warnings.filterwarnings(\"ignore\")"
   ],
   "outputs": [],
   "execution_count": 2
  },
  {
   "metadata": {
    "ExecuteTime": {
     "end_time": "2024-06-02T19:23:36.935627Z",
     "start_time": "2024-06-02T19:23:36.433739Z"
    }
   },
   "cell_type": "code",
   "source": [
    "from utils import cleanup_dataset_apply_standard_scaler\n",
    "\n",
    "X = pd.read_table('../data/data/x_train.txt', header=None, delimiter=' ')\n",
    "y = pd.read_table('../data/data/y_train.txt', header=None)\n",
    "X_test_submission = pd.read_table('../data/data/x_test.txt', header=None, delimiter=' ')\n",
    "\n",
    "# based on feature selection investigation\n",
    "selected_features = [100, 101, 102, 103, 104, 105]\n",
    "X = X[selected_features]\n",
    "X_test_submission = X_test_submission[selected_features]\n",
    "\n",
    "X = cleanup_dataset_apply_standard_scaler(X)\n",
    "X_test_submission = cleanup_dataset_apply_standard_scaler(X_test_submission)"
   ],
   "outputs": [],
   "execution_count": 3
  },
  {
   "metadata": {
    "ExecuteTime": {
     "end_time": "2024-06-02T19:23:38.168637Z",
     "start_time": "2024-06-02T19:23:38.110049Z"
    }
   },
   "cell_type": "code",
   "source": [
    "from sklearn.svm import SVC\n",
    "\n",
    "def apply_optimized_svm(\n",
    "        X: pd.DataFrame,\n",
    "        y: pd.Series,\n",
    "        X_test: pd.DataFrame,\n",
    "        random_state: int = 0\n",
    ") -> pd.Series:\n",
    "    \"\"\"\n",
    "    Apply the optimized SVM model to the dataset.\n",
    "    :param X: pd.DataFrame - The training dataset.\n",
    "    :param y: pd.Series - The target variable.\n",
    "    :param X_test: pd.DataFrame - The test dataset.\n",
    "    :param random_state: int - The random state.\n",
    "    :return: pd.Series - The predictions.\n",
    "    \"\"\"\n",
    "\n",
    "    model = SVC(\n",
    "        C=0.1,\n",
    "        gamma=0.1,\n",
    "        class_weight='balanced',\n",
    "        kernel='rbf',\n",
    "        random_state=random_state,\n",
    "        probability=True\n",
    "    )\n",
    "\n",
    "    model.fit(X, y)\n",
    "    return pd.Series(model.predict_proba(X_test)[:, 1], index=X_test.index)"
   ],
   "outputs": [],
   "execution_count": 4
  },
  {
   "metadata": {
    "ExecuteTime": {
     "end_time": "2024-06-02T15:25:44.960813Z",
     "start_time": "2024-06-02T15:23:17.481680Z"
    }
   },
   "cell_type": "code",
   "source": [
    "from aml_projects.Project2.models.utils import run_experiment\n",
    "\n",
    "normal_results = run_experiment(\n",
    "    'svm_results/',\n",
    "    'normal',\n",
    "    apply_optimized_svm,\n",
    "    X,\n",
    "    y,\n",
    "    selected_features,\n",
    "    iterations=100\n",
    ")\n",
    "\n",
    "normal_results"
   ],
   "outputs": [
    {
     "data": {
      "text/plain": [
       "[ExperimentResult(score=5681.496881496882, accuracy=0.704),\n",
       " ExperimentResult(score=5851.792828685258, accuracy=0.721),\n",
       " ExperimentResult(score=6090.836653386454, accuracy=0.734),\n",
       " ExperimentResult(score=6121.063394683027, accuracy=0.744),\n",
       " ExperimentResult(score=5942.857142857142, accuracy=0.726),\n",
       " ExperimentResult(score=5905.788423153693, accuracy=0.722),\n",
       " ExperimentResult(score=5954.308617234468, accuracy=0.715),\n",
       " ExperimentResult(score=5914.624505928854, accuracy=0.714),\n",
       " ExperimentResult(score=5914.228456913826, accuracy=0.726),\n",
       " ExperimentResult(score=6120.0, accuracy=0.732),\n",
       " ExperimentResult(score=5980.0, accuracy=0.713),\n",
       " ExperimentResult(score=6175.745526838967, accuracy=0.732),\n",
       " ExperimentResult(score=6040.663900414938, accuracy=0.738),\n",
       " ExperimentResult(score=5991.919191919193, accuracy=0.732),\n",
       " ExperimentResult(score=6037.354085603112, accuracy=0.71),\n",
       " ExperimentResult(score=5962.1621621621625, accuracy=0.714),\n",
       " ExperimentResult(score=6069.155206286837, accuracy=0.718),\n",
       " ExperimentResult(score=5822.132796780684, accuracy=0.713),\n",
       " ExperimentResult(score=6050.5091649694505, accuracy=0.725),\n",
       " ExperimentResult(score=5624.7422680412365, accuracy=0.704),\n",
       " ExperimentResult(score=5710.569105691057, accuracy=0.702),\n",
       " ExperimentResult(score=6219.354838709678, accuracy=0.738),\n",
       " ExperimentResult(score=6056.461232604374, accuracy=0.725),\n",
       " ExperimentResult(score=6169.477911646587, accuracy=0.739),\n",
       " ExperimentResult(score=5686.22754491018, accuracy=0.688),\n",
       " ExperimentResult(score=5827.55905511811, accuracy=0.691),\n",
       " ExperimentResult(score=5786.027944111776, accuracy=0.714),\n",
       " ExperimentResult(score=5919.675456389453, accuracy=0.718),\n",
       " ExperimentResult(score=5880.0, accuracy=0.712),\n",
       " ExperimentResult(score=6072.727272727273, accuracy=0.723),\n",
       " ExperimentResult(score=5837.0370370370365, accuracy=0.69),\n",
       " ExperimentResult(score=5804.132231404958, accuracy=0.711),\n",
       " ExperimentResult(score=5910.655737704918, accuracy=0.73),\n",
       " ExperimentResult(score=5962.6984126984125, accuracy=0.716),\n",
       " ExperimentResult(score=5994.388777555109, accuracy=0.723),\n",
       " ExperimentResult(score=5834.764826175869, accuracy=0.715),\n",
       " ExperimentResult(score=5948.362235067437, accuracy=0.701),\n",
       " ExperimentResult(score=5951.051625239005, accuracy=0.7),\n",
       " ExperimentResult(score=6002.5052192066805, accuracy=0.732),\n",
       " ExperimentResult(score=6093.868921775898, accuracy=0.743),\n",
       " ExperimentResult(score=5635.699797160244, accuracy=0.687),\n",
       " ExperimentResult(score=5624.7422680412365, accuracy=0.69),\n",
       " ExperimentResult(score=6122.834645669292, accuracy=0.728),\n",
       " ExperimentResult(score=5695.161290322581, accuracy=0.708),\n",
       " ExperimentResult(score=5824.291497975708, accuracy=0.706),\n",
       " ExperimentResult(score=6267.889908256881, accuracy=0.735),\n",
       " ExperimentResult(score=5654.8387096774195, accuracy=0.702),\n",
       " ExperimentResult(score=5945.833333333334, accuracy=0.729),\n",
       " ExperimentResult(score=5693.7875751503, accuracy=0.704),\n",
       " ExperimentResult(score=6007.920792079208, accuracy=0.716),\n",
       " ExperimentResult(score=5916.564417177914, accuracy=0.719),\n",
       " ExperimentResult(score=6063.374485596708, accuracy=0.73),\n",
       " ExperimentResult(score=5862.5, accuracy=0.728),\n",
       " ExperimentResult(score=5872.691552062868, accuracy=0.697),\n",
       " ExperimentResult(score=5866.115702479337, accuracy=0.726),\n",
       " ExperimentResult(score=6008.835341365462, accuracy=0.723),\n",
       " ExperimentResult(score=5812.19512195122, accuracy=0.718),\n",
       " ExperimentResult(score=5920.315581854044, accuracy=0.71),\n",
       " ExperimentResult(score=5801.972386587771, accuracy=0.709),\n",
       " ExperimentResult(score=5837.0370370370365, accuracy=0.701),\n",
       " ExperimentResult(score=5988.118811881188, accuracy=0.715),\n",
       " ExperimentResult(score=6027.926078028747, accuracy=0.73),\n",
       " ExperimentResult(score=5971.717171717172, accuracy=0.724),\n",
       " ExperimentResult(score=5831.872509960159, accuracy=0.698),\n",
       " ExperimentResult(score=6024.576271186441, accuracy=0.727),\n",
       " ExperimentResult(score=5811.952191235059, accuracy=0.708),\n",
       " ExperimentResult(score=5991.919191919193, accuracy=0.729),\n",
       " ExperimentResult(score=6046.09375, accuracy=0.722),\n",
       " ExperimentResult(score=5916.564417177914, accuracy=0.728),\n",
       " ExperimentResult(score=6041.379310344828, accuracy=0.728),\n",
       " ExperimentResult(score=5957.464212678937, accuracy=0.723),\n",
       " ExperimentResult(score=5974.79674796748, accuracy=0.72),\n",
       " ExperimentResult(score=5998.4435797665365, accuracy=0.713),\n",
       " ExperimentResult(score=6036.580516898609, accuracy=0.722),\n",
       " ExperimentResult(score=6113.725490196078, accuracy=0.725),\n",
       " ExperimentResult(score=5876.923076923077, accuracy=0.694),\n",
       " ExperimentResult(score=5925.748502994012, accuracy=0.705),\n",
       " ExperimentResult(score=5888.353413654619, accuracy=0.718),\n",
       " ExperimentResult(score=6195.4372623574145, accuracy=0.719),\n",
       " ExperimentResult(score=5857.6131687242805, accuracy=0.719),\n",
       " ExperimentResult(score=6077.992277992278, accuracy=0.715),\n",
       " ExperimentResult(score=6050.9960159362545, accuracy=0.723),\n",
       " ExperimentResult(score=5916.182572614108, accuracy=0.719),\n",
       " ExperimentResult(score=5900.591715976331, accuracy=0.703),\n",
       " ExperimentResult(score=5820.0, accuracy=0.713),\n",
       " ExperimentResult(score=5784.126984126984, accuracy=0.705),\n",
       " ExperimentResult(score=5770.954356846473, accuracy=0.704),\n",
       " ExperimentResult(score=5751.219512195123, accuracy=0.704),\n",
       " ExperimentResult(score=6060.0, accuracy=0.731),\n",
       " ExperimentResult(score=5800.0, accuracy=0.71),\n",
       " ExperimentResult(score=5732.773109243698, accuracy=0.708),\n",
       " ExperimentResult(score=5937.254901960784, accuracy=0.705),\n",
       " ExperimentResult(score=5957.057654075547, accuracy=0.729),\n",
       " ExperimentResult(score=6181.889763779528, accuracy=0.74),\n",
       " ExperimentResult(score=6342.213883677298, accuracy=0.727),\n",
       " ExperimentResult(score=5834.0681362725445, accuracy=0.708),\n",
       " ExperimentResult(score=6113.725490196078, accuracy=0.723),\n",
       " ExperimentResult(score=6128.094302554027, accuracy=0.726),\n",
       " ExperimentResult(score=5771.544715447155, accuracy=0.713),\n",
       " ExperimentResult(score=5806.109979633401, accuracy=0.706)]"
      ]
     },
     "execution_count": 4,
     "metadata": {},
     "output_type": "execute_result"
    }
   ],
   "execution_count": 4
  },
  {
   "metadata": {
    "ExecuteTime": {
     "end_time": "2024-06-02T15:28:30.723095Z",
     "start_time": "2024-06-02T15:25:44.962850Z"
    }
   },
   "cell_type": "code",
   "source": [
    "from aml_projects.Project2.models.utils import run_experiment, generate_feature_interactions_quadratic\n",
    "\n",
    "squared_results = run_experiment(\n",
    "    'svm_results/',\n",
    "    'squared',\n",
    "    apply_optimized_svm,\n",
    "    X,\n",
    "    y,\n",
    "    selected_features,\n",
    "    generate_feature_interactions=generate_feature_interactions_quadratic,\n",
    "    iterations=100\n",
    ")\n",
    "\n",
    "squared_results"
   ],
   "outputs": [
    {
     "data": {
      "text/plain": [
       "[ExperimentResult(score=5639.91683991684, accuracy=0.696),\n",
       " ExperimentResult(score=5951.394422310756, accuracy=0.713),\n",
       " ExperimentResult(score=6031.075697211155, accuracy=0.718),\n",
       " ExperimentResult(score=5998.364008179959, accuracy=0.728),\n",
       " ExperimentResult(score=5962.977867203219, accuracy=0.717),\n",
       " ExperimentResult(score=5786.027944111776, accuracy=0.698),\n",
       " ExperimentResult(score=5733.867735470941, accuracy=0.694),\n",
       " ExperimentResult(score=5736.758893280633, accuracy=0.689),\n",
       " ExperimentResult(score=6054.509018036071, accuracy=0.723),\n",
       " ExperimentResult(score=6060.0, accuracy=0.724),\n",
       " ExperimentResult(score=5940.0, accuracy=0.712),\n",
       " ExperimentResult(score=6096.222664015905, accuracy=0.736),\n",
       " ExperimentResult(score=5978.4232365145235, accuracy=0.726),\n",
       " ExperimentResult(score=6092.929292929293, accuracy=0.729),\n",
       " ExperimentResult(score=5901.1673151750965, accuracy=0.703),\n",
       " ExperimentResult(score=5846.332046332046, accuracy=0.695),\n",
       " ExperimentResult(score=5951.277013752456, accuracy=0.717),\n",
       " ExperimentResult(score=5862.374245472836, accuracy=0.71),\n",
       " ExperimentResult(score=5765.376782077393, accuracy=0.704),\n",
       " ExperimentResult(score=5562.8865979381435, accuracy=0.677),\n",
       " ExperimentResult(score=5710.569105691057, accuracy=0.693),\n",
       " ExperimentResult(score=6017.741935483871, accuracy=0.725),\n",
       " ExperimentResult(score=5937.176938369782, accuracy=0.721),\n",
       " ExperimentResult(score=6109.236947791165, accuracy=0.727),\n",
       " ExperimentResult(score=5666.26746506986, accuracy=0.688),\n",
       " ExperimentResult(score=5591.3385826771655, accuracy=0.681),\n",
       " ExperimentResult(score=5845.908183632735, accuracy=0.702),\n",
       " ExperimentResult(score=5879.107505070994, accuracy=0.712),\n",
       " ExperimentResult(score=5880.0, accuracy=0.716),\n",
       " ExperimentResult(score=5914.624505928854, accuracy=0.702),\n",
       " ExperimentResult(score=5739.571150097466, accuracy=0.687),\n",
       " ExperimentResult(score=5762.809917355371, accuracy=0.702),\n",
       " ExperimentResult(score=5931.147540983607, accuracy=0.726),\n",
       " ExperimentResult(score=5843.650793650793, accuracy=0.711),\n",
       " ExperimentResult(score=5954.308617234468, accuracy=0.716),\n",
       " ExperimentResult(score=5773.415132924335, accuracy=0.708),\n",
       " ExperimentResult(score=5794.219653179191, accuracy=0.685),\n",
       " ExperimentResult(score=5778.967495219885, accuracy=0.681),\n",
       " ExperimentResult(score=5877.244258872652, accuracy=0.718),\n",
       " ExperimentResult(score=6093.868921775898, accuracy=0.738),\n",
       " ExperimentResult(score=5554.563894523327, accuracy=0.682),\n",
       " ExperimentResult(score=5707.21649484536, accuracy=0.7),\n",
       " ExperimentResult(score=6044.094488188976, accuracy=0.721),\n",
       " ExperimentResult(score=5654.8387096774195, accuracy=0.691),\n",
       " ExperimentResult(score=5743.31983805668, accuracy=0.695),\n",
       " ExperimentResult(score=6194.495412844037, accuracy=0.718),\n",
       " ExperimentResult(score=5735.483870967742, accuracy=0.696),\n",
       " ExperimentResult(score=5820.833333333334, accuracy=0.712),\n",
       " ExperimentResult(score=5773.947895791583, accuracy=0.697),\n",
       " ExperimentResult(score=5869.306930693069, accuracy=0.698),\n",
       " ExperimentResult(score=5814.314928425358, accuracy=0.707),\n",
       " ExperimentResult(score=5981.069958847737, accuracy=0.726),\n",
       " ExperimentResult(score=5945.833333333334, accuracy=0.724),\n",
       " ExperimentResult(score=5794.1060903732805, accuracy=0.695),\n",
       " ExperimentResult(score=5742.148760330578, accuracy=0.708),\n",
       " ExperimentResult(score=5848.192771084337, accuracy=0.71),\n",
       " ExperimentResult(score=5812.19512195122, accuracy=0.707),\n",
       " ExperimentResult(score=5959.763313609467, accuracy=0.71),\n",
       " ExperimentResult(score=5801.972386587771, accuracy=0.701),\n",
       " ExperimentResult(score=5778.557504873294, accuracy=0.691),\n",
       " ExperimentResult(score=5889.108910891089, accuracy=0.707),\n",
       " ExperimentResult(score=5945.790554414783, accuracy=0.718),\n",
       " ExperimentResult(score=6032.323232323232, accuracy=0.721),\n",
       " ExperimentResult(score=5672.509960159362, accuracy=0.686),\n",
       " ExperimentResult(score=5876.271186440678, accuracy=0.72),\n",
       " ExperimentResult(score=5891.633466135458, accuracy=0.709),\n",
       " ExperimentResult(score=5951.515151515152, accuracy=0.714),\n",
       " ExperimentResult(score=5870.3125, accuracy=0.701),\n",
       " ExperimentResult(score=5916.564417177914, accuracy=0.719),\n",
       " ExperimentResult(score=6000.811359026369, accuracy=0.724),\n",
       " ExperimentResult(score=5916.564417177914, accuracy=0.713),\n",
       " ExperimentResult(score=5812.19512195122, accuracy=0.706),\n",
       " ExperimentResult(score=5823.346303501945, accuracy=0.695),\n",
       " ExperimentResult(score=5957.057654075547, accuracy=0.708),\n",
       " ExperimentResult(score=5996.078431372549, accuracy=0.715),\n",
       " ExperimentResult(score=5819.2307692307695, accuracy=0.685),\n",
       " ExperimentResult(score=5925.748502994012, accuracy=0.709),\n",
       " ExperimentResult(score=5868.273092369478, accuracy=0.703),\n",
       " ExperimentResult(score=6043.346007604563, accuracy=0.699),\n",
       " ExperimentResult(score=5939.917695473251, accuracy=0.717),\n",
       " ExperimentResult(score=5884.942084942085, accuracy=0.704),\n",
       " ExperimentResult(score=5971.314741035856, accuracy=0.718),\n",
       " ExperimentResult(score=5916.182572614108, accuracy=0.715),\n",
       " ExperimentResult(score=5801.972386587771, accuracy=0.692),\n",
       " ExperimentResult(score=5780.0, accuracy=0.699),\n",
       " ExperimentResult(score=5784.126984126984, accuracy=0.697),\n",
       " ExperimentResult(score=5729.460580912863, accuracy=0.699),\n",
       " ExperimentResult(score=5669.918699186992, accuracy=0.688),\n",
       " ExperimentResult(score=5980.0, accuracy=0.727),\n",
       " ExperimentResult(score=5640.0, accuracy=0.677),\n",
       " ExperimentResult(score=5690.756302521009, accuracy=0.704),\n",
       " ExperimentResult(score=5819.607843137254, accuracy=0.698),\n",
       " ExperimentResult(score=5917.296222664017, accuracy=0.71),\n",
       " ExperimentResult(score=6103.149606299213, accuracy=0.729),\n",
       " ExperimentResult(score=6192.120075046904, accuracy=0.718),\n",
       " ExperimentResult(score=5814.028056112224, accuracy=0.707),\n",
       " ExperimentResult(score=5996.078431372549, accuracy=0.714),\n",
       " ExperimentResult(score=6010.216110019646, accuracy=0.719),\n",
       " ExperimentResult(score=5791.869918699187, accuracy=0.706),\n",
       " ExperimentResult(score=5806.109979633401, accuracy=0.7)]"
      ]
     },
     "execution_count": 5,
     "metadata": {},
     "output_type": "execute_result"
    }
   ],
   "execution_count": 5
  },
  {
   "metadata": {
    "ExecuteTime": {
     "end_time": "2024-06-02T19:23:47.974758Z",
     "start_time": "2024-06-02T19:23:47.936698Z"
    }
   },
   "cell_type": "code",
   "source": [
    "# Boxplot of the results\n",
    "\n",
    "scores_normal, scores_squared = list(map(lambda x: x.score, normal_results)), list(map(lambda x: x.score, squared_results))\n",
    "accuracies_normal, accuracies_squared = list(map(lambda x: x.accuracy, normal_results)), list(map(lambda x: x.accuracy, squared_results))\n",
    "\n",
    "plt.boxplot([scores_normal, scores_squared])\n",
    "plt.xticks([1, 2], ['Normal', 'Squared'])\n",
    "plt.ylim(0, 10000)\n",
    "plt.title('SVM - Scores')\n",
    "\n",
    "# Mean and max scores on plot\n",
    "plt.text(1, np.max(scores_normal) + 600, f'Mean: {np.mean(scores_normal):.2f} ± {np.std(scores_normal):.2f}', ha='center', va='bottom')\n",
    "plt.text(2, np.max(scores_squared) + 600, f'Mean: {np.mean(scores_squared):.2f} ± {np.std(scores_squared):.2f}', ha='center', va='bottom')\n",
    "plt.text(1, np.max(scores_normal) + 1000, f'Max: {np.max(scores_normal):.2f}', ha='center', va='bottom')\n",
    "plt.text(2, np.max(scores_squared) + 1000, f'Max: {np.max(scores_squared):.2f}', ha='center', va='bottom')\n",
    "plt.show()\n",
    "\n",
    "\n",
    "plt.boxplot([accuracies_normal, accuracies_squared])\n",
    "plt.xticks([1, 2], ['Normal', 'Squared'])\n",
    "plt.ylim(0, 1)\n",
    "plt.title('SVM - Accuracies')\n",
    "\n",
    "# Mean and max scores on plot\n",
    "plt.text(1, np.max(accuracies_normal) + 0.05, f'Mean: {np.mean(accuracies_normal):.2f} ± {np.std(accuracies_normal):.2f}', ha='center', va='bottom')\n",
    "plt.text(2, np.max(accuracies_squared) + 0.05, f'Mean: {np.mean(accuracies_squared):.2f} ± {np.std(accuracies_squared):.2f}', ha='center', va='bottom')\n",
    "plt.text(1, np.max(accuracies_normal) + 0.1, f'Max: {np.max(accuracies_normal):.2f}', ha='center', va='bottom')\n",
    "plt.text(2, np.max(accuracies_squared) + 0.1, f'Max: {np.max(accuracies_squared):.2f}', ha='center', va='bottom')"
   ],
   "outputs": [
    {
     "ename": "NameError",
     "evalue": "name 'normal_results' is not defined",
     "output_type": "error",
     "traceback": [
      "\u001B[0;31m---------------------------------------------------------------------------\u001B[0m",
      "\u001B[0;31mNameError\u001B[0m                                 Traceback (most recent call last)",
      "Cell \u001B[0;32mIn[5], line 3\u001B[0m\n\u001B[1;32m      1\u001B[0m \u001B[38;5;66;03m# Boxplot of the results\u001B[39;00m\n\u001B[0;32m----> 3\u001B[0m scores_normal, scores_squared \u001B[38;5;241m=\u001B[39m \u001B[38;5;28mlist\u001B[39m(\u001B[38;5;28mmap\u001B[39m(\u001B[38;5;28;01mlambda\u001B[39;00m x: x\u001B[38;5;241m.\u001B[39mscore, \u001B[43mnormal_results\u001B[49m)), \u001B[38;5;28mlist\u001B[39m(\u001B[38;5;28mmap\u001B[39m(\u001B[38;5;28;01mlambda\u001B[39;00m x: x\u001B[38;5;241m.\u001B[39mscore, squared_results))\n\u001B[1;32m      4\u001B[0m accuracies_normal, accuracies_squared \u001B[38;5;241m=\u001B[39m \u001B[38;5;28mlist\u001B[39m(\u001B[38;5;28mmap\u001B[39m(\u001B[38;5;28;01mlambda\u001B[39;00m x: x\u001B[38;5;241m.\u001B[39maccuracy, normal_results)), \u001B[38;5;28mlist\u001B[39m(\u001B[38;5;28mmap\u001B[39m(\u001B[38;5;28;01mlambda\u001B[39;00m x: x\u001B[38;5;241m.\u001B[39maccuracy, squared_results))\n\u001B[1;32m      6\u001B[0m plt\u001B[38;5;241m.\u001B[39mboxplot([scores_normal, scores_squared])\n",
      "\u001B[0;31mNameError\u001B[0m: name 'normal_results' is not defined"
     ]
    }
   ],
   "execution_count": 5
  },
  {
   "metadata": {},
   "cell_type": "markdown",
   "source": "## Apply the model to the final choice - SVM"
  },
  {
   "metadata": {
    "ExecuteTime": {
     "end_time": "2024-06-02T19:23:50.442568Z",
     "start_time": "2024-06-02T19:23:50.437821Z"
    }
   },
   "cell_type": "code",
   "source": [
    "from aml_projects.Project2.models.utils import GenerateFeatureInteractionsMethod, select_customers, ApplyModelMethod\n",
    "\n",
    "\n",
    "def apply_model_to_final_choice(\n",
    "        X: pd.DataFrame,\n",
    "        y: pd.Series,\n",
    "        X_test: pd.DataFrame,\n",
    "        model: ApplyModelMethod,\n",
    "        generate_feature_interactions: GenerateFeatureInteractionsMethod,\n",
    "        threshold_num: int,\n",
    "        random_state: int = 0\n",
    ") -> pd.Series:\n",
    "    \"\"\"\n",
    "    Apply the  model to the dataset and select the customers.\n",
    "    :param X: pd.DataFrame - The training dataset.\n",
    "    :param y: pd.Series - The target variable.\n",
    "    :param X_test: pd.DataFrame - The test dataset.\n",
    "    :param model: ApplyModelMethod - The model to apply.\n",
    "    :param generate_feature_interactions: GenerateFeatureInteractionsMethod - The feature interactions method.\n",
    "    :param threshold_num: int - The number of customers to select.\n",
    "    :param random_state: int - The random state.\n",
    "    :return: pd.Series - The predictions.\n",
    "    \"\"\"\n",
    "    \n",
    "    X = generate_feature_interactions(X)\n",
    "    X_test = generate_feature_interactions(X_test)\n",
    "\n",
    "    predicted_probabilities = model(X, y, X_test, random_state)\n",
    "    selected_customers = select_customers(predicted_probabilities, threshold_num)\n",
    "    return selected_customers"
   ],
   "outputs": [],
   "execution_count": 6
  },
  {
   "metadata": {
    "ExecuteTime": {
     "end_time": "2024-06-02T19:23:55.080112Z",
     "start_time": "2024-06-02T19:23:52.308241Z"
    }
   },
   "cell_type": "code",
   "source": [
    "from aml_projects.Project2.models.utils import generate_feature_interactions_quadratic, \\\n",
    "    generate_feature_interactions_noop\n",
    "\n",
    "selected_customers = apply_model_to_final_choice(\n",
    "    X,\n",
    "    y,\n",
    "    X_test_submission,\n",
    "    apply_optimized_svm,\n",
    "    generate_feature_interactions_noop,\n",
    "    threshold_num=1000\n",
    ")\n",
    "\n",
    "selected_features, selected_customers"
   ],
   "outputs": [
    {
     "data": {
      "text/plain": [
       "([100, 101, 102, 103, 104, 105],\n",
       " 0       False\n",
       " 1       False\n",
       " 2       False\n",
       " 3        True\n",
       " 4       False\n",
       "         ...  \n",
       " 4995     True\n",
       " 4996     True\n",
       " 4997     True\n",
       " 4998    False\n",
       " 4999    False\n",
       " Length: 5000, dtype: bool)"
      ]
     },
     "execution_count": 7,
     "metadata": {},
     "output_type": "execute_result"
    }
   ],
   "execution_count": 7
  },
  {
   "metadata": {
    "ExecuteTime": {
     "end_time": "2024-06-02T19:23:56.656927Z",
     "start_time": "2024-06-02T19:23:56.650879Z"
    }
   },
   "cell_type": "code",
   "source": [
    "# Save the selected customers indices\n",
    "selected_customers_indices = selected_customers[selected_customers].index + 1 # Start from 1\n",
    "\n",
    "# To text file with new line separator\n",
    "with open('svm_results/selected_customers_indices.txt', 'w') as file:\n",
    "    file.write('\\n'.join(map(str, selected_customers_indices)))"
   ],
   "outputs": [],
   "execution_count": 8
  },
  {
   "metadata": {
    "ExecuteTime": {
     "end_time": "2024-06-02T19:23:57.473581Z",
     "start_time": "2024-06-02T19:23:57.468637Z"
    }
   },
   "cell_type": "code",
   "source": [
    "# Save the selected features\n",
    "selected_features_fix_index = [feature + 1 for feature in selected_features] # Start from 1\n",
    "with open('svm_results/selected_features.txt', 'w') as file:\n",
    "    file.write('\\n'.join(map(str, selected_features_fix_index)))"
   ],
   "outputs": [],
   "execution_count": 9
  }
 ],
 "metadata": {
  "kernelspec": {
   "display_name": "aml",
   "language": "python",
   "name": "python3"
  },
  "language_info": {
   "codemirror_mode": {
    "name": "ipython",
    "version": 3
   },
   "file_extension": ".py",
   "mimetype": "text/x-python",
   "name": "python",
   "nbconvert_exporter": "python",
   "pygments_lexer": "ipython3",
   "version": "3.10.14"
  }
 },
 "nbformat": 4,
 "nbformat_minor": 2
}
