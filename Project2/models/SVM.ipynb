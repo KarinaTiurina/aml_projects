{
 "cells": [
  {
   "cell_type": "markdown",
   "metadata": {},
   "source": [
    "# SVM"
   ]
  },
  {
   "cell_type": "code",
   "metadata": {
    "ExecuteTime": {
     "end_time": "2024-06-02T13:05:23.143525Z",
     "start_time": "2024-06-02T13:05:22.903120Z"
    }
   },
   "source": [
    "import numpy as np\n",
    "import pandas as pd\n",
    "import  matplotlib.pyplot as plt\n",
    "import warnings\n",
    "warnings.filterwarnings(\"ignore\")"
   ],
   "outputs": [],
   "execution_count": 3
  },
  {
   "metadata": {
    "ExecuteTime": {
     "end_time": "2024-06-02T13:31:52.894183Z",
     "start_time": "2024-06-02T13:31:52.353076Z"
    }
   },
   "cell_type": "code",
   "source": [
    "X = pd.read_table('../data/data/x_train.txt', header=None, delimiter=' ')\n",
    "y = pd.read_table('../data/data/y_train.txt', header=None)\n",
    "X_test_submission = pd.read_table('../data/data/x_test.txt', header=None, delimiter=' ')\n",
    "\n",
    "# based on feature selection investigation\n",
    "selected_features = [100, 101, 102, 103, 104, 105]\n",
    "X = X[selected_features]\n",
    "X_test_submission = X_test_submission[selected_features]"
   ],
   "outputs": [],
   "execution_count": 20
  },
  {
   "metadata": {
    "ExecuteTime": {
     "end_time": "2024-06-02T13:05:43.805181Z",
     "start_time": "2024-06-02T13:05:43.758624Z"
    }
   },
   "cell_type": "code",
   "source": [
    "from sklearn.svm import SVC\n",
    "\n",
    "def apply_optimized_svm(\n",
    "        X: pd.DataFrame,\n",
    "        y: pd.Series,\n",
    "        X_test: pd.DataFrame,\n",
    "        random_state: int = 0\n",
    ") -> pd.Series:\n",
    "    \"\"\"\n",
    "    Apply the optimized SVM model to the dataset.\n",
    "    :param X: pd.DataFrame - The training dataset.\n",
    "    :param y: pd.Series - The target variable.\n",
    "    :param X_test: pd.DataFrame - The test dataset.\n",
    "    :param random_state: int - The random state.\n",
    "    :return: pd.Series - The predictions.\n",
    "    \"\"\"\n",
    "\n",
    "    model = SVC(\n",
    "        C=0.1,\n",
    "        gamma=0.1,\n",
    "        class_weight='balanced',\n",
    "        kernel='rbf',\n",
    "        random_state=random_state,\n",
    "        probability=True\n",
    "    )\n",
    "\n",
    "    model.fit(X, y)\n",
    "    return pd.Series(model.predict_proba(X_test)[:, 1], index=X_test.index)"
   ],
   "outputs": [],
   "execution_count": 7
  },
  {
   "metadata": {
    "ExecuteTime": {
     "end_time": "2024-06-02T12:48:45.932015Z",
     "start_time": "2024-06-02T12:46:23.526206Z"
    }
   },
   "cell_type": "code",
   "source": [
    "from aml_projects.Project2.models.utils import run_experiment\n",
    "\n",
    "normal_results = run_experiment(\n",
    "    'svm_results/',\n",
    "    'normal',\n",
    "    apply_optimized_svm,\n",
    "    X,\n",
    "    y,\n",
    "    selected_features,\n",
    "    iterations=100\n",
    ")\n",
    "\n",
    "normal_results"
   ],
   "outputs": [
    {
     "data": {
      "text/plain": [
       "[ExperimentResult(score=5681.496881496882, accuracy=0.704),\n",
       " ExperimentResult(score=5851.792828685258, accuracy=0.721),\n",
       " ExperimentResult(score=6090.836653386454, accuracy=0.734),\n",
       " ExperimentResult(score=6121.063394683027, accuracy=0.744),\n",
       " ExperimentResult(score=5942.857142857142, accuracy=0.726),\n",
       " ExperimentResult(score=5905.788423153693, accuracy=0.722),\n",
       " ExperimentResult(score=5954.308617234468, accuracy=0.715),\n",
       " ExperimentResult(score=5914.624505928854, accuracy=0.714),\n",
       " ExperimentResult(score=5914.228456913826, accuracy=0.726),\n",
       " ExperimentResult(score=6120.0, accuracy=0.732),\n",
       " ExperimentResult(score=5980.0, accuracy=0.713),\n",
       " ExperimentResult(score=6175.745526838967, accuracy=0.732),\n",
       " ExperimentResult(score=6040.663900414938, accuracy=0.738),\n",
       " ExperimentResult(score=5991.919191919193, accuracy=0.732),\n",
       " ExperimentResult(score=6037.354085603112, accuracy=0.71),\n",
       " ExperimentResult(score=5962.1621621621625, accuracy=0.714),\n",
       " ExperimentResult(score=6069.155206286837, accuracy=0.718),\n",
       " ExperimentResult(score=5822.132796780684, accuracy=0.713),\n",
       " ExperimentResult(score=6050.5091649694505, accuracy=0.725),\n",
       " ExperimentResult(score=5624.7422680412365, accuracy=0.704),\n",
       " ExperimentResult(score=5710.569105691057, accuracy=0.702),\n",
       " ExperimentResult(score=6219.354838709678, accuracy=0.738),\n",
       " ExperimentResult(score=6056.461232604374, accuracy=0.725),\n",
       " ExperimentResult(score=6169.477911646587, accuracy=0.739),\n",
       " ExperimentResult(score=5686.22754491018, accuracy=0.688),\n",
       " ExperimentResult(score=5827.55905511811, accuracy=0.691),\n",
       " ExperimentResult(score=5786.027944111776, accuracy=0.714),\n",
       " ExperimentResult(score=5919.675456389453, accuracy=0.718),\n",
       " ExperimentResult(score=5880.0, accuracy=0.712),\n",
       " ExperimentResult(score=6072.727272727273, accuracy=0.723),\n",
       " ExperimentResult(score=5837.0370370370365, accuracy=0.69),\n",
       " ExperimentResult(score=5804.132231404958, accuracy=0.711),\n",
       " ExperimentResult(score=5910.655737704918, accuracy=0.73),\n",
       " ExperimentResult(score=5962.6984126984125, accuracy=0.716),\n",
       " ExperimentResult(score=5994.388777555109, accuracy=0.723),\n",
       " ExperimentResult(score=5834.764826175869, accuracy=0.715),\n",
       " ExperimentResult(score=5948.362235067437, accuracy=0.701),\n",
       " ExperimentResult(score=5951.051625239005, accuracy=0.7),\n",
       " ExperimentResult(score=6002.5052192066805, accuracy=0.732),\n",
       " ExperimentResult(score=6093.868921775898, accuracy=0.743),\n",
       " ExperimentResult(score=5635.699797160244, accuracy=0.687),\n",
       " ExperimentResult(score=5624.7422680412365, accuracy=0.69),\n",
       " ExperimentResult(score=6122.834645669292, accuracy=0.728),\n",
       " ExperimentResult(score=5695.161290322581, accuracy=0.708),\n",
       " ExperimentResult(score=5824.291497975708, accuracy=0.706),\n",
       " ExperimentResult(score=6267.889908256881, accuracy=0.735),\n",
       " ExperimentResult(score=5654.8387096774195, accuracy=0.702),\n",
       " ExperimentResult(score=5945.833333333334, accuracy=0.729),\n",
       " ExperimentResult(score=5693.7875751503, accuracy=0.704),\n",
       " ExperimentResult(score=6007.920792079208, accuracy=0.716),\n",
       " ExperimentResult(score=5916.564417177914, accuracy=0.719),\n",
       " ExperimentResult(score=6063.374485596708, accuracy=0.73),\n",
       " ExperimentResult(score=5862.5, accuracy=0.728),\n",
       " ExperimentResult(score=5872.691552062868, accuracy=0.697),\n",
       " ExperimentResult(score=5866.115702479337, accuracy=0.726),\n",
       " ExperimentResult(score=6008.835341365462, accuracy=0.723),\n",
       " ExperimentResult(score=5812.19512195122, accuracy=0.718),\n",
       " ExperimentResult(score=5920.315581854044, accuracy=0.71),\n",
       " ExperimentResult(score=5801.972386587771, accuracy=0.709),\n",
       " ExperimentResult(score=5837.0370370370365, accuracy=0.701),\n",
       " ExperimentResult(score=5988.118811881188, accuracy=0.715),\n",
       " ExperimentResult(score=6027.926078028747, accuracy=0.73),\n",
       " ExperimentResult(score=5971.717171717172, accuracy=0.724),\n",
       " ExperimentResult(score=5831.872509960159, accuracy=0.698),\n",
       " ExperimentResult(score=6024.576271186441, accuracy=0.727),\n",
       " ExperimentResult(score=5811.952191235059, accuracy=0.708),\n",
       " ExperimentResult(score=5991.919191919193, accuracy=0.729),\n",
       " ExperimentResult(score=6046.09375, accuracy=0.722),\n",
       " ExperimentResult(score=5916.564417177914, accuracy=0.728),\n",
       " ExperimentResult(score=6041.379310344828, accuracy=0.728),\n",
       " ExperimentResult(score=5957.464212678937, accuracy=0.723),\n",
       " ExperimentResult(score=5974.79674796748, accuracy=0.72),\n",
       " ExperimentResult(score=5998.4435797665365, accuracy=0.713),\n",
       " ExperimentResult(score=6036.580516898609, accuracy=0.722),\n",
       " ExperimentResult(score=6113.725490196078, accuracy=0.725),\n",
       " ExperimentResult(score=5876.923076923077, accuracy=0.694),\n",
       " ExperimentResult(score=5925.748502994012, accuracy=0.705),\n",
       " ExperimentResult(score=5888.353413654619, accuracy=0.718),\n",
       " ExperimentResult(score=6195.4372623574145, accuracy=0.719),\n",
       " ExperimentResult(score=5857.6131687242805, accuracy=0.719),\n",
       " ExperimentResult(score=6077.992277992278, accuracy=0.715),\n",
       " ExperimentResult(score=6050.9960159362545, accuracy=0.723),\n",
       " ExperimentResult(score=5916.182572614108, accuracy=0.719),\n",
       " ExperimentResult(score=5900.591715976331, accuracy=0.703),\n",
       " ExperimentResult(score=5820.0, accuracy=0.713),\n",
       " ExperimentResult(score=5784.126984126984, accuracy=0.705),\n",
       " ExperimentResult(score=5770.954356846473, accuracy=0.704),\n",
       " ExperimentResult(score=5751.219512195123, accuracy=0.704),\n",
       " ExperimentResult(score=6060.0, accuracy=0.731),\n",
       " ExperimentResult(score=5800.0, accuracy=0.71),\n",
       " ExperimentResult(score=5732.773109243698, accuracy=0.708),\n",
       " ExperimentResult(score=5937.254901960784, accuracy=0.705),\n",
       " ExperimentResult(score=5957.057654075547, accuracy=0.729),\n",
       " ExperimentResult(score=6181.889763779528, accuracy=0.74),\n",
       " ExperimentResult(score=6342.213883677298, accuracy=0.727),\n",
       " ExperimentResult(score=5834.0681362725445, accuracy=0.708),\n",
       " ExperimentResult(score=6113.725490196078, accuracy=0.723),\n",
       " ExperimentResult(score=6128.094302554027, accuracy=0.726),\n",
       " ExperimentResult(score=5771.544715447155, accuracy=0.713),\n",
       " ExperimentResult(score=5806.109979633401, accuracy=0.706)]"
      ]
     },
     "execution_count": 13,
     "metadata": {},
     "output_type": "execute_result"
    }
   ],
   "execution_count": 13
  },
  {
   "metadata": {
    "ExecuteTime": {
     "end_time": "2024-06-02T13:32:03.050317Z",
     "start_time": "2024-06-02T13:31:59.747288Z"
    }
   },
   "cell_type": "code",
   "source": [
    "from aml_projects.Project2.models.utils import run_experiment, generate_feature_interactions_quadratic\n",
    "\n",
    "squared_results = run_experiment(\n",
    "    'svm_results/',\n",
    "    'squared',\n",
    "    apply_optimized_svm,\n",
    "    X,\n",
    "    y,\n",
    "    selected_features,\n",
    "    generate_feature_interactions=generate_feature_interactions_quadratic,\n",
    "    iterations=100\n",
    ")\n",
    "\n",
    "squared_results"
   ],
   "outputs": [
    {
     "ename": "KeyboardInterrupt",
     "evalue": "",
     "output_type": "error",
     "traceback": [
      "\u001B[0;31m---------------------------------------------------------------------------\u001B[0m",
      "\u001B[0;31mKeyboardInterrupt\u001B[0m                         Traceback (most recent call last)",
      "Cell \u001B[0;32mIn[21], line 3\u001B[0m\n\u001B[1;32m      1\u001B[0m \u001B[38;5;28;01mfrom\u001B[39;00m \u001B[38;5;21;01maml_projects\u001B[39;00m\u001B[38;5;21;01m.\u001B[39;00m\u001B[38;5;21;01mProject2\u001B[39;00m\u001B[38;5;21;01m.\u001B[39;00m\u001B[38;5;21;01mmodels\u001B[39;00m\u001B[38;5;21;01m.\u001B[39;00m\u001B[38;5;21;01mutils\u001B[39;00m \u001B[38;5;28;01mimport\u001B[39;00m run_experiment, generate_feature_interactions_quadratic\n\u001B[0;32m----> 3\u001B[0m squared_results \u001B[38;5;241m=\u001B[39m \u001B[43mrun_experiment\u001B[49m\u001B[43m(\u001B[49m\n\u001B[1;32m      4\u001B[0m \u001B[43m    \u001B[49m\u001B[38;5;124;43m'\u001B[39;49m\u001B[38;5;124;43msvm_results/\u001B[39;49m\u001B[38;5;124;43m'\u001B[39;49m\u001B[43m,\u001B[49m\n\u001B[1;32m      5\u001B[0m \u001B[43m    \u001B[49m\u001B[38;5;124;43m'\u001B[39;49m\u001B[38;5;124;43msquared\u001B[39;49m\u001B[38;5;124;43m'\u001B[39;49m\u001B[43m,\u001B[49m\n\u001B[1;32m      6\u001B[0m \u001B[43m    \u001B[49m\u001B[43mapply_optimized_svm\u001B[49m\u001B[43m,\u001B[49m\n\u001B[1;32m      7\u001B[0m \u001B[43m    \u001B[49m\u001B[43mX\u001B[49m\u001B[43m,\u001B[49m\n\u001B[1;32m      8\u001B[0m \u001B[43m    \u001B[49m\u001B[43my\u001B[49m\u001B[43m,\u001B[49m\n\u001B[1;32m      9\u001B[0m \u001B[43m    \u001B[49m\u001B[43mselected_features\u001B[49m\u001B[43m,\u001B[49m\n\u001B[1;32m     10\u001B[0m \u001B[43m    \u001B[49m\u001B[43mgenerate_feature_interactions\u001B[49m\u001B[38;5;241;43m=\u001B[39;49m\u001B[43mgenerate_feature_interactions_quadratic\u001B[49m\u001B[43m,\u001B[49m\n\u001B[1;32m     11\u001B[0m \u001B[43m    \u001B[49m\u001B[43miterations\u001B[49m\u001B[38;5;241;43m=\u001B[39;49m\u001B[38;5;241;43m100\u001B[39;49m\n\u001B[1;32m     12\u001B[0m \u001B[43m)\u001B[49m\n\u001B[1;32m     14\u001B[0m squared_results\n",
      "File \u001B[0;32m~/workspace/AdvMachineLearning/aml_projects/Project2/models/utils.py:184\u001B[0m, in \u001B[0;36mrun_experiment\u001B[0;34m(experiment_save_path, experiment_name, model, X, y, selected_features, generate_feature_interactions, iterations, target_max_score)\u001B[0m\n\u001B[1;32m    182\u001B[0m     X_train, X_test, y_train, y_test \u001B[38;5;241m=\u001B[39m train_test_split(X, y, test_size\u001B[38;5;241m=\u001B[39m\u001B[38;5;241m0.2\u001B[39m, random_state\u001B[38;5;241m=\u001B[39mi)\n\u001B[1;32m    183\u001B[0m     scale \u001B[38;5;241m=\u001B[39m target_max_score \u001B[38;5;241m/\u001B[39m max_score(threshold_num\u001B[38;5;241m=\u001B[39mnp\u001B[38;5;241m.\u001B[39msum(y_test\u001B[38;5;241m.\u001B[39mvalues))\n\u001B[0;32m--> 184\u001B[0m     score, accuracy \u001B[38;5;241m=\u001B[39m \u001B[43mtrain_and_evaluate_model\u001B[49m\u001B[43m(\u001B[49m\n\u001B[1;32m    185\u001B[0m \u001B[43m        \u001B[49m\u001B[43mmodel\u001B[49m\u001B[43m,\u001B[49m\n\u001B[1;32m    186\u001B[0m \u001B[43m        \u001B[49m\u001B[43mX_train\u001B[49m\u001B[43m,\u001B[49m\n\u001B[1;32m    187\u001B[0m \u001B[43m        \u001B[49m\u001B[43my_train\u001B[49m\u001B[43m,\u001B[49m\n\u001B[1;32m    188\u001B[0m \u001B[43m        \u001B[49m\u001B[43mX_test\u001B[49m\u001B[43m,\u001B[49m\n\u001B[1;32m    189\u001B[0m \u001B[43m        \u001B[49m\u001B[43my_test\u001B[49m\u001B[43m,\u001B[49m\n\u001B[1;32m    190\u001B[0m \u001B[43m        \u001B[49m\u001B[43mselected_features\u001B[49m\u001B[43m,\u001B[49m\n\u001B[1;32m    191\u001B[0m \u001B[43m        \u001B[49m\u001B[43mgenerate_feature_interactions\u001B[49m\u001B[43m,\u001B[49m\n\u001B[1;32m    192\u001B[0m \u001B[43m        \u001B[49m\u001B[43mshould_penalize_feature_num\u001B[49m\u001B[38;5;241;43m=\u001B[39;49m\u001B[38;5;28;43;01mTrue\u001B[39;49;00m\u001B[43m,\u001B[49m\n\u001B[1;32m    193\u001B[0m \u001B[43m        \u001B[49m\u001B[43mshould_return_accuracy\u001B[49m\u001B[38;5;241;43m=\u001B[39;49m\u001B[38;5;28;43;01mTrue\u001B[39;49;00m\u001B[43m,\u001B[49m\n\u001B[1;32m    194\u001B[0m \u001B[43m        \u001B[49m\u001B[43mrandom_state\u001B[49m\u001B[38;5;241;43m=\u001B[39;49m\u001B[43mi\u001B[49m\n\u001B[1;32m    195\u001B[0m \u001B[43m    \u001B[49m\u001B[43m)\u001B[49m\n\u001B[1;32m    196\u001B[0m     results\u001B[38;5;241m.\u001B[39mappend(ExperimentResult(score \u001B[38;5;241m*\u001B[39m scale, accuracy))\n\u001B[1;32m    198\u001B[0m results_df \u001B[38;5;241m=\u001B[39m pd\u001B[38;5;241m.\u001B[39mDataFrame(results)\n",
      "File \u001B[0;32m~/workspace/AdvMachineLearning/aml_projects/Project2/models/utils.py:126\u001B[0m, in \u001B[0;36mtrain_and_evaluate_model\u001B[0;34m(model, X_train, y_train, X_test, y_test, selected_features, generate_feature_interactions, should_penalize_feature_num, should_return_accuracy, random_state)\u001B[0m\n\u001B[1;32m    123\u001B[0m X_train \u001B[38;5;241m=\u001B[39m generate_feature_interactions(X_train)\n\u001B[1;32m    124\u001B[0m X_test \u001B[38;5;241m=\u001B[39m generate_feature_interactions(X_test)\n\u001B[0;32m--> 126\u001B[0m predicted_probabilities \u001B[38;5;241m=\u001B[39m \u001B[43mmodel\u001B[49m\u001B[43m(\u001B[49m\u001B[43mX_train\u001B[49m\u001B[43m,\u001B[49m\u001B[43m \u001B[49m\u001B[43my_train\u001B[49m\u001B[43m,\u001B[49m\u001B[43m \u001B[49m\u001B[43mX_test\u001B[49m\u001B[43m,\u001B[49m\u001B[43m \u001B[49m\u001B[43mrandom_state\u001B[49m\u001B[43m)\u001B[49m\n\u001B[1;32m    127\u001B[0m \u001B[38;5;66;03m# Number of customers to select is the number of customers who bought the product\u001B[39;00m\n\u001B[1;32m    128\u001B[0m threshold_num \u001B[38;5;241m=\u001B[39m np\u001B[38;5;241m.\u001B[39msum(y_test\u001B[38;5;241m.\u001B[39mvalues)\n",
      "Cell \u001B[0;32mIn[7], line 27\u001B[0m, in \u001B[0;36mapply_optimized_svm\u001B[0;34m(X, y, X_test, random_state)\u001B[0m\n\u001B[1;32m      9\u001B[0m \u001B[38;5;250m\u001B[39m\u001B[38;5;124;03m\"\"\"\u001B[39;00m\n\u001B[1;32m     10\u001B[0m \u001B[38;5;124;03mApply the optimized SVM model to the dataset.\u001B[39;00m\n\u001B[1;32m     11\u001B[0m \u001B[38;5;124;03m:param X: pd.DataFrame - The training dataset.\u001B[39;00m\n\u001B[0;32m   (...)\u001B[0m\n\u001B[1;32m     15\u001B[0m \u001B[38;5;124;03m:return: pd.Series - The predictions.\u001B[39;00m\n\u001B[1;32m     16\u001B[0m \u001B[38;5;124;03m\"\"\"\u001B[39;00m\n\u001B[1;32m     18\u001B[0m model \u001B[38;5;241m=\u001B[39m SVC(\n\u001B[1;32m     19\u001B[0m     C\u001B[38;5;241m=\u001B[39m\u001B[38;5;241m0.1\u001B[39m,\n\u001B[1;32m     20\u001B[0m     gamma\u001B[38;5;241m=\u001B[39m\u001B[38;5;241m0.1\u001B[39m,\n\u001B[0;32m   (...)\u001B[0m\n\u001B[1;32m     24\u001B[0m     probability\u001B[38;5;241m=\u001B[39m\u001B[38;5;28;01mTrue\u001B[39;00m\n\u001B[1;32m     25\u001B[0m )\n\u001B[0;32m---> 27\u001B[0m \u001B[43mmodel\u001B[49m\u001B[38;5;241;43m.\u001B[39;49m\u001B[43mfit\u001B[49m\u001B[43m(\u001B[49m\u001B[43mX\u001B[49m\u001B[43m,\u001B[49m\u001B[43m \u001B[49m\u001B[43my\u001B[49m\u001B[43m)\u001B[49m\n\u001B[1;32m     28\u001B[0m \u001B[38;5;28;01mreturn\u001B[39;00m pd\u001B[38;5;241m.\u001B[39mSeries(model\u001B[38;5;241m.\u001B[39mpredict_proba(X_test)[:, \u001B[38;5;241m1\u001B[39m], index\u001B[38;5;241m=\u001B[39mX_test\u001B[38;5;241m.\u001B[39mindex)\n",
      "File \u001B[0;32m/opt/anaconda3/envs/workspace/lib/python3.10/site-packages/sklearn/base.py:1474\u001B[0m, in \u001B[0;36m_fit_context.<locals>.decorator.<locals>.wrapper\u001B[0;34m(estimator, *args, **kwargs)\u001B[0m\n\u001B[1;32m   1467\u001B[0m     estimator\u001B[38;5;241m.\u001B[39m_validate_params()\n\u001B[1;32m   1469\u001B[0m \u001B[38;5;28;01mwith\u001B[39;00m config_context(\n\u001B[1;32m   1470\u001B[0m     skip_parameter_validation\u001B[38;5;241m=\u001B[39m(\n\u001B[1;32m   1471\u001B[0m         prefer_skip_nested_validation \u001B[38;5;129;01mor\u001B[39;00m global_skip_validation\n\u001B[1;32m   1472\u001B[0m     )\n\u001B[1;32m   1473\u001B[0m ):\n\u001B[0;32m-> 1474\u001B[0m     \u001B[38;5;28;01mreturn\u001B[39;00m \u001B[43mfit_method\u001B[49m\u001B[43m(\u001B[49m\u001B[43mestimator\u001B[49m\u001B[43m,\u001B[49m\u001B[43m \u001B[49m\u001B[38;5;241;43m*\u001B[39;49m\u001B[43margs\u001B[49m\u001B[43m,\u001B[49m\u001B[43m \u001B[49m\u001B[38;5;241;43m*\u001B[39;49m\u001B[38;5;241;43m*\u001B[39;49m\u001B[43mkwargs\u001B[49m\u001B[43m)\u001B[49m\n",
      "File \u001B[0;32m/opt/anaconda3/envs/workspace/lib/python3.10/site-packages/sklearn/svm/_base.py:250\u001B[0m, in \u001B[0;36mBaseLibSVM.fit\u001B[0;34m(self, X, y, sample_weight)\u001B[0m\n\u001B[1;32m    247\u001B[0m     \u001B[38;5;28mprint\u001B[39m(\u001B[38;5;124m\"\u001B[39m\u001B[38;5;124m[LibSVM]\u001B[39m\u001B[38;5;124m\"\u001B[39m, end\u001B[38;5;241m=\u001B[39m\u001B[38;5;124m\"\u001B[39m\u001B[38;5;124m\"\u001B[39m)\n\u001B[1;32m    249\u001B[0m seed \u001B[38;5;241m=\u001B[39m rnd\u001B[38;5;241m.\u001B[39mrandint(np\u001B[38;5;241m.\u001B[39miinfo(\u001B[38;5;124m\"\u001B[39m\u001B[38;5;124mi\u001B[39m\u001B[38;5;124m\"\u001B[39m)\u001B[38;5;241m.\u001B[39mmax)\n\u001B[0;32m--> 250\u001B[0m \u001B[43mfit\u001B[49m\u001B[43m(\u001B[49m\u001B[43mX\u001B[49m\u001B[43m,\u001B[49m\u001B[43m \u001B[49m\u001B[43my\u001B[49m\u001B[43m,\u001B[49m\u001B[43m \u001B[49m\u001B[43msample_weight\u001B[49m\u001B[43m,\u001B[49m\u001B[43m \u001B[49m\u001B[43msolver_type\u001B[49m\u001B[43m,\u001B[49m\u001B[43m \u001B[49m\u001B[43mkernel\u001B[49m\u001B[43m,\u001B[49m\u001B[43m \u001B[49m\u001B[43mrandom_seed\u001B[49m\u001B[38;5;241;43m=\u001B[39;49m\u001B[43mseed\u001B[49m\u001B[43m)\u001B[49m\n\u001B[1;32m    251\u001B[0m \u001B[38;5;66;03m# see comment on the other call to np.iinfo in this file\u001B[39;00m\n\u001B[1;32m    253\u001B[0m \u001B[38;5;28mself\u001B[39m\u001B[38;5;241m.\u001B[39mshape_fit_ \u001B[38;5;241m=\u001B[39m X\u001B[38;5;241m.\u001B[39mshape \u001B[38;5;28;01mif\u001B[39;00m \u001B[38;5;28mhasattr\u001B[39m(X, \u001B[38;5;124m\"\u001B[39m\u001B[38;5;124mshape\u001B[39m\u001B[38;5;124m\"\u001B[39m) \u001B[38;5;28;01melse\u001B[39;00m (n_samples,)\n",
      "File \u001B[0;32m/opt/anaconda3/envs/workspace/lib/python3.10/site-packages/sklearn/svm/_base.py:329\u001B[0m, in \u001B[0;36mBaseLibSVM._dense_fit\u001B[0;34m(self, X, y, sample_weight, solver_type, kernel, random_seed)\u001B[0m\n\u001B[1;32m    315\u001B[0m libsvm\u001B[38;5;241m.\u001B[39mset_verbosity_wrap(\u001B[38;5;28mself\u001B[39m\u001B[38;5;241m.\u001B[39mverbose)\n\u001B[1;32m    317\u001B[0m \u001B[38;5;66;03m# we don't pass **self.get_params() to allow subclasses to\u001B[39;00m\n\u001B[1;32m    318\u001B[0m \u001B[38;5;66;03m# add other parameters to __init__\u001B[39;00m\n\u001B[1;32m    319\u001B[0m (\n\u001B[1;32m    320\u001B[0m     \u001B[38;5;28mself\u001B[39m\u001B[38;5;241m.\u001B[39msupport_,\n\u001B[1;32m    321\u001B[0m     \u001B[38;5;28mself\u001B[39m\u001B[38;5;241m.\u001B[39msupport_vectors_,\n\u001B[1;32m    322\u001B[0m     \u001B[38;5;28mself\u001B[39m\u001B[38;5;241m.\u001B[39m_n_support,\n\u001B[1;32m    323\u001B[0m     \u001B[38;5;28mself\u001B[39m\u001B[38;5;241m.\u001B[39mdual_coef_,\n\u001B[1;32m    324\u001B[0m     \u001B[38;5;28mself\u001B[39m\u001B[38;5;241m.\u001B[39mintercept_,\n\u001B[1;32m    325\u001B[0m     \u001B[38;5;28mself\u001B[39m\u001B[38;5;241m.\u001B[39m_probA,\n\u001B[1;32m    326\u001B[0m     \u001B[38;5;28mself\u001B[39m\u001B[38;5;241m.\u001B[39m_probB,\n\u001B[1;32m    327\u001B[0m     \u001B[38;5;28mself\u001B[39m\u001B[38;5;241m.\u001B[39mfit_status_,\n\u001B[1;32m    328\u001B[0m     \u001B[38;5;28mself\u001B[39m\u001B[38;5;241m.\u001B[39m_num_iter,\n\u001B[0;32m--> 329\u001B[0m ) \u001B[38;5;241m=\u001B[39m \u001B[43mlibsvm\u001B[49m\u001B[38;5;241;43m.\u001B[39;49m\u001B[43mfit\u001B[49m\u001B[43m(\u001B[49m\n\u001B[1;32m    330\u001B[0m \u001B[43m    \u001B[49m\u001B[43mX\u001B[49m\u001B[43m,\u001B[49m\n\u001B[1;32m    331\u001B[0m \u001B[43m    \u001B[49m\u001B[43my\u001B[49m\u001B[43m,\u001B[49m\n\u001B[1;32m    332\u001B[0m \u001B[43m    \u001B[49m\u001B[43msvm_type\u001B[49m\u001B[38;5;241;43m=\u001B[39;49m\u001B[43msolver_type\u001B[49m\u001B[43m,\u001B[49m\n\u001B[1;32m    333\u001B[0m \u001B[43m    \u001B[49m\u001B[43msample_weight\u001B[49m\u001B[38;5;241;43m=\u001B[39;49m\u001B[43msample_weight\u001B[49m\u001B[43m,\u001B[49m\n\u001B[1;32m    334\u001B[0m \u001B[43m    \u001B[49m\u001B[43mclass_weight\u001B[49m\u001B[38;5;241;43m=\u001B[39;49m\u001B[38;5;28;43mgetattr\u001B[39;49m\u001B[43m(\u001B[49m\u001B[38;5;28;43mself\u001B[39;49m\u001B[43m,\u001B[49m\u001B[43m \u001B[49m\u001B[38;5;124;43m\"\u001B[39;49m\u001B[38;5;124;43mclass_weight_\u001B[39;49m\u001B[38;5;124;43m\"\u001B[39;49m\u001B[43m,\u001B[49m\u001B[43m \u001B[49m\u001B[43mnp\u001B[49m\u001B[38;5;241;43m.\u001B[39;49m\u001B[43mempty\u001B[49m\u001B[43m(\u001B[49m\u001B[38;5;241;43m0\u001B[39;49m\u001B[43m)\u001B[49m\u001B[43m)\u001B[49m\u001B[43m,\u001B[49m\n\u001B[1;32m    335\u001B[0m \u001B[43m    \u001B[49m\u001B[43mkernel\u001B[49m\u001B[38;5;241;43m=\u001B[39;49m\u001B[43mkernel\u001B[49m\u001B[43m,\u001B[49m\n\u001B[1;32m    336\u001B[0m \u001B[43m    \u001B[49m\u001B[43mC\u001B[49m\u001B[38;5;241;43m=\u001B[39;49m\u001B[38;5;28;43mself\u001B[39;49m\u001B[38;5;241;43m.\u001B[39;49m\u001B[43mC\u001B[49m\u001B[43m,\u001B[49m\n\u001B[1;32m    337\u001B[0m \u001B[43m    \u001B[49m\u001B[43mnu\u001B[49m\u001B[38;5;241;43m=\u001B[39;49m\u001B[38;5;28;43mself\u001B[39;49m\u001B[38;5;241;43m.\u001B[39;49m\u001B[43mnu\u001B[49m\u001B[43m,\u001B[49m\n\u001B[1;32m    338\u001B[0m \u001B[43m    \u001B[49m\u001B[43mprobability\u001B[49m\u001B[38;5;241;43m=\u001B[39;49m\u001B[38;5;28;43mself\u001B[39;49m\u001B[38;5;241;43m.\u001B[39;49m\u001B[43mprobability\u001B[49m\u001B[43m,\u001B[49m\n\u001B[1;32m    339\u001B[0m \u001B[43m    \u001B[49m\u001B[43mdegree\u001B[49m\u001B[38;5;241;43m=\u001B[39;49m\u001B[38;5;28;43mself\u001B[39;49m\u001B[38;5;241;43m.\u001B[39;49m\u001B[43mdegree\u001B[49m\u001B[43m,\u001B[49m\n\u001B[1;32m    340\u001B[0m \u001B[43m    \u001B[49m\u001B[43mshrinking\u001B[49m\u001B[38;5;241;43m=\u001B[39;49m\u001B[38;5;28;43mself\u001B[39;49m\u001B[38;5;241;43m.\u001B[39;49m\u001B[43mshrinking\u001B[49m\u001B[43m,\u001B[49m\n\u001B[1;32m    341\u001B[0m \u001B[43m    \u001B[49m\u001B[43mtol\u001B[49m\u001B[38;5;241;43m=\u001B[39;49m\u001B[38;5;28;43mself\u001B[39;49m\u001B[38;5;241;43m.\u001B[39;49m\u001B[43mtol\u001B[49m\u001B[43m,\u001B[49m\n\u001B[1;32m    342\u001B[0m \u001B[43m    \u001B[49m\u001B[43mcache_size\u001B[49m\u001B[38;5;241;43m=\u001B[39;49m\u001B[38;5;28;43mself\u001B[39;49m\u001B[38;5;241;43m.\u001B[39;49m\u001B[43mcache_size\u001B[49m\u001B[43m,\u001B[49m\n\u001B[1;32m    343\u001B[0m \u001B[43m    \u001B[49m\u001B[43mcoef0\u001B[49m\u001B[38;5;241;43m=\u001B[39;49m\u001B[38;5;28;43mself\u001B[39;49m\u001B[38;5;241;43m.\u001B[39;49m\u001B[43mcoef0\u001B[49m\u001B[43m,\u001B[49m\n\u001B[1;32m    344\u001B[0m \u001B[43m    \u001B[49m\u001B[43mgamma\u001B[49m\u001B[38;5;241;43m=\u001B[39;49m\u001B[38;5;28;43mself\u001B[39;49m\u001B[38;5;241;43m.\u001B[39;49m\u001B[43m_gamma\u001B[49m\u001B[43m,\u001B[49m\n\u001B[1;32m    345\u001B[0m \u001B[43m    \u001B[49m\u001B[43mepsilon\u001B[49m\u001B[38;5;241;43m=\u001B[39;49m\u001B[38;5;28;43mself\u001B[39;49m\u001B[38;5;241;43m.\u001B[39;49m\u001B[43mepsilon\u001B[49m\u001B[43m,\u001B[49m\n\u001B[1;32m    346\u001B[0m \u001B[43m    \u001B[49m\u001B[43mmax_iter\u001B[49m\u001B[38;5;241;43m=\u001B[39;49m\u001B[38;5;28;43mself\u001B[39;49m\u001B[38;5;241;43m.\u001B[39;49m\u001B[43mmax_iter\u001B[49m\u001B[43m,\u001B[49m\n\u001B[1;32m    347\u001B[0m \u001B[43m    \u001B[49m\u001B[43mrandom_seed\u001B[49m\u001B[38;5;241;43m=\u001B[39;49m\u001B[43mrandom_seed\u001B[49m\u001B[43m,\u001B[49m\n\u001B[1;32m    348\u001B[0m \u001B[43m\u001B[49m\u001B[43m)\u001B[49m\n\u001B[1;32m    350\u001B[0m \u001B[38;5;28mself\u001B[39m\u001B[38;5;241m.\u001B[39m_warn_from_fit_status()\n",
      "\u001B[0;31mKeyboardInterrupt\u001B[0m: "
     ]
    }
   ],
   "execution_count": 21
  },
  {
   "metadata": {
    "ExecuteTime": {
     "end_time": "2024-06-02T12:51:29.232945Z",
     "start_time": "2024-06-02T12:51:29.103422Z"
    }
   },
   "cell_type": "code",
   "source": [
    "# Boxplot of the results\n",
    "\n",
    "scores_normal, scores_squared = list(map(lambda x: x.score, normal_results)), list(map(lambda x: x.score, squared_results))\n",
    "accuracies_normal, accuracies_squared = list(map(lambda x: x.accuracy, normal_results)), list(map(lambda x: x.accuracy, squared_results))\n",
    "\n",
    "plt.boxplot([scores_normal, scores_squared])\n",
    "plt.xticks([1, 2], ['Normal', 'Squared'])\n",
    "plt.ylim(0, 10000)\n",
    "plt.title('SVM - Scores')\n",
    "\n",
    "# Mean and max scores on plot\n",
    "plt.text(1, np.max(scores_normal) + 600, f'Mean: {np.mean(scores_normal):.2f} ± {np.std(scores_normal):.2f}', ha='center', va='bottom')\n",
    "plt.text(2, np.max(scores_squared) + 600, f'Mean: {np.mean(scores_squared):.2f} ± {np.std(scores_squared):.2f}', ha='center', va='bottom')\n",
    "plt.text(1, np.max(scores_normal) + 1000, f'Max: {np.max(scores_normal):.2f}', ha='center', va='bottom')\n",
    "plt.text(2, np.max(scores_squared) + 1000, f'Max: {np.max(scores_squared):.2f}', ha='center', va='bottom')\n",
    "plt.show()\n",
    "\n",
    "\n",
    "plt.boxplot([accuracies_normal, accuracies_squared])\n",
    "plt.xticks([1, 2], ['Normal', 'Squared'])\n",
    "plt.ylim(0, 1)\n",
    "plt.title('SVM - Accuracies')\n",
    "\n",
    "# Mean and max scores on plot\n",
    "plt.text(1, np.max(accuracies_normal) + 0.05, f'Mean: {np.mean(accuracies_normal):.2f} ± {np.std(accuracies_normal):.2f}', ha='center', va='bottom')\n",
    "plt.text(2, np.max(accuracies_squared) + 0.05, f'Mean: {np.mean(accuracies_squared):.2f} ± {np.std(accuracies_squared):.2f}', ha='center', va='bottom')\n",
    "plt.text(1, np.max(accuracies_normal) + 0.1, f'Max: {np.max(accuracies_normal):.2f}', ha='center', va='bottom')\n",
    "plt.text(2, np.max(accuracies_squared) + 0.1, f'Max: {np.max(accuracies_squared):.2f}', ha='center', va='bottom')"
   ],
   "outputs": [
    {
     "data": {
      "text/plain": [
       "<Figure size 640x480 with 1 Axes>"
      ],
      "image/png": "[encoded data removed]"
     },
     "metadata": {},
     "output_type": "display_data"
    },
    {
     "data": {
      "text/plain": [
       "Text(2, 0.838, 'Max: 0.74')"
      ]
     },
     "execution_count": 15,
     "metadata": {},
     "output_type": "execute_result"
    },
    {
     "data": {
      "text/plain": [
       "<Figure size 640x480 with 1 Axes>"
      ],
      "image/png": "[encoded data removed]"
     },
     "metadata": {},
     "output_type": "display_data"
    }
   ],
   "execution_count": 15
  },
  {
   "metadata": {},
   "cell_type": "markdown",
   "source": "## Apply the model to the final choice - SVM"
  },
  {
   "metadata": {
    "ExecuteTime": {
     "end_time": "2024-06-02T13:32:08.056337Z",
     "start_time": "2024-06-02T13:32:08.051607Z"
    }
   },
   "cell_type": "code",
   "source": [
    "from aml_projects.Project2.models.utils import GenerateFeatureInteractionsMethod, select_customers, ApplyModelMethod\n",
    "\n",
    "\n",
    "def apply_model_to_final_choice(\n",
    "        X: pd.DataFrame,\n",
    "        y: pd.Series,\n",
    "        X_test: pd.DataFrame,\n",
    "        model: ApplyModelMethod,\n",
    "        generate_feature_interactions: GenerateFeatureInteractionsMethod,\n",
    "        threshold_num: int,\n",
    "        random_state: int = 0\n",
    ") -> pd.Series:\n",
    "    \"\"\"\n",
    "    Apply the  model to the dataset and select the customers.\n",
    "    :param X: pd.DataFrame - The training dataset.\n",
    "    :param y: pd.Series - The target variable.\n",
    "    :param X_test: pd.DataFrame - The test dataset.\n",
    "    :param model: ApplyModelMethod - The model to apply.\n",
    "    :param generate_feature_interactions: GenerateFeatureInteractionsMethod - The feature interactions method.\n",
    "    :param threshold_num: int - The number of customers to select.\n",
    "    :param random_state: int - The random state.\n",
    "    :return: pd.Series - The predictions.\n",
    "    \"\"\"\n",
    "    \n",
    "    X = generate_feature_interactions(X)\n",
    "    X_test = generate_feature_interactions(X_test)\n",
    "\n",
    "    predicted_probabilities = model(X, y, X_test, random_state)\n",
    "    selected_customers = select_customers(predicted_probabilities, threshold_num)\n",
    "    return selected_customers"
   ],
   "outputs": [],
   "execution_count": 22
  },
  {
   "metadata": {
    "ExecuteTime": {
     "end_time": "2024-06-02T13:32:13.291613Z",
     "start_time": "2024-06-02T13:32:10.283333Z"
    }
   },
   "cell_type": "code",
   "source": [
    "from aml_projects.Project2.models.utils import generate_feature_interactions_quadratic\n",
    "\n",
    "selected_customers = apply_model_to_final_choice(\n",
    "    X,\n",
    "    y,\n",
    "    X_test_submission,\n",
    "    apply_optimized_svm,\n",
    "    generate_feature_interactions_quadratic,\n",
    "    threshold_num=1000\n",
    ")\n",
    "\n",
    "selected_features, selected_customers"
   ],
   "outputs": [
    {
     "data": {
      "text/plain": [
       "([100, 101, 102, 103, 104, 105],\n",
       " 0       False\n",
       " 1       False\n",
       " 2       False\n",
       " 3        True\n",
       " 4       False\n",
       "         ...  \n",
       " 4995     True\n",
       " 4996     True\n",
       " 4997    False\n",
       " 4998    False\n",
       " 4999    False\n",
       " Length: 5000, dtype: bool)"
      ]
     },
     "execution_count": 23,
     "metadata": {},
     "output_type": "execute_result"
    }
   ],
   "execution_count": 23
  },
  {
   "metadata": {
    "ExecuteTime": {
     "end_time": "2024-06-02T13:32:15.175997Z",
     "start_time": "2024-06-02T13:32:15.170358Z"
    }
   },
   "cell_type": "code",
   "source": [
    "# Save the selected customers indices\n",
    "selected_customers_indices = selected_customers[selected_customers].index + 1 # Start from 1\n",
    "\n",
    "# To text file with new line separator\n",
    "with open('svm_results/selected_customers_indices.txt', 'w') as file:\n",
    "    file.write('\\n'.join(map(str, selected_customers_indices)))"
   ],
   "outputs": [],
   "execution_count": 24
  },
  {
   "metadata": {
    "ExecuteTime": {
     "end_time": "2024-06-02T13:32:16.880571Z",
     "start_time": "2024-06-02T13:32:16.876289Z"
    }
   },
   "cell_type": "code",
   "source": [
    "# Save the selected features\n",
    "selected_features = [feature + 1 for feature in selected_features] # Start from 1\n",
    "with open('svm_results/selected_features.txt', 'w') as file:\n",
    "    file.write('\\n'.join(map(str, selected_features)))"
   ],
   "outputs": [],
   "execution_count": 25
  }
 ],
 "metadata": {
  "kernelspec": {
   "display_name": "aml",
   "language": "python",
   "name": "python3"
  },
  "language_info": {
   "codemirror_mode": {
    "name": "ipython",
    "version": 3
   },
   "file_extension": ".py",
   "mimetype": "text/x-python",
   "name": "python",
   "nbconvert_exporter": "python",
   "pygments_lexer": "ipython3",
   "version": "3.10.14"
  }
 },
 "nbformat": 4,
 "nbformat_minor": 2
}
