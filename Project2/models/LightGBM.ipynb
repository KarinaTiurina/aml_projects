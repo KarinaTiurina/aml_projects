{
 "cells": [
  {
   "metadata": {},
   "cell_type": "markdown",
   "source": "# LightGBM classifier",
   "id": "d6d944688a0042ed"
  },
  {
   "cell_type": "code",
   "id": "initial_id",
   "metadata": {
    "collapsed": true,
    "ExecuteTime": {
     "end_time": "2024-06-02T12:36:51.198857Z",
     "start_time": "2024-06-02T12:36:51.195547Z"
    }
   },
   "source": [
    "import numpy as np\n",
    "import pandas as pd\n",
    "import matplotlib.pyplot as plt\n",
    "import warnings\n",
    "warnings.filterwarnings(\"ignore\")"
   ],
   "outputs": [],
   "execution_count": 31
  },
  {
   "metadata": {},
   "cell_type": "markdown",
   "source": "Import of data based on feature selection resutls\n",
   "id": "1667db56de4bbfe6"
  },
  {
   "metadata": {
    "ExecuteTime": {
     "end_time": "2024-06-02T12:36:51.665670Z",
     "start_time": "2024-06-02T12:36:51.201294Z"
    }
   },
   "cell_type": "code",
   "source": [
    "X = pd.read_table('../data/data/x_train.txt', header=None, delimiter=' ')\n",
    "y = pd.read_table('../data/data/y_train.txt', header=None)\n",
    "X_test_submission = pd.read_table('../data/data/x_test.txt', header=None, delimiter=' ')\n",
    "\n",
    "# based on feature selection investigation\n",
    "selected_features = [100, 101, 102, 103, 104, 105]\n",
    "X = X[selected_features]\n",
    "X_test_submission = X_test_submission[selected_features]"
   ],
   "id": "abcf0df35b17fc0b",
   "outputs": [],
   "execution_count": 32
  },
  {
   "metadata": {
    "ExecuteTime": {
     "end_time": "2024-06-02T12:36:51.669452Z",
     "start_time": "2024-06-02T12:36:51.666385Z"
    }
   },
   "cell_type": "code",
   "source": [
    "from lightgbm import LGBMClassifier\n",
    "\n",
    "def apply_optimized_lightgbm(\n",
    "        X: pd.DataFrame,\n",
    "        y: pd.Series,\n",
    "        X_test: pd.DataFrame,\n",
    "        random_state: int = 0\n",
    ") -> pd.Series:\n",
    "    \"\"\"\n",
    "    Apply the optimized LightGBM model to the dataset.\n",
    "    :param X: pd.DataFrame - The training dataset.\n",
    "    :param y: pd.Series - The target variable.\n",
    "    :param X_test: pd.DataFrame - The test dataset.\n",
    "    :param random_state: int - The random state.\n",
    "    :return: pd.Series - The predictions.\n",
    "    \"\"\"\n",
    "\n",
    "    model = LGBMClassifier(\n",
    "        n_estimators=50,\n",
    "        boosting_type='dart',\n",
    "        objective='binary',\n",
    "        learning_rate=0.1,\n",
    "        num_leaves=31,\n",
    "        random_state=random_state,\n",
    "        n_jobs=1,\n",
    "        force_col_wise=True,\n",
    "        verbose=-1\n",
    "    )\n",
    "\n",
    "    model.fit(X, y)\n",
    "    return pd.Series(model.predict_proba(X_test)[:, 1], index=X_test.index)\n"
   ],
   "id": "82815fcc052bc29f",
   "outputs": [],
   "execution_count": 33
  },
  {
   "metadata": {
    "ExecuteTime": {
     "end_time": "2024-06-02T12:36:57.840198Z",
     "start_time": "2024-06-02T12:36:51.670866Z"
    }
   },
   "cell_type": "code",
   "source": [
    "from aml_projects.Project2.models.utils import run_experiment\n",
    "\n",
    "normal_results = run_experiment(\n",
    "    'lightgbm_results/',\n",
    "    'normal',\n",
    "    apply_optimized_lightgbm,\n",
    "    X,\n",
    "    y, \n",
    "    selected_features,\n",
    "    iterations=100\n",
    ")\n",
    "\n",
    "normal_results"
   ],
   "id": "4d0681469a44307e",
   "outputs": [
    {
     "data": {
      "text/plain": [
       "[ExperimentResult(score=5548.856548856549, accuracy=0.668),\n",
       " ExperimentResult(score=5772.908366533865, accuracy=0.678),\n",
       " ExperimentResult(score=5852.589641434263, accuracy=0.683),\n",
       " ExperimentResult(score=6055.21472392638, accuracy=0.712),\n",
       " ExperimentResult(score=5961.7706237424545, accuracy=0.699),\n",
       " ExperimentResult(score=5626.746506986027, accuracy=0.662),\n",
       " ExperimentResult(score=5693.386773547094, accuracy=0.671),\n",
       " ExperimentResult(score=5897.233201581027, accuracy=0.677),\n",
       " ExperimentResult(score=5833.667334669338, accuracy=0.684),\n",
       " ExperimentResult(score=5900.0, accuracy=0.685),\n",
       " ExperimentResult(score=5640.0, accuracy=0.661),\n",
       " ExperimentResult(score=5998.011928429423, accuracy=0.695),\n",
       " ExperimentResult(score=5763.485477178424, accuracy=0.69),\n",
       " ExperimentResult(score=5888.88888888889, accuracy=0.694),\n",
       " ExperimentResult(score=5848.249027237354, accuracy=0.674),\n",
       " ExperimentResult(score=5891.891891891892, accuracy=0.672),\n",
       " ExperimentResult(score=5797.642436149313, accuracy=0.67),\n",
       " ExperimentResult(score=5800.804828973843, accuracy=0.679),\n",
       " ExperimentResult(score=5802.44399185336, accuracy=0.682),\n",
       " ExperimentResult(score=5618.556701030927, accuracy=0.668),\n",
       " ExperimentResult(score=5686.9918699187, accuracy=0.672),\n",
       " ExperimentResult(score=5754.032258064516, accuracy=0.682),\n",
       " ExperimentResult(score=5799.204771371769, accuracy=0.68),\n",
       " ExperimentResult(score=5787.148594377511, accuracy=0.677),\n",
       " ExperimentResult(score=5646.706586826347, accuracy=0.669),\n",
       " ExperimentResult(score=5614.173228346457, accuracy=0.659),\n",
       " ExperimentResult(score=5526.946107784431, accuracy=0.653),\n",
       " ExperimentResult(score=5754.563894523327, accuracy=0.68),\n",
       " ExperimentResult(score=5700.0, accuracy=0.67),\n",
       " ExperimentResult(score=5956.521739130435, accuracy=0.689),\n",
       " ExperimentResult(score=5705.653021442495, accuracy=0.662),\n",
       " ExperimentResult(score=5466.94214876033, accuracy=0.663),\n",
       " ExperimentResult(score=5782.786885245901, accuracy=0.683),\n",
       " ExperimentResult(score=5825.396825396826, accuracy=0.679),\n",
       " ExperimentResult(score=5733.466933867735, accuracy=0.672),\n",
       " ExperimentResult(score=5441.717791411043, accuracy=0.653),\n",
       " ExperimentResult(score=5628.131021194605, accuracy=0.65),\n",
       " ExperimentResult(score=5711.281070745697, accuracy=0.654),\n",
       " ExperimentResult(score=5680.584551148226, accuracy=0.688),\n",
       " ExperimentResult(score=5744.186046511628, accuracy=0.686),\n",
       " ExperimentResult(score=5592.292089249493, accuracy=0.664),\n",
       " ExperimentResult(score=5453.60824742268, accuracy=0.659),\n",
       " ExperimentResult(score=5870.078740157481, accuracy=0.675),\n",
       " ExperimentResult(score=5754.032258064516, accuracy=0.673),\n",
       " ExperimentResult(score=5578.9473684210525, accuracy=0.664),\n",
       " ExperimentResult(score=6247.706422018349, accuracy=0.701),\n",
       " ExperimentResult(score=5552.419354838709, accuracy=0.666),\n",
       " ExperimentResult(score=5583.333333333334, accuracy=0.681),\n",
       " ExperimentResult(score=5733.466933867735, accuracy=0.677),\n",
       " ExperimentResult(score=5792.079207920792, accuracy=0.679),\n",
       " ExperimentResult(score=5462.167689161554, accuracy=0.649),\n",
       " ExperimentResult(score=5646.090534979424, accuracy=0.672),\n",
       " ExperimentResult(score=5729.166666666667, accuracy=0.682),\n",
       " ExperimentResult(score=5561.88605108055, accuracy=0.65),\n",
       " ExperimentResult(score=5446.280991735536, accuracy=0.662),\n",
       " ExperimentResult(score=5646.586345381526, accuracy=0.671),\n",
       " ExperimentResult(score=5727.642276422765, accuracy=0.68),\n",
       " ExperimentResult(score=5666.666666666667, accuracy=0.661),\n",
       " ExperimentResult(score=5548.323471400395, accuracy=0.648),\n",
       " ExperimentResult(score=5705.653021442495, accuracy=0.659),\n",
       " ExperimentResult(score=5851.485148514851, accuracy=0.682),\n",
       " ExperimentResult(score=5837.782340862423, accuracy=0.685),\n",
       " ExperimentResult(score=5808.080808080808, accuracy=0.688),\n",
       " ExperimentResult(score=5673.306772908367, accuracy=0.662),\n",
       " ExperimentResult(score=5588.983050847458, accuracy=0.672),\n",
       " ExperimentResult(score=5872.509960159363, accuracy=0.688),\n",
       " ExperimentResult(score=5929.292929292929, accuracy=0.699),\n",
       " ExperimentResult(score=5914.0625, accuracy=0.679),\n",
       " ExperimentResult(score=5625.766871165644, accuracy=0.67),\n",
       " ExperimentResult(score=5795.131845841785, accuracy=0.685),\n",
       " ExperimentResult(score=5625.766871165644, accuracy=0.664),\n",
       " ExperimentResult(score=5565.040650406505, accuracy=0.655),\n",
       " ExperimentResult(score=5614.785992217899, accuracy=0.652),\n",
       " ExperimentResult(score=5779.324055666004, accuracy=0.678),\n",
       " ExperimentResult(score=5745.098039215686, accuracy=0.677),\n",
       " ExperimentResult(score=5750.0, accuracy=0.666),\n",
       " ExperimentResult(score=5846.30738522954, accuracy=0.675),\n",
       " ExperimentResult(score=5746.987951807229, accuracy=0.676),\n",
       " ExperimentResult(score=6053.231939163498, accuracy=0.693),\n",
       " ExperimentResult(score=5707.818930041152, accuracy=0.681),\n",
       " ExperimentResult(score=5911.196911196911, accuracy=0.681),\n",
       " ExperimentResult(score=5733.067729083666, accuracy=0.674),\n",
       " ExperimentResult(score=5825.726141078839, accuracy=0.692),\n",
       " ExperimentResult(score=5745.562130177515, accuracy=0.664),\n",
       " ExperimentResult(score=5740.0, accuracy=0.673),\n",
       " ExperimentResult(score=5904.761904761905, accuracy=0.692),\n",
       " ExperimentResult(score=5784.232365145229, accuracy=0.686),\n",
       " ExperimentResult(score=5666.666666666667, accuracy=0.671),\n",
       " ExperimentResult(score=5920.0, accuracy=0.691),\n",
       " ExperimentResult(score=5720.0, accuracy=0.67),\n",
       " ExperimentResult(score=5680.672268907563, accuracy=0.683),\n",
       " ExperimentResult(score=5764.7058823529405, accuracy=0.668),\n",
       " ExperimentResult(score=5958.2504970178925, accuracy=0.694),\n",
       " ExperimentResult(score=5830.708661417323, accuracy=0.68),\n",
       " ExperimentResult(score=6148.217636022514, accuracy=0.688),\n",
       " ExperimentResult(score=5813.627254509018, accuracy=0.682),\n",
       " ExperimentResult(score=6058.823529411765, accuracy=0.697),\n",
       " ExperimentResult(score=5836.935166994106, accuracy=0.681),\n",
       " ExperimentResult(score=5747.967479674798, accuracy=0.681),\n",
       " ExperimentResult(score=5456.211812627291, accuracy=0.655)]"
      ]
     },
     "execution_count": 34,
     "metadata": {},
     "output_type": "execute_result"
    }
   ],
   "execution_count": 34
  },
  {
   "metadata": {
    "ExecuteTime": {
     "end_time": "2024-06-02T12:37:04.075148Z",
     "start_time": "2024-06-02T12:36:57.840870Z"
    }
   },
   "cell_type": "code",
   "source": [
    "from aml_projects.Project2.models.utils import run_experiment, generate_feature_interactions_quadratic\n",
    "\n",
    "squared_results = run_experiment(\n",
    "    'lightgbm_results/',\n",
    "    'squared',\n",
    "    apply_optimized_lightgbm,\n",
    "    X,\n",
    "    y, \n",
    "    selected_features,\n",
    "    generate_feature_interactions=generate_feature_interactions_quadratic,\n",
    "    iterations=100\n",
    ")\n",
    "\n",
    "squared_results"
   ],
   "id": "d78e4fa4c04df55d",
   "outputs": [
    {
     "data": {
      "text/plain": [
       "[ExperimentResult(score=5694.386694386695, accuracy=0.679),\n",
       " ExperimentResult(score=5852.589641434263, accuracy=0.683),\n",
       " ExperimentResult(score=5772.908366533865, accuracy=0.678),\n",
       " ExperimentResult(score=5871.16564417178, accuracy=0.696),\n",
       " ExperimentResult(score=5941.649899396378, accuracy=0.697),\n",
       " ExperimentResult(score=5487.025948103792, accuracy=0.657),\n",
       " ExperimentResult(score=5673.346693386773, accuracy=0.666),\n",
       " ExperimentResult(score=5679.841897233201, accuracy=0.661),\n",
       " ExperimentResult(score=5873.74749498998, accuracy=0.687),\n",
       " ExperimentResult(score=5980.0, accuracy=0.692),\n",
       " ExperimentResult(score=5640.0, accuracy=0.666),\n",
       " ExperimentResult(score=5998.011928429423, accuracy=0.7),\n",
       " ExperimentResult(score=5867.219917012449, accuracy=0.699),\n",
       " ExperimentResult(score=5929.292929292929, accuracy=0.688),\n",
       " ExperimentResult(score=5809.3385214007785, accuracy=0.668),\n",
       " ExperimentResult(score=5872.586872586872, accuracy=0.683),\n",
       " ExperimentResult(score=5856.581532416503, accuracy=0.679),\n",
       " ExperimentResult(score=5901.408450704225, accuracy=0.695),\n",
       " ExperimentResult(score=5761.710794297353, accuracy=0.678),\n",
       " ExperimentResult(score=5618.556701030927, accuracy=0.674),\n",
       " ExperimentResult(score=5646.341463414635, accuracy=0.666),\n",
       " ExperimentResult(score=5895.1612903225805, accuracy=0.688),\n",
       " ExperimentResult(score=5779.324055666004, accuracy=0.67),\n",
       " ExperimentResult(score=5887.550200803214, accuracy=0.691),\n",
       " ExperimentResult(score=5626.746506986027, accuracy=0.664),\n",
       " ExperimentResult(score=5791.3385826771655, accuracy=0.671),\n",
       " ExperimentResult(score=5586.8263473053885, accuracy=0.66),\n",
       " ExperimentResult(score=5774.847870182556, accuracy=0.686),\n",
       " ExperimentResult(score=5720.0, accuracy=0.672),\n",
       " ExperimentResult(score=5798.418972332016, accuracy=0.669),\n",
       " ExperimentResult(score=5608.187134502924, accuracy=0.646),\n",
       " ExperimentResult(score=5590.90909090909, accuracy=0.675),\n",
       " ExperimentResult(score=5823.770491803278, accuracy=0.693),\n",
       " ExperimentResult(score=5904.761904761905, accuracy=0.689),\n",
       " ExperimentResult(score=5693.386773547094, accuracy=0.67),\n",
       " ExperimentResult(score=5523.517382413088, accuracy=0.66),\n",
       " ExperimentResult(score=5763.005780346821, accuracy=0.655),\n",
       " ExperimentResult(score=5634.799235181644, accuracy=0.652),\n",
       " ExperimentResult(score=5805.8455114822555, accuracy=0.694),\n",
       " ExperimentResult(score=5765.327695560253, accuracy=0.692),\n",
       " ExperimentResult(score=5673.42799188641, accuracy=0.673),\n",
       " ExperimentResult(score=5432.989690721649, accuracy=0.668),\n",
       " ExperimentResult(score=5948.818897637795, accuracy=0.687),\n",
       " ExperimentResult(score=5653.225806451613, accuracy=0.674),\n",
       " ExperimentResult(score=5558.704453441295, accuracy=0.663),\n",
       " ExperimentResult(score=6137.614678899083, accuracy=0.69),\n",
       " ExperimentResult(score=5592.741935483871, accuracy=0.662),\n",
       " ExperimentResult(score=5687.5, accuracy=0.694),\n",
       " ExperimentResult(score=5753.507014028056, accuracy=0.678),\n",
       " ExperimentResult(score=5910.891089108911, accuracy=0.69),\n",
       " ExperimentResult(score=5523.517382413088, accuracy=0.661),\n",
       " ExperimentResult(score=5769.547325102881, accuracy=0.685),\n",
       " ExperimentResult(score=5687.5, accuracy=0.679),\n",
       " ExperimentResult(score=5601.178781925344, accuracy=0.654),\n",
       " ExperimentResult(score=5570.247933884297, accuracy=0.673),\n",
       " ExperimentResult(score=5726.907630522089, accuracy=0.672),\n",
       " ExperimentResult(score=5666.666666666667, accuracy=0.67),\n",
       " ExperimentResult(score=5745.562130177515, accuracy=0.669),\n",
       " ExperimentResult(score=5646.942800788955, accuracy=0.656),\n",
       " ExperimentResult(score=5725.146198830409, accuracy=0.663),\n",
       " ExperimentResult(score=5970.297029702971, accuracy=0.691),\n",
       " ExperimentResult(score=5694.045174537987, accuracy=0.682),\n",
       " ExperimentResult(score=6030.303030303031, accuracy=0.707),\n",
       " ExperimentResult(score=5673.306772908367, accuracy=0.668),\n",
       " ExperimentResult(score=5588.983050847458, accuracy=0.674),\n",
       " ExperimentResult(score=5673.306772908367, accuracy=0.667),\n",
       " ExperimentResult(score=6050.505050505051, accuracy=0.706),\n",
       " ExperimentResult(score=5875.0, accuracy=0.681),\n",
       " ExperimentResult(score=5687.116564417178, accuracy=0.68),\n",
       " ExperimentResult(score=5896.551724137931, accuracy=0.687),\n",
       " ExperimentResult(score=5687.116564417178, accuracy=0.673),\n",
       " ExperimentResult(score=5768.29268292683, accuracy=0.69),\n",
       " ExperimentResult(score=5575.875486381323, accuracy=0.649),\n",
       " ExperimentResult(score=5719.681908548708, accuracy=0.673),\n",
       " ExperimentResult(score=5686.274509803921, accuracy=0.672),\n",
       " ExperimentResult(score=5807.692307692308, accuracy=0.666),\n",
       " ExperimentResult(score=5866.26746506986, accuracy=0.682),\n",
       " ExperimentResult(score=5787.148594377511, accuracy=0.672),\n",
       " ExperimentResult(score=5996.197718631179, accuracy=0.673),\n",
       " ExperimentResult(score=5810.699588477366, accuracy=0.681),\n",
       " ExperimentResult(score=5872.586872586872, accuracy=0.682),\n",
       " ExperimentResult(score=5653.386454183267, accuracy=0.665),\n",
       " ExperimentResult(score=5929.460580912863, accuracy=0.703),\n",
       " ExperimentResult(score=5804.7337278106515, accuracy=0.676),\n",
       " ExperimentResult(score=5580.0, accuracy=0.658),\n",
       " ExperimentResult(score=5726.190476190476, accuracy=0.673),\n",
       " ExperimentResult(score=5701.244813278009, accuracy=0.68),\n",
       " ExperimentResult(score=5686.9918699187, accuracy=0.678),\n",
       " ExperimentResult(score=5900.0, accuracy=0.688),\n",
       " ExperimentResult(score=5680.0, accuracy=0.67),\n",
       " ExperimentResult(score=5596.638655462185, accuracy=0.678),\n",
       " ExperimentResult(score=5862.745098039215, accuracy=0.681),\n",
       " ExperimentResult(score=5779.324055666004, accuracy=0.676),\n",
       " ExperimentResult(score=5889.76377952756, accuracy=0.673),\n",
       " ExperimentResult(score=6054.409005628518, accuracy=0.676),\n",
       " ExperimentResult(score=5813.627254509018, accuracy=0.683),\n",
       " ExperimentResult(score=6058.823529411765, accuracy=0.698),\n",
       " ExperimentResult(score=5954.813359528487, accuracy=0.697),\n",
       " ExperimentResult(score=5605.691056910569, accuracy=0.665),\n",
       " ExperimentResult(score=5558.044806517311, accuracy=0.663)]"
      ]
     },
     "execution_count": 35,
     "metadata": {},
     "output_type": "execute_result"
    }
   ],
   "execution_count": 35
  },
  {
   "metadata": {
    "ExecuteTime": {
     "end_time": "2024-06-02T12:37:04.219523Z",
     "start_time": "2024-06-02T12:37:04.076182Z"
    }
   },
   "cell_type": "code",
   "source": [
    "# Boxplot of the results\n",
    "\n",
    "scores_normal, scores_squared = list(map(lambda x: x.score, normal_results)), list(map(lambda x: x.score, squared_results))\n",
    "accuracies_normal, accuracies_squared = list(map(lambda x: x.accuracy, normal_results)), list(map(lambda x: x.accuracy, squared_results))\n",
    "\n",
    "plt.boxplot([scores_normal, scores_squared])\n",
    "plt.xticks([1, 2], ['Normal', 'Squared'])\n",
    "plt.ylim(0, 10000)\n",
    "plt.title('LightGBM - Scores')\n",
    "\n",
    "# Mean and max scores on plot\n",
    "plt.text(1, np.max(scores_normal) + 600, f'Mean: {np.mean(scores_normal):.2f} ± {np.std(scores_normal):.2f}', ha='center', va='bottom')\n",
    "plt.text(2, np.max(scores_squared) + 600, f'Mean: {np.mean(scores_squared):.2f} ± {np.std(scores_squared):.2f}', ha='center', va='bottom')\n",
    "plt.text(1, np.max(scores_normal) + 1000, f'Max: {np.max(scores_normal):.2f}', ha='center', va='bottom')\n",
    "plt.text(2, np.max(scores_squared) + 1000, f'Max: {np.max(scores_squared):.2f}', ha='center', va='bottom')\n",
    "plt.show()\n",
    "\n",
    "\n",
    "plt.boxplot([accuracies_normal, accuracies_squared])\n",
    "plt.xticks([1, 2], ['Normal', 'Squared'])\n",
    "plt.ylim(0, 1)\n",
    "plt.title('LightGBM - Accuracies')\n",
    "\n",
    "# Mean and max scores on plot\n",
    "plt.text(1, np.max(accuracies_normal) + 0.05, f'Mean: {np.mean(accuracies_normal):.2f} ± {np.std(accuracies_normal):.2f}', ha='center', va='bottom')\n",
    "plt.text(2, np.max(accuracies_squared) + 0.05, f'Mean: {np.mean(accuracies_squared):.2f} ± {np.std(accuracies_squared):.2f}', ha='center', va='bottom')\n",
    "plt.text(1, np.max(accuracies_normal) + 0.1, f'Max: {np.max(accuracies_normal):.2f}', ha='center', va='bottom')\n",
    "plt.text(2, np.max(accuracies_squared) + 0.1, f'Max: {np.max(accuracies_squared):.2f}', ha='center', va='bottom')"
   ],
   "id": "639794979a950c91",
   "outputs": [
    {
     "data": {
      "text/plain": [
       "<Figure size 640x480 with 1 Axes>"
      ],
      "image/png": "[encoded data removed]"
     },
     "metadata": {},
     "output_type": "display_data"
    },
    {
     "data": {
      "text/plain": [
       "Text(2, 0.8069999999999999, 'Max: 0.71')"
      ]
     },
     "execution_count": 36,
     "metadata": {},
     "output_type": "execute_result"
    },
    {
     "data": {
      "text/plain": [
       "<Figure size 640x480 with 1 Axes>"
      ],
      "image/png": "[encoded data removed]"
     },
     "metadata": {},
     "output_type": "display_data"
    }
   ],
   "execution_count": 36
  }
 ],
 "metadata": {
  "kernelspec": {
   "display_name": "Python 3",
   "language": "python",
   "name": "python3"
  },
  "language_info": {
   "codemirror_mode": {
    "name": "ipython",
    "version": 2
   },
   "file_extension": ".py",
   "mimetype": "text/x-python",
   "name": "python",
   "nbconvert_exporter": "python",
   "pygments_lexer": "ipython2",
   "version": "2.7.6"
  }
 },
 "nbformat": 4,
 "nbformat_minor": 5
}
