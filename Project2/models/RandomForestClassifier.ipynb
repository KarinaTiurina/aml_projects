{
 "cells": [
  {
   "cell_type": "markdown",
   "metadata": {},
   "source": [
    "# Random forest classifier"
   ]
  },
  {
   "cell_type": "code",
   "metadata": {
    "ExecuteTime": {
     "end_time": "2024-06-02T12:39:19.268591Z",
     "start_time": "2024-06-02T12:39:18.712181Z"
    }
   },
   "source": [
    "import numpy as np\n",
    "import pandas as pd\n",
    "import matplotlib.pyplot as plt\n",
    "import warnings\n",
    "warnings.filterwarnings(\"ignore\")"
   ],
   "outputs": [],
   "execution_count": 1
  },
  {
   "cell_type": "markdown",
   "metadata": {},
   "source": [
    "Import of data based on feature selection resutls"
   ]
  },
  {
   "cell_type": "code",
   "metadata": {
    "ExecuteTime": {
     "end_time": "2024-06-02T12:39:19.718992Z",
     "start_time": "2024-06-02T12:39:19.269841Z"
    }
   },
   "source": [
    "X = pd.read_table('../data/data/x_train.txt', header=None, delimiter=' ')\n",
    "y = pd.read_table('../data/data/y_train.txt', header=None)\n",
    "X_test_submission = pd.read_table('../data/data/x_test.txt', header=None, delimiter=' ')\n",
    "\n",
    "# based on feature selection investigation\n",
    "selected_features = [100, 101, 102, 103, 104, 105]\n",
    "X = X[selected_features]\n",
    "X_test_submission = X_test_submission[selected_features]"
   ],
   "outputs": [],
   "execution_count": 2
  },
  {
   "cell_type": "code",
   "metadata": {
    "ExecuteTime": {
     "end_time": "2024-06-02T12:39:20.268761Z",
     "start_time": "2024-06-02T12:39:19.719815Z"
    }
   },
   "source": [
    "from sklearn.ensemble import RandomForestClassifier\n",
    "\n",
    "def apply_optimized_forest(\n",
    "        X: pd.DataFrame,\n",
    "        y: pd.Series,\n",
    "        X_test: pd.DataFrame,\n",
    "        random_state: int = 0\n",
    ") -> pd.Series:\n",
    "    \"\"\"\n",
    "    Apply the optimized random forest model to the dataset.\n",
    "    :param X: pd.DataFrame - The training dataset.\n",
    "    :param y: pd.Series - The target variable.\n",
    "    :param X_test: pd.DataFrame - The test dataset.\n",
    "    :param random_state: int - The random state.\n",
    "    :return: pd.Series - The predictions.\n",
    "    \"\"\"\n",
    "\n",
    "    model = RandomForestClassifier(\n",
    "        n_estimators=100,\n",
    "        max_depth=10,\n",
    "        max_features=\"sqrt\",\n",
    "        bootstrap=True,\n",
    "        random_state=random_state,\n",
    "        n_jobs=-1,\n",
    "    )\n",
    "\n",
    "    model.fit(X, y)\n",
    "    return pd.Series(model.predict_proba(X_test)[:, 1], index=X_test.index)"
   ],
   "outputs": [],
   "execution_count": 3
  },
  {
   "cell_type": "code",
   "metadata": {
    "ExecuteTime": {
     "end_time": "2024-06-02T12:39:32.494630Z",
     "start_time": "2024-06-02T12:39:20.269548Z"
    }
   },
   "source": [
    "from aml_projects.Project2.models.utils import run_experiment\n",
    "\n",
    "normal_results = run_experiment(\n",
    "    'forest_results/',\n",
    "    'normal',\n",
    "    apply_optimized_forest,\n",
    "    X,\n",
    "    y,\n",
    "    selected_features,\n",
    "    iterations=100\n",
    ")\n",
    "\n",
    "normal_results"
   ],
   "outputs": [
    {
     "data": {
      "text/plain": [
       "[ExperimentResult(score=5473.596673596674, accuracy=0.683),\n",
       " ExperimentResult(score=5652.589641434262, accuracy=0.685),\n",
       " ExperimentResult(score=5871.713147410358, accuracy=0.704),\n",
       " ExperimentResult(score=5875.664621676891, accuracy=0.712),\n",
       " ExperimentResult(score=5922.7364185110655, accuracy=0.715),\n",
       " ExperimentResult(score=5646.307385229541, accuracy=0.697),\n",
       " ExperimentResult(score=5653.707414829659, accuracy=0.679),\n",
       " ExperimentResult(score=5756.521739130435, accuracy=0.684),\n",
       " ExperimentResult(score=5854.1082164328645, accuracy=0.704),\n",
       " ExperimentResult(score=5920.0, accuracy=0.716),\n",
       " ExperimentResult(score=5580.0, accuracy=0.668),\n",
       " ExperimentResult(score=5778.131212723659, accuracy=0.695),\n",
       " ExperimentResult(score=5791.701244813278, accuracy=0.707),\n",
       " ExperimentResult(score=5911.111111111111, accuracy=0.721),\n",
       " ExperimentResult(score=5745.525291828793, accuracy=0.69),\n",
       " ExperimentResult(score=5730.5019305019305, accuracy=0.687),\n",
       " ExperimentResult(score=5813.752455795678, accuracy=0.698),\n",
       " ExperimentResult(score=5761.7706237424545, accuracy=0.699),\n",
       " ExperimentResult(score=5663.543788187373, accuracy=0.693),\n",
       " ExperimentResult(score=5377.3195876288655, accuracy=0.669),\n",
       " ExperimentResult(score=5649.59349593496, accuracy=0.676),\n",
       " ExperimentResult(score=5836.290322580646, accuracy=0.714),\n",
       " ExperimentResult(score=5837.773359840955, accuracy=0.696),\n",
       " ExperimentResult(score=5868.273092369478, accuracy=0.711),\n",
       " ExperimentResult(score=5626.347305389221, accuracy=0.683),\n",
       " ExperimentResult(score=5571.653543307087, accuracy=0.673),\n",
       " ExperimentResult(score=5706.187624750499, accuracy=0.684),\n",
       " ExperimentResult(score=5676.267748478702, accuracy=0.691),\n",
       " ExperimentResult(score=5540.0, accuracy=0.67),\n",
       " ExperimentResult(score=5934.387351778656, accuracy=0.698),\n",
       " ExperimentResult(score=5603.118908382066, accuracy=0.67),\n",
       " ExperimentResult(score=5494.2148760330565, accuracy=0.679),\n",
       " ExperimentResult(score=5767.213114754098, accuracy=0.705),\n",
       " ExperimentResult(score=5764.285714285714, accuracy=0.678),\n",
       " ExperimentResult(score=5834.0681362725445, accuracy=0.703),\n",
       " ExperimentResult(score=5507.566462167689, accuracy=0.68),\n",
       " ExperimentResult(score=5697.880539499036, accuracy=0.665),\n",
       " ExperimentResult(score=5664.244741873805, accuracy=0.665),\n",
       " ExperimentResult(score=5689.352818371608, accuracy=0.703),\n",
       " ExperimentResult(score=5692.177589852008, accuracy=0.707),\n",
       " ExperimentResult(score=5595.131845841785, accuracy=0.68),\n",
       " ExperimentResult(score=5439.1752577319585, accuracy=0.664),\n",
       " ExperimentResult(score=5945.669291338583, accuracy=0.707),\n",
       " ExperimentResult(score=5493.548387096775, accuracy=0.671),\n",
       " ExperimentResult(score=5601.619433198381, accuracy=0.687),\n",
       " ExperimentResult(score=6121.100917431193, accuracy=0.704),\n",
       " ExperimentResult(score=5473.387096774194, accuracy=0.663),\n",
       " ExperimentResult(score=5591.666666666667, accuracy=0.697),\n",
       " ExperimentResult(score=5593.587174348697, accuracy=0.679),\n",
       " ExperimentResult(score=5730.693069306931, accuracy=0.691),\n",
       " ExperimentResult(score=5405.316973415132, accuracy=0.667),\n",
       " ExperimentResult(score=5693.0041152263375, accuracy=0.698),\n",
       " ExperimentResult(score=5654.166666666667, accuracy=0.699),\n",
       " ExperimentResult(score=5558.3497053045185, accuracy=0.672),\n",
       " ExperimentResult(score=5721.487603305784, accuracy=0.705),\n",
       " ExperimentResult(score=5727.710843373495, accuracy=0.684),\n",
       " ExperimentResult(score=5486.991869918699, accuracy=0.673),\n",
       " ExperimentResult(score=5604.733727810651, accuracy=0.68),\n",
       " ExperimentResult(score=5683.629191321499, accuracy=0.682),\n",
       " ExperimentResult(score=5642.105263157895, accuracy=0.681),\n",
       " ExperimentResult(score=5592.079207920792, accuracy=0.676),\n",
       " ExperimentResult(score=5843.12114989733, accuracy=0.706),\n",
       " ExperimentResult(score=5830.303030303031, accuracy=0.702),\n",
       " ExperimentResult(score=5533.067729083665, accuracy=0.669),\n",
       " ExperimentResult(score=5579.661016949152, accuracy=0.691),\n",
       " ExperimentResult(score=5692.430278884462, accuracy=0.684),\n",
       " ExperimentResult(score=5789.89898989899, accuracy=0.7),\n",
       " ExperimentResult(score=5753.125, accuracy=0.684),\n",
       " ExperimentResult(score=5691.6155419222905, accuracy=0.694),\n",
       " ExperimentResult(score=5818.255578093307, accuracy=0.697),\n",
       " ExperimentResult(score=5691.6155419222905, accuracy=0.693),\n",
       " ExperimentResult(score=5426.016260162602, accuracy=0.674),\n",
       " ExperimentResult(score=5589.88326848249, accuracy=0.669),\n",
       " ExperimentResult(score=5718.489065606363, accuracy=0.692),\n",
       " ExperimentResult(score=5760.78431372549, accuracy=0.684),\n",
       " ExperimentResult(score=5723.076923076923, accuracy=0.678),\n",
       " ExperimentResult(score=5786.027944111776, accuracy=0.693),\n",
       " ExperimentResult(score=5747.791164658635, accuracy=0.697),\n",
       " ExperimentResult(score=5891.254752851712, accuracy=0.694),\n",
       " ExperimentResult(score=5528.395061728395, accuracy=0.677),\n",
       " ExperimentResult(score=5730.5019305019305, accuracy=0.68),\n",
       " ExperimentResult(score=5612.749003984063, accuracy=0.682),\n",
       " ExperimentResult(score=5625.726141078839, accuracy=0.688),\n",
       " ExperimentResult(score=5742.800788954635, accuracy=0.685),\n",
       " ExperimentResult(score=5660.0, accuracy=0.68),\n",
       " ExperimentResult(score=5744.444444444444, accuracy=0.692),\n",
       " ExperimentResult(score=5750.207468879668, accuracy=0.703),\n",
       " ExperimentResult(score=5507.317073170732, accuracy=0.675),\n",
       " ExperimentResult(score=5860.0, accuracy=0.7),\n",
       " ExperimentResult(score=5580.0, accuracy=0.669),\n",
       " ExperimentResult(score=5522.689075630253, accuracy=0.689),\n",
       " ExperimentResult(score=5505.882352941177, accuracy=0.668),\n",
       " ExperimentResult(score=5778.131212723659, accuracy=0.693),\n",
       " ExperimentResult(score=5847.244094488189, accuracy=0.704),\n",
       " ExperimentResult(score=6079.549718574109, accuracy=0.703),\n",
       " ExperimentResult(score=5834.0681362725445, accuracy=0.691),\n",
       " ExperimentResult(score=5839.21568627451, accuracy=0.697),\n",
       " ExperimentResult(score=5794.1060903732805, accuracy=0.689),\n",
       " ExperimentResult(score=5527.642276422765, accuracy=0.675),\n",
       " ExperimentResult(score=5582.077393075357, accuracy=0.68)]"
      ]
     },
     "execution_count": 4,
     "metadata": {},
     "output_type": "execute_result"
    }
   ],
   "execution_count": 4
  },
  {
   "cell_type": "code",
   "metadata": {
    "ExecuteTime": {
     "end_time": "2024-06-02T12:39:46.594684Z",
     "start_time": "2024-06-02T12:39:32.496067Z"
    }
   },
   "source": [
    "from aml_projects.Project2.models.utils import run_experiment, generate_feature_interactions_quadratic\n",
    "\n",
    "squared_results = run_experiment(\n",
    "    'forest_results/',\n",
    "    'squared',\n",
    "    apply_optimized_forest,\n",
    "    X,\n",
    "    y,\n",
    "    selected_features,\n",
    "    generate_feature_interactions=generate_feature_interactions_quadratic,\n",
    "    iterations=100\n",
    ")\n",
    "\n",
    "squared_results"
   ],
   "outputs": [
    {
     "data": {
      "text/plain": [
       "[ExperimentResult(score=5577.546777546779, accuracy=0.689),\n",
       " ExperimentResult(score=5891.633466135458, accuracy=0.711),\n",
       " ExperimentResult(score=6070.916334661354, accuracy=0.727),\n",
       " ExperimentResult(score=5855.21472392638, accuracy=0.72),\n",
       " ExperimentResult(score=6003.219315895371, accuracy=0.722),\n",
       " ExperimentResult(score=5666.26746506986, accuracy=0.679),\n",
       " ExperimentResult(score=5793.987975951903, accuracy=0.699),\n",
       " ExperimentResult(score=5796.04743083004, accuracy=0.696),\n",
       " ExperimentResult(score=5914.228456913826, accuracy=0.705),\n",
       " ExperimentResult(score=6020.0, accuracy=0.726),\n",
       " ExperimentResult(score=5860.0, accuracy=0.705),\n",
       " ExperimentResult(score=6056.461232604374, accuracy=0.728),\n",
       " ExperimentResult(score=5978.4232365145235, accuracy=0.725),\n",
       " ExperimentResult(score=5911.111111111111, accuracy=0.725),\n",
       " ExperimentResult(score=5842.801556420233, accuracy=0.697),\n",
       " ExperimentResult(score=5846.332046332046, accuracy=0.698),\n",
       " ExperimentResult(score=6088.801571709233, accuracy=0.719),\n",
       " ExperimentResult(score=5882.494969818913, accuracy=0.71),\n",
       " ExperimentResult(score=5846.843177189409, accuracy=0.709),\n",
       " ExperimentResult(score=5480.41237113402, accuracy=0.676),\n",
       " ExperimentResult(score=5730.8943089430895, accuracy=0.692),\n",
       " ExperimentResult(score=5916.935483870968, accuracy=0.716),\n",
       " ExperimentResult(score=5937.176938369782, accuracy=0.709),\n",
       " ExperimentResult(score=6008.835341365462, accuracy=0.722),\n",
       " ExperimentResult(score=5626.347305389221, accuracy=0.682),\n",
       " ExperimentResult(score=5748.818897637796, accuracy=0.687),\n",
       " ExperimentResult(score=5746.107784431138, accuracy=0.7),\n",
       " ExperimentResult(score=5716.8356997971605, accuracy=0.699),\n",
       " ExperimentResult(score=5620.0, accuracy=0.682),\n",
       " ExperimentResult(score=5914.624505928854, accuracy=0.707),\n",
       " ExperimentResult(score=5720.077972709551, accuracy=0.683),\n",
       " ExperimentResult(score=5659.504132231404, accuracy=0.698),\n",
       " ExperimentResult(score=5890.163934426229, accuracy=0.717),\n",
       " ExperimentResult(score=5962.6984126984125, accuracy=0.718),\n",
       " ExperimentResult(score=5773.947895791583, accuracy=0.7),\n",
       " ExperimentResult(score=5732.515337423312, accuracy=0.7),\n",
       " ExperimentResult(score=5755.684007707128, accuracy=0.682),\n",
       " ExperimentResult(score=5778.967495219885, accuracy=0.679),\n",
       " ExperimentResult(score=5731.106471816284, accuracy=0.708),\n",
       " ExperimentResult(score=5861.310782241015, accuracy=0.724),\n",
       " ExperimentResult(score=5615.415821501015, accuracy=0.69),\n",
       " ExperimentResult(score=5604.123711340206, accuracy=0.692),\n",
       " ExperimentResult(score=5925.984251968504, accuracy=0.708),\n",
       " ExperimentResult(score=5634.677419354839, accuracy=0.686),\n",
       " ExperimentResult(score=5783.805668016194, accuracy=0.703),\n",
       " ExperimentResult(score=6231.192660550459, accuracy=0.714),\n",
       " ExperimentResult(score=5675.0, accuracy=0.692),\n",
       " ExperimentResult(score=5904.166666666667, accuracy=0.722),\n",
       " ExperimentResult(score=5753.907815631262, accuracy=0.696),\n",
       " ExperimentResult(score=5829.702970297029, accuracy=0.701),\n",
       " ExperimentResult(score=5609.815950920245, accuracy=0.687),\n",
       " ExperimentResult(score=5939.917695473251, accuracy=0.72),\n",
       " ExperimentResult(score=5695.833333333334, accuracy=0.705),\n",
       " ExperimentResult(score=5754.813359528487, accuracy=0.689),\n",
       " ExperimentResult(score=5824.793388429751, accuracy=0.713),\n",
       " ExperimentResult(score=5828.112449799197, accuracy=0.707),\n",
       " ExperimentResult(score=5751.219512195123, accuracy=0.698),\n",
       " ExperimentResult(score=5821.696252465484, accuracy=0.699),\n",
       " ExperimentResult(score=5703.353057199211, accuracy=0.687),\n",
       " ExperimentResult(score=5895.5165692007795, accuracy=0.699),\n",
       " ExperimentResult(score=5849.504950495049, accuracy=0.701),\n",
       " ExperimentResult(score=5945.790554414783, accuracy=0.724),\n",
       " ExperimentResult(score=5911.111111111111, accuracy=0.714),\n",
       " ExperimentResult(score=5572.908366533864, accuracy=0.676),\n",
       " ExperimentResult(score=5622.033898305085, accuracy=0.696),\n",
       " ExperimentResult(score=5831.872509960159, accuracy=0.702),\n",
       " ExperimentResult(score=5951.515151515152, accuracy=0.719),\n",
       " ExperimentResult(score=5948.4375, accuracy=0.709),\n",
       " ExperimentResult(score=5834.764826175869, accuracy=0.713),\n",
       " ExperimentResult(score=5960.2434077079115, accuracy=0.713),\n",
       " ExperimentResult(score=5916.564417177914, accuracy=0.716),\n",
       " ExperimentResult(score=5730.8943089430895, accuracy=0.703),\n",
       " ExperimentResult(score=5959.533073929961, accuracy=0.7),\n",
       " ExperimentResult(score=6056.461232604374, accuracy=0.722),\n",
       " ExperimentResult(score=5937.254901960784, accuracy=0.706),\n",
       " ExperimentResult(score=5876.923076923077, accuracy=0.692),\n",
       " ExperimentResult(score=5965.6686626746505, accuracy=0.715),\n",
       " ExperimentResult(score=5787.951807228917, accuracy=0.698),\n",
       " ExperimentResult(score=6100.380228136883, accuracy=0.713),\n",
       " ExperimentResult(score=5775.308641975309, accuracy=0.712),\n",
       " ExperimentResult(score=5846.332046332046, accuracy=0.696),\n",
       " ExperimentResult(score=5831.872509960159, accuracy=0.704),\n",
       " ExperimentResult(score=5729.460580912863, accuracy=0.706),\n",
       " ExperimentResult(score=5880.86785009862, accuracy=0.706),\n",
       " ExperimentResult(score=5740.0, accuracy=0.693),\n",
       " ExperimentResult(score=5784.126984126984, accuracy=0.697),\n",
       " ExperimentResult(score=5750.207468879668, accuracy=0.706),\n",
       " ExperimentResult(score=5669.918699186992, accuracy=0.694),\n",
       " ExperimentResult(score=5940.0, accuracy=0.713),\n",
       " ExperimentResult(score=5680.0, accuracy=0.682),\n",
       " ExperimentResult(score=5585.714285714286, accuracy=0.693),\n",
       " ExperimentResult(score=5800.0, accuracy=0.693),\n",
       " ExperimentResult(score=5937.176938369782, accuracy=0.713),\n",
       " ExperimentResult(score=6142.51968503937, accuracy=0.732),\n",
       " ExperimentResult(score=6210.8818011257035, accuracy=0.717),\n",
       " ExperimentResult(score=5834.0681362725445, accuracy=0.699),\n",
       " ExperimentResult(score=6035.294117647059, accuracy=0.718),\n",
       " ExperimentResult(score=6010.216110019646, accuracy=0.718),\n",
       " ExperimentResult(score=5812.19512195122, accuracy=0.705),\n",
       " ExperimentResult(score=5582.077393075357, accuracy=0.691)]"
      ]
     },
     "execution_count": 5,
     "metadata": {},
     "output_type": "execute_result"
    }
   ],
   "execution_count": 5
  },
  {
   "metadata": {
    "ExecuteTime": {
     "end_time": "2024-06-02T12:39:46.721906Z",
     "start_time": "2024-06-02T12:39:46.595473Z"
    }
   },
   "cell_type": "code",
   "source": [
    "# Boxplot of the results\n",
    "\n",
    "scores_normal, scores_squared = list(map(lambda x: x.score, normal_results)), list(map(lambda x: x.score, squared_results))\n",
    "accuracies_normal, accuracies_squared = list(map(lambda x: x.accuracy, normal_results)), list(map(lambda x: x.accuracy, squared_results))\n",
    "\n",
    "plt.boxplot([scores_normal, scores_squared])\n",
    "plt.xticks([1, 2], ['Normal', 'Squared'])\n",
    "plt.ylim(0, 10000)\n",
    "plt.title('Random Forest - Scores')\n",
    "\n",
    "# Mean and max scores on plot\n",
    "plt.text(1, np.max(scores_normal) + 600, f'Mean: {np.mean(scores_normal):.2f} ± {np.std(scores_normal):.2f}', ha='center', va='bottom')\n",
    "plt.text(2, np.max(scores_squared) + 600, f'Mean: {np.mean(scores_squared):.2f} ± {np.std(scores_squared):.2f}', ha='center', va='bottom')\n",
    "plt.text(1, np.max(scores_normal) + 1000, f'Max: {np.max(scores_normal):.2f}', ha='center', va='bottom')\n",
    "plt.text(2, np.max(scores_squared) + 1000, f'Max: {np.max(scores_squared):.2f}', ha='center', va='bottom')\n",
    "plt.show()\n",
    "\n",
    "\n",
    "plt.boxplot([accuracies_normal, accuracies_squared])\n",
    "plt.xticks([1, 2], ['Normal', 'Squared'])\n",
    "plt.ylim(0, 1)\n",
    "plt.title('Random Forest - Accuracies')\n",
    "\n",
    "# Mean and max scores on plot\n",
    "plt.text(1, np.max(accuracies_normal) + 0.05, f'Mean: {np.mean(accuracies_normal):.2f} ± {np.std(accuracies_normal):.2f}', ha='center', va='bottom')\n",
    "plt.text(2, np.max(accuracies_squared) + 0.05, f'Mean: {np.mean(accuracies_squared):.2f} ± {np.std(accuracies_squared):.2f}', ha='center', va='bottom')\n",
    "plt.text(1, np.max(accuracies_normal) + 0.1, f'Max: {np.max(accuracies_normal):.2f}', ha='center', va='bottom')\n",
    "plt.text(2, np.max(accuracies_squared) + 0.1, f'Max: {np.max(accuracies_squared):.2f}', ha='center', va='bottom')"
   ],
   "outputs": [
    {
     "data": {
      "text/plain": [
       "<Figure size 640x480 with 1 Axes>"
      ],
      "image/png": "[encoded data removed]"
     },
     "metadata": {},
     "output_type": "display_data"
    },
    {
     "data": {
      "text/plain": [
       "Text(2, 0.832, 'Max: 0.73')"
      ]
     },
     "execution_count": 6,
     "metadata": {},
     "output_type": "execute_result"
    },
    {
     "data": {
      "text/plain": [
       "<Figure size 640x480 with 1 Axes>"
      ],
      "image/png": "[encoded data removed]"
     },
     "metadata": {},
     "output_type": "display_data"
    }
   ],
   "execution_count": 6
  }
 ],
 "metadata": {
  "kernelspec": {
   "display_name": "aml",
   "language": "python",
   "name": "python3"
  },
  "language_info": {
   "codemirror_mode": {
    "name": "ipython",
    "version": 3
   },
   "file_extension": ".py",
   "mimetype": "text/x-python",
   "name": "python",
   "nbconvert_exporter": "python",
   "pygments_lexer": "ipython3",
   "version": "3.10.14"
  }
 },
 "nbformat": 4,
 "nbformat_minor": 2
}
