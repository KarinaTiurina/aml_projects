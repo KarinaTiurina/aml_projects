{
 "cells": [
  {
   "metadata": {
    "ExecuteTime": {
     "end_time": "2024-05-22T20:28:27.868296Z",
     "start_time": "2024-05-22T20:28:27.856639Z"
    }
   },
   "cell_type": "code",
   "source": [
    "%load_ext autoreload\n",
    "%autoreload 2"
   ],
   "id": "19620cc0c64d33a0",
   "outputs": [],
   "execution_count": 1
  },
  {
   "metadata": {},
   "cell_type": "markdown",
   "source": [
    "# Genetic Algorithm approach for solving the problem of Project 2.\n",
    "\n",
    "## Genetic Algorithm proposal:\n",
    "\n",
    "- **Genetic Algorithm** is a search heuristic that is inspired by Charles Darwin’s theory of natural evolution. This algorithm reflects the process of natural selection where the fittest individuals are selected for reproduction in order to produce offspring of the next generation.\n",
    "- The algorithm starts with a population of solutions (represented by chromosomes) and applies the principle of natural selection to evolve the population of solutions.\n",
    "    - For our case, chromosomes will represent the variables used in the model.\n",
    "    - Given the size of the problem, we will first manually select the best 50 variables using the best performing feature selection method.\n",
    "    - The genetic algorithm will then be used to select the best subset of these 50 variables.\n",
    "    - We will also choose the model \"manually\" during the selection of the best 50 variables.\n",
    "- The genetic algorithm will be implemented as follows:\n",
    "    - The fitness function will be the profit function.\n",
    "    - The genetic operators will be mutation and crossover.\n",
    "    - The selection operator will be the tournament selection.\n",
    "    - The stopping criterion will be the number of generations or the number of generations without improvement.\n",
    "    - The initial population will be generated randomly.\n",
    "    - The mutation probability will be set to 0.1, and the crossover probability will be set to 0.9. \n"
   ],
   "id": "b77d062ea6b81fd2"
  },
  {
   "metadata": {
    "ExecuteTime": {
     "end_time": "2024-05-22T19:48:01.198623Z",
     "start_time": "2024-05-22T19:47:59.007829Z"
    }
   },
   "cell_type": "code",
   "source": "%pip install pygad",
   "id": "e291e44a6002aa46",
   "outputs": [
    {
     "name": "stdout",
     "output_type": "stream",
     "text": [
      "Collecting pygad\r\n",
      "  Downloading pygad-3.3.1-py3-none-any.whl.metadata (19 kB)\r\n",
      "Requirement already satisfied: cloudpickle in /opt/anaconda3/envs/workspace/lib/python3.10/site-packages (from pygad) (3.0.0)\r\n",
      "Requirement already satisfied: matplotlib in /opt/anaconda3/envs/workspace/lib/python3.10/site-packages (from pygad) (3.8.3)\r\n",
      "Requirement already satisfied: numpy in /opt/anaconda3/envs/workspace/lib/python3.10/site-packages (from pygad) (1.26.4)\r\n",
      "Requirement already satisfied: contourpy>=1.0.1 in /opt/anaconda3/envs/workspace/lib/python3.10/site-packages (from matplotlib->pygad) (1.2.0)\r\n",
      "Requirement already satisfied: cycler>=0.10 in /opt/anaconda3/envs/workspace/lib/python3.10/site-packages (from matplotlib->pygad) (0.12.1)\r\n",
      "Requirement already satisfied: fonttools>=4.22.0 in /opt/anaconda3/envs/workspace/lib/python3.10/site-packages (from matplotlib->pygad) (4.50.0)\r\n",
      "Requirement already satisfied: kiwisolver>=1.3.1 in /opt/anaconda3/envs/workspace/lib/python3.10/site-packages (from matplotlib->pygad) (1.4.5)\r\n",
      "Requirement already satisfied: packaging>=20.0 in /opt/anaconda3/envs/workspace/lib/python3.10/site-packages (from matplotlib->pygad) (24.0)\r\n",
      "Requirement already satisfied: pillow>=8 in /opt/anaconda3/envs/workspace/lib/python3.10/site-packages (from matplotlib->pygad) (10.2.0)\r\n",
      "Requirement already satisfied: pyparsing>=2.3.1 in /opt/anaconda3/envs/workspace/lib/python3.10/site-packages (from matplotlib->pygad) (3.1.2)\r\n",
      "Requirement already satisfied: python-dateutil>=2.7 in /opt/anaconda3/envs/workspace/lib/python3.10/site-packages (from matplotlib->pygad) (2.9.0)\r\n",
      "Requirement already satisfied: six>=1.5 in /opt/anaconda3/envs/workspace/lib/python3.10/site-packages (from python-dateutil>=2.7->matplotlib->pygad) (1.16.0)\r\n",
      "Downloading pygad-3.3.1-py3-none-any.whl (84 kB)\r\n",
      "\u001B[2K   \u001B[90m━━━━━━━━━━━━━━━━━━━━━━━━━━━━━━━━━━━━━━━━\u001B[0m \u001B[32m84.1/84.1 kB\u001B[0m \u001B[31m965.5 kB/s\u001B[0m eta \u001B[36m0:00:00\u001B[0m\u001B[36m0:00:01\u001B[0m\r\n",
      "\u001B[?25hInstalling collected packages: pygad\r\n",
      "Successfully installed pygad-3.3.1\r\n",
      "Note: you may need to restart the kernel to use updated packages.\n"
     ]
    }
   ],
   "execution_count": 2
  },
  {
   "metadata": {
    "ExecuteTime": {
     "end_time": "2024-05-22T20:28:30.652404Z",
     "start_time": "2024-05-22T20:28:30.241376Z"
    }
   },
   "cell_type": "code",
   "source": [
    "import pickle\n",
    " \n",
    "with open('selected_features_per_method.pkl', 'rb') as f:\n",
    "    selected_features = pickle.load(f)\n",
    "\n",
    "selected_features"
   ],
   "id": "initial_id",
   "outputs": [
    {
     "data": {
      "text/plain": [
       "{'mrmr': Index([105,  64, 131, 136, 100, 102,  24, 103, 104, 359, 101,  29, 266,  57,\n",
       "         39, 241, 351, 155, 335, 442],\n",
       "       dtype='int64'),\n",
       " 'surf': Index([105, 102, 101, 321, 100, 289, 283, 374, 254, 311,\n",
       "        ...\n",
       "        378, 228, 354, 394, 232, 332, 299, 279, 356, 382],\n",
       "       dtype='int64', length=490),\n",
       " 'forest': Index([100, 101, 102, 103, 104, 105, 403], dtype='int64'),\n",
       " 'xgb': Index([100, 101, 102, 103, 104, 105], dtype='int64'),\n",
       " 'common_features': [105.0,\n",
       "  64.0,\n",
       "  131.0,\n",
       "  136.0,\n",
       "  100.0,\n",
       "  102.0,\n",
       "  24.0,\n",
       "  103.0,\n",
       "  104.0,\n",
       "  359.0,\n",
       "  101.0,\n",
       "  29.0,\n",
       "  266.0,\n",
       "  57.0,\n",
       "  39.0,\n",
       "  241.0,\n",
       "  351.0,\n",
       "  155.0,\n",
       "  335.0,\n",
       "  442.0,\n",
       "  403.0],\n",
       " 'intersection_common_features': [105.0, 100.0, 102.0, 103.0, 104.0, 101.0]}"
      ]
     },
     "execution_count": 2,
     "metadata": {},
     "output_type": "execute_result"
    }
   ],
   "execution_count": 2
  },
  {
   "metadata": {
    "ExecuteTime": {
     "end_time": "2024-05-22T20:28:32.513350Z",
     "start_time": "2024-05-22T20:28:31.715752Z"
    }
   },
   "cell_type": "code",
   "source": [
    "import pandas as pd\n",
    "import numpy as np\n",
    "import matplotlib.pyplot as plt\n",
    "from utils import cleanup_dataset_apply_standard_scaler"
   ],
   "id": "6ea24eaa5434312d",
   "outputs": [],
   "execution_count": 3
  },
  {
   "metadata": {
    "ExecuteTime": {
     "end_time": "2024-05-22T20:28:34.524187Z",
     "start_time": "2024-05-22T20:28:33.928570Z"
    }
   },
   "cell_type": "code",
   "source": [
    "X = pd.read_table('./data/x_train.txt', header=None, delimiter=' ')\n",
    "y = pd.read_table('./data/y_train.txt', header=None)\n",
    "\n",
    "X_test = pd.read_table('./data/x_test.txt', header=None, delimiter=' ')\n",
    "\n",
    "X.head()\n",
    "\n",
    "correlated_features_to_remove = [1, 0, 4, 6, 7, 3, 5, 8, 9, 2]\n",
    "X = X.drop(correlated_features_to_remove, axis=1)\n",
    "X_test = X_test.drop(correlated_features_to_remove, axis=1)\n",
    "\n",
    "X = cleanup_dataset_apply_standard_scaler(X)\n",
    "X_test = cleanup_dataset_apply_standard_scaler(X_test)"
   ],
   "id": "4abfb8af6243e123",
   "outputs": [],
   "execution_count": 4
  },
  {
   "metadata": {
    "ExecuteTime": {
     "end_time": "2024-05-22T20:28:38.231156Z",
     "start_time": "2024-05-22T20:28:35.265851Z"
    }
   },
   "cell_type": "code",
   "source": [
    "from sklearn.ensemble import RandomForestClassifier\n",
    "\n",
    "best_best_features = [100, 102, 105, 101, 103, 104, 64]\n",
    "\n",
    "# Grid search best hyperparameters\n",
    "from sklearn.model_selection import GridSearchCV\n",
    "\n",
    "param_grid = {\n",
    "    'n_estimators': np.arange(100, 1000, 100),\n",
    "    'max_depth': np.arange(1, 30, 1),\n",
    "    'max_features': np.arange(1, 15, 1),\n",
    "    'bootstrap': [True, False]\n",
    "}\n",
    "\n",
    "clf = RandomForestClassifier(random_state=0, n_jobs=1)\n",
    "grid_search = GridSearchCV(clf, param_grid, cv=5, n_jobs=-1, verbose=4)\n",
    "grid_search.fit(X[pd.Index(best_best_features)], y.values.ravel())\n",
    "grid_search.best_params_"
   ],
   "id": "7ef063d56a3cc80d",
   "outputs": [
    {
     "name": "stdout",
     "output_type": "stream",
     "text": [
      "Fitting 5 folds for each of 7308 candidates, totalling 36540 fits\n"
     ]
    },
    {
     "ename": "KeyboardInterrupt",
     "evalue": "",
     "output_type": "error",
     "traceback": [
      "\u001B[0;31m---------------------------------------------------------------------------\u001B[0m",
      "\u001B[0;31mKeyboardInterrupt\u001B[0m                         Traceback (most recent call last)",
      "Cell \u001B[0;32mIn[5], line 17\u001B[0m\n\u001B[1;32m     15\u001B[0m clf \u001B[38;5;241m=\u001B[39m RandomForestClassifier(random_state\u001B[38;5;241m=\u001B[39m\u001B[38;5;241m0\u001B[39m, n_jobs\u001B[38;5;241m=\u001B[39m\u001B[38;5;241m1\u001B[39m)\n\u001B[1;32m     16\u001B[0m grid_search \u001B[38;5;241m=\u001B[39m GridSearchCV(clf, param_grid, cv\u001B[38;5;241m=\u001B[39m\u001B[38;5;241m5\u001B[39m, n_jobs\u001B[38;5;241m=\u001B[39m\u001B[38;5;241m-\u001B[39m\u001B[38;5;241m1\u001B[39m, verbose\u001B[38;5;241m=\u001B[39m\u001B[38;5;241m4\u001B[39m)\n\u001B[0;32m---> 17\u001B[0m \u001B[43mgrid_search\u001B[49m\u001B[38;5;241;43m.\u001B[39;49m\u001B[43mfit\u001B[49m\u001B[43m(\u001B[49m\u001B[43mX\u001B[49m\u001B[43m[\u001B[49m\u001B[43mpd\u001B[49m\u001B[38;5;241;43m.\u001B[39;49m\u001B[43mIndex\u001B[49m\u001B[43m(\u001B[49m\u001B[43mbest_best_features\u001B[49m\u001B[43m)\u001B[49m\u001B[43m]\u001B[49m\u001B[43m,\u001B[49m\u001B[43m \u001B[49m\u001B[43my\u001B[49m\u001B[38;5;241;43m.\u001B[39;49m\u001B[43mvalues\u001B[49m\u001B[38;5;241;43m.\u001B[39;49m\u001B[43mravel\u001B[49m\u001B[43m(\u001B[49m\u001B[43m)\u001B[49m\u001B[43m)\u001B[49m\n\u001B[1;32m     18\u001B[0m grid_search\u001B[38;5;241m.\u001B[39mbest_params_\n",
      "File \u001B[0;32m/opt/anaconda3/envs/workspace/lib/python3.10/site-packages/sklearn/base.py:1474\u001B[0m, in \u001B[0;36m_fit_context.<locals>.decorator.<locals>.wrapper\u001B[0;34m(estimator, *args, **kwargs)\u001B[0m\n\u001B[1;32m   1467\u001B[0m     estimator\u001B[38;5;241m.\u001B[39m_validate_params()\n\u001B[1;32m   1469\u001B[0m \u001B[38;5;28;01mwith\u001B[39;00m config_context(\n\u001B[1;32m   1470\u001B[0m     skip_parameter_validation\u001B[38;5;241m=\u001B[39m(\n\u001B[1;32m   1471\u001B[0m         prefer_skip_nested_validation \u001B[38;5;129;01mor\u001B[39;00m global_skip_validation\n\u001B[1;32m   1472\u001B[0m     )\n\u001B[1;32m   1473\u001B[0m ):\n\u001B[0;32m-> 1474\u001B[0m     \u001B[38;5;28;01mreturn\u001B[39;00m \u001B[43mfit_method\u001B[49m\u001B[43m(\u001B[49m\u001B[43mestimator\u001B[49m\u001B[43m,\u001B[49m\u001B[43m \u001B[49m\u001B[38;5;241;43m*\u001B[39;49m\u001B[43margs\u001B[49m\u001B[43m,\u001B[49m\u001B[43m \u001B[49m\u001B[38;5;241;43m*\u001B[39;49m\u001B[38;5;241;43m*\u001B[39;49m\u001B[43mkwargs\u001B[49m\u001B[43m)\u001B[49m\n",
      "File \u001B[0;32m/opt/anaconda3/envs/workspace/lib/python3.10/site-packages/sklearn/model_selection/_search.py:970\u001B[0m, in \u001B[0;36mBaseSearchCV.fit\u001B[0;34m(self, X, y, **params)\u001B[0m\n\u001B[1;32m    964\u001B[0m     results \u001B[38;5;241m=\u001B[39m \u001B[38;5;28mself\u001B[39m\u001B[38;5;241m.\u001B[39m_format_results(\n\u001B[1;32m    965\u001B[0m         all_candidate_params, n_splits, all_out, all_more_results\n\u001B[1;32m    966\u001B[0m     )\n\u001B[1;32m    968\u001B[0m     \u001B[38;5;28;01mreturn\u001B[39;00m results\n\u001B[0;32m--> 970\u001B[0m \u001B[38;5;28;43mself\u001B[39;49m\u001B[38;5;241;43m.\u001B[39;49m\u001B[43m_run_search\u001B[49m\u001B[43m(\u001B[49m\u001B[43mevaluate_candidates\u001B[49m\u001B[43m)\u001B[49m\n\u001B[1;32m    972\u001B[0m \u001B[38;5;66;03m# multimetric is determined here because in the case of a callable\u001B[39;00m\n\u001B[1;32m    973\u001B[0m \u001B[38;5;66;03m# self.scoring the return type is only known after calling\u001B[39;00m\n\u001B[1;32m    974\u001B[0m first_test_score \u001B[38;5;241m=\u001B[39m all_out[\u001B[38;5;241m0\u001B[39m][\u001B[38;5;124m\"\u001B[39m\u001B[38;5;124mtest_scores\u001B[39m\u001B[38;5;124m\"\u001B[39m]\n",
      "File \u001B[0;32m/opt/anaconda3/envs/workspace/lib/python3.10/site-packages/sklearn/model_selection/_search.py:1527\u001B[0m, in \u001B[0;36mGridSearchCV._run_search\u001B[0;34m(self, evaluate_candidates)\u001B[0m\n\u001B[1;32m   1525\u001B[0m \u001B[38;5;28;01mdef\u001B[39;00m \u001B[38;5;21m_run_search\u001B[39m(\u001B[38;5;28mself\u001B[39m, evaluate_candidates):\n\u001B[1;32m   1526\u001B[0m \u001B[38;5;250m    \u001B[39m\u001B[38;5;124;03m\"\"\"Search all candidates in param_grid\"\"\"\u001B[39;00m\n\u001B[0;32m-> 1527\u001B[0m     \u001B[43mevaluate_candidates\u001B[49m\u001B[43m(\u001B[49m\u001B[43mParameterGrid\u001B[49m\u001B[43m(\u001B[49m\u001B[38;5;28;43mself\u001B[39;49m\u001B[38;5;241;43m.\u001B[39;49m\u001B[43mparam_grid\u001B[49m\u001B[43m)\u001B[49m\u001B[43m)\u001B[49m\n",
      "File \u001B[0;32m/opt/anaconda3/envs/workspace/lib/python3.10/site-packages/sklearn/model_selection/_search.py:916\u001B[0m, in \u001B[0;36mBaseSearchCV.fit.<locals>.evaluate_candidates\u001B[0;34m(candidate_params, cv, more_results)\u001B[0m\n\u001B[1;32m    908\u001B[0m \u001B[38;5;28;01mif\u001B[39;00m \u001B[38;5;28mself\u001B[39m\u001B[38;5;241m.\u001B[39mverbose \u001B[38;5;241m>\u001B[39m \u001B[38;5;241m0\u001B[39m:\n\u001B[1;32m    909\u001B[0m     \u001B[38;5;28mprint\u001B[39m(\n\u001B[1;32m    910\u001B[0m         \u001B[38;5;124m\"\u001B[39m\u001B[38;5;124mFitting \u001B[39m\u001B[38;5;132;01m{0}\u001B[39;00m\u001B[38;5;124m folds for each of \u001B[39m\u001B[38;5;132;01m{1}\u001B[39;00m\u001B[38;5;124m candidates,\u001B[39m\u001B[38;5;124m\"\u001B[39m\n\u001B[1;32m    911\u001B[0m         \u001B[38;5;124m\"\u001B[39m\u001B[38;5;124m totalling \u001B[39m\u001B[38;5;132;01m{2}\u001B[39;00m\u001B[38;5;124m fits\u001B[39m\u001B[38;5;124m\"\u001B[39m\u001B[38;5;241m.\u001B[39mformat(\n\u001B[1;32m    912\u001B[0m             n_splits, n_candidates, n_candidates \u001B[38;5;241m*\u001B[39m n_splits\n\u001B[1;32m    913\u001B[0m         )\n\u001B[1;32m    914\u001B[0m     )\n\u001B[0;32m--> 916\u001B[0m out \u001B[38;5;241m=\u001B[39m \u001B[43mparallel\u001B[49m\u001B[43m(\u001B[49m\n\u001B[1;32m    917\u001B[0m \u001B[43m    \u001B[49m\u001B[43mdelayed\u001B[49m\u001B[43m(\u001B[49m\u001B[43m_fit_and_score\u001B[49m\u001B[43m)\u001B[49m\u001B[43m(\u001B[49m\n\u001B[1;32m    918\u001B[0m \u001B[43m        \u001B[49m\u001B[43mclone\u001B[49m\u001B[43m(\u001B[49m\u001B[43mbase_estimator\u001B[49m\u001B[43m)\u001B[49m\u001B[43m,\u001B[49m\n\u001B[1;32m    919\u001B[0m \u001B[43m        \u001B[49m\u001B[43mX\u001B[49m\u001B[43m,\u001B[49m\n\u001B[1;32m    920\u001B[0m \u001B[43m        \u001B[49m\u001B[43my\u001B[49m\u001B[43m,\u001B[49m\n\u001B[1;32m    921\u001B[0m \u001B[43m        \u001B[49m\u001B[43mtrain\u001B[49m\u001B[38;5;241;43m=\u001B[39;49m\u001B[43mtrain\u001B[49m\u001B[43m,\u001B[49m\n\u001B[1;32m    922\u001B[0m \u001B[43m        \u001B[49m\u001B[43mtest\u001B[49m\u001B[38;5;241;43m=\u001B[39;49m\u001B[43mtest\u001B[49m\u001B[43m,\u001B[49m\n\u001B[1;32m    923\u001B[0m \u001B[43m        \u001B[49m\u001B[43mparameters\u001B[49m\u001B[38;5;241;43m=\u001B[39;49m\u001B[43mparameters\u001B[49m\u001B[43m,\u001B[49m\n\u001B[1;32m    924\u001B[0m \u001B[43m        \u001B[49m\u001B[43msplit_progress\u001B[49m\u001B[38;5;241;43m=\u001B[39;49m\u001B[43m(\u001B[49m\u001B[43msplit_idx\u001B[49m\u001B[43m,\u001B[49m\u001B[43m \u001B[49m\u001B[43mn_splits\u001B[49m\u001B[43m)\u001B[49m\u001B[43m,\u001B[49m\n\u001B[1;32m    925\u001B[0m \u001B[43m        \u001B[49m\u001B[43mcandidate_progress\u001B[49m\u001B[38;5;241;43m=\u001B[39;49m\u001B[43m(\u001B[49m\u001B[43mcand_idx\u001B[49m\u001B[43m,\u001B[49m\u001B[43m \u001B[49m\u001B[43mn_candidates\u001B[49m\u001B[43m)\u001B[49m\u001B[43m,\u001B[49m\n\u001B[1;32m    926\u001B[0m \u001B[43m        \u001B[49m\u001B[38;5;241;43m*\u001B[39;49m\u001B[38;5;241;43m*\u001B[39;49m\u001B[43mfit_and_score_kwargs\u001B[49m\u001B[43m,\u001B[49m\n\u001B[1;32m    927\u001B[0m \u001B[43m    \u001B[49m\u001B[43m)\u001B[49m\n\u001B[1;32m    928\u001B[0m \u001B[43m    \u001B[49m\u001B[38;5;28;43;01mfor\u001B[39;49;00m\u001B[43m \u001B[49m\u001B[43m(\u001B[49m\u001B[43mcand_idx\u001B[49m\u001B[43m,\u001B[49m\u001B[43m \u001B[49m\u001B[43mparameters\u001B[49m\u001B[43m)\u001B[49m\u001B[43m,\u001B[49m\u001B[43m \u001B[49m\u001B[43m(\u001B[49m\u001B[43msplit_idx\u001B[49m\u001B[43m,\u001B[49m\u001B[43m \u001B[49m\u001B[43m(\u001B[49m\u001B[43mtrain\u001B[49m\u001B[43m,\u001B[49m\u001B[43m \u001B[49m\u001B[43mtest\u001B[49m\u001B[43m)\u001B[49m\u001B[43m)\u001B[49m\u001B[43m \u001B[49m\u001B[38;5;129;43;01min\u001B[39;49;00m\u001B[43m \u001B[49m\u001B[43mproduct\u001B[49m\u001B[43m(\u001B[49m\n\u001B[1;32m    929\u001B[0m \u001B[43m        \u001B[49m\u001B[38;5;28;43menumerate\u001B[39;49m\u001B[43m(\u001B[49m\u001B[43mcandidate_params\u001B[49m\u001B[43m)\u001B[49m\u001B[43m,\u001B[49m\n\u001B[1;32m    930\u001B[0m \u001B[43m        \u001B[49m\u001B[38;5;28;43menumerate\u001B[39;49m\u001B[43m(\u001B[49m\u001B[43mcv\u001B[49m\u001B[38;5;241;43m.\u001B[39;49m\u001B[43msplit\u001B[49m\u001B[43m(\u001B[49m\u001B[43mX\u001B[49m\u001B[43m,\u001B[49m\u001B[43m \u001B[49m\u001B[43my\u001B[49m\u001B[43m,\u001B[49m\u001B[43m \u001B[49m\u001B[38;5;241;43m*\u001B[39;49m\u001B[38;5;241;43m*\u001B[39;49m\u001B[43mrouted_params\u001B[49m\u001B[38;5;241;43m.\u001B[39;49m\u001B[43msplitter\u001B[49m\u001B[38;5;241;43m.\u001B[39;49m\u001B[43msplit\u001B[49m\u001B[43m)\u001B[49m\u001B[43m)\u001B[49m\u001B[43m,\u001B[49m\n\u001B[1;32m    931\u001B[0m \u001B[43m    \u001B[49m\u001B[43m)\u001B[49m\n\u001B[1;32m    932\u001B[0m \u001B[43m\u001B[49m\u001B[43m)\u001B[49m\n\u001B[1;32m    934\u001B[0m \u001B[38;5;28;01mif\u001B[39;00m \u001B[38;5;28mlen\u001B[39m(out) \u001B[38;5;241m<\u001B[39m \u001B[38;5;241m1\u001B[39m:\n\u001B[1;32m    935\u001B[0m     \u001B[38;5;28;01mraise\u001B[39;00m \u001B[38;5;167;01mValueError\u001B[39;00m(\n\u001B[1;32m    936\u001B[0m         \u001B[38;5;124m\"\u001B[39m\u001B[38;5;124mNo fits were performed. \u001B[39m\u001B[38;5;124m\"\u001B[39m\n\u001B[1;32m    937\u001B[0m         \u001B[38;5;124m\"\u001B[39m\u001B[38;5;124mWas the CV iterator empty? \u001B[39m\u001B[38;5;124m\"\u001B[39m\n\u001B[1;32m    938\u001B[0m         \u001B[38;5;124m\"\u001B[39m\u001B[38;5;124mWere there no candidates?\u001B[39m\u001B[38;5;124m\"\u001B[39m\n\u001B[1;32m    939\u001B[0m     )\n",
      "File \u001B[0;32m/opt/anaconda3/envs/workspace/lib/python3.10/site-packages/sklearn/utils/parallel.py:67\u001B[0m, in \u001B[0;36mParallel.__call__\u001B[0;34m(self, iterable)\u001B[0m\n\u001B[1;32m     62\u001B[0m config \u001B[38;5;241m=\u001B[39m get_config()\n\u001B[1;32m     63\u001B[0m iterable_with_config \u001B[38;5;241m=\u001B[39m (\n\u001B[1;32m     64\u001B[0m     (_with_config(delayed_func, config), args, kwargs)\n\u001B[1;32m     65\u001B[0m     \u001B[38;5;28;01mfor\u001B[39;00m delayed_func, args, kwargs \u001B[38;5;129;01min\u001B[39;00m iterable\n\u001B[1;32m     66\u001B[0m )\n\u001B[0;32m---> 67\u001B[0m \u001B[38;5;28;01mreturn\u001B[39;00m \u001B[38;5;28;43msuper\u001B[39;49m\u001B[43m(\u001B[49m\u001B[43m)\u001B[49m\u001B[38;5;241;43m.\u001B[39;49m\u001B[38;5;21;43m__call__\u001B[39;49m\u001B[43m(\u001B[49m\u001B[43miterable_with_config\u001B[49m\u001B[43m)\u001B[49m\n",
      "File \u001B[0;32m/opt/anaconda3/envs/workspace/lib/python3.10/site-packages/joblib/parallel.py:1952\u001B[0m, in \u001B[0;36mParallel.__call__\u001B[0;34m(self, iterable)\u001B[0m\n\u001B[1;32m   1946\u001B[0m \u001B[38;5;66;03m# The first item from the output is blank, but it makes the interpreter\u001B[39;00m\n\u001B[1;32m   1947\u001B[0m \u001B[38;5;66;03m# progress until it enters the Try/Except block of the generator and\u001B[39;00m\n\u001B[1;32m   1948\u001B[0m \u001B[38;5;66;03m# reach the first `yield` statement. This starts the aynchronous\u001B[39;00m\n\u001B[1;32m   1949\u001B[0m \u001B[38;5;66;03m# dispatch of the tasks to the workers.\u001B[39;00m\n\u001B[1;32m   1950\u001B[0m \u001B[38;5;28mnext\u001B[39m(output)\n\u001B[0;32m-> 1952\u001B[0m \u001B[38;5;28;01mreturn\u001B[39;00m output \u001B[38;5;28;01mif\u001B[39;00m \u001B[38;5;28mself\u001B[39m\u001B[38;5;241m.\u001B[39mreturn_generator \u001B[38;5;28;01melse\u001B[39;00m \u001B[38;5;28;43mlist\u001B[39;49m\u001B[43m(\u001B[49m\u001B[43moutput\u001B[49m\u001B[43m)\u001B[49m\n",
      "File \u001B[0;32m/opt/anaconda3/envs/workspace/lib/python3.10/site-packages/joblib/parallel.py:1595\u001B[0m, in \u001B[0;36mParallel._get_outputs\u001B[0;34m(self, iterator, pre_dispatch)\u001B[0m\n\u001B[1;32m   1592\u001B[0m     \u001B[38;5;28;01myield\u001B[39;00m\n\u001B[1;32m   1594\u001B[0m     \u001B[38;5;28;01mwith\u001B[39;00m \u001B[38;5;28mself\u001B[39m\u001B[38;5;241m.\u001B[39m_backend\u001B[38;5;241m.\u001B[39mretrieval_context():\n\u001B[0;32m-> 1595\u001B[0m         \u001B[38;5;28;01myield from\u001B[39;00m \u001B[38;5;28mself\u001B[39m\u001B[38;5;241m.\u001B[39m_retrieve()\n\u001B[1;32m   1597\u001B[0m \u001B[38;5;28;01mexcept\u001B[39;00m \u001B[38;5;167;01mGeneratorExit\u001B[39;00m:\n\u001B[1;32m   1598\u001B[0m     \u001B[38;5;66;03m# The generator has been garbage collected before being fully\u001B[39;00m\n\u001B[1;32m   1599\u001B[0m     \u001B[38;5;66;03m# consumed. This aborts the remaining tasks if possible and warn\u001B[39;00m\n\u001B[1;32m   1600\u001B[0m     \u001B[38;5;66;03m# the user if necessary.\u001B[39;00m\n\u001B[1;32m   1601\u001B[0m     \u001B[38;5;28mself\u001B[39m\u001B[38;5;241m.\u001B[39m_exception \u001B[38;5;241m=\u001B[39m \u001B[38;5;28;01mTrue\u001B[39;00m\n",
      "File \u001B[0;32m/opt/anaconda3/envs/workspace/lib/python3.10/site-packages/joblib/parallel.py:1707\u001B[0m, in \u001B[0;36mParallel._retrieve\u001B[0;34m(self)\u001B[0m\n\u001B[1;32m   1702\u001B[0m \u001B[38;5;66;03m# If the next job is not ready for retrieval yet, we just wait for\u001B[39;00m\n\u001B[1;32m   1703\u001B[0m \u001B[38;5;66;03m# async callbacks to progress.\u001B[39;00m\n\u001B[1;32m   1704\u001B[0m \u001B[38;5;28;01mif\u001B[39;00m ((\u001B[38;5;28mlen\u001B[39m(\u001B[38;5;28mself\u001B[39m\u001B[38;5;241m.\u001B[39m_jobs) \u001B[38;5;241m==\u001B[39m \u001B[38;5;241m0\u001B[39m) \u001B[38;5;129;01mor\u001B[39;00m\n\u001B[1;32m   1705\u001B[0m     (\u001B[38;5;28mself\u001B[39m\u001B[38;5;241m.\u001B[39m_jobs[\u001B[38;5;241m0\u001B[39m]\u001B[38;5;241m.\u001B[39mget_status(\n\u001B[1;32m   1706\u001B[0m         timeout\u001B[38;5;241m=\u001B[39m\u001B[38;5;28mself\u001B[39m\u001B[38;5;241m.\u001B[39mtimeout) \u001B[38;5;241m==\u001B[39m TASK_PENDING)):\n\u001B[0;32m-> 1707\u001B[0m     \u001B[43mtime\u001B[49m\u001B[38;5;241;43m.\u001B[39;49m\u001B[43msleep\u001B[49m\u001B[43m(\u001B[49m\u001B[38;5;241;43m0.01\u001B[39;49m\u001B[43m)\u001B[49m\n\u001B[1;32m   1708\u001B[0m     \u001B[38;5;28;01mcontinue\u001B[39;00m\n\u001B[1;32m   1710\u001B[0m \u001B[38;5;66;03m# We need to be careful: the job list can be filling up as\u001B[39;00m\n\u001B[1;32m   1711\u001B[0m \u001B[38;5;66;03m# we empty it and Python list are not thread-safe by\u001B[39;00m\n\u001B[1;32m   1712\u001B[0m \u001B[38;5;66;03m# default hence the use of the lock\u001B[39;00m\n",
      "\u001B[0;31mKeyboardInterrupt\u001B[0m: "
     ]
    }
   ],
   "execution_count": 5
  },
  {
   "metadata": {
    "ExecuteTime": {
     "end_time": "2024-05-22T20:49:19.734273Z",
     "start_time": "2024-05-22T20:49:19.681761Z"
    }
   },
   "cell_type": "code",
   "source": [
    "from typing import List\n",
    "from pygad import pygad\n",
    "from sklearn.ensemble import RandomForestClassifier\n",
    "from sklearn.model_selection import train_test_split\n",
    "from utils import train_and_evaluate_model, max_score\n",
    "\n",
    "X_eval_train, X_eval_test, y_eval_train, y_eval_test = train_test_split(X, y, test_size=0.2, random_state=0)\n",
    "common_features = pd.Index(selected_features['common_features'], dtype='int64')\n",
    "\n",
    "def apply_optimized_forest(\n",
    "        X: pd.DataFrame,\n",
    "        y: pd.Series,\n",
    "        X_test: pd.DataFrame,\n",
    "        random_state: int = 0\n",
    ") -> pd.Series:\n",
    "    \"\"\"\n",
    "    Apply the optimized random forest model to the dataset.\n",
    "    :param X: pd.DataFrame - The training dataset.\n",
    "    :param y: pd.Series - The target variable.\n",
    "    :param X_test: pd.DataFrame - The test dataset.\n",
    "    :param random_state: int - The random state.\n",
    "    :return: pd.Series - The predictions.\n",
    "    \"\"\"\n",
    "    \n",
    "    model = RandomForestClassifier(\n",
    "        n_estimators=500,\n",
    "        max_depth=9,\n",
    "        max_features=1,\n",
    "        bootstrap=True,\n",
    "        random_state=random_state,\n",
    "        n_jobs=-1,\n",
    "    )\n",
    "\n",
    "    model.fit(X, y)\n",
    "    return pd.Series(model.predict_proba(X_test)[:, 1], index=X_test.index)\n",
    "\n",
    "\n",
    "def fitness_function(\n",
    "        ga_instance: pygad.GA,\n",
    "        solution: List[int],\n",
    "        solution_idx: int\n",
    ") -> float:\n",
    "    score = train_and_evaluate_model(\n",
    "        model=apply_optimized_forest,\n",
    "        X_train=X_eval_train,\n",
    "        y_train=y_eval_train,\n",
    "        X_test=X_eval_test,\n",
    "        y_test=y_eval_test,\n",
    "        selected_features=common_features[solution],\n",
    "        threshold_num=200,\n",
    "        should_penalize_feature_num=True,\n",
    "        random_state=0\n",
    "    )\n",
    "\n",
    "    return score / max_score(threshold_num=200)"
   ],
   "id": "8a97f6f083363bac",
   "outputs": [],
   "execution_count": 26
  },
  {
   "metadata": {
    "ExecuteTime": {
     "end_time": "2024-05-22T20:49:21.140955Z",
     "start_time": "2024-05-22T20:49:21.116501Z"
    }
   },
   "cell_type": "code",
   "source": [
    "import logging\n",
    "\n",
    "ga = pygad.GA(\n",
    "    num_generations=10000,\n",
    "    num_parents_mating=10,\n",
    "    fitness_func=fitness_function,\n",
    "    sol_per_pop=50,\n",
    "    gene_type=int,\n",
    "    gene_space=[0, 1],\n",
    "    num_genes=len(common_features),\n",
    "    init_range_low=0,\n",
    "    init_range_high=1,\n",
    "    mutation_percent_genes=10,\n",
    "    crossover_probability=0.9,\n",
    "    mutation_probability=0.1,\n",
    "    parent_selection_type='tournament',\n",
    "    keep_parents=2,\n",
    "    crossover_type='single_point',\n",
    "    mutation_type='random',\n",
    "    random_mutation_min_val=0,\n",
    "    random_mutation_max_val=1,\n",
    "    random_seed=0,\n",
    "    save_best_solutions=True,\n",
    "    logger=logging.getLogger(),\n",
    "    stop_criteria=\"reach_0.8\",\n",
    "    parallel_processing=None\n",
    ")"
   ],
   "id": "b42ac32c0b9faf4c",
   "outputs": [],
   "execution_count": 27
  },
  {
   "metadata": {
    "jupyter": {
     "is_executing": true
    },
    "ExecuteTime": {
     "start_time": "2024-05-22T20:49:25.930079Z"
    }
   },
   "cell_type": "code",
   "source": "ga.run()",
   "id": "cff660c04aa859c9",
   "outputs": [],
   "execution_count": null
  }
 ],
 "metadata": {
  "kernelspec": {
   "display_name": "Python 3",
   "language": "python",
   "name": "python3"
  },
  "language_info": {
   "codemirror_mode": {
    "name": "ipython",
    "version": 2
   },
   "file_extension": ".py",
   "mimetype": "text/x-python",
   "name": "python",
   "nbconvert_exporter": "python",
   "pygments_lexer": "ipython2",
   "version": "2.7.6"
  }
 },
 "nbformat": 4,
 "nbformat_minor": 5
}
