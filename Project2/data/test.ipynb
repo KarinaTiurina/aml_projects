{
 "cells": [
  {
   "cell_type": "code",
   "id": "initial_id",
   "metadata": {
    "collapsed": true,
    "ExecuteTime": {
     "end_time": "2024-05-22T12:19:28.987284Z",
     "start_time": "2024-05-22T12:19:28.975621Z"
    }
   },
   "source": [
    "import pickle\n",
    "\n",
    "with open('genetic_algorithm_selected_features_per_method.pkl', 'rb') as f:\n",
    "    selected_features = pickle.load(f)\n",
    "\n",
    "selected_features"
   ],
   "outputs": [
    {
     "data": {
      "text/plain": [
       "{'mrmr': Index([105,  64, 131, 136, 100, 102,  24, 103, 104, 359, 101,  29, 266,  57,\n",
       "         39, 241, 351, 155, 335, 442],\n",
       "       dtype='int64'),\n",
       " 'surf': Index([105, 102, 101, 321, 100, 289, 283, 374, 254, 311,\n",
       "        ...\n",
       "        378, 228, 354, 394, 232, 332, 299, 279, 356, 382],\n",
       "       dtype='int64', length=490),\n",
       " 'forest': Index([100, 101, 102, 103, 104, 105, 403], dtype='int64'),\n",
       " 'xgb': Index([100, 101, 102, 103, 104, 105], dtype='int64'),\n",
       " 'common_features': [105.0,\n",
       "  64.0,\n",
       "  131.0,\n",
       "  136.0,\n",
       "  100.0,\n",
       "  102.0,\n",
       "  24.0,\n",
       "  103.0,\n",
       "  104.0,\n",
       "  359.0,\n",
       "  101.0,\n",
       "  29.0,\n",
       "  266.0,\n",
       "  57.0,\n",
       "  39.0,\n",
       "  241.0,\n",
       "  351.0,\n",
       "  155.0,\n",
       "  335.0,\n",
       "  442.0,\n",
       "  403.0]}"
      ]
     },
     "execution_count": 12,
     "metadata": {},
     "output_type": "execute_result"
    }
   ],
   "execution_count": 12
  },
  {
   "metadata": {
    "ExecuteTime": {
     "end_time": "2024-05-22T12:19:33.025942Z",
     "start_time": "2024-05-22T12:19:32.517162Z"
    }
   },
   "cell_type": "code",
   "source": [
    "import pandas as pd\n",
    "import numpy as np\n",
    "import matplotlib.pyplot as plt\n",
    "\n",
    "X = pd.read_table('./data/x_train.txt', header=None, delimiter=' ')\n",
    "y = pd.read_table('./data/y_train.txt', header=None)\n",
    "\n",
    "X_test = pd.read_table('./data/x_test.txt', header=None, delimiter=' ')\n",
    "\n",
    "X.head()\n",
    "\n",
    "correlated_features_to_remove = [1, 0, 4, 6, 7, 3, 5, 8, 9, 2]\n",
    "X = X.drop(correlated_features_to_remove, axis=1)"
   ],
   "id": "aaa3071585a56685",
   "outputs": [],
   "execution_count": 13
  },
  {
   "metadata": {
    "ExecuteTime": {
     "end_time": "2024-05-22T12:19:34.675163Z",
     "start_time": "2024-05-22T12:19:34.660109Z"
    }
   },
   "cell_type": "code",
   "source": [
    "from sklearn.model_selection import train_test_split\n",
    "\n",
    "X_train, X_val, y_train, y_val = train_test_split(X, y, test_size=0.2, random_state=42)"
   ],
   "id": "c1b6f997c0a9bebb",
   "outputs": [],
   "execution_count": 14
  },
  {
   "metadata": {
    "ExecuteTime": {
     "end_time": "2024-05-22T12:21:57.522285Z",
     "start_time": "2024-05-22T12:21:57.517745Z"
    }
   },
   "cell_type": "code",
   "source": [
    "from sklearn.ensemble import RandomForestClassifier\n",
    "from itertools import combinations\n",
    "\n",
    "common_features = selected_features['common_features']\n",
    "common_features_sixes_permutations = (\n",
    "    list(combinations(common_features, 4))\n",
    "    + list(combinations(common_features, 3))\n",
    "    + list(combinations(common_features, 2))\n",
    "    + list(combinations(common_features, 1))\n",
    ")\n",
    "\n",
    "len(common_features_sixes_permutations)"
   ],
   "id": "76fb25335ae39cfd",
   "outputs": [
    {
     "data": {
      "text/plain": [
       "7546"
      ]
     },
     "execution_count": 18,
     "metadata": {},
     "output_type": "execute_result"
    }
   ],
   "execution_count": 18
  },
  {
   "metadata": {
    "jupyter": {
     "is_executing": true
    },
    "ExecuteTime": {
     "start_time": "2024-05-22T12:21:58.326678Z"
    }
   },
   "cell_type": "code",
   "source": [
    "from tqdm import tqdm\n",
    "feature_selection_scores = []\n",
    "current_max_score = 0\n",
    "current_best_feature_selection = None\n",
    "\n",
    "tqdm._instances.clear()\n",
    "bar = tqdm(total=len(common_features_sixes_permutations))\n",
    "for feature_selection in common_features_sixes_permutations:\n",
    "    X_train_selected = X_train[pd.Index(feature_selection)]\n",
    "    X_val_selected = X_val[pd.Index(feature_selection)]\n",
    "\n",
    "    clf = RandomForestClassifier(n_estimators=100, random_state=0, n_jobs=-1)\n",
    "    clf.fit(X_train_selected, y_train.values.ravel())\n",
    "    score = clf.score(X_val_selected, y_val)\n",
    "    feature_selection_scores.append((feature_selection, score))\n",
    "    \n",
    "    bar.update(1)\n",
    "    current_max_score = max(current_max_score, score)\n",
    "    current_best_feature_selection = feature_selection if score == current_max_score else current_best_feature_selection\n",
    "    bar.set_description(f'Score: {score}, Max score: {current_max_score}, Best feature selection: {current_best_feature_selection}')\n"
   ],
   "id": "6001e824b5ebb2d0",
   "outputs": [
    {
     "name": "stderr",
     "output_type": "stream",
     "text": [
      "Score: 0.6, Max score: 0.662, Best feature selection: (105.0, 100.0, 102.0, 101.0):  12%|█▏        | 726/5985 [01:58<14:21,  6.11it/s]\n",
      "Score: 0.48, Max score: 0.662, Best feature selection: (105.0, 100.0, 102.0, 101.0):  44%|████▍     | 3319/7546 [07:42<11:10,  6.30it/s] "
     ]
    }
   ],
   "execution_count": null
  },
  {
   "metadata": {
    "ExecuteTime": {
     "end_time": "2024-05-22T06:45:06.722144Z",
     "start_time": "2024-05-22T06:45:06.715660Z"
    }
   },
   "cell_type": "code",
   "source": [
    "current_best_feature_selection\n",
    "\n",
    "# (100.0, 101.0, 102.0, 105.0)\n",
    "# + 103.0\n",
    "# + 136.0\n",
    "# + 104.0\n",
    "\n"
   ],
   "id": "2b55c894bcef171f",
   "outputs": [
    {
     "data": {
      "text/plain": [
       "(100.0, 101.0, 102.0, 103.0, 105.0)"
      ]
     },
     "execution_count": 11,
     "metadata": {},
     "output_type": "execute_result"
    }
   ],
   "execution_count": 11
  }
 ],
 "metadata": {
  "kernelspec": {
   "display_name": "Python 3",
   "language": "python",
   "name": "python3"
  },
  "language_info": {
   "codemirror_mode": {
    "name": "ipython",
    "version": 2
   },
   "file_extension": ".py",
   "mimetype": "text/x-python",
   "name": "python",
   "nbconvert_exporter": "python",
   "pygments_lexer": "ipython2",
   "version": "2.7.6"
  }
 },
 "nbformat": 4,
 "nbformat_minor": 5
}
