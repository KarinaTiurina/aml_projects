{
 "cells": [
  {
   "metadata": {
    "ExecuteTime": {
     "end_time": "2024-05-26T19:41:07.316910Z",
     "start_time": "2024-05-26T19:41:07.301212Z"
    }
   },
   "cell_type": "code",
   "source": [
    "%load_ext autoreload\n",
    "%autoreload 2"
   ],
   "id": "ca8dcbc37b9af261",
   "execution_count": 1,
   "outputs": []
  },
  {
   "metadata": {},
   "cell_type": "markdown",
   "source": [
    "# Feature selection algorithms performance comparison\n",
    "\n",
    "During this project we decided to compare the performance of different feature selection algorithms on the dataset. \n",
    "As the dataset has 500 features, we decided to automate the process of feature selection and compare the results of the algorithms.\n",
    "\n",
    "In the analysis of model performance afterwards we will use all the features and the features selected by the algorithms, and common features among the algorithms.\n",
    "\n",
    "We also directly use the scoring algorithm proposed by the task instead of accuracy, as it is a more sensitive metric for the model performance.\n",
    "The accuracy alone can be misleading, as the dataset is balanced and the accuracy can be high even with a bad model.\n",
    "\n",
    "The feature selection algorithms that we will compare are:\n",
    "- mRMR (Minimum Redundancy Maximum Relevance) with Random Forest as the relevance criterion\n",
    "- SURF (Speeded Up Robust Features)\n",
    "- Random Forest Classifier with feature importance as the criterion\n",
    "- XGBoost Classifier with feature importance as the criterion\n",
    "\n",
    "We will not use the Recursive Feature Elimination (RFE) with Logistic Regression, Random Forest, Gradient Boosting Classifier and Support Vector Machine, as it is computationally expensive and the results are not as good as the other methods.\n",
    "\n",
    "We will also not use the linear models for feature selection, as the dataset is not linearly separable and the results are not as good as the other methods.\n",
    "\n",
    "## Steps:"
   ],
   "id": "14aa845888507786"
  },
  {
   "metadata": {},
   "cell_type": "markdown",
   "source": "### 1. Load the data",
   "id": "110b8c250a59458e"
  },
  {
   "metadata": {
    "ExecuteTime": {
     "end_time": "2024-06-01T09:50:25.057037Z",
     "start_time": "2024-06-01T09:50:25.055223Z"
    }
   },
   "cell_type": "code",
   "source": [
    "import pandas as pd\n",
    "import numpy as np\n",
    "import matplotlib.pyplot as plt"
   ],
   "id": "46b151599e5c0866",
   "outputs": [],
   "execution_count": 1
  },
  {
   "metadata": {
    "ExecuteTime": {
     "end_time": "2024-06-01T09:50:27.024111Z",
     "start_time": "2024-06-01T09:50:26.500249Z"
    }
   },
   "cell_type": "code",
   "source": [
    "X = pd.read_table('./data/x_train.txt', header=None, delimiter=' ')\n",
    "y = pd.read_table('./data/y_train.txt', header=None)\n",
    "\n",
    "X_test = pd.read_table('./data/x_test.txt', header=None, delimiter=' ')\n",
    "\n",
    "X.head()"
   ],
   "id": "ee2e48808d743e31",
   "outputs": [
    {
     "data": {
      "text/plain": [
       "        0         1         2         3         4         5         6    \\\n",
       "0 -2.619773 -2.619533 -1.199350 -1.083335 -1.000910 -0.366967 -2.164037   \n",
       "1 -1.415579 -1.782544 -2.880270 -1.958863  1.159968  0.273030 -1.628728   \n",
       "2 -2.745092 -1.382945 -1.626015 -1.282560 -0.663146  0.052349 -2.403322   \n",
       "3  0.618998  0.455364 -0.115081  0.649040 -0.862207  2.308504  0.526114   \n",
       "4 -0.070694 -0.550509 -0.565556 -0.693065 -0.573089 -0.395862  0.003170   \n",
       "\n",
       "        7         8         9    ...        490        491        492  \\\n",
       "0 -1.210001 -0.658311 -1.489539  ...  10.849925  10.343346  10.717519   \n",
       "1 -0.175813 -0.916857 -0.570166  ...  11.489417   5.195818   3.494627   \n",
       "2 -0.765073 -0.394354 -0.806624  ...  13.934934   9.267515   4.705604   \n",
       "3 -1.094852  1.088656 -0.481210  ...  12.021328   3.852231  11.059702   \n",
       "4 -0.981609 -0.505775 -0.758430  ...   7.537788  11.229665  11.318915   \n",
       "\n",
       "        493        494        495        496        497        498        499  \n",
       "0  7.709295   5.894554  12.416573   6.765269  16.243907   7.209524   8.082021  \n",
       "1  5.529154  10.517576  15.697333  11.324938  12.187670  12.283861   5.032285  \n",
       "2  6.642557  14.658934   8.130767   7.194487  11.939354  11.653620   5.942778  \n",
       "3  7.527268   7.253120   9.791136   6.089743  10.752796   5.778888  10.366363  \n",
       "4  6.622256  12.557882   5.520360   5.397359  13.152269  10.684779   9.816471  \n",
       "\n",
       "[5 rows x 500 columns]"
      ],
      "text/html": [
       "<div>\n",
       "<style scoped>\n",
       "    .dataframe tbody tr th:only-of-type {\n",
       "        vertical-align: middle;\n",
       "    }\n",
       "\n",
       "    .dataframe tbody tr th {\n",
       "        vertical-align: top;\n",
       "    }\n",
       "\n",
       "    .dataframe thead th {\n",
       "        text-align: right;\n",
       "    }\n",
       "</style>\n",
       "<table border=\"1\" class=\"dataframe\">\n",
       "  <thead>\n",
       "    <tr style=\"text-align: right;\">\n",
       "      <th></th>\n",
       "      <th>0</th>\n",
       "      <th>1</th>\n",
       "      <th>2</th>\n",
       "      <th>3</th>\n",
       "      <th>4</th>\n",
       "      <th>5</th>\n",
       "      <th>6</th>\n",
       "      <th>7</th>\n",
       "      <th>8</th>\n",
       "      <th>9</th>\n",
       "      <th>...</th>\n",
       "      <th>490</th>\n",
       "      <th>491</th>\n",
       "      <th>492</th>\n",
       "      <th>493</th>\n",
       "      <th>494</th>\n",
       "      <th>495</th>\n",
       "      <th>496</th>\n",
       "      <th>497</th>\n",
       "      <th>498</th>\n",
       "      <th>499</th>\n",
       "    </tr>\n",
       "  </thead>\n",
       "  <tbody>\n",
       "    <tr>\n",
       "      <th>0</th>\n",
       "      <td>-2.619773</td>\n",
       "      <td>-2.619533</td>\n",
       "      <td>-1.199350</td>\n",
       "      <td>-1.083335</td>\n",
       "      <td>-1.000910</td>\n",
       "      <td>-0.366967</td>\n",
       "      <td>-2.164037</td>\n",
       "      <td>-1.210001</td>\n",
       "      <td>-0.658311</td>\n",
       "      <td>-1.489539</td>\n",
       "      <td>...</td>\n",
       "      <td>10.849925</td>\n",
       "      <td>10.343346</td>\n",
       "      <td>10.717519</td>\n",
       "      <td>7.709295</td>\n",
       "      <td>5.894554</td>\n",
       "      <td>12.416573</td>\n",
       "      <td>6.765269</td>\n",
       "      <td>16.243907</td>\n",
       "      <td>7.209524</td>\n",
       "      <td>8.082021</td>\n",
       "    </tr>\n",
       "    <tr>\n",
       "      <th>1</th>\n",
       "      <td>-1.415579</td>\n",
       "      <td>-1.782544</td>\n",
       "      <td>-2.880270</td>\n",
       "      <td>-1.958863</td>\n",
       "      <td>1.159968</td>\n",
       "      <td>0.273030</td>\n",
       "      <td>-1.628728</td>\n",
       "      <td>-0.175813</td>\n",
       "      <td>-0.916857</td>\n",
       "      <td>-0.570166</td>\n",
       "      <td>...</td>\n",
       "      <td>11.489417</td>\n",
       "      <td>5.195818</td>\n",
       "      <td>3.494627</td>\n",
       "      <td>5.529154</td>\n",
       "      <td>10.517576</td>\n",
       "      <td>15.697333</td>\n",
       "      <td>11.324938</td>\n",
       "      <td>12.187670</td>\n",
       "      <td>12.283861</td>\n",
       "      <td>5.032285</td>\n",
       "    </tr>\n",
       "    <tr>\n",
       "      <th>2</th>\n",
       "      <td>-2.745092</td>\n",
       "      <td>-1.382945</td>\n",
       "      <td>-1.626015</td>\n",
       "      <td>-1.282560</td>\n",
       "      <td>-0.663146</td>\n",
       "      <td>0.052349</td>\n",
       "      <td>-2.403322</td>\n",
       "      <td>-0.765073</td>\n",
       "      <td>-0.394354</td>\n",
       "      <td>-0.806624</td>\n",
       "      <td>...</td>\n",
       "      <td>13.934934</td>\n",
       "      <td>9.267515</td>\n",
       "      <td>4.705604</td>\n",
       "      <td>6.642557</td>\n",
       "      <td>14.658934</td>\n",
       "      <td>8.130767</td>\n",
       "      <td>7.194487</td>\n",
       "      <td>11.939354</td>\n",
       "      <td>11.653620</td>\n",
       "      <td>5.942778</td>\n",
       "    </tr>\n",
       "    <tr>\n",
       "      <th>3</th>\n",
       "      <td>0.618998</td>\n",
       "      <td>0.455364</td>\n",
       "      <td>-0.115081</td>\n",
       "      <td>0.649040</td>\n",
       "      <td>-0.862207</td>\n",
       "      <td>2.308504</td>\n",
       "      <td>0.526114</td>\n",
       "      <td>-1.094852</td>\n",
       "      <td>1.088656</td>\n",
       "      <td>-0.481210</td>\n",
       "      <td>...</td>\n",
       "      <td>12.021328</td>\n",
       "      <td>3.852231</td>\n",
       "      <td>11.059702</td>\n",
       "      <td>7.527268</td>\n",
       "      <td>7.253120</td>\n",
       "      <td>9.791136</td>\n",
       "      <td>6.089743</td>\n",
       "      <td>10.752796</td>\n",
       "      <td>5.778888</td>\n",
       "      <td>10.366363</td>\n",
       "    </tr>\n",
       "    <tr>\n",
       "      <th>4</th>\n",
       "      <td>-0.070694</td>\n",
       "      <td>-0.550509</td>\n",
       "      <td>-0.565556</td>\n",
       "      <td>-0.693065</td>\n",
       "      <td>-0.573089</td>\n",
       "      <td>-0.395862</td>\n",
       "      <td>0.003170</td>\n",
       "      <td>-0.981609</td>\n",
       "      <td>-0.505775</td>\n",
       "      <td>-0.758430</td>\n",
       "      <td>...</td>\n",
       "      <td>7.537788</td>\n",
       "      <td>11.229665</td>\n",
       "      <td>11.318915</td>\n",
       "      <td>6.622256</td>\n",
       "      <td>12.557882</td>\n",
       "      <td>5.520360</td>\n",
       "      <td>5.397359</td>\n",
       "      <td>13.152269</td>\n",
       "      <td>10.684779</td>\n",
       "      <td>9.816471</td>\n",
       "    </tr>\n",
       "  </tbody>\n",
       "</table>\n",
       "<p>5 rows × 500 columns</p>\n",
       "</div>"
      ]
     },
     "execution_count": 2,
     "metadata": {},
     "output_type": "execute_result"
    }
   ],
   "execution_count": 2
  },
  {
   "metadata": {},
   "cell_type": "markdown",
   "source": [
    "### 2. Data preprocessing\n",
    "\n",
    "We will perform following steps for data preprocessing:\n",
    "- Check for missing values - we will filter out the columns with missing values.\n",
    "- Check for cross-correlation between the variables - we will filter out the variables with high correlation.\n",
    "- Check for the variance of the variables - we will filter out the variables using Variance Inflation Factor (VIF) with a threshold of 10.\n",
    "- Check for the distribution of the variables - we will normalize the variables using StandardScaler.\n",
    "- Check for the class imbalance - we will use SMOTE for oversampling the minority class."
   ],
   "id": "b4ef13589118b071"
  },
  {
   "metadata": {
    "ExecuteTime": {
     "end_time": "2024-06-01T09:50:30.457712Z",
     "start_time": "2024-06-01T09:50:29.196503Z"
    }
   },
   "cell_type": "code",
   "source": "from utils import cleanup_dataset_remove_features_vif, cleanup_dataset_remove_features_correlation, cleanup_dataset_apply_standard_scaler",
   "id": "eb8eef2722119c65",
   "outputs": [],
   "execution_count": 3
  },
  {
   "metadata": {
    "ExecuteTime": {
     "end_time": "2024-06-01T09:50:31.611818Z",
     "start_time": "2024-06-01T09:50:31.607144Z"
    }
   },
   "cell_type": "code",
   "source": [
    "# Check for missing values\n",
    "\n",
    "missing_values = X.isnull().sum()\n",
    "print(f'Missing values in the dataset: {missing_values.sum()}')"
   ],
   "id": "b9df3e629fd6207d",
   "outputs": [
    {
     "name": "stdout",
     "output_type": "stream",
     "text": [
      "Missing values in the dataset: 0\n"
     ]
    }
   ],
   "execution_count": 4
  },
  {
   "metadata": {},
   "cell_type": "markdown",
   "source": "There are no missing values in the dataset.",
   "id": "7daf90c3bfd33086"
  },
  {
   "metadata": {
    "ExecuteTime": {
     "end_time": "2024-06-01T09:50:34.541745Z",
     "start_time": "2024-06-01T09:50:32.959327Z"
    }
   },
   "cell_type": "code",
   "source": [
    "# Check for cross-correlation between the variables\n",
    "\n",
    "correlation_matrix = X.corr().abs()\n",
    "# Plot the correlation matrix, since there is 5000 variables,\n",
    "# we will plot only the variables that have correlation greater than 0.8, \n",
    "# preserving the indices of the variables\n",
    "\n",
    "upper = correlation_matrix.where(np.triu(np.ones(correlation_matrix.shape), k=1).astype(bool))\n",
    "upper = upper.stack().reset_index()\n",
    "upper.columns = ['var1', 'var2', 'correlation']\n",
    "upper = upper[upper['correlation'] > 0.8]\n",
    "\n",
    "plt.figure(figsize=(10, 5))\n",
    "plt.scatter(upper['var1'], upper['var2'], c=upper['correlation'], cmap='viridis')\n",
    "plt.colorbar()\n",
    "plt.show()"
   ],
   "id": "75a598f7ad008b6b",
   "outputs": [
    {
     "data": {
      "text/plain": [
       "<Figure size 1000x500 with 2 Axes>"
      ],
      "image/png": "[encoded data removed]"
     },
     "metadata": {},
     "output_type": "display_data"
    }
   ],
   "execution_count": 5
  },
  {
   "metadata": {
    "ExecuteTime": {
     "end_time": "2024-06-01T09:50:44.571913Z",
     "start_time": "2024-06-01T09:50:36.072320Z"
    }
   },
   "cell_type": "code",
   "source": [
    "# Remove the variables with high correlation\n",
    "\n",
    "correlated_features = cleanup_dataset_remove_features_correlation(X, threshold=0.8)\n",
    "print(f'Number of correlated features: {len(correlated_features)}, correlated features: {correlated_features}')\n",
    "\n",
    "X = X.drop(correlated_features, axis=1)\n",
    "X_test = X_test.drop(correlated_features, axis=1)"
   ],
   "id": "79840d66bcaab442",
   "outputs": [
    {
     "name": "stdout",
     "output_type": "stream",
     "text": [
      "Number of correlated features: 10, correlated features: [1, 0, 4, 6, 7, 3, 5, 8, 9, 2]\n"
     ]
    }
   ],
   "execution_count": 6
  },
  {
   "metadata": {},
   "cell_type": "markdown",
   "source": [
    "\n",
    "The variables with high correlation have been removed - 10 variables out of 500 - it is a good result."
   ],
   "id": "91bc72c6fd25ad21"
  },
  {
   "metadata": {
    "ExecuteTime": {
     "end_time": "2024-06-01T09:51:02.011776Z",
     "start_time": "2024-06-01T09:50:59.392853Z"
    }
   },
   "cell_type": "code",
   "source": [
    "# Check for the variance of the variables\n",
    "\n",
    "variance_features = cleanup_dataset_remove_features_vif(X, threshold=10)\n",
    "print(f'Number of variance features: {len(variance_features)}, variance features: {variance_features}')\n",
    "\n",
    "X = X.drop(variance_features, axis=1)\n",
    "X_test = X_test.drop(variance_features, axis=1)"
   ],
   "id": "fcd11800df13cb52",
   "outputs": [
    {
     "name": "stderr",
     "output_type": "stream",
     "text": [
      "Calculating VIF:   0%|          | 1/490 [00:01<11:26,  1.40s/it]"
     ]
    },
    {
     "ename": "KeyboardInterrupt",
     "evalue": "",
     "output_type": "error",
     "traceback": [
      "\u001B[0;31m---------------------------------------------------------------------------\u001B[0m",
      "\u001B[0;31mKeyboardInterrupt\u001B[0m                         Traceback (most recent call last)",
      "Cell \u001B[0;32mIn[7], line 3\u001B[0m\n\u001B[1;32m      1\u001B[0m \u001B[38;5;66;03m# Check for the variance of the variables\u001B[39;00m\n\u001B[0;32m----> 3\u001B[0m variance_features \u001B[38;5;241m=\u001B[39m \u001B[43mcleanup_dataset_remove_features_vif\u001B[49m\u001B[43m(\u001B[49m\u001B[43mX\u001B[49m\u001B[43m,\u001B[49m\u001B[43m \u001B[49m\u001B[43mthreshold\u001B[49m\u001B[38;5;241;43m=\u001B[39;49m\u001B[38;5;241;43m10\u001B[39;49m\u001B[43m)\u001B[49m\n\u001B[1;32m      4\u001B[0m \u001B[38;5;28mprint\u001B[39m(\u001B[38;5;124mf\u001B[39m\u001B[38;5;124m'\u001B[39m\u001B[38;5;124mNumber of variance features: \u001B[39m\u001B[38;5;132;01m{\u001B[39;00m\u001B[38;5;28mlen\u001B[39m(variance_features)\u001B[38;5;132;01m}\u001B[39;00m\u001B[38;5;124m, variance features: \u001B[39m\u001B[38;5;132;01m{\u001B[39;00mvariance_features\u001B[38;5;132;01m}\u001B[39;00m\u001B[38;5;124m'\u001B[39m)\n\u001B[1;32m      6\u001B[0m X \u001B[38;5;241m=\u001B[39m X\u001B[38;5;241m.\u001B[39mdrop(variance_features, axis\u001B[38;5;241m=\u001B[39m\u001B[38;5;241m1\u001B[39m)\n",
      "File \u001B[0;32m~/workspace/AdvMachineLearning/aml_projects/Project2/data/utils.py:51\u001B[0m, in \u001B[0;36mcleanup_dataset_remove_features_vif\u001B[0;34m(df, target, threshold)\u001B[0m\n\u001B[1;32m     49\u001B[0m bar \u001B[38;5;241m=\u001B[39m tqdm(total\u001B[38;5;241m=\u001B[39m\u001B[38;5;28mlen\u001B[39m(features), desc\u001B[38;5;241m=\u001B[39m\u001B[38;5;124m\"\u001B[39m\u001B[38;5;124mCalculating VIF\u001B[39m\u001B[38;5;124m\"\u001B[39m)\n\u001B[1;32m     50\u001B[0m \u001B[38;5;28;01mfor\u001B[39;00m i \u001B[38;5;129;01min\u001B[39;00m \u001B[38;5;28mrange\u001B[39m(\u001B[38;5;28mlen\u001B[39m(features)):\n\u001B[0;32m---> 51\u001B[0m     vifs\u001B[38;5;241m.\u001B[39mappend(\u001B[43mvariance_inflation_factor\u001B[49m\u001B[43m(\u001B[49m\u001B[43mdf\u001B[49m\u001B[43m[\u001B[49m\u001B[43mfeatures\u001B[49m\u001B[43m]\u001B[49m\u001B[38;5;241;43m.\u001B[39;49m\u001B[43mvalues\u001B[49m\u001B[43m,\u001B[49m\u001B[43m \u001B[49m\u001B[43mi\u001B[49m\u001B[43m)\u001B[49m)\n\u001B[1;32m     52\u001B[0m     bar\u001B[38;5;241m.\u001B[39mupdate(\u001B[38;5;241m1\u001B[39m)\n\u001B[1;32m     54\u001B[0m bar\u001B[38;5;241m.\u001B[39mclose()\n",
      "File \u001B[0;32m/opt/anaconda3/envs/workspace/lib/python3.10/site-packages/statsmodels/stats/outliers_influence.py:197\u001B[0m, in \u001B[0;36mvariance_inflation_factor\u001B[0;34m(exog, exog_idx)\u001B[0m\n\u001B[1;32m    195\u001B[0m mask \u001B[38;5;241m=\u001B[39m np\u001B[38;5;241m.\u001B[39marange(k_vars) \u001B[38;5;241m!=\u001B[39m exog_idx\n\u001B[1;32m    196\u001B[0m x_noti \u001B[38;5;241m=\u001B[39m exog[:, mask]\n\u001B[0;32m--> 197\u001B[0m r_squared_i \u001B[38;5;241m=\u001B[39m \u001B[43mOLS\u001B[49m\u001B[43m(\u001B[49m\u001B[43mx_i\u001B[49m\u001B[43m,\u001B[49m\u001B[43m \u001B[49m\u001B[43mx_noti\u001B[49m\u001B[43m)\u001B[49m\u001B[38;5;241m.\u001B[39mfit()\u001B[38;5;241m.\u001B[39mrsquared\n\u001B[1;32m    198\u001B[0m vif \u001B[38;5;241m=\u001B[39m \u001B[38;5;241m1.\u001B[39m \u001B[38;5;241m/\u001B[39m (\u001B[38;5;241m1.\u001B[39m \u001B[38;5;241m-\u001B[39m r_squared_i)\n\u001B[1;32m    199\u001B[0m \u001B[38;5;28;01mreturn\u001B[39;00m vif\n",
      "File \u001B[0;32m/opt/anaconda3/envs/workspace/lib/python3.10/site-packages/statsmodels/regression/linear_model.py:923\u001B[0m, in \u001B[0;36mOLS.__init__\u001B[0;34m(self, endog, exog, missing, hasconst, **kwargs)\u001B[0m\n\u001B[1;32m    920\u001B[0m     msg \u001B[38;5;241m=\u001B[39m (\u001B[38;5;124m\"\u001B[39m\u001B[38;5;124mWeights are not supported in OLS and will be ignored\u001B[39m\u001B[38;5;124m\"\u001B[39m\n\u001B[1;32m    921\u001B[0m            \u001B[38;5;124m\"\u001B[39m\u001B[38;5;124mAn exception will be raised in the next version.\u001B[39m\u001B[38;5;124m\"\u001B[39m)\n\u001B[1;32m    922\u001B[0m     warnings\u001B[38;5;241m.\u001B[39mwarn(msg, ValueWarning)\n\u001B[0;32m--> 923\u001B[0m \u001B[38;5;28;43msuper\u001B[39;49m\u001B[43m(\u001B[49m\u001B[43mOLS\u001B[49m\u001B[43m,\u001B[49m\u001B[43m \u001B[49m\u001B[38;5;28;43mself\u001B[39;49m\u001B[43m)\u001B[49m\u001B[38;5;241;43m.\u001B[39;49m\u001B[38;5;21;43m__init__\u001B[39;49m\u001B[43m(\u001B[49m\u001B[43mendog\u001B[49m\u001B[43m,\u001B[49m\u001B[43m \u001B[49m\u001B[43mexog\u001B[49m\u001B[43m,\u001B[49m\u001B[43m \u001B[49m\u001B[43mmissing\u001B[49m\u001B[38;5;241;43m=\u001B[39;49m\u001B[43mmissing\u001B[49m\u001B[43m,\u001B[49m\n\u001B[1;32m    924\u001B[0m \u001B[43m                          \u001B[49m\u001B[43mhasconst\u001B[49m\u001B[38;5;241;43m=\u001B[39;49m\u001B[43mhasconst\u001B[49m\u001B[43m,\u001B[49m\u001B[43m \u001B[49m\u001B[38;5;241;43m*\u001B[39;49m\u001B[38;5;241;43m*\u001B[39;49m\u001B[43mkwargs\u001B[49m\u001B[43m)\u001B[49m\n\u001B[1;32m    925\u001B[0m \u001B[38;5;28;01mif\u001B[39;00m \u001B[38;5;124m\"\u001B[39m\u001B[38;5;124mweights\u001B[39m\u001B[38;5;124m\"\u001B[39m \u001B[38;5;129;01min\u001B[39;00m \u001B[38;5;28mself\u001B[39m\u001B[38;5;241m.\u001B[39m_init_keys:\n\u001B[1;32m    926\u001B[0m     \u001B[38;5;28mself\u001B[39m\u001B[38;5;241m.\u001B[39m_init_keys\u001B[38;5;241m.\u001B[39mremove(\u001B[38;5;124m\"\u001B[39m\u001B[38;5;124mweights\u001B[39m\u001B[38;5;124m\"\u001B[39m)\n",
      "File \u001B[0;32m/opt/anaconda3/envs/workspace/lib/python3.10/site-packages/statsmodels/regression/linear_model.py:748\u001B[0m, in \u001B[0;36mWLS.__init__\u001B[0;34m(self, endog, exog, weights, missing, hasconst, **kwargs)\u001B[0m\n\u001B[1;32m    746\u001B[0m \u001B[38;5;28;01melse\u001B[39;00m:\n\u001B[1;32m    747\u001B[0m     weights \u001B[38;5;241m=\u001B[39m weights\u001B[38;5;241m.\u001B[39msqueeze()\n\u001B[0;32m--> 748\u001B[0m \u001B[38;5;28;43msuper\u001B[39;49m\u001B[43m(\u001B[49m\u001B[43mWLS\u001B[49m\u001B[43m,\u001B[49m\u001B[43m \u001B[49m\u001B[38;5;28;43mself\u001B[39;49m\u001B[43m)\u001B[49m\u001B[38;5;241;43m.\u001B[39;49m\u001B[38;5;21;43m__init__\u001B[39;49m\u001B[43m(\u001B[49m\u001B[43mendog\u001B[49m\u001B[43m,\u001B[49m\u001B[43m \u001B[49m\u001B[43mexog\u001B[49m\u001B[43m,\u001B[49m\u001B[43m \u001B[49m\u001B[43mmissing\u001B[49m\u001B[38;5;241;43m=\u001B[39;49m\u001B[43mmissing\u001B[49m\u001B[43m,\u001B[49m\n\u001B[1;32m    749\u001B[0m \u001B[43m                          \u001B[49m\u001B[43mweights\u001B[49m\u001B[38;5;241;43m=\u001B[39;49m\u001B[43mweights\u001B[49m\u001B[43m,\u001B[49m\u001B[43m \u001B[49m\u001B[43mhasconst\u001B[49m\u001B[38;5;241;43m=\u001B[39;49m\u001B[43mhasconst\u001B[49m\u001B[43m,\u001B[49m\u001B[43m \u001B[49m\u001B[38;5;241;43m*\u001B[39;49m\u001B[38;5;241;43m*\u001B[39;49m\u001B[43mkwargs\u001B[49m\u001B[43m)\u001B[49m\n\u001B[1;32m    750\u001B[0m nobs \u001B[38;5;241m=\u001B[39m \u001B[38;5;28mself\u001B[39m\u001B[38;5;241m.\u001B[39mexog\u001B[38;5;241m.\u001B[39mshape[\u001B[38;5;241m0\u001B[39m]\n\u001B[1;32m    751\u001B[0m weights \u001B[38;5;241m=\u001B[39m \u001B[38;5;28mself\u001B[39m\u001B[38;5;241m.\u001B[39mweights\n",
      "File \u001B[0;32m/opt/anaconda3/envs/workspace/lib/python3.10/site-packages/statsmodels/regression/linear_model.py:202\u001B[0m, in \u001B[0;36mRegressionModel.__init__\u001B[0;34m(self, endog, exog, **kwargs)\u001B[0m\n\u001B[1;32m    201\u001B[0m \u001B[38;5;28;01mdef\u001B[39;00m \u001B[38;5;21m__init__\u001B[39m(\u001B[38;5;28mself\u001B[39m, endog, exog, \u001B[38;5;241m*\u001B[39m\u001B[38;5;241m*\u001B[39mkwargs):\n\u001B[0;32m--> 202\u001B[0m     \u001B[38;5;28;43msuper\u001B[39;49m\u001B[43m(\u001B[49m\u001B[43mRegressionModel\u001B[49m\u001B[43m,\u001B[49m\u001B[43m \u001B[49m\u001B[38;5;28;43mself\u001B[39;49m\u001B[43m)\u001B[49m\u001B[38;5;241;43m.\u001B[39;49m\u001B[38;5;21;43m__init__\u001B[39;49m\u001B[43m(\u001B[49m\u001B[43mendog\u001B[49m\u001B[43m,\u001B[49m\u001B[43m \u001B[49m\u001B[43mexog\u001B[49m\u001B[43m,\u001B[49m\u001B[43m \u001B[49m\u001B[38;5;241;43m*\u001B[39;49m\u001B[38;5;241;43m*\u001B[39;49m\u001B[43mkwargs\u001B[49m\u001B[43m)\u001B[49m\n\u001B[1;32m    203\u001B[0m     \u001B[38;5;28mself\u001B[39m\u001B[38;5;241m.\u001B[39mpinv_wexog: Float64Array \u001B[38;5;241m|\u001B[39m \u001B[38;5;28;01mNone\u001B[39;00m \u001B[38;5;241m=\u001B[39m \u001B[38;5;28;01mNone\u001B[39;00m\n\u001B[1;32m    204\u001B[0m     \u001B[38;5;28mself\u001B[39m\u001B[38;5;241m.\u001B[39m_data_attr\u001B[38;5;241m.\u001B[39mextend([\u001B[38;5;124m'\u001B[39m\u001B[38;5;124mpinv_wexog\u001B[39m\u001B[38;5;124m'\u001B[39m, \u001B[38;5;124m'\u001B[39m\u001B[38;5;124mwendog\u001B[39m\u001B[38;5;124m'\u001B[39m, \u001B[38;5;124m'\u001B[39m\u001B[38;5;124mwexog\u001B[39m\u001B[38;5;124m'\u001B[39m, \u001B[38;5;124m'\u001B[39m\u001B[38;5;124mweights\u001B[39m\u001B[38;5;124m'\u001B[39m])\n",
      "File \u001B[0;32m/opt/anaconda3/envs/workspace/lib/python3.10/site-packages/statsmodels/base/model.py:270\u001B[0m, in \u001B[0;36mLikelihoodModel.__init__\u001B[0;34m(self, endog, exog, **kwargs)\u001B[0m\n\u001B[1;32m    269\u001B[0m \u001B[38;5;28;01mdef\u001B[39;00m \u001B[38;5;21m__init__\u001B[39m(\u001B[38;5;28mself\u001B[39m, endog, exog\u001B[38;5;241m=\u001B[39m\u001B[38;5;28;01mNone\u001B[39;00m, \u001B[38;5;241m*\u001B[39m\u001B[38;5;241m*\u001B[39mkwargs):\n\u001B[0;32m--> 270\u001B[0m     \u001B[38;5;28;43msuper\u001B[39;49m\u001B[43m(\u001B[49m\u001B[43m)\u001B[49m\u001B[38;5;241;43m.\u001B[39;49m\u001B[38;5;21;43m__init__\u001B[39;49m\u001B[43m(\u001B[49m\u001B[43mendog\u001B[49m\u001B[43m,\u001B[49m\u001B[43m \u001B[49m\u001B[43mexog\u001B[49m\u001B[43m,\u001B[49m\u001B[43m \u001B[49m\u001B[38;5;241;43m*\u001B[39;49m\u001B[38;5;241;43m*\u001B[39;49m\u001B[43mkwargs\u001B[49m\u001B[43m)\u001B[49m\n\u001B[1;32m    271\u001B[0m     \u001B[38;5;28mself\u001B[39m\u001B[38;5;241m.\u001B[39minitialize()\n",
      "File \u001B[0;32m/opt/anaconda3/envs/workspace/lib/python3.10/site-packages/statsmodels/base/model.py:95\u001B[0m, in \u001B[0;36mModel.__init__\u001B[0;34m(self, endog, exog, **kwargs)\u001B[0m\n\u001B[1;32m     93\u001B[0m missing \u001B[38;5;241m=\u001B[39m kwargs\u001B[38;5;241m.\u001B[39mpop(\u001B[38;5;124m'\u001B[39m\u001B[38;5;124mmissing\u001B[39m\u001B[38;5;124m'\u001B[39m, \u001B[38;5;124m'\u001B[39m\u001B[38;5;124mnone\u001B[39m\u001B[38;5;124m'\u001B[39m)\n\u001B[1;32m     94\u001B[0m hasconst \u001B[38;5;241m=\u001B[39m kwargs\u001B[38;5;241m.\u001B[39mpop(\u001B[38;5;124m'\u001B[39m\u001B[38;5;124mhasconst\u001B[39m\u001B[38;5;124m'\u001B[39m, \u001B[38;5;28;01mNone\u001B[39;00m)\n\u001B[0;32m---> 95\u001B[0m \u001B[38;5;28mself\u001B[39m\u001B[38;5;241m.\u001B[39mdata \u001B[38;5;241m=\u001B[39m \u001B[38;5;28;43mself\u001B[39;49m\u001B[38;5;241;43m.\u001B[39;49m\u001B[43m_handle_data\u001B[49m\u001B[43m(\u001B[49m\u001B[43mendog\u001B[49m\u001B[43m,\u001B[49m\u001B[43m \u001B[49m\u001B[43mexog\u001B[49m\u001B[43m,\u001B[49m\u001B[43m \u001B[49m\u001B[43mmissing\u001B[49m\u001B[43m,\u001B[49m\u001B[43m \u001B[49m\u001B[43mhasconst\u001B[49m\u001B[43m,\u001B[49m\n\u001B[1;32m     96\u001B[0m \u001B[43m                              \u001B[49m\u001B[38;5;241;43m*\u001B[39;49m\u001B[38;5;241;43m*\u001B[39;49m\u001B[43mkwargs\u001B[49m\u001B[43m)\u001B[49m\n\u001B[1;32m     97\u001B[0m \u001B[38;5;28mself\u001B[39m\u001B[38;5;241m.\u001B[39mk_constant \u001B[38;5;241m=\u001B[39m \u001B[38;5;28mself\u001B[39m\u001B[38;5;241m.\u001B[39mdata\u001B[38;5;241m.\u001B[39mk_constant\n\u001B[1;32m     98\u001B[0m \u001B[38;5;28mself\u001B[39m\u001B[38;5;241m.\u001B[39mexog \u001B[38;5;241m=\u001B[39m \u001B[38;5;28mself\u001B[39m\u001B[38;5;241m.\u001B[39mdata\u001B[38;5;241m.\u001B[39mexog\n",
      "File \u001B[0;32m/opt/anaconda3/envs/workspace/lib/python3.10/site-packages/statsmodels/base/model.py:135\u001B[0m, in \u001B[0;36mModel._handle_data\u001B[0;34m(self, endog, exog, missing, hasconst, **kwargs)\u001B[0m\n\u001B[1;32m    134\u001B[0m \u001B[38;5;28;01mdef\u001B[39;00m \u001B[38;5;21m_handle_data\u001B[39m(\u001B[38;5;28mself\u001B[39m, endog, exog, missing, hasconst, \u001B[38;5;241m*\u001B[39m\u001B[38;5;241m*\u001B[39mkwargs):\n\u001B[0;32m--> 135\u001B[0m     data \u001B[38;5;241m=\u001B[39m \u001B[43mhandle_data\u001B[49m\u001B[43m(\u001B[49m\u001B[43mendog\u001B[49m\u001B[43m,\u001B[49m\u001B[43m \u001B[49m\u001B[43mexog\u001B[49m\u001B[43m,\u001B[49m\u001B[43m \u001B[49m\u001B[43mmissing\u001B[49m\u001B[43m,\u001B[49m\u001B[43m \u001B[49m\u001B[43mhasconst\u001B[49m\u001B[43m,\u001B[49m\u001B[43m \u001B[49m\u001B[38;5;241;43m*\u001B[39;49m\u001B[38;5;241;43m*\u001B[39;49m\u001B[43mkwargs\u001B[49m\u001B[43m)\u001B[49m\n\u001B[1;32m    136\u001B[0m     \u001B[38;5;66;03m# kwargs arrays could have changed, easier to just attach here\u001B[39;00m\n\u001B[1;32m    137\u001B[0m     \u001B[38;5;28;01mfor\u001B[39;00m key \u001B[38;5;129;01min\u001B[39;00m kwargs:\n",
      "File \u001B[0;32m/opt/anaconda3/envs/workspace/lib/python3.10/site-packages/statsmodels/base/data.py:675\u001B[0m, in \u001B[0;36mhandle_data\u001B[0;34m(endog, exog, missing, hasconst, **kwargs)\u001B[0m\n\u001B[1;32m    672\u001B[0m     exog \u001B[38;5;241m=\u001B[39m np\u001B[38;5;241m.\u001B[39masarray(exog)\n\u001B[1;32m    674\u001B[0m klass \u001B[38;5;241m=\u001B[39m handle_data_class_factory(endog, exog)\n\u001B[0;32m--> 675\u001B[0m \u001B[38;5;28;01mreturn\u001B[39;00m \u001B[43mklass\u001B[49m\u001B[43m(\u001B[49m\u001B[43mendog\u001B[49m\u001B[43m,\u001B[49m\u001B[43m \u001B[49m\u001B[43mexog\u001B[49m\u001B[38;5;241;43m=\u001B[39;49m\u001B[43mexog\u001B[49m\u001B[43m,\u001B[49m\u001B[43m \u001B[49m\u001B[43mmissing\u001B[49m\u001B[38;5;241;43m=\u001B[39;49m\u001B[43mmissing\u001B[49m\u001B[43m,\u001B[49m\u001B[43m \u001B[49m\u001B[43mhasconst\u001B[49m\u001B[38;5;241;43m=\u001B[39;49m\u001B[43mhasconst\u001B[49m\u001B[43m,\u001B[49m\n\u001B[1;32m    676\u001B[0m \u001B[43m             \u001B[49m\u001B[38;5;241;43m*\u001B[39;49m\u001B[38;5;241;43m*\u001B[39;49m\u001B[43mkwargs\u001B[49m\u001B[43m)\u001B[49m\n",
      "File \u001B[0;32m/opt/anaconda3/envs/workspace/lib/python3.10/site-packages/statsmodels/base/data.py:88\u001B[0m, in \u001B[0;36mModelData.__init__\u001B[0;34m(self, endog, exog, missing, hasconst, **kwargs)\u001B[0m\n\u001B[1;32m     86\u001B[0m \u001B[38;5;28mself\u001B[39m\u001B[38;5;241m.\u001B[39mconst_idx \u001B[38;5;241m=\u001B[39m \u001B[38;5;28;01mNone\u001B[39;00m\n\u001B[1;32m     87\u001B[0m \u001B[38;5;28mself\u001B[39m\u001B[38;5;241m.\u001B[39mk_constant \u001B[38;5;241m=\u001B[39m \u001B[38;5;241m0\u001B[39m\n\u001B[0;32m---> 88\u001B[0m \u001B[38;5;28;43mself\u001B[39;49m\u001B[38;5;241;43m.\u001B[39;49m\u001B[43m_handle_constant\u001B[49m\u001B[43m(\u001B[49m\u001B[43mhasconst\u001B[49m\u001B[43m)\u001B[49m\n\u001B[1;32m     89\u001B[0m \u001B[38;5;28mself\u001B[39m\u001B[38;5;241m.\u001B[39m_check_integrity()\n\u001B[1;32m     90\u001B[0m \u001B[38;5;28mself\u001B[39m\u001B[38;5;241m.\u001B[39m_cache \u001B[38;5;241m=\u001B[39m {}\n",
      "File \u001B[0;32m/opt/anaconda3/envs/workspace/lib/python3.10/site-packages/statsmodels/base/data.py:178\u001B[0m, in \u001B[0;36mModelData._handle_constant\u001B[0;34m(self, hasconst)\u001B[0m\n\u001B[1;32m    175\u001B[0m augmented_exog \u001B[38;5;241m=\u001B[39m np\u001B[38;5;241m.\u001B[39mcolumn_stack(\n\u001B[1;32m    176\u001B[0m             (np\u001B[38;5;241m.\u001B[39mones(\u001B[38;5;28mself\u001B[39m\u001B[38;5;241m.\u001B[39mexog\u001B[38;5;241m.\u001B[39mshape[\u001B[38;5;241m0\u001B[39m]), \u001B[38;5;28mself\u001B[39m\u001B[38;5;241m.\u001B[39mexog))\n\u001B[1;32m    177\u001B[0m rank_augm \u001B[38;5;241m=\u001B[39m np\u001B[38;5;241m.\u001B[39mlinalg\u001B[38;5;241m.\u001B[39mmatrix_rank(augmented_exog)\n\u001B[0;32m--> 178\u001B[0m rank_orig \u001B[38;5;241m=\u001B[39m \u001B[43mnp\u001B[49m\u001B[38;5;241;43m.\u001B[39;49m\u001B[43mlinalg\u001B[49m\u001B[38;5;241;43m.\u001B[39;49m\u001B[43mmatrix_rank\u001B[49m\u001B[43m(\u001B[49m\u001B[38;5;28;43mself\u001B[39;49m\u001B[38;5;241;43m.\u001B[39;49m\u001B[43mexog\u001B[49m\u001B[43m)\u001B[49m\n\u001B[1;32m    179\u001B[0m \u001B[38;5;28mself\u001B[39m\u001B[38;5;241m.\u001B[39mk_constant \u001B[38;5;241m=\u001B[39m \u001B[38;5;28mint\u001B[39m(rank_orig \u001B[38;5;241m==\u001B[39m rank_augm)\n\u001B[1;32m    180\u001B[0m \u001B[38;5;28mself\u001B[39m\u001B[38;5;241m.\u001B[39mconst_idx \u001B[38;5;241m=\u001B[39m \u001B[38;5;28;01mNone\u001B[39;00m\n",
      "File \u001B[0;32m/opt/anaconda3/envs/workspace/lib/python3.10/site-packages/numpy/linalg/linalg.py:1922\u001B[0m, in \u001B[0;36mmatrix_rank\u001B[0;34m(A, tol, hermitian)\u001B[0m\n\u001B[1;32m   1920\u001B[0m \u001B[38;5;28;01mif\u001B[39;00m A\u001B[38;5;241m.\u001B[39mndim \u001B[38;5;241m<\u001B[39m \u001B[38;5;241m2\u001B[39m:\n\u001B[1;32m   1921\u001B[0m     \u001B[38;5;28;01mreturn\u001B[39;00m \u001B[38;5;28mint\u001B[39m(\u001B[38;5;129;01mnot\u001B[39;00m \u001B[38;5;28mall\u001B[39m(A\u001B[38;5;241m==\u001B[39m\u001B[38;5;241m0\u001B[39m))\n\u001B[0;32m-> 1922\u001B[0m S \u001B[38;5;241m=\u001B[39m \u001B[43msvd\u001B[49m\u001B[43m(\u001B[49m\u001B[43mA\u001B[49m\u001B[43m,\u001B[49m\u001B[43m \u001B[49m\u001B[43mcompute_uv\u001B[49m\u001B[38;5;241;43m=\u001B[39;49m\u001B[38;5;28;43;01mFalse\u001B[39;49;00m\u001B[43m,\u001B[49m\u001B[43m \u001B[49m\u001B[43mhermitian\u001B[49m\u001B[38;5;241;43m=\u001B[39;49m\u001B[43mhermitian\u001B[49m\u001B[43m)\u001B[49m\n\u001B[1;32m   1923\u001B[0m \u001B[38;5;28;01mif\u001B[39;00m tol \u001B[38;5;129;01mis\u001B[39;00m \u001B[38;5;28;01mNone\u001B[39;00m:\n\u001B[1;32m   1924\u001B[0m     tol \u001B[38;5;241m=\u001B[39m S\u001B[38;5;241m.\u001B[39mmax(axis\u001B[38;5;241m=\u001B[39m\u001B[38;5;241m-\u001B[39m\u001B[38;5;241m1\u001B[39m, keepdims\u001B[38;5;241m=\u001B[39m\u001B[38;5;28;01mTrue\u001B[39;00m) \u001B[38;5;241m*\u001B[39m \u001B[38;5;28mmax\u001B[39m(A\u001B[38;5;241m.\u001B[39mshape[\u001B[38;5;241m-\u001B[39m\u001B[38;5;241m2\u001B[39m:]) \u001B[38;5;241m*\u001B[39m finfo(S\u001B[38;5;241m.\u001B[39mdtype)\u001B[38;5;241m.\u001B[39meps\n",
      "File \u001B[0;32m/opt/anaconda3/envs/workspace/lib/python3.10/site-packages/numpy/linalg/linalg.py:1693\u001B[0m, in \u001B[0;36msvd\u001B[0;34m(a, full_matrices, compute_uv, hermitian)\u001B[0m\n\u001B[1;32m   1690\u001B[0m     gufunc \u001B[38;5;241m=\u001B[39m _umath_linalg\u001B[38;5;241m.\u001B[39msvd_n\n\u001B[1;32m   1692\u001B[0m signature \u001B[38;5;241m=\u001B[39m \u001B[38;5;124m'\u001B[39m\u001B[38;5;124mD->d\u001B[39m\u001B[38;5;124m'\u001B[39m \u001B[38;5;28;01mif\u001B[39;00m isComplexType(t) \u001B[38;5;28;01melse\u001B[39;00m \u001B[38;5;124m'\u001B[39m\u001B[38;5;124md->d\u001B[39m\u001B[38;5;124m'\u001B[39m\n\u001B[0;32m-> 1693\u001B[0m s \u001B[38;5;241m=\u001B[39m \u001B[43mgufunc\u001B[49m\u001B[43m(\u001B[49m\u001B[43ma\u001B[49m\u001B[43m,\u001B[49m\u001B[43m \u001B[49m\u001B[43msignature\u001B[49m\u001B[38;5;241;43m=\u001B[39;49m\u001B[43msignature\u001B[49m\u001B[43m,\u001B[49m\u001B[43m \u001B[49m\u001B[43mextobj\u001B[49m\u001B[38;5;241;43m=\u001B[39;49m\u001B[43mextobj\u001B[49m\u001B[43m)\u001B[49m\n\u001B[1;32m   1694\u001B[0m s \u001B[38;5;241m=\u001B[39m s\u001B[38;5;241m.\u001B[39mastype(_realType(result_t), copy\u001B[38;5;241m=\u001B[39m\u001B[38;5;28;01mFalse\u001B[39;00m)\n\u001B[1;32m   1695\u001B[0m \u001B[38;5;28;01mreturn\u001B[39;00m s\n",
      "\u001B[0;31mKeyboardInterrupt\u001B[0m: "
     ]
    }
   ],
   "execution_count": 7
  },
  {
   "metadata": {},
   "cell_type": "markdown",
   "source": "There are no variables with high variance inflation factor (VIF) - it is a good result.",
   "id": "2542cce40dfd6dbe"
  },
  {
   "metadata": {
    "ExecuteTime": {
     "end_time": "2024-06-01T09:51:03.870625Z",
     "start_time": "2024-06-01T09:51:03.847489Z"
    }
   },
   "cell_type": "code",
   "source": [
    "# Check for the distribution of the variables\n",
    "\n",
    "X = cleanup_dataset_apply_standard_scaler(X)\n",
    "X_test = cleanup_dataset_apply_standard_scaler(X_test)"
   ],
   "id": "c0b8777d95aa20c6",
   "outputs": [],
   "execution_count": 8
  },
  {
   "metadata": {},
   "cell_type": "markdown",
   "source": "The dataset is now cleaned and normalized.",
   "id": "72ad2eb65d0ca818"
  },
  {
   "metadata": {
    "ExecuteTime": {
     "end_time": "2024-06-01T09:51:05.169379Z",
     "start_time": "2024-06-01T09:51:05.079243Z"
    }
   },
   "cell_type": "code",
   "source": [
    "# Check for the class imbalance\n",
    "\n",
    "target_counts = y.value_counts()\n",
    "\n",
    "# Plot a pie chart\n",
    "plt.figure(figsize=(3, 3))\n",
    "plt.pie(target_counts, labels=['0', '1'], autopct='%1.1f%%', startangle=90)\n",
    "plt.title('Balance of the target variable')\n",
    "plt.axis('equal')\n",
    "plt.show()"
   ],
   "id": "a7d4e1b1d807a182",
   "outputs": [
    {
     "data": {
      "text/plain": [
       "<Figure size 300x300 with 1 Axes>"
      ],
      "image/png": "[encoded data removed]"
     },
     "metadata": {},
     "output_type": "display_data"
    }
   ],
   "execution_count": 9
  },
  {
   "metadata": {},
   "cell_type": "markdown",
   "source": "The dataset is balanced.",
   "id": "78c34e4aa8936fff"
  },
  {
   "metadata": {},
   "cell_type": "markdown",
   "source": [
    "### 3. Feature selection\n",
    "\n",
    "We will use following methods for feature selection and follow the best performing method for the genetic algorithm:\n",
    "\n",
    "- mRMR (Minimum Redundancy Maximum Relevance) with Random Forest as the relevance criterion\n",
    "- SURF (Speeded Up Robust Features)\n",
    "- Random Forest Classifier with feature importance as the criterion\n",
    "- XGBoost Classifier with feature importance as the criterion\n",
    "\n",
    "For every method, we will run the method multiple times to stabilize the results. \n",
    "Then as an additional step, we will find the common features among the methods.\n",
    "\n",
    "This will give us a set of 10 - 20 features that will be used as input for the genetic algorithm given the performance of the feature selection methods."
   ],
   "id": "d27df818c59f886f"
  },
  {
   "metadata": {
    "ExecuteTime": {
     "end_time": "2024-05-22T07:50:50.789774Z",
     "start_time": "2024-05-22T07:50:49.551978Z"
    }
   },
   "cell_type": "code",
   "source": "%pip install skrebate mrmr_selection",
   "id": "effd4595c86f83e2",
   "execution_count": 25,
   "outputs": []
  },
  {
   "metadata": {
    "ExecuteTime": {
     "end_time": "2024-05-22T13:05:19.781112Z",
     "start_time": "2024-05-22T13:05:19.762141Z"
    }
   },
   "cell_type": "code",
   "source": "selected_features_per_method = {}",
   "id": "36523bf15de9d1d5",
   "execution_count": 42,
   "outputs": []
  },
  {
   "metadata": {
    "ExecuteTime": {
     "end_time": "2024-05-26T19:05:19.992580Z",
     "start_time": "2024-05-26T19:05:19.969890Z"
    }
   },
   "cell_type": "code",
   "source": [
    "from collections import Counter\n",
    "from utils import feature_selectors\n",
    "from tqdm import tqdm\n",
    "\n",
    "iters = 50\n",
    "for method_key, method in feature_selectors.items():\n",
    "    if method_key in selected_features_per_method:\n",
    "        continue\n",
    "    \n",
    "    print(f'Applying method: {method_key}')\n",
    "    \n",
    "    # To stabilize the results, we will run the method multiple times\n",
    "    tqdm._instances.clear()\n",
    "    bar = tqdm(total=iters)\n",
    "    \n",
    "    all_selected_features = []\n",
    "    for iter in range(iters):\n",
    "        selected_features = method(X, y.values.ravel(), random_state=iter)\n",
    "        all_selected_features.append(selected_features)\n",
    "        bar.update(1)\n",
    "    \n",
    "    bar.close()\n",
    "    \n",
    "    # Find the features that are common among all the iterations\n",
    "    common_features_counter = Counter(np.concatenate(all_selected_features))\n",
    "    common_features = [feature for feature, count in common_features_counter.items() if count > 0.9 * iters]\n",
    "    common_features = pd.Index(common_features)\n",
    "    \n",
    "    selected_features_per_method[method_key] = common_features\n",
    "    print(f'Number of selected features: {len(common_features)}, selected features: {common_features}')\n"
   ],
   "id": "24950a0593808079",
   "execution_count": 12,
   "outputs": []
  },
  {
   "metadata": {
    "ExecuteTime": {
     "end_time": "2024-05-22T16:35:01.930868Z",
     "start_time": "2024-05-22T16:35:01.910225Z"
    }
   },
   "cell_type": "code",
   "source": [
    "# Find common features among the methods\n",
    "from collections import Counter\n",
    "\n",
    "most_common_features = Counter(np.concatenate(list(selected_features_per_method.values())))\n",
    "\n",
    "common_features = [feature for feature, count in most_common_features.items() if count >= 2]\n",
    "intersection_common_features = [feature for feature, count in most_common_features.items() if count >= len(selected_features_per_method) - 1]\n",
    "print(f'Number of common features: {len(common_features)}, common features: {common_features}')\n",
    "print(f'Number of common features that are contained in every feature selection result: {len(intersection_common_features)}, intersection common features: {intersection_common_features}')\n",
    "selected_features_per_method['common_features'] = list(pd.Index(common_features))\n",
    "selected_features_per_method['intersection_common_features'] = list(pd.Index(intersection_common_features))"
   ],
   "id": "290192307c86c183",
   "execution_count": 22,
   "outputs": []
  },
  {
   "metadata": {},
   "cell_type": "markdown",
   "source": "The amount of common features from the feature selection methods is 21. It is a good number of features that are common between all feature selectors, and we can add these features to the genetic algorithm as they are considered the most important for every method.",
   "id": "3c313c67ddbfeddc"
  },
  {
   "metadata": {
    "ExecuteTime": {
     "end_time": "2024-05-22T16:35:16.637536Z",
     "start_time": "2024-05-22T16:35:16.614890Z"
    }
   },
   "cell_type": "code",
   "source": [
    "# Save the selected features\n",
    "import pickle\n",
    "\n",
    "with open('selected_features_per_method.pkl', 'wb') as f:\n",
    "    pickle.dump(selected_features_per_method, f)"
   ],
   "id": "2ff793e99fadec9b",
   "execution_count": 23,
   "outputs": []
  },
  {
   "metadata": {
    "ExecuteTime": {
     "end_time": "2024-06-01T09:54:01.181228Z",
     "start_time": "2024-06-01T09:54:01.177350Z"
    }
   },
   "cell_type": "code",
   "source": [
    "# Load the selected features\n",
    "import pickle\n",
    "\n",
    "with open('selected_features_per_method.pkl', 'rb') as f:\n",
    "    selected_features_per_method = pickle.load(f)"
   ],
   "id": "a0e68048b3bd7d39",
   "outputs": [],
   "execution_count": 26
  },
  {
   "metadata": {
    "ExecuteTime": {
     "end_time": "2024-06-01T09:55:36.049195Z",
     "start_time": "2024-06-01T09:55:35.917375Z"
    }
   },
   "cell_type": "code",
   "source": [
    "# Plot the most common features\n",
    "import matplotlib.pyplot as plt\n",
    "from collections import Counter\n",
    "\n",
    "selected_features_per_method_without_common = {\n",
    "    key: list(map(int, value))\n",
    "    for key, value in selected_features_per_method.items()\n",
    "}\n",
    "\n",
    "del selected_features_per_method_without_common['common_features']\n",
    "del selected_features_per_method_without_common['intersection_common_features']\n",
    "\n",
    "most_common_features = Counter(np.concatenate(list(selected_features_per_method_without_common.values())))\n",
    "most_common_features = {key: value for key, value in most_common_features.items() if value > 1}\n",
    "\n",
    "print(f'Most common features: {most_common_features}')\n",
    "\n",
    "plt.figure(figsize=(10, 5))\n",
    "plt.title('Most common features')\n",
    "plt.xlabel('Feature')\n",
    "plt.ylabel('Count')\n",
    "\n",
    "sorted_features = sorted(most_common_features.items(), key=lambda x: x[1], reverse=True)\n",
    "plt.bar([str(feature) for feature, count in sorted_features], [count for feature, count in sorted_features])\n",
    "plt.show()"
   ],
   "id": "507416e2b75ef07a",
   "outputs": [
    {
     "name": "stdout",
     "output_type": "stream",
     "text": [
      "Most common features: {105: 4, 64: 2, 131: 2, 136: 2, 100: 4, 102: 4, 24: 2, 103: 4, 104: 4, 359: 2, 101: 4, 29: 2, 266: 2, 57: 2, 39: 2, 241: 2, 351: 2, 155: 2, 335: 2, 442: 2, 403: 2}\n"
     ]
    },
    {
     "data": {
      "text/plain": [
       "<Figure size 1000x500 with 1 Axes>"
      ],
      "image/png": "[encoded data removed]"
     },
     "metadata": {},
     "output_type": "display_data"
    }
   ],
   "execution_count": 31
  },
  {
   "metadata": {},
   "cell_type": "markdown",
   "source": [
    "### 4. Model performance comparison\n",
    "\n",
    "We will compare the performance of the models on the dataset using the features selected by the feature selection algorithms, and on all features of the cleaned dataset.\n",
    "\n",
    "We will use the following models:\n",
    "- Random Forest Classifier\n",
    "- Gradient Boosting Classifier\n",
    "- MLP Classifier\n",
    "- SGD Classifier\n",
    "\n",
    "We split the dataset into training and testing set to evaluate the performance of the models, and we will run the models multiple times to stabilize the results.\n",
    "\n",
    "We will use the score function from the task to evaluate the performance of the models, but we will not be penalizing the number of features in the model at this point.\n",
    "\n",
    "What we need right now is to find the best combination of the model and feature selection method."
   ],
   "id": "380d06eebb59778b"
  },
  {
   "metadata": {
    "ExecuteTime": {
     "end_time": "2024-05-26T10:43:44.436993Z",
     "start_time": "2024-05-26T10:43:44.414194Z"
    }
   },
   "cell_type": "code",
   "source": "model_results_per_selection_method = {}",
   "id": "380e6dddbd6c05f6",
   "execution_count": 12,
   "outputs": []
  },
  {
   "metadata": {
    "ExecuteTime": {
     "end_time": "2024-05-26T19:44:16.034697Z",
     "start_time": "2024-05-26T19:44:15.996281Z"
    }
   },
   "cell_type": "code",
   "source": [
    "from utils import model_appliers, train_and_evaluate_model\n",
    "from sklearn.model_selection import train_test_split\n",
    "\n",
    "test_train_split = 0.2\n",
    "iters = 10\n",
    "\n",
    "X_eval_train, X_eval_test, y_eval_train, y_eval_test = train_test_split(X, y, test_size=test_train_split, random_state=0)"
   ],
   "id": "a7d324431e3dee88",
   "execution_count": 18,
   "outputs": []
  },
  {
   "metadata": {
    "ExecuteTime": {
     "end_time": "2024-05-26T19:45:18.664582Z",
     "start_time": "2024-05-26T19:44:17.107105Z"
    }
   },
   "cell_type": "code",
   "source": [
    "for selection_method_key, selected_features in selected_features_per_method.items():\n",
    "    for model_key, model in model_appliers.items():\n",
    "        if model_key in model_results_per_selection_method and selection_method_key in model_results_per_selection_method[model_key]:\n",
    "            continue\n",
    "\n",
    "        print(f'Applying model: {model_key} with selection method: {selection_method_key}')\n",
    "        results = []\n",
    "        for iter in range(iters):\n",
    "            score = train_and_evaluate_model(\n",
    "                model=model, \n",
    "                X_train=X_eval_train[selected_features], \n",
    "                y_train=y_eval_train, \n",
    "                X_test=X_eval_test[selected_features],\n",
    "                y_test=y_eval_test,\n",
    "                random_state=iter,\n",
    "                selected_features=selected_features,\n",
    "                should_penalize_feature_num=False\n",
    "            )\n",
    "            results.append(score)\n",
    "            \n",
    "        if model_key not in model_results_per_selection_method:\n",
    "            model_results_per_selection_method[model_key] = {}\n",
    "        model_results_per_selection_method[model_key][selection_method_key] = np.array(results)"
   ],
   "id": "a353f7af46f28f6f",
   "execution_count": 19,
   "outputs": []
  },
  {
   "metadata": {
    "ExecuteTime": {
     "end_time": "2024-05-26T19:46:41.523500Z",
     "start_time": "2024-05-26T19:45:45.615573Z"
    }
   },
   "cell_type": "code",
   "source": [
    "# Apply model on all features\n",
    "\n",
    "for model_key, model in model_appliers.items():\n",
    "    if model_key in model_results_per_selection_method and 'all_features' in model_results_per_selection_method[model_key]:\n",
    "        continue\n",
    "\n",
    "    print(f'Applying model: {model_key} with all features')\n",
    "    results = []\n",
    "    for iter in range(iters):\n",
    "        score = train_and_evaluate_model(\n",
    "            model=model,\n",
    "            X_train=X_eval_train,\n",
    "            y_train=y_eval_train,\n",
    "            X_test=X_eval_test,\n",
    "            y_test=y_eval_test,\n",
    "            random_state=iter,\n",
    "            selected_features=X.columns,\n",
    "            should_penalize_feature_num=False\n",
    "        )\n",
    "        results.append(score)\n",
    "\n",
    "    if model_key not in model_results_per_selection_method:\n",
    "        model_results_per_selection_method[model_key] = {}\n",
    "    model_results_per_selection_method[model_key]['all_features'] = np.array(results)"
   ],
   "id": "524ed22a2d0af2c3",
   "execution_count": 21,
   "outputs": []
  },
  {
   "metadata": {
    "ExecuteTime": {
     "end_time": "2024-05-26T19:46:48.600429Z",
     "start_time": "2024-05-26T19:46:48.559091Z"
    }
   },
   "cell_type": "code",
   "source": [
    "# Save the model results\n",
    "import pickle\n",
    "\n",
    "with open('model_results_per_selection_method.pkl', 'wb') as f:\n",
    "    pickle.dump(model_results_per_selection_method, f)"
   ],
   "id": "dc91d1173f5a2ed",
   "execution_count": 22,
   "outputs": []
  },
  {
   "metadata": {
    "ExecuteTime": {
     "end_time": "2024-05-26T19:44:13.349618Z",
     "start_time": "2024-05-26T19:44:13.269534Z"
    }
   },
   "cell_type": "code",
   "source": [
    "# Load the model results\n",
    "import pickle\n",
    "\n",
    "with open('model_results_per_selection_method.pkl', 'rb') as f:\n",
    "    model_results_per_selection_method = pickle.load(f)"
   ],
   "id": "e98cd63c910afbde",
   "execution_count": 17,
   "outputs": []
  },
  {
   "metadata": {},
   "cell_type": "markdown",
   "source": [
    "#### Results\n",
    "\n",
    "We will plot the results for every model and selection method to see which combination gives the best results.\n",
    "The results are based on the accuracy of the model and then on the selection of the features."
   ],
   "id": "208b171b9f0e96fd"
  },
  {
   "metadata": {
    "ExecuteTime": {
     "end_time": "2024-05-26T19:46:51.184377Z",
     "start_time": "2024-05-26T19:46:49.942436Z"
    }
   },
   "cell_type": "code",
   "source": [
    "import seaborn as sns\n",
    "\n",
    "scale = 1000 / np.sum(y_eval_test.values)\n",
    "print(f'Scale: {scale}')\n",
    "for model_key, model_results in model_results_per_selection_method.items():\n",
    "    plt.figure(figsize=(16, 5))\n",
    "    plt.title(f'Model: {model_key}')\n",
    "    plt.xlabel('Selection method')\n",
    "    plt.ylabel('Score')\n",
    "    plt.ylim(0, 10000)\n",
    "\n",
    "    model_results_df = pd.DataFrame(model_results)\n",
    "    # Scale scores for better visualization in context of task\n",
    "    model_results_df = model_results_df * scale\n",
    "\n",
    "    # Show values for each bar on boxplot\n",
    "    model_results_df.boxplot()\n",
    "\n",
    "    for i, model_result in zip(range(1, len(model_results) + 1), model_results.values()):\n",
    "        model_result_mean = model_result.mean() * scale\n",
    "        model_result_max = model_result.max() * scale\n",
    "        plt.text(i, model_result_max + 100, f'{model_result_mean:.3f}', ha='center', va='bottom')\n",
    "\n",
    "model_results_df = pd.DataFrame(model_results_per_selection_method)\n",
    "model_results_df = model_results_df * scale\n",
    "\n",
    "flat_data = []\n",
    "for model, selections in model_results_df.items():\n",
    "    for selection_method, scores in selections.items():\n",
    "        for score in scores:\n",
    "            flat_data.append({'Model': model, 'Selection Method': selection_method, 'Score': score})\n",
    "\n",
    "flat_df = pd.DataFrame(flat_data)\n",
    "\n",
    "# Create the boxplot\n",
    "plt.figure(figsize=(16, 7))\n",
    "boxplot = sns.boxplot(hue='Selection Method', y='Score', x='Model', data=flat_df)\n",
    "plt.title('Combined model results for all selection methods')\n",
    "plt.xlabel('Model')\n",
    "plt.ylabel('Score')\n",
    "plt.ylim(0, 10000)\n",
    "\n",
    "# Draw top score for each model\n",
    "for model in model_results_df.columns:\n",
    "    model_results = model_results_df[model]\n",
    "    means = [np.mean(selection_method) for selection_method in model_results]\n",
    "    max_mean = np.max(means)\n",
    "    \n",
    "    i = boxplot.get_xticks()[list(model_results_df.columns).index(model)]\n",
    "    plt.annotate(f'Max: {max_mean:.3f}', (i, 8000), ha='center', va='top')\n",
    "\n",
    "\n",
    "plt.legend(title='Selection Method', loc='lower right')\n",
    "plt.show()"
   ],
   "id": "1566a5209ed01daf",
   "execution_count": 23,
   "outputs": []
  }
 ],
 "metadata": {
  "kernelspec": {
   "display_name": "Python 3",
   "language": "python",
   "name": "python3"
  },
  "language_info": {
   "codemirror_mode": {
    "name": "ipython",
    "version": 2
   },
   "file_extension": ".py",
   "mimetype": "text/x-python",
   "name": "python",
   "nbconvert_exporter": "python",
   "pygments_lexer": "ipython2",
   "version": "2.7.6"
  }
 },
 "nbformat": 4,
 "nbformat_minor": 5
}
