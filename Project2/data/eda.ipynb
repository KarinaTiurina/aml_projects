{
 "cells": [
  {
   "cell_type": "markdown",
   "metadata": {},
   "source": [
    "# Data analysis\n",
    "\n",
    "Please, make sure that data is copied to ./data folder so that the structure from the root folder is the following:\n",
    "\n",
    "```\n",
    "codes\n",
    "│   README.md   \n",
    "│\n",
    "└───data\n",
    "│   │   eda.ipynb\n",
    "│   │\n",
    "│   └───data\n",
    "│       │   x_test.txt\n",
    "│       │   x_train.txt\n",
    "│       │   y_train.txt\n",
    "│   \n",
    "└───...\n",
    "```"
   ]
  },
  {
   "cell_type": "code",
   "execution_count": 1,
   "metadata": {},
   "source": [
    "import pandas as pd\n",
    "import numpy as np\n",
    "import matplotlib.pyplot as plt\n",
    "\n",
    "X = pd.read_table('./data/x_train.txt', header=None, delimiter=' ')\n",
    "y = pd.read_table('./data/y_train.txt', header=None)\n",
    "\n",
    "X_test = pd.read_table('./data/x_test.txt', header=None, delimiter=' ')"
   ],
   "outputs": []
  },
  {
   "cell_type": "markdown",
   "metadata": {},
   "source": [
    "Check for the empty values in the train and test"
   ]
  },
  {
   "cell_type": "code",
   "execution_count": 4,
   "metadata": {},
   "source": [
    "print(f'Empty values in Train dataset: {X.isna().any().any()}')\n",
    "print(f'Empty values in Test dataset: {X_test.isna().any().any()}')"
   ],
   "outputs": []
  },
  {
   "cell_type": "markdown",
   "metadata": {},
   "source": [
    "Check balance of the targat variable in the training set. \n",
    "\n",
    "The target variable is almost perfectly balanced."
   ]
  },
  {
   "cell_type": "code",
   "execution_count": 22,
   "metadata": {},
   "source": [
    "target_counts = y.value_counts()\n",
    "\n",
    "# Plot a pie chart\n",
    "plt.figure(figsize=(3, 3))\n",
    "plt.pie(target_counts, labels=['0', '1'], autopct='%1.1f%%', startangle=90)\n",
    "plt.title('Balance of the target variable')\n",
    "plt.axis('equal')\n",
    "plt.show()"
   ],
   "outputs": []
  },
  {
   "cell_type": "markdown",
   "metadata": {},
   "source": [
    "Feature selection"
   ]
  },
  {
   "cell_type": "code",
   "execution_count": 5,
   "metadata": {},
   "source": [
    "from sklearn.feature_selection import RFECV\n",
    "from sklearn.linear_model import LogisticRegression\n",
    "from sklearn.model_selection import StratifiedKFold\n",
    "\n",
    "min_features_to_select = 1\n",
    "clf = LogisticRegression()\n",
    "cv = StratifiedKFold(5)\n",
    "\n",
    "rfecv = RFECV(\n",
    "    estimator=clf,\n",
    "    step=1,\n",
    "    cv=cv,\n",
    "    scoring=\"accuracy\",\n",
    "    min_features_to_select=min_features_to_select,\n",
    "    n_jobs=2,\n",
    ")\n",
    "rfecv.fit(X, y)\n",
    "\n",
    "\n",
    "pred = np.where(rfecv.get_support())[0]\n",
    "print(f'Number of features to consider: {pred.shape[0]}')\n",
    "pred"
   ],
   "outputs": []
  },
  {
   "cell_type": "code",
   "execution_count": 2,
   "metadata": {},
   "source": [
    "# np.save('features.npy', pred) # Not a final list of feature, but a place to start with\n",
    "features = np.load('boruta_features.npy')"
   ],
   "outputs": []
  },
  {
   "cell_type": "code",
   "execution_count": 7,
   "metadata": {},
   "source": [
    "# Kernel density estimation\n",
    "from sklearn.neighbors import KernelDensity\n",
    "\n",
    "def kernal_density_pdf(X, kernel='gaussian', bandwidth=1.0):\n",
    "  kde = KernelDensity(kernel=kernel, bandwidth=bandwidth).fit(X.reshape(-1, 1))\n",
    "  return np.exp(kde.score_samples(X.reshape(-1, 1)))\n",
    "\n",
    "X1 = X.iloc[y.index[y[0] == 1]]\n",
    "X0 = X.iloc[y.index[y[0] == 0]]\n",
    "\n",
    "for i in features:\n",
    "  sorted1 = X1[i].sort_values()\n",
    "  sorted0 = X0[i].sort_values()\n",
    "  kde_y1 = kernal_density_pdf(sorted1.values, kernel='gaussian', bandwidth='silverman')\n",
    "  kde_y0 = kernal_density_pdf(sorted0.values, kernel='gaussian', bandwidth='silverman')\n",
    "  plt.figure(figsize=(3, 3))\n",
    "  plt.plot(sorted1, kde_y1, color='red', label='y = 1');\n",
    "  plt.plot(sorted0, kde_y0, color='blue', label='y = 0');\n",
    "  plt.title(f'Feature {i}')\n",
    "  plt.legend()\n",
    "  plt.show()"
   ],
   "outputs": []
  },
  {
   "cell_type": "markdown",
   "metadata": {},
   "source": [
    "# Boruta feature selection"
   ]
  },
  {
   "cell_type": "code",
   "execution_count": 7,
   "metadata": {},
   "source": [
    "from boruta import BorutaPy\n",
    "from sklearn.ensemble import RandomForestRegressor\n",
    "\n",
    "model = RandomForestRegressor(n_estimators=100, max_depth=5, random_state=42)\n",
    "\n",
    "feat_selector = BorutaPy(\n",
    "    verbose=1,\n",
    "    estimator=model,\n",
    "    n_estimators='auto',\n",
    "    max_iter=10  # number of iterations to perform\n",
    ")\n",
    "feat_selector.fit(np.array(X), np.array(y))\n",
    "\n",
    "# feat_selector.support_\n",
    "\n",
    "pred = np.where(feat_selector.support_)[0]\n",
    "print(f'Number of features to consider: {pred.shape[0]}')\n",
    "np.save('boruta_features.npy', pred)\n",
    "pred"
   ],
   "outputs": []
  },
  {
   "cell_type": "markdown",
   "metadata": {},
   "source": [
    "# Lasso feature selection"
   ]
  },
  {
   "cell_type": "code",
   "execution_count": 2,
   "metadata": {},
   "source": [
    "from sklearn.linear_model import Lasso\n",
    "from sklearn.feature_selection import SelectFromModel\n",
    "\n",
    "lasso = Lasso(alpha=0.1)\n",
    "lasso.fit(X, y)\n",
    "model = SelectFromModel(lasso, prefit=True)\n",
    "pred = np.where(model.get_support())[0]\n",
    "print(f'Number of features to consider: {pred.shape[0]}')\n",
    "np.save('lasso_features.npy', pred)\n",
    "pred"
   ],
   "outputs": []
  },
  {
   "cell_type": "markdown",
   "metadata": {},
   "source": [
    "# Summary\n",
    "\n",
    "Linear models are not well suted for the dataset both for feature selection and for the prediction. All non-linear feature selection methods suggest the following features to consider:\n",
    "* [100, 101, 102, 103, 104, 105]"
   ]
  }
 ],
 "metadata": {
  "kernelspec": {
   "display_name": "aml",
   "language": "python",
   "name": "python3"
  },
  "language_info": {
   "codemirror_mode": {
    "name": "ipython",
    "version": 3
   },
   "file_extension": ".py",
   "mimetype": "text/x-python",
   "name": "python",
   "nbconvert_exporter": "python",
   "pygments_lexer": "ipython3",
   "version": "3.10.14"
  }
 },
 "nbformat": 4,
 "nbformat_minor": 2
}
